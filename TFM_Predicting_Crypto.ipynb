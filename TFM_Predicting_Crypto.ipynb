{
  "nbformat": 4,
  "nbformat_minor": 0,
  "metadata": {
    "colab": {
      "name": "TFM-Predicting-Crypto.ipynb",
      "provenance": [],
      "collapsed_sections": []
    },
    "kernelspec": {
      "name": "python3",
      "display_name": "Python 3"
    },
    "language_info": {
      "name": "python"
    },
    "accelerator": "GPU"
  },
  "cells": [
    {
      "cell_type": "code",
      "metadata": {
        "colab": {
          "base_uri": "https://localhost:8080/"
        },
        "id": "JwK4JCtnPfOl",
        "outputId": "495a839d-f8a0-4651-cffd-21936b06339d"
      },
      "source": [
        "%tensorflow_version 2.x\n",
        "import os\n",
        "import numpy as np\n",
        "import tensorflow as tf\n",
        "device_name = tf.test.gpu_device_name()\n",
        "if device_name != '/device:GPU:0':\n",
        "  raise SystemError('GPU device not found')\n",
        "print('Found GPU at: {}'.format(device_name))\n",
        "from tensorflow import keras\n",
        "import pandas as pd\n",
        "import seaborn as sns\n",
        "from pylab import rcParams\n",
        "import matplotlib.pyplot as plt\n",
        "from matplotlib import rc\n",
        "from sklearn.preprocessing import MinMaxScaler\n",
        "from tensorflow.keras.layers import Bidirectional, Dropout, Activation, Dense, LSTM\n",
        "from tensorflow.python.keras.layers import CuDNNLSTM\n",
        "from tensorflow.keras.models import Sequential\n",
        "import time\n",
        "import math\n",
        "\n",
        "%matplotlib inline\n",
        "\n",
        "sns.set(style='whitegrid', palette='muted', font_scale=1.5)\n",
        "\n",
        "rcParams['figure.figsize'] = 14, 8\n",
        "\n",
        "RANDOM_SEED = 42\n",
        "\n",
        "np.random.seed(RANDOM_SEED)"
      ],
      "execution_count": null,
      "outputs": [
        {
          "output_type": "stream",
          "text": [
            "Found GPU at: /device:GPU:0\n"
          ],
          "name": "stdout"
        }
      ]
    },
    {
      "cell_type": "code",
      "metadata": {
        "id": "WN8psC02fU5e"
      },
      "source": [
        "# Data comes from:\n",
        "# https://query1.finance.yahoo.com/v7/finance/download/BTC-USD?period1=1410912000&period2=1626048000&interval=1d&events=history&includeAdjustedClose=true\n",
        "\n",
        "csv_path = \"https://query1.finance.yahoo.com/v7/finance/download/BTC-USD?period1=1410912000&period2=1626048000&interval=1d&events=history&includeAdjustedClose=true\"\n",
        "# csv_path = \"https://raw.githubusercontent.com/curiousily/Deep-Learning-For-Hackers/master/data/3.stock-prediction/AAPL.csv\""
      ],
      "execution_count": null,
      "outputs": []
    },
    {
      "cell_type": "code",
      "metadata": {
        "id": "8jhpr2pVftlx"
      },
      "source": [
        "df = pd.read_csv(csv_path, parse_dates=['Date'])"
      ],
      "execution_count": null,
      "outputs": []
    },
    {
      "cell_type": "code",
      "metadata": {
        "id": "iyOMi_G3ft3k"
      },
      "source": [
        "df = df.sort_values('Date')"
      ],
      "execution_count": null,
      "outputs": []
    },
    {
      "cell_type": "code",
      "metadata": {
        "colab": {
          "base_uri": "https://localhost:8080/",
          "height": 206
        },
        "id": "EMAFu8YofuML",
        "outputId": "7faf2556-0a43-4256-bb59-4f7c745b76e2"
      },
      "source": [
        "df.head()"
      ],
      "execution_count": null,
      "outputs": [
        {
          "output_type": "execute_result",
          "data": {
            "text/html": [
              "<div>\n",
              "<style scoped>\n",
              "    .dataframe tbody tr th:only-of-type {\n",
              "        vertical-align: middle;\n",
              "    }\n",
              "\n",
              "    .dataframe tbody tr th {\n",
              "        vertical-align: top;\n",
              "    }\n",
              "\n",
              "    .dataframe thead th {\n",
              "        text-align: right;\n",
              "    }\n",
              "</style>\n",
              "<table border=\"1\" class=\"dataframe\">\n",
              "  <thead>\n",
              "    <tr style=\"text-align: right;\">\n",
              "      <th></th>\n",
              "      <th>Date</th>\n",
              "      <th>Open</th>\n",
              "      <th>High</th>\n",
              "      <th>Low</th>\n",
              "      <th>Close</th>\n",
              "      <th>Adj Close</th>\n",
              "      <th>Volume</th>\n",
              "    </tr>\n",
              "  </thead>\n",
              "  <tbody>\n",
              "    <tr>\n",
              "      <th>0</th>\n",
              "      <td>2014-09-17</td>\n",
              "      <td>465.864014</td>\n",
              "      <td>468.174011</td>\n",
              "      <td>452.421997</td>\n",
              "      <td>457.334015</td>\n",
              "      <td>457.334015</td>\n",
              "      <td>21056800.0</td>\n",
              "    </tr>\n",
              "    <tr>\n",
              "      <th>1</th>\n",
              "      <td>2014-09-18</td>\n",
              "      <td>456.859985</td>\n",
              "      <td>456.859985</td>\n",
              "      <td>413.104004</td>\n",
              "      <td>424.440002</td>\n",
              "      <td>424.440002</td>\n",
              "      <td>34483200.0</td>\n",
              "    </tr>\n",
              "    <tr>\n",
              "      <th>2</th>\n",
              "      <td>2014-09-19</td>\n",
              "      <td>424.102997</td>\n",
              "      <td>427.834991</td>\n",
              "      <td>384.532013</td>\n",
              "      <td>394.795990</td>\n",
              "      <td>394.795990</td>\n",
              "      <td>37919700.0</td>\n",
              "    </tr>\n",
              "    <tr>\n",
              "      <th>3</th>\n",
              "      <td>2014-09-20</td>\n",
              "      <td>394.673004</td>\n",
              "      <td>423.295990</td>\n",
              "      <td>389.882996</td>\n",
              "      <td>408.903992</td>\n",
              "      <td>408.903992</td>\n",
              "      <td>36863600.0</td>\n",
              "    </tr>\n",
              "    <tr>\n",
              "      <th>4</th>\n",
              "      <td>2014-09-21</td>\n",
              "      <td>408.084991</td>\n",
              "      <td>412.425995</td>\n",
              "      <td>393.181000</td>\n",
              "      <td>398.821014</td>\n",
              "      <td>398.821014</td>\n",
              "      <td>26580100.0</td>\n",
              "    </tr>\n",
              "  </tbody>\n",
              "</table>\n",
              "</div>"
            ],
            "text/plain": [
              "        Date        Open        High  ...       Close   Adj Close      Volume\n",
              "0 2014-09-17  465.864014  468.174011  ...  457.334015  457.334015  21056800.0\n",
              "1 2014-09-18  456.859985  456.859985  ...  424.440002  424.440002  34483200.0\n",
              "2 2014-09-19  424.102997  427.834991  ...  394.795990  394.795990  37919700.0\n",
              "3 2014-09-20  394.673004  423.295990  ...  408.903992  408.903992  36863600.0\n",
              "4 2014-09-21  408.084991  412.425995  ...  398.821014  398.821014  26580100.0\n",
              "\n",
              "[5 rows x 7 columns]"
            ]
          },
          "metadata": {
            "tags": []
          },
          "execution_count": 5
        }
      ]
    },
    {
      "cell_type": "code",
      "metadata": {
        "colab": {
          "base_uri": "https://localhost:8080/"
        },
        "id": "yaPzhZwNfubA",
        "outputId": "a8154146-3418-4c30-a248-3ecd1a1f5686"
      },
      "source": [
        "df.shape"
      ],
      "execution_count": null,
      "outputs": [
        {
          "output_type": "execute_result",
          "data": {
            "text/plain": [
              "(2491, 7)"
            ]
          },
          "metadata": {
            "tags": []
          },
          "execution_count": 6
        }
      ]
    },
    {
      "cell_type": "code",
      "metadata": {
        "colab": {
          "base_uri": "https://localhost:8080/",
          "height": 315
        },
        "id": "nduwu88JhKDq",
        "outputId": "a73a289d-e849-43b9-81f6-2609ef65ee16"
      },
      "source": [
        "ax = df.plot(x='Date', y='Close');\n",
        "ax.set_xlabel(\"Date\")\n",
        "ax.set_ylabel(\"Close Price (USD)\")"
      ],
      "execution_count": null,
      "outputs": [
        {
          "output_type": "execute_result",
          "data": {
            "text/plain": [
              "Text(0, 0.5, 'Close Price (USD)')"
            ]
          },
          "metadata": {
            "tags": []
          },
          "execution_count": 7
        },
        {
          "output_type": "display_data",
          "data": {
            "image/png": "[encoded data removed]",
            "text/plain": [
              "<Figure size 432x288 with 1 Axes>"
            ]
          },
          "metadata": {
            "tags": [],
            "needs_background": "light"
          }
        }
      ]
    },
    {
      "cell_type": "code",
      "metadata": {
        "colab": {
          "base_uri": "https://localhost:8080/",
          "height": 315
        },
        "id": "wvCII_i3G918",
        "outputId": "c83d5702-2884-45b5-9b93-736fcd943f03"
      },
      "source": [
        "ax = df.plot(x='Date', y='Open');\n",
        "ax.set_xlabel(\"Date\")\n",
        "ax.set_ylabel(\"Close Price (USD)\")"
      ],
      "execution_count": null,
      "outputs": [
        {
          "output_type": "execute_result",
          "data": {
            "text/plain": [
              "Text(0, 0.5, 'Close Price (USD)')"
            ]
          },
          "metadata": {
            "tags": []
          },
          "execution_count": 8
        },
        {
          "output_type": "display_data",
          "data": {
            "image/png": "[encoded data removed]",
            "text/plain": [
              "<Figure size 432x288 with 1 Axes>"
            ]
          },
          "metadata": {
            "tags": [],
            "needs_background": "light"
          }
        }
      ]
    },
    {
      "cell_type": "markdown",
      "metadata": {
        "id": "47JIIY9HoS6M"
      },
      "source": [
        "# Data processing"
      ]
    },
    {
      "cell_type": "code",
      "metadata": {
        "colab": {
          "base_uri": "https://localhost:8080/",
          "height": 206
        },
        "id": "ticAuXQVoTsD",
        "outputId": "881eaea6-5294-4d06-97fd-1a4bb7010927"
      },
      "source": [
        "colnames = {\n",
        "    'Date': 'date',\n",
        "    'Open': 'open',\n",
        "    'High': 'high',\n",
        "    'Low': 'low',\n",
        "    'Close': 'close',\n",
        "    'Adj Close': 'adjClose',\n",
        "    'Volume': 'volume'\n",
        "}\n",
        "df.rename(columns = colnames, inplace=True)\n",
        "df.head()"
      ],
      "execution_count": null,
      "outputs": [
        {
          "output_type": "execute_result",
          "data": {
            "text/html": [
              "<div>\n",
              "<style scoped>\n",
              "    .dataframe tbody tr th:only-of-type {\n",
              "        vertical-align: middle;\n",
              "    }\n",
              "\n",
              "    .dataframe tbody tr th {\n",
              "        vertical-align: top;\n",
              "    }\n",
              "\n",
              "    .dataframe thead th {\n",
              "        text-align: right;\n",
              "    }\n",
              "</style>\n",
              "<table border=\"1\" class=\"dataframe\">\n",
              "  <thead>\n",
              "    <tr style=\"text-align: right;\">\n",
              "      <th></th>\n",
              "      <th>date</th>\n",
              "      <th>open</th>\n",
              "      <th>high</th>\n",
              "      <th>low</th>\n",
              "      <th>close</th>\n",
              "      <th>adjClose</th>\n",
              "      <th>volume</th>\n",
              "    </tr>\n",
              "  </thead>\n",
              "  <tbody>\n",
              "    <tr>\n",
              "      <th>0</th>\n",
              "      <td>2014-09-17</td>\n",
              "      <td>465.864014</td>\n",
              "      <td>468.174011</td>\n",
              "      <td>452.421997</td>\n",
              "      <td>457.334015</td>\n",
              "      <td>457.334015</td>\n",
              "      <td>21056800.0</td>\n",
              "    </tr>\n",
              "    <tr>\n",
              "      <th>1</th>\n",
              "      <td>2014-09-18</td>\n",
              "      <td>456.859985</td>\n",
              "      <td>456.859985</td>\n",
              "      <td>413.104004</td>\n",
              "      <td>424.440002</td>\n",
              "      <td>424.440002</td>\n",
              "      <td>34483200.0</td>\n",
              "    </tr>\n",
              "    <tr>\n",
              "      <th>2</th>\n",
              "      <td>2014-09-19</td>\n",
              "      <td>424.102997</td>\n",
              "      <td>427.834991</td>\n",
              "      <td>384.532013</td>\n",
              "      <td>394.795990</td>\n",
              "      <td>394.795990</td>\n",
              "      <td>37919700.0</td>\n",
              "    </tr>\n",
              "    <tr>\n",
              "      <th>3</th>\n",
              "      <td>2014-09-20</td>\n",
              "      <td>394.673004</td>\n",
              "      <td>423.295990</td>\n",
              "      <td>389.882996</td>\n",
              "      <td>408.903992</td>\n",
              "      <td>408.903992</td>\n",
              "      <td>36863600.0</td>\n",
              "    </tr>\n",
              "    <tr>\n",
              "      <th>4</th>\n",
              "      <td>2014-09-21</td>\n",
              "      <td>408.084991</td>\n",
              "      <td>412.425995</td>\n",
              "      <td>393.181000</td>\n",
              "      <td>398.821014</td>\n",
              "      <td>398.821014</td>\n",
              "      <td>26580100.0</td>\n",
              "    </tr>\n",
              "  </tbody>\n",
              "</table>\n",
              "</div>"
            ],
            "text/plain": [
              "        date        open        high  ...       close    adjClose      volume\n",
              "0 2014-09-17  465.864014  468.174011  ...  457.334015  457.334015  21056800.0\n",
              "1 2014-09-18  456.859985  456.859985  ...  424.440002  424.440002  34483200.0\n",
              "2 2014-09-19  424.102997  427.834991  ...  394.795990  394.795990  37919700.0\n",
              "3 2014-09-20  394.673004  423.295990  ...  408.903992  408.903992  36863600.0\n",
              "4 2014-09-21  408.084991  412.425995  ...  398.821014  398.821014  26580100.0\n",
              "\n",
              "[5 rows x 7 columns]"
            ]
          },
          "metadata": {
            "tags": []
          },
          "execution_count": 9
        }
      ]
    },
    {
      "cell_type": "markdown",
      "metadata": {
        "id": "BaqwuA1HmsH7"
      },
      "source": [
        "# Feature construction"
      ]
    },
    {
      "cell_type": "code",
      "metadata": {
        "colab": {
          "base_uri": "https://localhost:8080/",
          "height": 206
        },
        "id": "X8lfc_52nxvU",
        "outputId": "b79d9550-9d32-4359-9dec-75f13e36ab8d"
      },
      "source": [
        "df['dayVariation'] = df.apply(lambda row: row.close - row.open, axis=1)\n",
        "df.head()"
      ],
      "execution_count": null,
      "outputs": [
        {
          "output_type": "execute_result",
          "data": {
            "text/html": [
              "<div>\n",
              "<style scoped>\n",
              "    .dataframe tbody tr th:only-of-type {\n",
              "        vertical-align: middle;\n",
              "    }\n",
              "\n",
              "    .dataframe tbody tr th {\n",
              "        vertical-align: top;\n",
              "    }\n",
              "\n",
              "    .dataframe thead th {\n",
              "        text-align: right;\n",
              "    }\n",
              "</style>\n",
              "<table border=\"1\" class=\"dataframe\">\n",
              "  <thead>\n",
              "    <tr style=\"text-align: right;\">\n",
              "      <th></th>\n",
              "      <th>date</th>\n",
              "      <th>open</th>\n",
              "      <th>high</th>\n",
              "      <th>low</th>\n",
              "      <th>close</th>\n",
              "      <th>adjClose</th>\n",
              "      <th>volume</th>\n",
              "      <th>dayVariation</th>\n",
              "    </tr>\n",
              "  </thead>\n",
              "  <tbody>\n",
              "    <tr>\n",
              "      <th>0</th>\n",
              "      <td>2014-09-17</td>\n",
              "      <td>465.864014</td>\n",
              "      <td>468.174011</td>\n",
              "      <td>452.421997</td>\n",
              "      <td>457.334015</td>\n",
              "      <td>457.334015</td>\n",
              "      <td>21056800.0</td>\n",
              "      <td>-8.529999</td>\n",
              "    </tr>\n",
              "    <tr>\n",
              "      <th>1</th>\n",
              "      <td>2014-09-18</td>\n",
              "      <td>456.859985</td>\n",
              "      <td>456.859985</td>\n",
              "      <td>413.104004</td>\n",
              "      <td>424.440002</td>\n",
              "      <td>424.440002</td>\n",
              "      <td>34483200.0</td>\n",
              "      <td>-32.419983</td>\n",
              "    </tr>\n",
              "    <tr>\n",
              "      <th>2</th>\n",
              "      <td>2014-09-19</td>\n",
              "      <td>424.102997</td>\n",
              "      <td>427.834991</td>\n",
              "      <td>384.532013</td>\n",
              "      <td>394.795990</td>\n",
              "      <td>394.795990</td>\n",
              "      <td>37919700.0</td>\n",
              "      <td>-29.307007</td>\n",
              "    </tr>\n",
              "    <tr>\n",
              "      <th>3</th>\n",
              "      <td>2014-09-20</td>\n",
              "      <td>394.673004</td>\n",
              "      <td>423.295990</td>\n",
              "      <td>389.882996</td>\n",
              "      <td>408.903992</td>\n",
              "      <td>408.903992</td>\n",
              "      <td>36863600.0</td>\n",
              "      <td>14.230988</td>\n",
              "    </tr>\n",
              "    <tr>\n",
              "      <th>4</th>\n",
              "      <td>2014-09-21</td>\n",
              "      <td>408.084991</td>\n",
              "      <td>412.425995</td>\n",
              "      <td>393.181000</td>\n",
              "      <td>398.821014</td>\n",
              "      <td>398.821014</td>\n",
              "      <td>26580100.0</td>\n",
              "      <td>-9.263977</td>\n",
              "    </tr>\n",
              "  </tbody>\n",
              "</table>\n",
              "</div>"
            ],
            "text/plain": [
              "        date        open        high  ...    adjClose      volume  dayVariation\n",
              "0 2014-09-17  465.864014  468.174011  ...  457.334015  21056800.0     -8.529999\n",
              "1 2014-09-18  456.859985  456.859985  ...  424.440002  34483200.0    -32.419983\n",
              "2 2014-09-19  424.102997  427.834991  ...  394.795990  37919700.0    -29.307007\n",
              "3 2014-09-20  394.673004  423.295990  ...  408.903992  36863600.0     14.230988\n",
              "4 2014-09-21  408.084991  412.425995  ...  398.821014  26580100.0     -9.263977\n",
              "\n",
              "[5 rows x 8 columns]"
            ]
          },
          "metadata": {
            "tags": []
          },
          "execution_count": 10
        }
      ]
    },
    {
      "cell_type": "code",
      "metadata": {
        "colab": {
          "base_uri": "https://localhost:8080/",
          "height": 206
        },
        "id": "iv-KRyrjm29a",
        "outputId": "66721b04-aa46-4915-a457-793b4c0eac86"
      },
      "source": [
        "df['upDown'] = df.apply(lambda row: row.dayVariation / abs(row.dayVariation), axis=1)\n",
        "df.head()"
      ],
      "execution_count": null,
      "outputs": [
        {
          "output_type": "execute_result",
          "data": {
            "text/html": [
              "<div>\n",
              "<style scoped>\n",
              "    .dataframe tbody tr th:only-of-type {\n",
              "        vertical-align: middle;\n",
              "    }\n",
              "\n",
              "    .dataframe tbody tr th {\n",
              "        vertical-align: top;\n",
              "    }\n",
              "\n",
              "    .dataframe thead th {\n",
              "        text-align: right;\n",
              "    }\n",
              "</style>\n",
              "<table border=\"1\" class=\"dataframe\">\n",
              "  <thead>\n",
              "    <tr style=\"text-align: right;\">\n",
              "      <th></th>\n",
              "      <th>date</th>\n",
              "      <th>open</th>\n",
              "      <th>high</th>\n",
              "      <th>low</th>\n",
              "      <th>close</th>\n",
              "      <th>adjClose</th>\n",
              "      <th>volume</th>\n",
              "      <th>dayVariation</th>\n",
              "      <th>upDown</th>\n",
              "    </tr>\n",
              "  </thead>\n",
              "  <tbody>\n",
              "    <tr>\n",
              "      <th>0</th>\n",
              "      <td>2014-09-17</td>\n",
              "      <td>465.864014</td>\n",
              "      <td>468.174011</td>\n",
              "      <td>452.421997</td>\n",
              "      <td>457.334015</td>\n",
              "      <td>457.334015</td>\n",
              "      <td>21056800.0</td>\n",
              "      <td>-8.529999</td>\n",
              "      <td>-1.0</td>\n",
              "    </tr>\n",
              "    <tr>\n",
              "      <th>1</th>\n",
              "      <td>2014-09-18</td>\n",
              "      <td>456.859985</td>\n",
              "      <td>456.859985</td>\n",
              "      <td>413.104004</td>\n",
              "      <td>424.440002</td>\n",
              "      <td>424.440002</td>\n",
              "      <td>34483200.0</td>\n",
              "      <td>-32.419983</td>\n",
              "      <td>-1.0</td>\n",
              "    </tr>\n",
              "    <tr>\n",
              "      <th>2</th>\n",
              "      <td>2014-09-19</td>\n",
              "      <td>424.102997</td>\n",
              "      <td>427.834991</td>\n",
              "      <td>384.532013</td>\n",
              "      <td>394.795990</td>\n",
              "      <td>394.795990</td>\n",
              "      <td>37919700.0</td>\n",
              "      <td>-29.307007</td>\n",
              "      <td>-1.0</td>\n",
              "    </tr>\n",
              "    <tr>\n",
              "      <th>3</th>\n",
              "      <td>2014-09-20</td>\n",
              "      <td>394.673004</td>\n",
              "      <td>423.295990</td>\n",
              "      <td>389.882996</td>\n",
              "      <td>408.903992</td>\n",
              "      <td>408.903992</td>\n",
              "      <td>36863600.0</td>\n",
              "      <td>14.230988</td>\n",
              "      <td>1.0</td>\n",
              "    </tr>\n",
              "    <tr>\n",
              "      <th>4</th>\n",
              "      <td>2014-09-21</td>\n",
              "      <td>408.084991</td>\n",
              "      <td>412.425995</td>\n",
              "      <td>393.181000</td>\n",
              "      <td>398.821014</td>\n",
              "      <td>398.821014</td>\n",
              "      <td>26580100.0</td>\n",
              "      <td>-9.263977</td>\n",
              "      <td>-1.0</td>\n",
              "    </tr>\n",
              "  </tbody>\n",
              "</table>\n",
              "</div>"
            ],
            "text/plain": [
              "        date        open        high  ...      volume  dayVariation  upDown\n",
              "0 2014-09-17  465.864014  468.174011  ...  21056800.0     -8.529999    -1.0\n",
              "1 2014-09-18  456.859985  456.859985  ...  34483200.0    -32.419983    -1.0\n",
              "2 2014-09-19  424.102997  427.834991  ...  37919700.0    -29.307007    -1.0\n",
              "3 2014-09-20  394.673004  423.295990  ...  36863600.0     14.230988     1.0\n",
              "4 2014-09-21  408.084991  412.425995  ...  26580100.0     -9.263977    -1.0\n",
              "\n",
              "[5 rows x 9 columns]"
            ]
          },
          "metadata": {
            "tags": []
          },
          "execution_count": 11
        }
      ]
    },
    {
      "cell_type": "code",
      "metadata": {
        "colab": {
          "base_uri": "https://localhost:8080/"
        },
        "id": "_jVJuh-3qrTn",
        "outputId": "36afe611-19d2-40cd-d0bd-6502523a0068"
      },
      "source": [
        "df.isna().sum()"
      ],
      "execution_count": null,
      "outputs": [
        {
          "output_type": "execute_result",
          "data": {
            "text/plain": [
              "date            0\n",
              "open            4\n",
              "high            4\n",
              "low             4\n",
              "close           4\n",
              "adjClose        4\n",
              "volume          4\n",
              "dayVariation    4\n",
              "upDown          4\n",
              "dtype: int64"
            ]
          },
          "metadata": {
            "tags": []
          },
          "execution_count": 12
        }
      ]
    },
    {
      "cell_type": "code",
      "metadata": {
        "colab": {
          "base_uri": "https://localhost:8080/",
          "height": 175
        },
        "id": "L7sPfjzgrFVa",
        "outputId": "a8f6f961-eb36-489d-c95b-dd115eb44589"
      },
      "source": [
        "df[df['open'].isnull()]\n"
      ],
      "execution_count": null,
      "outputs": [
        {
          "output_type": "execute_result",
          "data": {
            "text/html": [
              "<div>\n",
              "<style scoped>\n",
              "    .dataframe tbody tr th:only-of-type {\n",
              "        vertical-align: middle;\n",
              "    }\n",
              "\n",
              "    .dataframe tbody tr th {\n",
              "        vertical-align: top;\n",
              "    }\n",
              "\n",
              "    .dataframe thead th {\n",
              "        text-align: right;\n",
              "    }\n",
              "</style>\n",
              "<table border=\"1\" class=\"dataframe\">\n",
              "  <thead>\n",
              "    <tr style=\"text-align: right;\">\n",
              "      <th></th>\n",
              "      <th>date</th>\n",
              "      <th>open</th>\n",
              "      <th>high</th>\n",
              "      <th>low</th>\n",
              "      <th>close</th>\n",
              "      <th>adjClose</th>\n",
              "      <th>volume</th>\n",
              "      <th>dayVariation</th>\n",
              "      <th>upDown</th>\n",
              "    </tr>\n",
              "  </thead>\n",
              "  <tbody>\n",
              "    <tr>\n",
              "      <th>2039</th>\n",
              "      <td>2020-04-17</td>\n",
              "      <td>NaN</td>\n",
              "      <td>NaN</td>\n",
              "      <td>NaN</td>\n",
              "      <td>NaN</td>\n",
              "      <td>NaN</td>\n",
              "      <td>NaN</td>\n",
              "      <td>NaN</td>\n",
              "      <td>NaN</td>\n",
              "    </tr>\n",
              "    <tr>\n",
              "      <th>2214</th>\n",
              "      <td>2020-10-09</td>\n",
              "      <td>NaN</td>\n",
              "      <td>NaN</td>\n",
              "      <td>NaN</td>\n",
              "      <td>NaN</td>\n",
              "      <td>NaN</td>\n",
              "      <td>NaN</td>\n",
              "      <td>NaN</td>\n",
              "      <td>NaN</td>\n",
              "    </tr>\n",
              "    <tr>\n",
              "      <th>2217</th>\n",
              "      <td>2020-10-12</td>\n",
              "      <td>NaN</td>\n",
              "      <td>NaN</td>\n",
              "      <td>NaN</td>\n",
              "      <td>NaN</td>\n",
              "      <td>NaN</td>\n",
              "      <td>NaN</td>\n",
              "      <td>NaN</td>\n",
              "      <td>NaN</td>\n",
              "    </tr>\n",
              "    <tr>\n",
              "      <th>2218</th>\n",
              "      <td>2020-10-13</td>\n",
              "      <td>NaN</td>\n",
              "      <td>NaN</td>\n",
              "      <td>NaN</td>\n",
              "      <td>NaN</td>\n",
              "      <td>NaN</td>\n",
              "      <td>NaN</td>\n",
              "      <td>NaN</td>\n",
              "      <td>NaN</td>\n",
              "    </tr>\n",
              "  </tbody>\n",
              "</table>\n",
              "</div>"
            ],
            "text/plain": [
              "           date  open  high  low  close  adjClose  volume  dayVariation  upDown\n",
              "2039 2020-04-17   NaN   NaN  NaN    NaN       NaN     NaN           NaN     NaN\n",
              "2214 2020-10-09   NaN   NaN  NaN    NaN       NaN     NaN           NaN     NaN\n",
              "2217 2020-10-12   NaN   NaN  NaN    NaN       NaN     NaN           NaN     NaN\n",
              "2218 2020-10-13   NaN   NaN  NaN    NaN       NaN     NaN           NaN     NaN"
            ]
          },
          "metadata": {
            "tags": []
          },
          "execution_count": 13
        }
      ]
    },
    {
      "cell_type": "code",
      "metadata": {
        "id": "AZfAFDl9rmEk"
      },
      "source": [
        "df.dropna(inplace=True)"
      ],
      "execution_count": null,
      "outputs": []
    },
    {
      "cell_type": "code",
      "metadata": {
        "colab": {
          "base_uri": "https://localhost:8080/"
        },
        "id": "WZ1JURERrj4J",
        "outputId": "a749415a-9f53-40d6-b258-db0e996dccdf"
      },
      "source": [
        "df.isna().sum()"
      ],
      "execution_count": null,
      "outputs": [
        {
          "output_type": "execute_result",
          "data": {
            "text/plain": [
              "date            0\n",
              "open            0\n",
              "high            0\n",
              "low             0\n",
              "close           0\n",
              "adjClose        0\n",
              "volume          0\n",
              "dayVariation    0\n",
              "upDown          0\n",
              "dtype: int64"
            ]
          },
          "metadata": {
            "tags": []
          },
          "execution_count": 15
        }
      ]
    },
    {
      "cell_type": "markdown",
      "metadata": {
        "id": "F0I6yyOzuirW"
      },
      "source": [
        "# Data analysis"
      ]
    },
    {
      "cell_type": "code",
      "metadata": {
        "colab": {
          "base_uri": "https://localhost:8080/",
          "height": 307
        },
        "id": "lrYHYwP1uk92",
        "outputId": "56951d15-571a-4809-9736-e1f2fafdf3d3"
      },
      "source": [
        "df['upDown'].value_counts().plot(kind='bar')"
      ],
      "execution_count": null,
      "outputs": [
        {
          "output_type": "execute_result",
          "data": {
            "text/plain": [
              "<matplotlib.axes._subplots.AxesSubplot at 0x7ff9be474110>"
            ]
          },
          "metadata": {
            "tags": []
          },
          "execution_count": 16
        },
        {
          "output_type": "display_data",
          "data": {
            "image/png": "[encoded data removed]",
            "text/plain": [
              "<Figure size 432x288 with 1 Axes>"
            ]
          },
          "metadata": {
            "tags": [],
            "needs_background": "light"
          }
        }
      ]
    },
    {
      "cell_type": "markdown",
      "metadata": {
        "id": "LFthBAzxHMtq"
      },
      "source": [
        "# Close model"
      ]
    },
    {
      "cell_type": "markdown",
      "metadata": {
        "id": "LZ2OuHkGhS3p"
      },
      "source": [
        "## Normalization"
      ]
    },
    {
      "cell_type": "code",
      "metadata": {
        "id": "AbZ6ITnkhSm6"
      },
      "source": [
        "close_scaler = MinMaxScaler()\n",
        "\n",
        "close = df.close.values.reshape(-1, 1)\n",
        "\n",
        "scaled_close = close_scaler.fit_transform(close)"
      ],
      "execution_count": null,
      "outputs": []
    },
    {
      "cell_type": "code",
      "metadata": {
        "colab": {
          "base_uri": "https://localhost:8080/"
        },
        "id": "pTCAmN2xAian",
        "outputId": "701893af-21d7-4fef-bda2-b36a51b6a9db"
      },
      "source": [
        "scaled_close"
      ],
      "execution_count": null,
      "outputs": [
        {
          "output_type": "execute_result",
          "data": {
            "text/plain": [
              "array([[0.00440947],\n",
              "       [0.00389002],\n",
              "       [0.0034219 ],\n",
              "       ...,\n",
              "       [0.52652554],\n",
              "       [0.53789016],\n",
              "       [0.52076684]])"
            ]
          },
          "metadata": {
            "tags": []
          },
          "execution_count": 18
        }
      ]
    },
    {
      "cell_type": "code",
      "metadata": {
        "id": "oJIJxfUWhkH9"
      },
      "source": [
        "SEQ_LEN = 100\n",
        "\n",
        "def to_sequences(data, seq_len):\n",
        "    d = []\n",
        "\n",
        "    for index in range(len(data) - seq_len):\n",
        "        d.append(data[index: index + seq_len])\n",
        "\n",
        "    return np.array(d)\n",
        "\n",
        "def preprocess(data_raw, seq_len, train_split):\n",
        "\n",
        "    data = to_sequences(data_raw, seq_len)\n",
        "\n",
        "    num_train = int(train_split * data.shape[0])\n",
        "\n",
        "    X_train = data[:num_train, :-1, :]\n",
        "    y_train = data[:num_train, -1, :]\n",
        "\n",
        "    X_test = data[num_train:, :-1, :]\n",
        "    y_test = data[num_train:, -1, :]\n",
        "\n",
        "    return X_train, y_train, X_test, y_test\n",
        "\n",
        "\n",
        "X_train, y_train, X_test, y_test = preprocess(scaled_close, SEQ_LEN, train_split = 0.95)"
      ],
      "execution_count": null,
      "outputs": []
    },
    {
      "cell_type": "code",
      "metadata": {
        "colab": {
          "base_uri": "https://localhost:8080/"
        },
        "id": "KG4DU3NZhqas",
        "outputId": "8fbd3af8-afda-4eaa-b72b-e781e8ab95f7"
      },
      "source": [
        "X_train.shape"
      ],
      "execution_count": null,
      "outputs": [
        {
          "output_type": "execute_result",
          "data": {
            "text/plain": [
              "(2267, 99, 1)"
            ]
          },
          "metadata": {
            "tags": []
          },
          "execution_count": 20
        }
      ]
    },
    {
      "cell_type": "code",
      "metadata": {
        "colab": {
          "base_uri": "https://localhost:8080/"
        },
        "id": "XTha99JGhr3I",
        "outputId": "96666909-57bf-4870-c7ff-1a3e3d898c28"
      },
      "source": [
        "X_test.shape"
      ],
      "execution_count": null,
      "outputs": [
        {
          "output_type": "execute_result",
          "data": {
            "text/plain": [
              "(120, 99, 1)"
            ]
          },
          "metadata": {
            "tags": []
          },
          "execution_count": 21
        }
      ]
    },
    {
      "cell_type": "markdown",
      "metadata": {
        "id": "1-rp2xNXhujg"
      },
      "source": [
        "## Model"
      ]
    },
    {
      "cell_type": "code",
      "metadata": {
        "id": "-o0HAhsWhx4Z"
      },
      "source": [
        "DROPOUT = 0.2\n",
        "WINDOW_SIZE = SEQ_LEN - 1\n",
        "\n",
        "model = keras.Sequential()\n",
        "\n",
        "model.add(Bidirectional(CuDNNLSTM(WINDOW_SIZE, return_sequences=True),\n",
        "                        input_shape=(WINDOW_SIZE, X_train.shape[-1])))\n",
        "model.add(Dropout(rate=DROPOUT))\n",
        "\n",
        "model.add(Bidirectional(CuDNNLSTM((WINDOW_SIZE * 2), return_sequences=True)))\n",
        "model.add(Dropout(rate=DROPOUT))\n",
        "\n",
        "model.add(Bidirectional(CuDNNLSTM(WINDOW_SIZE, return_sequences=False)))\n",
        "\n",
        "model.add(Dense(units=1))\n",
        "\n",
        "model.add(Activation('linear'))"
      ],
      "execution_count": null,
      "outputs": []
    },
    {
      "cell_type": "markdown",
      "metadata": {
        "id": "9x_4GNEYh3r_"
      },
      "source": [
        "## Training"
      ]
    },
    {
      "cell_type": "code",
      "metadata": {
        "id": "fWJ8LGI_h3d4"
      },
      "source": [
        "model.compile(\n",
        "    loss='mean_squared_error', \n",
        "    optimizer='adam'\n",
        ")"
      ],
      "execution_count": null,
      "outputs": []
    },
    {
      "cell_type": "code",
      "metadata": {
        "colab": {
          "base_uri": "https://localhost:8080/"
        },
        "id": "DQ6oSOCxh67f",
        "outputId": "dda55382-3fe1-49f8-c8a7-0e0639ca7960"
      },
      "source": [
        "BATCH_SIZE = 10\n",
        "\n",
        "start = time.time()\n",
        "history = model.fit(\n",
        "    X_train, \n",
        "    y_train, \n",
        "    epochs=50, \n",
        "    batch_size=BATCH_SIZE, \n",
        "    shuffle=False,\n",
        "    validation_split=0.1\n",
        ")\n",
        "\n",
        "training_time = int(math.floor(time.time() - start))\n",
        "print('Training time(s):', training_time)"
      ],
      "execution_count": null,
      "outputs": [
        {
          "output_type": "stream",
          "text": [
            "Epoch 1/50\n",
            "204/204 [==============================] - 44s 191ms/step - loss: 6.6474e-04 - val_loss: 0.0845\n",
            "Epoch 2/50\n",
            "204/204 [==============================] - 38s 185ms/step - loss: 0.0013 - val_loss: 0.0938\n",
            "Epoch 3/50\n",
            "204/204 [==============================] - 38s 186ms/step - loss: 0.0012 - val_loss: 0.0942\n",
            "Epoch 4/50\n",
            "204/204 [==============================] - 38s 186ms/step - loss: 0.0013 - val_loss: 0.0927\n",
            "Epoch 5/50\n",
            "204/204 [==============================] - 38s 187ms/step - loss: 0.0014 - val_loss: 0.0961\n",
            "Epoch 6/50\n",
            "204/204 [==============================] - 38s 186ms/step - loss: 0.0017 - val_loss: 0.0959\n",
            "Epoch 7/50\n",
            "204/204 [==============================] - 38s 186ms/step - loss: 0.0016 - val_loss: 0.0887\n",
            "Epoch 8/50\n",
            "204/204 [==============================] - 38s 186ms/step - loss: 0.0014 - val_loss: 0.0836\n",
            "Epoch 9/50\n",
            "204/204 [==============================] - 38s 187ms/step - loss: 0.0014 - val_loss: 0.0678\n",
            "Epoch 10/50\n",
            "204/204 [==============================] - 38s 186ms/step - loss: 9.1701e-04 - val_loss: 0.0714\n",
            "Epoch 11/50\n",
            "204/204 [==============================] - 38s 187ms/step - loss: 9.6318e-04 - val_loss: 0.0479\n",
            "Epoch 12/50\n",
            "204/204 [==============================] - 38s 186ms/step - loss: 5.1127e-04 - val_loss: 0.0473\n",
            "Epoch 13/50\n",
            "204/204 [==============================] - 38s 186ms/step - loss: 7.1395e-04 - val_loss: 0.0213\n",
            "Epoch 14/50\n",
            "204/204 [==============================] - 38s 186ms/step - loss: 2.7780e-04 - val_loss: 0.0095\n",
            "Epoch 15/50\n",
            "204/204 [==============================] - 38s 186ms/step - loss: 2.4680e-04 - val_loss: 0.0045\n",
            "Epoch 16/50\n",
            "204/204 [==============================] - 38s 186ms/step - loss: 2.7067e-04 - val_loss: 0.0024\n",
            "Epoch 17/50\n",
            "204/204 [==============================] - 38s 187ms/step - loss: 3.0230e-04 - val_loss: 0.0021\n",
            "Epoch 18/50\n",
            "204/204 [==============================] - 38s 186ms/step - loss: 3.1431e-04 - val_loss: 7.4929e-04\n",
            "Epoch 19/50\n",
            "204/204 [==============================] - 38s 186ms/step - loss: 3.0573e-04 - val_loss: 0.0014\n",
            "Epoch 20/50\n",
            "204/204 [==============================] - 38s 186ms/step - loss: 3.2620e-04 - val_loss: 8.1915e-04\n",
            "Epoch 21/50\n",
            "204/204 [==============================] - 38s 186ms/step - loss: 3.0548e-04 - val_loss: 0.0038\n",
            "Epoch 22/50\n",
            "204/204 [==============================] - 38s 186ms/step - loss: 3.3228e-04 - val_loss: 0.0054\n",
            "Epoch 23/50\n",
            "204/204 [==============================] - 38s 186ms/step - loss: 2.7987e-04 - val_loss: 0.0111\n",
            "Epoch 24/50\n",
            "204/204 [==============================] - 38s 186ms/step - loss: 3.2797e-04 - val_loss: 0.0169\n",
            "Epoch 25/50\n",
            "204/204 [==============================] - 38s 186ms/step - loss: 3.0956e-04 - val_loss: 0.0213\n",
            "Epoch 26/50\n",
            "204/204 [==============================] - 38s 186ms/step - loss: 3.3548e-04 - val_loss: 0.0265\n",
            "Epoch 27/50\n",
            "204/204 [==============================] - 38s 186ms/step - loss: 2.5617e-04 - val_loss: 0.0305\n",
            "Epoch 28/50\n",
            "204/204 [==============================] - 38s 186ms/step - loss: 2.8671e-04 - val_loss: 0.0342\n",
            "Epoch 29/50\n",
            "204/204 [==============================] - 38s 186ms/step - loss: 2.2705e-04 - val_loss: 0.0384\n",
            "Epoch 30/50\n",
            "204/204 [==============================] - 38s 186ms/step - loss: 2.9037e-04 - val_loss: 0.0328\n",
            "Epoch 31/50\n",
            "204/204 [==============================] - 38s 186ms/step - loss: 1.3054e-04 - val_loss: 0.0311\n",
            "Epoch 32/50\n",
            "204/204 [==============================] - 38s 186ms/step - loss: 2.2942e-04 - val_loss: 0.0589\n",
            "Epoch 33/50\n",
            "204/204 [==============================] - 38s 187ms/step - loss: 5.1727e-04 - val_loss: 0.0556\n",
            "Epoch 34/50\n",
            "204/204 [==============================] - 38s 186ms/step - loss: 3.5918e-04 - val_loss: 0.0605\n",
            "Epoch 35/50\n",
            "204/204 [==============================] - 38s 186ms/step - loss: 2.3166e-04 - val_loss: 0.0500\n",
            "Epoch 36/50\n",
            "204/204 [==============================] - 38s 186ms/step - loss: 1.6583e-04 - val_loss: 0.0356\n",
            "Epoch 37/50\n",
            "204/204 [==============================] - 38s 186ms/step - loss: 1.2731e-04 - val_loss: 0.0247\n",
            "Epoch 38/50\n",
            "204/204 [==============================] - 38s 186ms/step - loss: 8.8446e-05 - val_loss: 0.0211\n",
            "Epoch 39/50\n",
            "204/204 [==============================] - 38s 186ms/step - loss: 8.4135e-05 - val_loss: 0.0243\n",
            "Epoch 40/50\n",
            "204/204 [==============================] - 38s 186ms/step - loss: 1.3180e-04 - val_loss: 0.0253\n",
            "Epoch 41/50\n",
            "204/204 [==============================] - 38s 186ms/step - loss: 1.2349e-04 - val_loss: 0.0201\n",
            "Epoch 42/50\n",
            "204/204 [==============================] - 38s 186ms/step - loss: 6.1472e-05 - val_loss: 0.0213\n",
            "Epoch 43/50\n",
            "204/204 [==============================] - 38s 186ms/step - loss: 6.6939e-05 - val_loss: 0.0197\n",
            "Epoch 44/50\n",
            "204/204 [==============================] - 38s 186ms/step - loss: 8.5661e-05 - val_loss: 0.0233\n",
            "Epoch 45/50\n",
            "204/204 [==============================] - 38s 186ms/step - loss: 8.3624e-05 - val_loss: 0.0225\n",
            "Epoch 46/50\n",
            "204/204 [==============================] - 38s 186ms/step - loss: 2.6110e-04 - val_loss: 0.0343\n",
            "Epoch 47/50\n",
            "204/204 [==============================] - 38s 186ms/step - loss: 1.4862e-04 - val_loss: 0.0442\n",
            "Epoch 48/50\n",
            "204/204 [==============================] - 38s 186ms/step - loss: 2.3572e-04 - val_loss: 0.0508\n",
            "Epoch 49/50\n",
            "204/204 [==============================] - 38s 186ms/step - loss: 1.6370e-04 - val_loss: 0.0585\n",
            "Epoch 50/50\n",
            "204/204 [==============================] - 38s 186ms/step - loss: 2.8269e-04 - val_loss: 0.0575\n",
            "Training time(s): 1904\n"
          ],
          "name": "stdout"
        }
      ]
    },
    {
      "cell_type": "markdown",
      "metadata": {
        "id": "JuMdnW9Rh_yU"
      },
      "source": [
        "## Evaluation"
      ]
    },
    {
      "cell_type": "code",
      "metadata": {
        "colab": {
          "base_uri": "https://localhost:8080/"
        },
        "id": "lf7mavEUh9ix",
        "outputId": "bb275df6-ca23-4790-ef09-102296244c46"
      },
      "source": [
        "model.evaluate(X_test, y_test)"
      ],
      "execution_count": null,
      "outputs": [
        {
          "output_type": "stream",
          "text": [
            "4/4 [==============================] - 1s 108ms/step - loss: 0.2314\n"
          ],
          "name": "stdout"
        },
        {
          "output_type": "execute_result",
          "data": {
            "text/plain": [
              "0.23142646253108978"
            ]
          },
          "metadata": {
            "tags": []
          },
          "execution_count": 25
        }
      ]
    },
    {
      "cell_type": "code",
      "metadata": {
        "colab": {
          "base_uri": "https://localhost:8080/",
          "height": 318
        },
        "id": "VpWlFSgaiDQj",
        "outputId": "0a63ad3c-8562-431e-b4ce-6de7889f6e56"
      },
      "source": [
        "plt.plot(history.history['loss'])\n",
        "plt.plot(history.history['val_loss'])\n",
        "plt.title('model loss')\n",
        "plt.ylabel('loss')\n",
        "plt.xlabel('epoch')\n",
        "plt.legend(['train', 'test'], loc='upper left')\n",
        "plt.show()"
      ],
      "execution_count": null,
      "outputs": [
        {
          "output_type": "display_data",
          "data": {
            "image/png": "[encoded data removed]",
            "text/plain": [
              "<Figure size 432x288 with 1 Axes>"
            ]
          },
          "metadata": {
            "tags": [],
            "needs_background": "light"
          }
        }
      ]
    },
    {
      "cell_type": "markdown",
      "metadata": {
        "id": "WiKoYMFWiGhO"
      },
      "source": [
        "# Prediction"
      ]
    },
    {
      "cell_type": "code",
      "metadata": {
        "colab": {
          "base_uri": "https://localhost:8080/",
          "height": 318
        },
        "id": "B7ndaNHxiHVR",
        "outputId": "5e508f9d-18a5-43ad-90e5-183472e9f60f"
      },
      "source": [
        "y_close_predict = model.predict(X_test)\n",
        "\n",
        "y_close_test_inverse = close_scaler.inverse_transform(y_test)\n",
        "y_close_predict_inverse = close_scaler.inverse_transform(y_close_predict)\n",
        " \n",
        "plt.plot(y_close_test_inverse, label=\"Actual Price\", color='green')\n",
        "plt.plot(y_close_predict_inverse, label=\"Predicted Price\", color='red')\n",
        " \n",
        "plt.title('Bitcoin price close')\n",
        "plt.xlabel('Time [days]')\n",
        "plt.ylabel('Close')\n",
        "plt.legend(loc='best')\n",
        " \n",
        "plt.show();"
      ],
      "execution_count": null,
      "outputs": [
        {
          "output_type": "display_data",
          "data": {
            "image/png": "[encoded data removed]",
            "text/plain": [
              "<Figure size 432x288 with 1 Axes>"
            ]
          },
          "metadata": {
            "tags": [],
            "needs_background": "light"
          }
        }
      ]
    },
    {
      "cell_type": "markdown",
      "metadata": {
        "id": "rfxjyWRxHi4I"
      },
      "source": [
        "# Open model\n"
      ]
    },
    {
      "cell_type": "markdown",
      "metadata": {
        "id": "n8CWMfgtH-nr"
      },
      "source": [
        "## Normalization"
      ]
    },
    {
      "cell_type": "code",
      "metadata": {
        "id": "y-sMRuvnH-Lu"
      },
      "source": [
        "open_scaler = MinMaxScaler()\n",
        "\n",
        "open = df.open.values.reshape(-1, 1)\n",
        "\n",
        "scaled_open = open_scaler.fit_transform(open)"
      ],
      "execution_count": null,
      "outputs": []
    },
    {
      "cell_type": "code",
      "metadata": {
        "colab": {
          "base_uri": "https://localhost:8080/"
        },
        "id": "_svAyUUHIL6s",
        "outputId": "d920d7ae-80b1-4e48-cc5b-9e9bcb65e46d"
      },
      "source": [
        "scaled_open.shape"
      ],
      "execution_count": null,
      "outputs": [
        {
          "output_type": "execute_result",
          "data": {
            "text/plain": [
              "(2487, 1)"
            ]
          },
          "metadata": {
            "tags": []
          },
          "execution_count": 29
        }
      ]
    },
    {
      "cell_type": "markdown",
      "metadata": {
        "id": "sTgPtUUOJNvW"
      },
      "source": [
        "## Split"
      ]
    },
    {
      "cell_type": "code",
      "metadata": {
        "id": "Qi20hW1xH_S7"
      },
      "source": [
        "X_open_train, y_open_train, X_open_test, y_open_test = preprocess(scaled_open, SEQ_LEN, train_split = 0.95)"
      ],
      "execution_count": null,
      "outputs": []
    },
    {
      "cell_type": "code",
      "metadata": {
        "colab": {
          "base_uri": "https://localhost:8080/"
        },
        "id": "izqICGOHIjdU",
        "outputId": "fc9abd95-8686-4c57-8b18-da6acdb955bd"
      },
      "source": [
        "X_open_train.shape"
      ],
      "execution_count": null,
      "outputs": [
        {
          "output_type": "execute_result",
          "data": {
            "text/plain": [
              "(2267, 99, 1)"
            ]
          },
          "metadata": {
            "tags": []
          },
          "execution_count": 31
        }
      ]
    },
    {
      "cell_type": "code",
      "metadata": {
        "colab": {
          "base_uri": "https://localhost:8080/"
        },
        "id": "lf_F27FdIhLJ",
        "outputId": "9adc6fc6-bc2d-4f78-a242-2fd6fd225b25"
      },
      "source": [
        "X_open_test.shape"
      ],
      "execution_count": null,
      "outputs": [
        {
          "output_type": "execute_result",
          "data": {
            "text/plain": [
              "(120, 99, 1)"
            ]
          },
          "metadata": {
            "tags": []
          },
          "execution_count": 32
        }
      ]
    },
    {
      "cell_type": "markdown",
      "metadata": {
        "id": "cw_kVyaWJLBj"
      },
      "source": [
        "## Model"
      ]
    },
    {
      "cell_type": "code",
      "metadata": {
        "id": "oPmZPE0rH_7U"
      },
      "source": [
        "DROPOUT_OPEN = 0.2\n",
        "WINDOW_SIZE = SEQ_LEN - 1\n",
        "\n",
        "model_open = keras.Sequential()\n",
        "\n",
        "model_open.add(Bidirectional(CuDNNLSTM(WINDOW_SIZE, return_sequences=True),\n",
        "                        input_shape=(WINDOW_SIZE, X_train.shape[-1])))\n",
        "model_open.add(Dropout(rate=DROPOUT_OPEN))\n",
        "\n",
        "model_open.add(Bidirectional(CuDNNLSTM((WINDOW_SIZE * 2), return_sequences=True)))\n",
        "model_open.add(Dropout(rate=DROPOUT_OPEN))\n",
        "\n",
        "model_open.add(Bidirectional(CuDNNLSTM(WINDOW_SIZE, return_sequences=False)))\n",
        "\n",
        "model_open.add(Dense(units=1))\n",
        "\n",
        "model_open.add(Activation('linear'))"
      ],
      "execution_count": null,
      "outputs": []
    },
    {
      "cell_type": "markdown",
      "metadata": {
        "id": "yLZB_-rPIA7Y"
      },
      "source": [
        "## Training"
      ]
    },
    {
      "cell_type": "code",
      "metadata": {
        "id": "0ssfsdgSJXKt"
      },
      "source": [
        "model_open.compile(\n",
        "    loss='mean_squared_error', \n",
        "    optimizer='adam'\n",
        ")"
      ],
      "execution_count": null,
      "outputs": []
    },
    {
      "cell_type": "code",
      "metadata": {
        "colab": {
          "base_uri": "https://localhost:8080/"
        },
        "id": "oXrBmL7OJZc_",
        "outputId": "1fa8edea-74e8-40ce-ffc4-52b44e38d7bd"
      },
      "source": [
        "BATCH_SIZE = 10\n",
        "\n",
        "start = time.time()\n",
        "history_open = model_open.fit(\n",
        "    X_open_train, \n",
        "    y_open_train, \n",
        "    epochs=50, \n",
        "    batch_size=BATCH_SIZE, \n",
        "    shuffle=False,\n",
        "    validation_split=0.1\n",
        ")\n",
        "\n",
        "training_time = int(math.floor(time.time() - start))\n",
        "print('Training time(s):', training_time)"
      ],
      "execution_count": null,
      "outputs": [
        {
          "output_type": "stream",
          "text": [
            "Epoch 1/50\n",
            "204/204 [==============================] - 43s 190ms/step - loss: 5.6464e-04 - val_loss: 0.0829\n",
            "Epoch 2/50\n",
            "204/204 [==============================] - 38s 186ms/step - loss: 0.0014 - val_loss: 0.0961\n",
            "Epoch 3/50\n",
            "204/204 [==============================] - 38s 185ms/step - loss: 0.0012 - val_loss: 0.0927\n",
            "Epoch 4/50\n",
            "204/204 [==============================] - 38s 186ms/step - loss: 0.0014 - val_loss: 0.0960\n",
            "Epoch 5/50\n",
            "204/204 [==============================] - 38s 186ms/step - loss: 0.0014 - val_loss: 0.0954\n",
            "Epoch 6/50\n",
            "204/204 [==============================] - 38s 186ms/step - loss: 0.0018 - val_loss: 0.0958\n",
            "Epoch 7/50\n",
            "204/204 [==============================] - 38s 186ms/step - loss: 0.0016 - val_loss: 0.0851\n",
            "Epoch 8/50\n",
            "204/204 [==============================] - 38s 186ms/step - loss: 0.0014 - val_loss: 0.0804\n",
            "Epoch 9/50\n",
            "204/204 [==============================] - 38s 186ms/step - loss: 0.0012 - val_loss: 0.0754\n",
            "Epoch 10/50\n",
            "204/204 [==============================] - 38s 186ms/step - loss: 9.5808e-04 - val_loss: 0.0693\n",
            "Epoch 11/50\n",
            "204/204 [==============================] - 38s 186ms/step - loss: 9.5258e-04 - val_loss: 0.0500\n",
            "Epoch 12/50\n",
            "204/204 [==============================] - 38s 186ms/step - loss: 6.0956e-04 - val_loss: 0.0374\n",
            "Epoch 13/50\n",
            "204/204 [==============================] - 38s 186ms/step - loss: 5.5496e-04 - val_loss: 0.0222\n",
            "Epoch 14/50\n",
            "204/204 [==============================] - 38s 186ms/step - loss: 3.6378e-04 - val_loss: 0.0140\n",
            "Epoch 15/50\n",
            "204/204 [==============================] - 38s 186ms/step - loss: 3.5093e-04 - val_loss: 0.0058\n",
            "Epoch 16/50\n",
            "204/204 [==============================] - 38s 186ms/step - loss: 3.3842e-04 - val_loss: 0.0039\n",
            "Epoch 17/50\n",
            "204/204 [==============================] - 38s 186ms/step - loss: 3.4284e-04 - val_loss: 0.0065\n",
            "Epoch 18/50\n",
            "204/204 [==============================] - 38s 186ms/step - loss: 3.5045e-04 - val_loss: 0.0050\n",
            "Epoch 19/50\n",
            "204/204 [==============================] - 38s 186ms/step - loss: 3.0148e-04 - val_loss: 0.0128\n",
            "Epoch 20/50\n",
            "204/204 [==============================] - 38s 186ms/step - loss: 3.8899e-04 - val_loss: 0.0134\n",
            "Epoch 21/50\n",
            "204/204 [==============================] - 38s 186ms/step - loss: 3.1381e-04 - val_loss: 0.0322\n",
            "Epoch 22/50\n",
            "204/204 [==============================] - 38s 186ms/step - loss: 4.1063e-04 - val_loss: 0.0363\n",
            "Epoch 23/50\n",
            "204/204 [==============================] - 38s 186ms/step - loss: 4.6611e-04 - val_loss: 0.0247\n",
            "Epoch 24/50\n",
            "204/204 [==============================] - 38s 186ms/step - loss: 3.1400e-04 - val_loss: 0.0205\n",
            "Epoch 25/50\n",
            "204/204 [==============================] - 38s 186ms/step - loss: 1.9071e-04 - val_loss: 0.0436\n",
            "Epoch 26/50\n",
            "204/204 [==============================] - 38s 185ms/step - loss: 4.6169e-04 - val_loss: 0.0477\n",
            "Epoch 27/50\n",
            "204/204 [==============================] - 38s 186ms/step - loss: 4.8381e-04 - val_loss: 0.0480\n",
            "Epoch 28/50\n",
            "204/204 [==============================] - 38s 186ms/step - loss: 4.6048e-04 - val_loss: 0.0373\n",
            "Epoch 29/50\n",
            "204/204 [==============================] - 38s 186ms/step - loss: 1.9816e-04 - val_loss: 0.0398\n",
            "Epoch 30/50\n",
            "204/204 [==============================] - 38s 186ms/step - loss: 1.1941e-04 - val_loss: 0.0307\n",
            "Epoch 31/50\n",
            "204/204 [==============================] - 38s 186ms/step - loss: 1.0068e-04 - val_loss: 0.0202\n",
            "Epoch 32/50\n",
            "204/204 [==============================] - 38s 185ms/step - loss: 7.9968e-05 - val_loss: 0.0143\n",
            "Epoch 33/50\n",
            "204/204 [==============================] - 38s 186ms/step - loss: 8.6194e-05 - val_loss: 0.0173\n",
            "Epoch 34/50\n",
            "204/204 [==============================] - 38s 186ms/step - loss: 1.3448e-04 - val_loss: 0.0318\n",
            "Epoch 35/50\n",
            "204/204 [==============================] - 38s 186ms/step - loss: 2.5348e-04 - val_loss: 0.0414\n",
            "Epoch 36/50\n",
            "204/204 [==============================] - 38s 185ms/step - loss: 2.4608e-04 - val_loss: 0.0357\n",
            "Epoch 37/50\n",
            "204/204 [==============================] - 38s 185ms/step - loss: 1.3545e-04 - val_loss: 0.0306\n",
            "Epoch 38/50\n",
            "204/204 [==============================] - 38s 186ms/step - loss: 1.1149e-04 - val_loss: 0.0301\n",
            "Epoch 39/50\n",
            "204/204 [==============================] - 38s 185ms/step - loss: 1.1697e-04 - val_loss: 0.0290\n",
            "Epoch 40/50\n",
            "204/204 [==============================] - 38s 186ms/step - loss: 1.0288e-04 - val_loss: 0.0260\n",
            "Epoch 41/50\n",
            "204/204 [==============================] - 38s 186ms/step - loss: 8.8340e-05 - val_loss: 0.0267\n",
            "Epoch 42/50\n",
            "204/204 [==============================] - 38s 186ms/step - loss: 9.1087e-05 - val_loss: 0.0256\n",
            "Epoch 43/50\n",
            "204/204 [==============================] - 38s 186ms/step - loss: 9.0013e-05 - val_loss: 0.0237\n",
            "Epoch 44/50\n",
            "204/204 [==============================] - 38s 185ms/step - loss: 7.0636e-05 - val_loss: 0.0222\n",
            "Epoch 45/50\n",
            "204/204 [==============================] - 38s 186ms/step - loss: 7.0186e-05 - val_loss: 0.0192\n",
            "Epoch 46/50\n",
            "204/204 [==============================] - 38s 186ms/step - loss: 6.1117e-05 - val_loss: 0.0194\n",
            "Epoch 47/50\n",
            "204/204 [==============================] - 38s 185ms/step - loss: 7.2644e-05 - val_loss: 0.0215\n",
            "Epoch 48/50\n",
            "204/204 [==============================] - 38s 186ms/step - loss: 7.5191e-05 - val_loss: 0.0188\n",
            "Epoch 49/50\n",
            "204/204 [==============================] - 38s 185ms/step - loss: 5.7843e-05 - val_loss: 0.0191\n",
            "Epoch 50/50\n",
            "204/204 [==============================] - 38s 186ms/step - loss: 9.7860e-05 - val_loss: 0.0323\n",
            "Training time(s): 1945\n"
          ],
          "name": "stdout"
        }
      ]
    },
    {
      "cell_type": "code",
      "metadata": {
        "colab": {
          "base_uri": "https://localhost:8080/"
        },
        "id": "sFCoKELWJlrK",
        "outputId": "09c0283a-3cee-4287-df7e-66d83ae3ee40"
      },
      "source": [
        "model_open.evaluate(X_open_test, y_open_test)"
      ],
      "execution_count": null,
      "outputs": [
        {
          "output_type": "stream",
          "text": [
            "4/4 [==============================] - 0s 64ms/step - loss: 0.1425\n"
          ],
          "name": "stdout"
        },
        {
          "output_type": "execute_result",
          "data": {
            "text/plain": [
              "0.14248687028884888"
            ]
          },
          "metadata": {
            "tags": []
          },
          "execution_count": 36
        }
      ]
    },
    {
      "cell_type": "code",
      "metadata": {
        "colab": {
          "base_uri": "https://localhost:8080/"
        },
        "id": "ucK24L_HJ4kF",
        "outputId": "2ee43314-7c00-4721-aaee-b770eed4449a"
      },
      "source": [
        "plt.plot(history_open.history['loss'])\n",
        "plt.plot(history_open.history['val_loss'])\n",
        "plt.title('model loss')\n",
        "plt.ylabel('loss')\n",
        "plt.xlabel('epoch')\n",
        "plt.legend(['train', 'test'], loc='upper left')\n",
        "plt.show()"
      ],
      "execution_count": null,
      "outputs": [
        {
          "output_type": "display_data",
          "data": {
            "image/png": "[encoded data removed]",
            "text/plain": [
              "<Figure size 432x288 with 1 Axes>"
            ]
          },
          "metadata": {
            "tags": [],
            "needs_background": "light"
          }
        }
      ]
    },
    {
      "cell_type": "markdown",
      "metadata": {
        "id": "s2YEg46WJxnA"
      },
      "source": [
        "## Prediction"
      ]
    },
    {
      "cell_type": "code",
      "metadata": {
        "colab": {
          "base_uri": "https://localhost:8080/"
        },
        "id": "hFH-hbXAKEbP",
        "outputId": "71b1f2a1-3016-4b17-fde4-4949091044ef"
      },
      "source": [
        "y_open_predict = model.predict(X_test)\n",
        "\n",
        "y_open_test_inverse = close_scaler.inverse_transform(y_test)\n",
        "y_open_predict_inverse = close_scaler.inverse_transform(y_open_predict)\n",
        " \n",
        "plt.plot(y_open_test_inverse, label=\"Actual Price\", color='green')\n",
        "plt.plot(y_open_predict_inverse, label=\"Predicted Price\", color='red')\n",
        " \n",
        "plt.title('Bitcoin price open')\n",
        "plt.xlabel('Time [days]')\n",
        "plt.ylabel('Close')\n",
        "plt.legend(loc='best')\n",
        " \n",
        "plt.show();"
      ],
      "execution_count": null,
      "outputs": [
        {
          "output_type": "display_data",
          "data": {
            "image/png": "[encoded data removed]",
            "text/plain": [
              "<Figure size 432x288 with 1 Axes>"
            ]
          },
          "metadata": {
            "tags": [],
            "needs_background": "light"
          }
        }
      ]
    },
    {
      "cell_type": "code",
      "metadata": {
        "colab": {
          "base_uri": "https://localhost:8080/",
          "height": 206
        },
        "id": "KFTBCRXEOUAz",
        "outputId": "a10a2a69-e8df-43b0-84f0-3a93b2c07e97"
      },
      "source": [
        "test_df = pd.DataFrame(y_close_predict_inverse)\n",
        "test_df.rename(columns={0: 'y_close_pred'}, inplace=True)\n",
        "test_df.head()"
      ],
      "execution_count": null,
      "outputs": [
        {
          "output_type": "execute_result",
          "data": {
            "text/html": [
              "<div>\n",
              "<style scoped>\n",
              "    .dataframe tbody tr th:only-of-type {\n",
              "        vertical-align: middle;\n",
              "    }\n",
              "\n",
              "    .dataframe tbody tr th {\n",
              "        vertical-align: top;\n",
              "    }\n",
              "\n",
              "    .dataframe thead th {\n",
              "        text-align: right;\n",
              "    }\n",
              "</style>\n",
              "<table border=\"1\" class=\"dataframe\">\n",
              "  <thead>\n",
              "    <tr style=\"text-align: right;\">\n",
              "      <th></th>\n",
              "      <th>y_close_pred</th>\n",
              "    </tr>\n",
              "  </thead>\n",
              "  <tbody>\n",
              "    <tr>\n",
              "      <th>0</th>\n",
              "      <td>19338.121094</td>\n",
              "    </tr>\n",
              "    <tr>\n",
              "      <th>1</th>\n",
              "      <td>19181.808594</td>\n",
              "    </tr>\n",
              "    <tr>\n",
              "      <th>2</th>\n",
              "      <td>18867.619141</td>\n",
              "    </tr>\n",
              "    <tr>\n",
              "      <th>3</th>\n",
              "      <td>18954.830078</td>\n",
              "    </tr>\n",
              "    <tr>\n",
              "      <th>4</th>\n",
              "      <td>19151.847656</td>\n",
              "    </tr>\n",
              "  </tbody>\n",
              "</table>\n",
              "</div>"
            ],
            "text/plain": [
              "   y_close_pred\n",
              "0  19338.121094\n",
              "1  19181.808594\n",
              "2  18867.619141\n",
              "3  18954.830078\n",
              "4  19151.847656"
            ]
          },
          "metadata": {
            "tags": []
          },
          "execution_count": 39
        }
      ]
    },
    {
      "cell_type": "code",
      "metadata": {
        "colab": {
          "base_uri": "https://localhost:8080/",
          "height": 206
        },
        "id": "4uw-qR0xPKEd",
        "outputId": "fa909d91-e09f-4a19-8ad7-69158f86ac3a"
      },
      "source": [
        "test_df['y_open_pred'] = y_open_predict_inverse\n",
        "test_df['y_close'] = y_close_test_inverse\n",
        "test_df['y_open'] = y_open_test_inverse\n",
        "test_df.head()"
      ],
      "execution_count": null,
      "outputs": [
        {
          "output_type": "execute_result",
          "data": {
            "text/html": [
              "<div>\n",
              "<style scoped>\n",
              "    .dataframe tbody tr th:only-of-type {\n",
              "        vertical-align: middle;\n",
              "    }\n",
              "\n",
              "    .dataframe tbody tr th {\n",
              "        vertical-align: top;\n",
              "    }\n",
              "\n",
              "    .dataframe thead th {\n",
              "        text-align: right;\n",
              "    }\n",
              "</style>\n",
              "<table border=\"1\" class=\"dataframe\">\n",
              "  <thead>\n",
              "    <tr style=\"text-align: right;\">\n",
              "      <th></th>\n",
              "      <th>y_close_pred</th>\n",
              "      <th>y_open_pred</th>\n",
              "      <th>y_close</th>\n",
              "      <th>y_open</th>\n",
              "    </tr>\n",
              "  </thead>\n",
              "  <tbody>\n",
              "    <tr>\n",
              "      <th>0</th>\n",
              "      <td>19338.121094</td>\n",
              "      <td>19338.121094</td>\n",
              "      <td>59302.316406</td>\n",
              "      <td>59302.316406</td>\n",
              "    </tr>\n",
              "    <tr>\n",
              "      <th>1</th>\n",
              "      <td>19181.808594</td>\n",
              "      <td>19181.808594</td>\n",
              "      <td>55907.199219</td>\n",
              "      <td>55907.199219</td>\n",
              "    </tr>\n",
              "    <tr>\n",
              "      <th>2</th>\n",
              "      <td>18867.619141</td>\n",
              "      <td>18867.619141</td>\n",
              "      <td>56804.902344</td>\n",
              "      <td>56804.902344</td>\n",
              "    </tr>\n",
              "    <tr>\n",
              "      <th>3</th>\n",
              "      <td>18954.830078</td>\n",
              "      <td>18954.830078</td>\n",
              "      <td>58870.894531</td>\n",
              "      <td>58870.894531</td>\n",
              "    </tr>\n",
              "    <tr>\n",
              "      <th>4</th>\n",
              "      <td>19151.847656</td>\n",
              "      <td>19151.847656</td>\n",
              "      <td>57858.921875</td>\n",
              "      <td>57858.921875</td>\n",
              "    </tr>\n",
              "  </tbody>\n",
              "</table>\n",
              "</div>"
            ],
            "text/plain": [
              "   y_close_pred   y_open_pred       y_close        y_open\n",
              "0  19338.121094  19338.121094  59302.316406  59302.316406\n",
              "1  19181.808594  19181.808594  55907.199219  55907.199219\n",
              "2  18867.619141  18867.619141  56804.902344  56804.902344\n",
              "3  18954.830078  18954.830078  58870.894531  58870.894531\n",
              "4  19151.847656  19151.847656  57858.921875  57858.921875"
            ]
          },
          "metadata": {
            "tags": []
          },
          "execution_count": 40
        }
      ]
    },
    {
      "cell_type": "code",
      "metadata": {
        "id": "r56N3DFYwnVD"
      },
      "source": [
        "#y_prediction = list(map(lambda x: int(x > 0)*2-1, y_hat_inverse))\n",
        "#y_true = list(map(lambda x: x[0], y_test_inverse))\n",
        "#y_true"
      ],
      "execution_count": null,
      "outputs": []
    },
    {
      "cell_type": "code",
      "metadata": {
        "id": "V7TQM8bgwrsl"
      },
      "source": [
        "#from sklearn.metrics import confusion_matrix, plot_confusion_matrix\n",
        "#\n",
        "#cm = confusion_matrix(y_true, y_prediction)\n",
        "#\n",
        "#import seaborn as sn\n",
        "#\n",
        "#df_cm = pd.DataFrame(cm)\n",
        "#sn.heatmap(df_cm, annot=True, annot_kws={\"size\": 16}) # font size"
      ],
      "execution_count": null,
      "outputs": []
    },
    {
      "cell_type": "code",
      "metadata": {
        "id": "anlqTkLm4BJ5"
      },
      "source": [
        "#success = (cm[0, 0] + cm[1, 1]) / (cm[1,0] + cm[0, 1]) / 2 \n",
        "#success"
      ],
      "execution_count": null,
      "outputs": []
    }
  ]
}