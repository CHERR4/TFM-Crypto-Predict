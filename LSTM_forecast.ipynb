{
  "nbformat": 4,
  "nbformat_minor": 0,
  "metadata": {
    "colab": {
      "name": "LSTM_forecast.ipynb",
      "provenance": [],
      "collapsed_sections": []
    },
    "kernelspec": {
      "name": "python3",
      "display_name": "Python 3"
    },
    "language_info": {
      "name": "python"
    }
  },
  "cells": [
    {
      "cell_type": "code",
      "metadata": {
        "colab": {
          "base_uri": "https://localhost:8080/"
        },
        "id": "12M7ZJTx_llM",
        "outputId": "6b1d2baf-d12a-4d9a-b798-48652dd93b4d"
      },
      "source": [
        "!pip install git+https://github.com/JoaquinAmatRodrigo/skforecast@v0.1.8.1"
      ],
      "execution_count": 1,
      "outputs": [
        {
          "output_type": "stream",
          "text": [
            "Collecting git+https://github.com/JoaquinAmatRodrigo/skforecast@v0.1.8.1\n",
            "  Cloning https://github.com/JoaquinAmatRodrigo/skforecast (to revision v0.1.8.1) to /tmp/pip-req-build-79mdt2wg\n",
            "  Running command git clone -q https://github.com/JoaquinAmatRodrigo/skforecast /tmp/pip-req-build-79mdt2wg\n",
            "  Running command git checkout -q e9f125fec47e13a6ba768bf9e5c362815e84d767\n"
          ],
          "name": "stdout"
        }
      ]
    },
    {
      "cell_type": "code",
      "metadata": {
        "colab": {
          "base_uri": "https://localhost:8080/"
        },
        "id": "P6IWJYCE_tFF",
        "outputId": "c3e61f37-fa5d-4721-f17d-7bf359051c09"
      },
      "source": [
        "!pip install -U scikit-learn"
      ],
      "execution_count": 2,
      "outputs": [
        {
          "output_type": "stream",
          "text": [
            "Requirement already satisfied: scikit-learn in /usr/local/lib/python3.7/dist-packages (0.24.2)\n",
            "Requirement already satisfied: threadpoolctl>=2.0.0 in /usr/local/lib/python3.7/dist-packages (from scikit-learn) (2.2.0)\n",
            "Requirement already satisfied: scipy>=0.19.1 in /usr/local/lib/python3.7/dist-packages (from scikit-learn) (1.4.1)\n",
            "Requirement already satisfied: numpy>=1.13.3 in /usr/local/lib/python3.7/dist-packages (from scikit-learn) (1.19.5)\n",
            "Requirement already satisfied: joblib>=0.11 in /usr/local/lib/python3.7/dist-packages (from scikit-learn) (1.0.1)\n"
          ],
          "name": "stdout"
        }
      ]
    },
    {
      "cell_type": "code",
      "metadata": {
        "colab": {
          "base_uri": "https://localhost:8080/"
        },
        "id": "VXsornShPmLW",
        "outputId": "282eb92a-f076-49f5-9194-6e6d4b6bfa7d"
      },
      "source": [
        "!pip install --upgrade matplotlib"
      ],
      "execution_count": 3,
      "outputs": [
        {
          "output_type": "stream",
          "text": [
            "Requirement already satisfied: matplotlib in /usr/local/lib/python3.7/dist-packages (3.4.3)\n",
            "Requirement already satisfied: kiwisolver>=1.0.1 in /usr/local/lib/python3.7/dist-packages (from matplotlib) (1.3.1)\n",
            "Requirement already satisfied: cycler>=0.10 in /usr/local/lib/python3.7/dist-packages (from matplotlib) (0.10.0)\n",
            "Requirement already satisfied: pillow>=6.2.0 in /usr/local/lib/python3.7/dist-packages (from matplotlib) (7.1.2)\n",
            "Requirement already satisfied: python-dateutil>=2.7 in /usr/local/lib/python3.7/dist-packages (from matplotlib) (2.8.2)\n",
            "Requirement already satisfied: numpy>=1.16 in /usr/local/lib/python3.7/dist-packages (from matplotlib) (1.19.5)\n",
            "Requirement already satisfied: pyparsing>=2.2.1 in /usr/local/lib/python3.7/dist-packages (from matplotlib) (2.4.7)\n",
            "Requirement already satisfied: six in /usr/local/lib/python3.7/dist-packages (from cycler>=0.10->matplotlib) (1.15.0)\n"
          ],
          "name": "stdout"
        }
      ]
    },
    {
      "cell_type": "code",
      "metadata": {
        "id": "NACDLahE-2tC"
      },
      "source": [
        "import pandas as pd\n",
        "import numpy as np\n",
        "import seaborn as sns\n",
        "import matplotlib.pyplot as plt\n",
        "from numpy.random import seed"
      ],
      "execution_count": 4,
      "outputs": []
    },
    {
      "cell_type": "code",
      "metadata": {
        "id": "V8sRfl5RN573"
      },
      "source": [
        "from numpy.random import seed\n",
        "seed(0)\n",
        "import tensorflow as tf\n",
        "tf.random.set_seed(0)"
      ],
      "execution_count": 5,
      "outputs": []
    },
    {
      "cell_type": "code",
      "metadata": {
        "id": "t7tlI-V89IRs"
      },
      "source": [
        "stocks = pd.read_csv('bitcoinStocks.csv')"
      ],
      "execution_count": 6,
      "outputs": []
    },
    {
      "cell_type": "code",
      "metadata": {
        "colab": {
          "base_uri": "https://localhost:8080/",
          "height": 206
        },
        "id": "M4FOlkU39Ogr",
        "outputId": "0ec89674-167c-4277-9d3c-97c662b0ce79"
      },
      "source": [
        "stocks.head()"
      ],
      "execution_count": 7,
      "outputs": [
        {
          "output_type": "execute_result",
          "data": {
            "text/html": [
              "<div>\n",
              "<style scoped>\n",
              "    .dataframe tbody tr th:only-of-type {\n",
              "        vertical-align: middle;\n",
              "    }\n",
              "\n",
              "    .dataframe tbody tr th {\n",
              "        vertical-align: top;\n",
              "    }\n",
              "\n",
              "    .dataframe thead th {\n",
              "        text-align: right;\n",
              "    }\n",
              "</style>\n",
              "<table border=\"1\" class=\"dataframe\">\n",
              "  <thead>\n",
              "    <tr style=\"text-align: right;\">\n",
              "      <th></th>\n",
              "      <th>date</th>\n",
              "      <th>open</th>\n",
              "      <th>high</th>\n",
              "      <th>low</th>\n",
              "      <th>close</th>\n",
              "      <th>volume</th>\n",
              "      <th>go_up</th>\n",
              "    </tr>\n",
              "  </thead>\n",
              "  <tbody>\n",
              "    <tr>\n",
              "      <th>0</th>\n",
              "      <td>2014-09-17</td>\n",
              "      <td>465.864014</td>\n",
              "      <td>468.174011</td>\n",
              "      <td>452.421997</td>\n",
              "      <td>457.334015</td>\n",
              "      <td>21056800.0</td>\n",
              "      <td>False</td>\n",
              "    </tr>\n",
              "    <tr>\n",
              "      <th>1</th>\n",
              "      <td>2014-09-18</td>\n",
              "      <td>456.859985</td>\n",
              "      <td>456.859985</td>\n",
              "      <td>413.104004</td>\n",
              "      <td>424.440002</td>\n",
              "      <td>34483200.0</td>\n",
              "      <td>False</td>\n",
              "    </tr>\n",
              "    <tr>\n",
              "      <th>2</th>\n",
              "      <td>2014-09-19</td>\n",
              "      <td>424.102997</td>\n",
              "      <td>427.834991</td>\n",
              "      <td>384.532013</td>\n",
              "      <td>394.795990</td>\n",
              "      <td>37919700.0</td>\n",
              "      <td>False</td>\n",
              "    </tr>\n",
              "    <tr>\n",
              "      <th>3</th>\n",
              "      <td>2014-09-20</td>\n",
              "      <td>394.673004</td>\n",
              "      <td>423.295990</td>\n",
              "      <td>389.882996</td>\n",
              "      <td>408.903992</td>\n",
              "      <td>36863600.0</td>\n",
              "      <td>True</td>\n",
              "    </tr>\n",
              "    <tr>\n",
              "      <th>4</th>\n",
              "      <td>2014-09-21</td>\n",
              "      <td>408.084991</td>\n",
              "      <td>412.425995</td>\n",
              "      <td>393.181000</td>\n",
              "      <td>398.821014</td>\n",
              "      <td>26580100.0</td>\n",
              "      <td>False</td>\n",
              "    </tr>\n",
              "  </tbody>\n",
              "</table>\n",
              "</div>"
            ],
            "text/plain": [
              "         date        open        high  ...       close      volume  go_up\n",
              "0  2014-09-17  465.864014  468.174011  ...  457.334015  21056800.0  False\n",
              "1  2014-09-18  456.859985  456.859985  ...  424.440002  34483200.0  False\n",
              "2  2014-09-19  424.102997  427.834991  ...  394.795990  37919700.0  False\n",
              "3  2014-09-20  394.673004  423.295990  ...  408.903992  36863600.0   True\n",
              "4  2014-09-21  408.084991  412.425995  ...  398.821014  26580100.0  False\n",
              "\n",
              "[5 rows x 7 columns]"
            ]
          },
          "metadata": {
            "tags": []
          },
          "execution_count": 7
        }
      ]
    },
    {
      "cell_type": "markdown",
      "metadata": {
        "id": "02ttg9n5A8Ot"
      },
      "source": [
        "# Feature selection"
      ]
    },
    {
      "cell_type": "code",
      "metadata": {
        "colab": {
          "base_uri": "https://localhost:8080/",
          "height": 206
        },
        "id": "qThemKw1BAuU",
        "outputId": "ead562f9-928a-4d32-c71a-f9f3b416b7d1"
      },
      "source": [
        "stocks_close = stocks.close\n",
        "stocks_close = stocks_close.to_frame()\n",
        "stocks_close.head()"
      ],
      "execution_count": 8,
      "outputs": [
        {
          "output_type": "execute_result",
          "data": {
            "text/html": [
              "<div>\n",
              "<style scoped>\n",
              "    .dataframe tbody tr th:only-of-type {\n",
              "        vertical-align: middle;\n",
              "    }\n",
              "\n",
              "    .dataframe tbody tr th {\n",
              "        vertical-align: top;\n",
              "    }\n",
              "\n",
              "    .dataframe thead th {\n",
              "        text-align: right;\n",
              "    }\n",
              "</style>\n",
              "<table border=\"1\" class=\"dataframe\">\n",
              "  <thead>\n",
              "    <tr style=\"text-align: right;\">\n",
              "      <th></th>\n",
              "      <th>close</th>\n",
              "    </tr>\n",
              "  </thead>\n",
              "  <tbody>\n",
              "    <tr>\n",
              "      <th>0</th>\n",
              "      <td>457.334015</td>\n",
              "    </tr>\n",
              "    <tr>\n",
              "      <th>1</th>\n",
              "      <td>424.440002</td>\n",
              "    </tr>\n",
              "    <tr>\n",
              "      <th>2</th>\n",
              "      <td>394.795990</td>\n",
              "    </tr>\n",
              "    <tr>\n",
              "      <th>3</th>\n",
              "      <td>408.903992</td>\n",
              "    </tr>\n",
              "    <tr>\n",
              "      <th>4</th>\n",
              "      <td>398.821014</td>\n",
              "    </tr>\n",
              "  </tbody>\n",
              "</table>\n",
              "</div>"
            ],
            "text/plain": [
              "        close\n",
              "0  457.334015\n",
              "1  424.440002\n",
              "2  394.795990\n",
              "3  408.903992\n",
              "4  398.821014"
            ]
          },
          "metadata": {
            "tags": []
          },
          "execution_count": 8
        }
      ]
    },
    {
      "cell_type": "markdown",
      "metadata": {
        "id": "rv4ZrDGy-Spg"
      },
      "source": [
        "# Train / Test"
      ]
    },
    {
      "cell_type": "code",
      "metadata": {
        "colab": {
          "base_uri": "https://localhost:8080/"
        },
        "id": "dT3fu0u4-PWs",
        "outputId": "7d3aa8ce-98ad-41ef-ad75-4a842b6a2ed4"
      },
      "source": [
        "test = 0.1\n",
        "train_ts = stocks_close[:int(-len(stocks_close)*test)]\n",
        "train_ts.shape"
      ],
      "execution_count": 9,
      "outputs": [
        {
          "output_type": "execute_result",
          "data": {
            "text/plain": [
              "(2242, 1)"
            ]
          },
          "metadata": {
            "tags": []
          },
          "execution_count": 9
        }
      ]
    },
    {
      "cell_type": "code",
      "metadata": {
        "colab": {
          "base_uri": "https://localhost:8080/"
        },
        "id": "22LNKrhK-a20",
        "outputId": "1079bb0f-cd52-49de-bc80-2213b248fdd8"
      },
      "source": [
        "test_ts = stocks_close[int(-len(stocks_close)*test):]\n",
        "test_ts.shape"
      ],
      "execution_count": 10,
      "outputs": [
        {
          "output_type": "execute_result",
          "data": {
            "text/plain": [
              "(249, 1)"
            ]
          },
          "metadata": {
            "tags": []
          },
          "execution_count": 10
        }
      ]
    },
    {
      "cell_type": "code",
      "metadata": {
        "colab": {
          "base_uri": "https://localhost:8080/"
        },
        "id": "H2GOiswW_YU9",
        "outputId": "835affa7-df6b-47d3-b022-5b62f4df8b37"
      },
      "source": [
        "# from sklearn.metrics import mean_absolute_percentage_error\n",
        "from AutoRegForecaster import AutoRegForecaster\n",
        "from VanillaLSTM import VanillaLSTM\n",
        "from StackedLSTM import StackedLSTM\n",
        "from BidirectionalLSTM import BidirectionalLSTM\n",
        "from ConvLSTM import ConvLSTM\n",
        "from CnnLSTM import CnnLSTM\n",
        "\n",
        "epochs = 100\n",
        "batch_size = 32\n",
        "n_steps = 7\n",
        "n_outputs = 1\n",
        "\n",
        "model = ConvLSTM(n_neurons=50, n_steps=n_steps, n_outputs=n_outputs)\n",
        "\n",
        "history = model.train(train_ts, epochs=50, batch_size=batch_size)"
      ],
      "execution_count": 11,
      "outputs": [
        {
          "output_type": "stream",
          "text": [
            "Model: \"sequential\"\n",
            "_________________________________________________________________\n",
            "Layer (type)                 Output Shape              Param #   \n",
            "=================================================================\n",
            "conv_lst_m2d (ConvLSTM2D)    (None, 1, 6, 64)          33536     \n",
            "_________________________________________________________________\n",
            "flatten (Flatten)            (None, 384)               0         \n",
            "_________________________________________________________________\n",
            "dense (Dense)                (None, 1)                 385       \n",
            "=================================================================\n",
            "Total params: 33,921\n",
            "Trainable params: 33,921\n",
            "Non-trainable params: 0\n",
            "_________________________________________________________________\n",
            "None\n",
            "Epoch 1/50\n",
            "63/63 [==============================] - 27s 27ms/step - loss: 0.0572 - accuracy: 5.8322e-04 - val_loss: 0.0163 - val_accuracy: 0.0000e+00\n",
            "Epoch 2/50\n",
            "63/63 [==============================] - 0s 8ms/step - loss: 0.0051 - accuracy: 0.0012 - val_loss: 6.5988e-04 - val_accuracy: 0.0000e+00\n",
            "Epoch 3/50\n",
            "63/63 [==============================] - 0s 7ms/step - loss: 6.2923e-04 - accuracy: 0.0011 - val_loss: 6.0449e-04 - val_accuracy: 0.0000e+00\n",
            "Epoch 4/50\n",
            "63/63 [==============================] - 0s 7ms/step - loss: 8.7661e-04 - accuracy: 8.4083e-04 - val_loss: 5.4494e-04 - val_accuracy: 0.0000e+00\n",
            "Epoch 5/50\n",
            "63/63 [==============================] - 0s 7ms/step - loss: 5.6381e-04 - accuracy: 4.1449e-04 - val_loss: 5.3133e-04 - val_accuracy: 0.0000e+00\n",
            "Epoch 6/50\n",
            "63/63 [==============================] - 0s 7ms/step - loss: 5.9629e-04 - accuracy: 3.7502e-04 - val_loss: 5.4225e-04 - val_accuracy: 0.0000e+00\n",
            "Epoch 7/50\n",
            "63/63 [==============================] - 0s 7ms/step - loss: 6.6237e-04 - accuracy: 0.0013 - val_loss: 5.6024e-04 - val_accuracy: 0.0000e+00\n",
            "Epoch 8/50\n",
            "63/63 [==============================] - 0s 7ms/step - loss: 5.5126e-04 - accuracy: 0.0013 - val_loss: 4.8910e-04 - val_accuracy: 0.0000e+00\n",
            "Epoch 9/50\n",
            "63/63 [==============================] - 0s 7ms/step - loss: 6.2391e-04 - accuracy: 0.0011 - val_loss: 5.6367e-04 - val_accuracy: 0.0000e+00\n",
            "Epoch 10/50\n",
            "63/63 [==============================] - 0s 7ms/step - loss: 6.8127e-04 - accuracy: 8.6538e-04 - val_loss: 4.9468e-04 - val_accuracy: 0.0000e+00\n",
            "Epoch 11/50\n",
            "63/63 [==============================] - 0s 7ms/step - loss: 5.5333e-04 - accuracy: 6.3205e-04 - val_loss: 4.7689e-04 - val_accuracy: 0.0000e+00\n",
            "Epoch 12/50\n",
            "63/63 [==============================] - 0s 7ms/step - loss: 6.6162e-04 - accuracy: 9.6238e-05 - val_loss: 4.6460e-04 - val_accuracy: 0.0000e+00\n",
            "Epoch 13/50\n",
            "63/63 [==============================] - 0s 7ms/step - loss: 6.2670e-04 - accuracy: 0.0017 - val_loss: 4.6785e-04 - val_accuracy: 0.0000e+00\n",
            "Epoch 14/50\n",
            "63/63 [==============================] - 0s 7ms/step - loss: 5.5750e-04 - accuracy: 0.0013 - val_loss: 4.5114e-04 - val_accuracy: 0.0000e+00\n",
            "Epoch 15/50\n",
            "63/63 [==============================] - 0s 7ms/step - loss: 6.6194e-04 - accuracy: 7.7583e-04 - val_loss: 4.4467e-04 - val_accuracy: 0.0000e+00\n",
            "Epoch 16/50\n",
            "63/63 [==============================] - 0s 7ms/step - loss: 6.0416e-04 - accuracy: 6.5776e-04 - val_loss: 4.3548e-04 - val_accuracy: 0.0000e+00\n",
            "Epoch 17/50\n",
            "63/63 [==============================] - 0s 7ms/step - loss: 5.1174e-04 - accuracy: 0.0011 - val_loss: 4.5753e-04 - val_accuracy: 0.0000e+00\n",
            "Epoch 18/50\n",
            "63/63 [==============================] - 0s 7ms/step - loss: 5.5098e-04 - accuracy: 0.0017 - val_loss: 6.2073e-04 - val_accuracy: 0.0000e+00\n",
            "Epoch 19/50\n",
            "63/63 [==============================] - 0s 7ms/step - loss: 6.3577e-04 - accuracy: 3.7438e-04 - val_loss: 4.7388e-04 - val_accuracy: 0.0000e+00\n",
            "Epoch 20/50\n",
            "63/63 [==============================] - 0s 7ms/step - loss: 5.2917e-04 - accuracy: 2.2086e-04 - val_loss: 6.2624e-04 - val_accuracy: 0.0000e+00\n",
            "Epoch 21/50\n",
            "63/63 [==============================] - 0s 8ms/step - loss: 6.0479e-04 - accuracy: 0.0016 - val_loss: 4.7489e-04 - val_accuracy: 0.0000e+00\n",
            "Epoch 22/50\n",
            "63/63 [==============================] - 0s 7ms/step - loss: 4.8726e-04 - accuracy: 5.7289e-04 - val_loss: 5.8240e-04 - val_accuracy: 0.0000e+00\n",
            "Epoch 23/50\n",
            "63/63 [==============================] - 0s 7ms/step - loss: 4.8482e-04 - accuracy: 0.0019 - val_loss: 4.0860e-04 - val_accuracy: 0.0000e+00\n",
            "Epoch 24/50\n",
            "63/63 [==============================] - 0s 7ms/step - loss: 4.2943e-04 - accuracy: 0.0012 - val_loss: 3.7502e-04 - val_accuracy: 0.0000e+00\n",
            "Epoch 25/50\n",
            "63/63 [==============================] - 0s 7ms/step - loss: 4.2251e-04 - accuracy: 4.1149e-04 - val_loss: 4.1019e-04 - val_accuracy: 0.0000e+00\n",
            "Epoch 26/50\n",
            "63/63 [==============================] - 0s 7ms/step - loss: 4.6009e-04 - accuracy: 8.2953e-04 - val_loss: 4.3738e-04 - val_accuracy: 0.0000e+00\n",
            "Epoch 27/50\n",
            "63/63 [==============================] - 0s 7ms/step - loss: 5.1682e-04 - accuracy: 7.1694e-04 - val_loss: 4.4920e-04 - val_accuracy: 0.0000e+00\n",
            "Epoch 28/50\n",
            "63/63 [==============================] - 0s 7ms/step - loss: 3.6600e-04 - accuracy: 6.9233e-04 - val_loss: 4.1534e-04 - val_accuracy: 0.0000e+00\n",
            "Epoch 29/50\n",
            "63/63 [==============================] - 0s 7ms/step - loss: 4.2153e-04 - accuracy: 3.9436e-04 - val_loss: 3.8370e-04 - val_accuracy: 0.0000e+00\n",
            "Epoch 30/50\n",
            "63/63 [==============================] - 0s 7ms/step - loss: 4.5037e-04 - accuracy: 0.0010 - val_loss: 3.3097e-04 - val_accuracy: 0.0000e+00\n",
            "Epoch 31/50\n",
            "63/63 [==============================] - 0s 7ms/step - loss: 3.9635e-04 - accuracy: 7.7845e-04 - val_loss: 3.6686e-04 - val_accuracy: 0.0000e+00\n",
            "Epoch 32/50\n",
            "63/63 [==============================] - 0s 7ms/step - loss: 3.5676e-04 - accuracy: 8.0327e-04 - val_loss: 3.1967e-04 - val_accuracy: 0.0000e+00\n",
            "Epoch 33/50\n",
            "63/63 [==============================] - 0s 7ms/step - loss: 4.5745e-04 - accuracy: 3.2978e-04 - val_loss: 4.5261e-04 - val_accuracy: 0.0000e+00\n",
            "Epoch 34/50\n",
            "63/63 [==============================] - 0s 7ms/step - loss: 4.1408e-04 - accuracy: 5.7214e-04 - val_loss: 5.8201e-04 - val_accuracy: 0.0000e+00\n",
            "Epoch 35/50\n",
            "63/63 [==============================] - 0s 7ms/step - loss: 4.3954e-04 - accuracy: 0.0014 - val_loss: 3.2442e-04 - val_accuracy: 0.0000e+00\n",
            "Epoch 36/50\n",
            "63/63 [==============================] - 0s 7ms/step - loss: 3.6996e-04 - accuracy: 2.4874e-04 - val_loss: 3.3930e-04 - val_accuracy: 0.0000e+00\n",
            "Epoch 37/50\n",
            "63/63 [==============================] - 0s 7ms/step - loss: 3.1502e-04 - accuracy: 8.6820e-04 - val_loss: 3.9140e-04 - val_accuracy: 0.0000e+00\n",
            "Epoch 38/50\n",
            "63/63 [==============================] - 0s 7ms/step - loss: 3.6907e-04 - accuracy: 4.2112e-04 - val_loss: 3.2390e-04 - val_accuracy: 0.0000e+00\n",
            "Epoch 39/50\n",
            "63/63 [==============================] - 0s 7ms/step - loss: 3.9245e-04 - accuracy: 0.0023 - val_loss: 3.0146e-04 - val_accuracy: 0.0000e+00\n",
            "Epoch 40/50\n",
            "63/63 [==============================] - 0s 7ms/step - loss: 2.8382e-04 - accuracy: 1.7547e-04 - val_loss: 4.0344e-04 - val_accuracy: 0.0000e+00\n",
            "Epoch 41/50\n",
            "63/63 [==============================] - 0s 7ms/step - loss: 3.2913e-04 - accuracy: 0.0017 - val_loss: 3.8567e-04 - val_accuracy: 0.0000e+00\n",
            "Epoch 42/50\n",
            "63/63 [==============================] - 0s 7ms/step - loss: 2.8840e-04 - accuracy: 0.0020 - val_loss: 2.8424e-04 - val_accuracy: 0.0000e+00\n",
            "Epoch 43/50\n",
            "63/63 [==============================] - 0s 7ms/step - loss: 2.9495e-04 - accuracy: 8.3633e-04 - val_loss: 2.8696e-04 - val_accuracy: 0.0000e+00\n",
            "Epoch 44/50\n",
            "63/63 [==============================] - 0s 7ms/step - loss: 4.5056e-04 - accuracy: 2.6694e-04 - val_loss: 4.3398e-04 - val_accuracy: 0.0000e+00\n",
            "Epoch 45/50\n",
            "63/63 [==============================] - 0s 7ms/step - loss: 3.9848e-04 - accuracy: 3.9108e-04 - val_loss: 2.8830e-04 - val_accuracy: 0.0000e+00\n",
            "Epoch 46/50\n",
            "63/63 [==============================] - 0s 7ms/step - loss: 3.2782e-04 - accuracy: 5.4471e-04 - val_loss: 3.3242e-04 - val_accuracy: 0.0000e+00\n",
            "Epoch 47/50\n",
            "63/63 [==============================] - 0s 7ms/step - loss: 4.5655e-04 - accuracy: 0.0013 - val_loss: 2.7702e-04 - val_accuracy: 0.0000e+00\n",
            "Epoch 48/50\n",
            "63/63 [==============================] - 0s 7ms/step - loss: 3.3006e-04 - accuracy: 0.0013 - val_loss: 3.0718e-04 - val_accuracy: 0.0000e+00\n",
            "Epoch 49/50\n",
            "63/63 [==============================] - 0s 7ms/step - loss: 2.9284e-04 - accuracy: 0.0012 - val_loss: 2.8576e-04 - val_accuracy: 0.0000e+00\n",
            "Epoch 50/50\n",
            "63/63 [==============================] - 0s 7ms/step - loss: 3.1615e-04 - accuracy: 0.0016 - val_loss: 2.9992e-04 - val_accuracy: 0.0000e+00\n"
          ],
          "name": "stdout"
        }
      ]
    },
    {
      "cell_type": "code",
      "metadata": {
        "id": "wwqBkvHiDaMX",
        "colab": {
          "base_uri": "https://localhost:8080/",
          "height": 312
        },
        "outputId": "ab8188d9-24ba-44b5-9f9e-e25d10ec8f19"
      },
      "source": [
        "# Plot history: MAE\n",
        "plt.plot(history['loss'][1:], label='Loss training')\n",
        "plt.plot(history['val_loss'][1:], label='Loss validation')\n",
        "\n",
        "plt.title('Loss per iteration')\n",
        "plt.ylabel('MAE value')\n",
        "plt.xlabel('No. epoch')\n",
        "plt.legend(loc=\"upper left\")"
      ],
      "execution_count": 12,
      "outputs": [
        {
          "output_type": "execute_result",
          "data": {
            "text/plain": [
              "<matplotlib.legend.Legend at 0x7f7f3f77d490>"
            ]
          },
          "metadata": {
            "tags": []
          },
          "execution_count": 12
        },
        {
          "output_type": "display_data",
          "data": {
            "image/png": "[encoded data removed]",
            "text/plain": [
              "<Figure size 432x288 with 1 Axes>"
            ]
          },
          "metadata": {
            "tags": [],
            "needs_background": "light"
          }
        }
      ]
    },
    {
      "cell_type": "markdown",
      "metadata": {
        "id": "zyn0Vsrvmk8w"
      },
      "source": [
        "# Predict"
      ]
    },
    {
      "cell_type": "code",
      "metadata": {
        "colab": {
          "base_uri": "https://localhost:8080/"
        },
        "id": "sPP79EBtu6V7",
        "outputId": "8ca37177-0c28-4270-a2ad-01bfbafc7963"
      },
      "source": [
        "train_ts.shape"
      ],
      "execution_count": 13,
      "outputs": [
        {
          "output_type": "execute_result",
          "data": {
            "text/plain": [
              "(2242, 1)"
            ]
          },
          "metadata": {
            "tags": []
          },
          "execution_count": 13
        }
      ]
    },
    {
      "cell_type": "code",
      "metadata": {
        "colab": {
          "base_uri": "https://localhost:8080/",
          "height": 265
        },
        "id": "aNM-cc1MmlUV",
        "outputId": "29437c34-abec-47af-8251-53640cb57868"
      },
      "source": [
        "test = pd.concat([train_ts[-n_steps:], test_ts]) \n",
        "predictions = model.predict(test)\n",
        "predictions = predictions.reshape(predictions.shape[0])\n",
        "predictions_ts = pd.Series(data=predictions, index=test_ts.index)\n",
        "\n",
        "train_plot_df = train_ts[-100:]\n",
        "# Plot\n",
        "fig, ax = plt.subplots(figsize=(9, 4))\n",
        "train_plot_df.plot(ax=ax, label='train')\n",
        "test_ts.plot(ax=ax, label='test')\n",
        "predictions_ts.plot(ax=ax, label='predicciones')\n",
        "ax.legend();"
      ],
      "execution_count": 14,
      "outputs": [
        {
          "output_type": "display_data",
          "data": {
            "image/png": "[encoded data removed]",
            "text/plain": [
              "<Figure size 648x288 with 1 Axes>"
            ]
          },
          "metadata": {
            "tags": [],
            "needs_background": "light"
          }
        }
      ]
    },
    {
      "cell_type": "markdown",
      "metadata": {
        "id": "abKyDwVcIWyA"
      },
      "source": [
        "# Evaluate"
      ]
    },
    {
      "cell_type": "code",
      "metadata": {
        "id": "3eTI39t3IVpP"
      },
      "source": [
        "import seaborn as sns\n",
        "from sklearn.metrics import mean_squared_error\n",
        "\n",
        "def build_prediction_dataframe(training_ts, predictions_ts):\n",
        "  last_training_predictions = [training_ts.tail(1), predictions_ts]\n",
        "  last_training_predictions_ts = pd.concat(last_training_predictions)\n",
        "  last_training_predictions_df = last_training_predictions_ts.reset_index()\n",
        "  print(last_training_predictions_df.head())\n",
        "  last_training_predictions_df['positive_delta'] = last_training_predictions_df.apply(lambda row: row.name > 0 and last_training_predictions_df.loc[row.name-1, :]['close'] < row['close'], axis=1)\n",
        "  print(last_training_predictions_df.head())\n",
        "  predictions_df = last_training_predictions_df.iloc[1: , :][['positive_delta']]\n",
        "  return predictions_df\n",
        "\n",
        "def add_row_confusion_matrix(list_of_cm, df_row):\n",
        "  row = 0\n",
        "  column = 0\n",
        "  if df_row.positive_delta_predict:\n",
        "    column = 1\n",
        "  if df_row.positive_delta_actual:\n",
        "    row = 1\n",
        "  list_of_cm[df_row.name-1][row, column] += 1\n",
        "  return list_of_cm\n",
        "\n",
        "def evaluate(model, ts, n_evaluations=10, n_test=3, n_steps=1, n_epochs=100, batch_size=16):\n",
        "  total_hits = 0\n",
        "  total_tries = 0\n",
        "  confusion_matrix = [np.zeros((2,2)), np.zeros((2,2)), np.zeros((2,2))]\n",
        "  train_evaluate = ts[:-n_evaluations*n_test]\n",
        "  last_training = train_evaluate[-n_steps:]\n",
        "  print('Iteration 1 started')\n",
        "  model.train(train_evaluate, n_epochs, batch_size)\n",
        "\n",
        "  for i in reversed(range(1, n_evaluations + 1)):\n",
        "    test_evaluate = ts[-n_test*i:]\n",
        "    test_evaluate = test_evaluate[:n_test]\n",
        "    predictions = model.predict(last_training)\n",
        "    predictions = predictions.reshape(predictions.shape[1])\n",
        "    predictions_ts = pd.DataFrame({'close': predictions}, test_evaluate.index)\n",
        "\n",
        "    predictions_df = build_prediction_dataframe(train_evaluate, predictions_ts)\n",
        "    predictions_df.rename(columns={'positive_delta': 'positive_delta_predict'}, inplace=True)\n",
        "\n",
        "    test_df = build_prediction_dataframe(train_evaluate, test_evaluate)\n",
        "    test_df.rename(columns={'positive_delta': 'positive_delta_actual'}, inplace=True)\n",
        "\n",
        "    predictions_and_test = pd.concat([test_df, predictions_df], axis=1)\n",
        "    predictions_and_test['equal'] = predictions_and_test.apply(lambda row: row['positive_delta_actual'] == row['positive_delta_predict'], axis=1)\n",
        "    predictions_and_test.apply(lambda row: add_row_confusion_matrix(confusion_matrix, row), axis=1)\n",
        "\n",
        "    hits = predictions_and_test['equal'].sum()\n",
        "    print('Accuracy: {}/{}'.format(hits, predictions_and_test.shape[0]))\n",
        "    total_hits += hits\n",
        "    total_tries += predictions_and_test.shape[0]\n",
        "\n",
        "    print('Iteration {} started'.format(i))\n",
        "    new_train = pd.concat([last_training, test_evaluate])\n",
        "    model.train(new_train, epochs=1, batch_size=len(new_train), validation_split=0)\n",
        "    last_training = new_train[-n_steps:]\n",
        "\n",
        "  print('Total hits: {}. Total tries: {}. Accuracy: {:0.2f}'.format(total_hits, total_tries, total_hits / total_tries))\n",
        "  \n",
        "  return confusion_matrix"
      ],
      "execution_count": 15,
      "outputs": []
    },
    {
      "cell_type": "code",
      "metadata": {
        "colab": {
          "base_uri": "https://localhost:8080/"
        },
        "id": "At4wX_e5IfnM",
        "outputId": "71493b6d-4906-479d-aaa6-14bf89f4bbbf"
      },
      "source": [
        "iter_evaluation = 10\n",
        "n_test_iteration = 3\n",
        "epochs = 50\n",
        "n_steps = 7\n",
        "n_outputs = 3\n",
        "\n",
        "model_evaluate = ConvLSTM(n_neurons=50, n_steps=n_steps, n_outputs=n_outputs)\n",
        "confusion_matrix = evaluate(model_evaluate,ts=stocks_close, n_evaluations=iter_evaluation, n_test=n_test_iteration, n_steps=n_steps, n_epochs=epochs)"
      ],
      "execution_count": 16,
      "outputs": [
        {
          "output_type": "stream",
          "text": [
            "Model: \"sequential_1\"\n",
            "_________________________________________________________________\n",
            "Layer (type)                 Output Shape              Param #   \n",
            "=================================================================\n",
            "conv_lst_m2d_1 (ConvLSTM2D)  (None, 1, 6, 64)          33536     \n",
            "_________________________________________________________________\n",
            "flatten_1 (Flatten)          (None, 384)               0         \n",
            "_________________________________________________________________\n",
            "dense_1 (Dense)              (None, 3)                 1155      \n",
            "=================================================================\n",
            "Total params: 34,691\n",
            "Trainable params: 34,691\n",
            "Non-trainable params: 0\n",
            "_________________________________________________________________\n",
            "None\n",
            "Iteration 1 started\n",
            "Epoch 1/50\n",
            "138/138 [==============================] - 6s 12ms/step - loss: 0.0041 - accuracy: 0.3634 - val_loss: 0.0079 - val_accuracy: 0.2642\n",
            "Epoch 2/50\n",
            "138/138 [==============================] - 1s 5ms/step - loss: 9.7507e-05 - accuracy: 0.3463 - val_loss: 0.0069 - val_accuracy: 0.3537\n",
            "Epoch 3/50\n",
            "138/138 [==============================] - 1s 6ms/step - loss: 7.3953e-05 - accuracy: 0.3819 - val_loss: 0.0062 - val_accuracy: 0.3699\n",
            "Epoch 4/50\n",
            "138/138 [==============================] - 1s 6ms/step - loss: 8.9957e-05 - accuracy: 0.3814 - val_loss: 0.0060 - val_accuracy: 0.4228\n",
            "Epoch 5/50\n",
            "138/138 [==============================] - 1s 5ms/step - loss: 9.0778e-05 - accuracy: 0.3292 - val_loss: 0.0071 - val_accuracy: 0.3293\n",
            "Epoch 6/50\n",
            "138/138 [==============================] - 1s 5ms/step - loss: 8.7999e-05 - accuracy: 0.3636 - val_loss: 0.0074 - val_accuracy: 0.3171\n",
            "Epoch 7/50\n",
            "138/138 [==============================] - 1s 6ms/step - loss: 6.9237e-05 - accuracy: 0.3295 - val_loss: 0.0070 - val_accuracy: 0.2724\n",
            "Epoch 8/50\n",
            "138/138 [==============================] - 1s 5ms/step - loss: 7.1848e-05 - accuracy: 0.3553 - val_loss: 0.0086 - val_accuracy: 0.3415\n",
            "Epoch 9/50\n",
            "138/138 [==============================] - 1s 6ms/step - loss: 7.3117e-05 - accuracy: 0.3462 - val_loss: 0.0069 - val_accuracy: 0.2602\n",
            "Epoch 10/50\n",
            "138/138 [==============================] - 1s 5ms/step - loss: 7.2901e-05 - accuracy: 0.3431 - val_loss: 0.0077 - val_accuracy: 0.3008\n",
            "Epoch 11/50\n",
            "138/138 [==============================] - 1s 5ms/step - loss: 8.8865e-05 - accuracy: 0.3557 - val_loss: 0.0078 - val_accuracy: 0.2724\n",
            "Epoch 12/50\n",
            "138/138 [==============================] - 1s 5ms/step - loss: 8.1740e-05 - accuracy: 0.3614 - val_loss: 0.0055 - val_accuracy: 0.2764\n",
            "Epoch 13/50\n",
            "138/138 [==============================] - 1s 6ms/step - loss: 7.0384e-05 - accuracy: 0.3592 - val_loss: 0.0067 - val_accuracy: 0.3008\n",
            "Epoch 14/50\n",
            "138/138 [==============================] - 1s 6ms/step - loss: 8.7601e-05 - accuracy: 0.3528 - val_loss: 0.0056 - val_accuracy: 0.3008\n",
            "Epoch 15/50\n",
            "138/138 [==============================] - 1s 5ms/step - loss: 6.7436e-05 - accuracy: 0.3748 - val_loss: 0.0060 - val_accuracy: 0.3008\n",
            "Epoch 16/50\n",
            "138/138 [==============================] - 1s 5ms/step - loss: 7.0755e-05 - accuracy: 0.3858 - val_loss: 0.0051 - val_accuracy: 0.2683\n",
            "Epoch 17/50\n",
            "138/138 [==============================] - 1s 5ms/step - loss: 6.5399e-05 - accuracy: 0.3443 - val_loss: 0.0051 - val_accuracy: 0.2886\n",
            "Epoch 18/50\n",
            "138/138 [==============================] - 1s 6ms/step - loss: 6.2216e-05 - accuracy: 0.3595 - val_loss: 0.0047 - val_accuracy: 0.3008\n",
            "Epoch 19/50\n",
            "138/138 [==============================] - 1s 5ms/step - loss: 5.7975e-05 - accuracy: 0.3289 - val_loss: 0.0049 - val_accuracy: 0.3008\n",
            "Epoch 20/50\n",
            "138/138 [==============================] - 1s 5ms/step - loss: 7.8983e-05 - accuracy: 0.3529 - val_loss: 0.0053 - val_accuracy: 0.3008\n",
            "Epoch 21/50\n",
            "138/138 [==============================] - 1s 5ms/step - loss: 6.8049e-05 - accuracy: 0.3334 - val_loss: 0.0045 - val_accuracy: 0.3008\n",
            "Epoch 22/50\n",
            "138/138 [==============================] - 1s 6ms/step - loss: 5.8397e-05 - accuracy: 0.3781 - val_loss: 0.0046 - val_accuracy: 0.3008\n",
            "Epoch 23/50\n",
            "138/138 [==============================] - 1s 5ms/step - loss: 5.4529e-05 - accuracy: 0.3166 - val_loss: 0.0048 - val_accuracy: 0.3008\n",
            "Epoch 24/50\n",
            "138/138 [==============================] - 1s 5ms/step - loss: 5.9288e-05 - accuracy: 0.3527 - val_loss: 0.0049 - val_accuracy: 0.3008\n",
            "Epoch 25/50\n",
            "138/138 [==============================] - 1s 6ms/step - loss: 5.0594e-05 - accuracy: 0.3839 - val_loss: 0.0040 - val_accuracy: 0.3008\n",
            "Epoch 26/50\n",
            "138/138 [==============================] - 1s 5ms/step - loss: 7.2438e-05 - accuracy: 0.3243 - val_loss: 0.0036 - val_accuracy: 0.3089\n",
            "Epoch 27/50\n",
            "138/138 [==============================] - 1s 6ms/step - loss: 5.7444e-05 - accuracy: 0.3636 - val_loss: 0.0037 - val_accuracy: 0.3130\n",
            "Epoch 28/50\n",
            "138/138 [==============================] - 1s 5ms/step - loss: 5.5039e-05 - accuracy: 0.3759 - val_loss: 0.0047 - val_accuracy: 0.3049\n",
            "Epoch 29/50\n",
            "138/138 [==============================] - 1s 6ms/step - loss: 5.1243e-05 - accuracy: 0.3599 - val_loss: 0.0026 - val_accuracy: 0.2967\n",
            "Epoch 30/50\n",
            "138/138 [==============================] - 1s 5ms/step - loss: 6.8849e-05 - accuracy: 0.3571 - val_loss: 0.0034 - val_accuracy: 0.3008\n",
            "Epoch 31/50\n",
            "138/138 [==============================] - 1s 5ms/step - loss: 5.3697e-05 - accuracy: 0.3363 - val_loss: 0.0026 - val_accuracy: 0.3049\n",
            "Epoch 32/50\n",
            "138/138 [==============================] - 1s 5ms/step - loss: 5.2690e-05 - accuracy: 0.3593 - val_loss: 0.0028 - val_accuracy: 0.3049\n",
            "Epoch 33/50\n",
            "138/138 [==============================] - 1s 6ms/step - loss: 4.7798e-05 - accuracy: 0.3780 - val_loss: 0.0054 - val_accuracy: 0.3211\n",
            "Epoch 34/50\n",
            "138/138 [==============================] - 1s 5ms/step - loss: 6.1714e-05 - accuracy: 0.3430 - val_loss: 0.0034 - val_accuracy: 0.2927\n",
            "Epoch 35/50\n",
            "138/138 [==============================] - 1s 5ms/step - loss: 5.1424e-05 - accuracy: 0.3495 - val_loss: 0.0040 - val_accuracy: 0.3008\n",
            "Epoch 36/50\n",
            "138/138 [==============================] - 1s 6ms/step - loss: 5.5282e-05 - accuracy: 0.3413 - val_loss: 0.0025 - val_accuracy: 0.3293\n",
            "Epoch 37/50\n",
            "138/138 [==============================] - 1s 5ms/step - loss: 4.9783e-05 - accuracy: 0.3424 - val_loss: 0.0046 - val_accuracy: 0.3008\n",
            "Epoch 38/50\n",
            "138/138 [==============================] - 1s 6ms/step - loss: 5.0902e-05 - accuracy: 0.3719 - val_loss: 0.0030 - val_accuracy: 0.3008\n",
            "Epoch 39/50\n",
            "138/138 [==============================] - 1s 5ms/step - loss: 5.1659e-05 - accuracy: 0.3421 - val_loss: 0.0033 - val_accuracy: 0.3008\n",
            "Epoch 40/50\n",
            "138/138 [==============================] - 1s 5ms/step - loss: 5.4913e-05 - accuracy: 0.3557 - val_loss: 0.0028 - val_accuracy: 0.3211\n",
            "Epoch 41/50\n",
            "138/138 [==============================] - 1s 5ms/step - loss: 4.6903e-05 - accuracy: 0.3382 - val_loss: 0.0028 - val_accuracy: 0.3252\n",
            "Epoch 42/50\n",
            "138/138 [==============================] - 1s 6ms/step - loss: 5.0259e-05 - accuracy: 0.3509 - val_loss: 0.0029 - val_accuracy: 0.3008\n",
            "Epoch 43/50\n",
            "138/138 [==============================] - 1s 5ms/step - loss: 5.1953e-05 - accuracy: 0.3617 - val_loss: 0.0033 - val_accuracy: 0.3008\n",
            "Epoch 44/50\n",
            "138/138 [==============================] - 1s 5ms/step - loss: 5.2358e-05 - accuracy: 0.3504 - val_loss: 0.0029 - val_accuracy: 0.3374\n",
            "Epoch 45/50\n",
            "138/138 [==============================] - 1s 5ms/step - loss: 4.8923e-05 - accuracy: 0.3549 - val_loss: 0.0027 - val_accuracy: 0.3008\n",
            "Epoch 46/50\n",
            "138/138 [==============================] - 1s 6ms/step - loss: 5.1509e-05 - accuracy: 0.3566 - val_loss: 0.0043 - val_accuracy: 0.3008\n",
            "Epoch 47/50\n",
            "138/138 [==============================] - 1s 5ms/step - loss: 4.6812e-05 - accuracy: 0.3857 - val_loss: 0.0026 - val_accuracy: 0.3089\n",
            "Epoch 48/50\n",
            "138/138 [==============================] - 1s 5ms/step - loss: 5.7070e-05 - accuracy: 0.3461 - val_loss: 0.0027 - val_accuracy: 0.2967\n",
            "Epoch 49/50\n",
            "138/138 [==============================] - 1s 5ms/step - loss: 4.7040e-05 - accuracy: 0.3780 - val_loss: 0.0031 - val_accuracy: 0.3008\n",
            "Epoch 50/50\n",
            "138/138 [==============================] - 1s 5ms/step - loss: 4.2455e-05 - accuracy: 0.3799 - val_loss: 0.0026 - val_accuracy: 0.3008\n",
            "   index         close\n",
            "0   2460  35552.515625\n",
            "1   2461  35387.707031\n",
            "2   2462  34565.414062\n",
            "3   2463  34157.156250\n",
            "   index         close  positive_delta\n",
            "0   2460  35552.515625           False\n",
            "1   2461  35387.707031           False\n",
            "2   2462  34565.414062           False\n",
            "3   2463  34157.156250           False\n",
            "   index         close\n",
            "0   2460  35552.515625\n",
            "1   2461  39097.859375\n",
            "2   2462  40218.476563\n",
            "3   2463  40406.269531\n",
            "   index         close  positive_delta\n",
            "0   2460  35552.515625           False\n",
            "1   2461  39097.859375            True\n",
            "2   2462  40218.476563            True\n",
            "3   2463  40406.269531            True\n",
            "Accuracy: 0/3\n",
            "Iteration 10 started\n",
            "1/1 [==============================] - 0s 7ms/step - loss: 0.2405 - accuracy: 0.0000e+00\n",
            "   index         close\n",
            "0   2460  35552.515625\n",
            "1   2464  41189.953125\n",
            "2   2465  40859.765625\n",
            "3   2466  40883.070312\n",
            "   index         close  positive_delta\n",
            "0   2460  35552.515625           False\n",
            "1   2464  41189.953125            True\n",
            "2   2465  40859.765625           False\n",
            "3   2466  40883.070312            True\n",
            "   index         close\n",
            "0   2460  35552.515625\n",
            "1   2464  38347.062500\n",
            "2   2465  38053.503906\n",
            "3   2466  35787.246094\n",
            "   index         close  positive_delta\n",
            "0   2460  35552.515625           False\n",
            "1   2464  38347.062500            True\n",
            "2   2465  38053.503906           False\n",
            "3   2466  35787.246094           False\n",
            "Accuracy: 2/3\n",
            "Iteration 9 started\n",
            "1/1 [==============================] - 0s 8ms/step - loss: 0.5421 - accuracy: 1.0000\n",
            "   index         close\n",
            "0   2460  35552.515625\n",
            "1   2467  36824.296875\n",
            "2   2468  36847.371094\n",
            "3   2469  36782.164062\n",
            "   index         close  positive_delta\n",
            "0   2460  35552.515625           False\n",
            "1   2467  36824.296875            True\n",
            "2   2468  36847.371094            True\n",
            "3   2469  36782.164062           False\n",
            "   index         close\n",
            "0   2460  35552.515625\n",
            "1   2467  35615.871094\n",
            "2   2468  35698.296875\n",
            "3   2469  31676.693359\n",
            "   index         close  positive_delta\n",
            "0   2460  35552.515625           False\n",
            "1   2467  35615.871094            True\n",
            "2   2468  35698.296875            True\n",
            "3   2469  31676.693359           False\n",
            "Accuracy: 3/3\n",
            "Iteration 8 started\n",
            "1/1 [==============================] - 0s 10ms/step - loss: 0.1129 - accuracy: 0.0000e+00\n",
            "   index         close\n",
            "0   2460  35552.515625\n",
            "1   2470  32928.441406\n",
            "2   2471  32868.523438\n",
            "3   2472  32754.970703\n",
            "   index         close  positive_delta\n",
            "0   2460  35552.515625           False\n",
            "1   2470  32928.441406           False\n",
            "2   2471  32868.523438           False\n",
            "3   2472  32754.970703           False\n",
            "   index         close\n",
            "0   2460  35552.515625\n",
            "1   2470  32505.660156\n",
            "2   2471  33723.027344\n",
            "3   2472  34662.437500\n",
            "   index         close  positive_delta\n",
            "0   2460  35552.515625           False\n",
            "1   2470  32505.660156           False\n",
            "2   2471  33723.027344            True\n",
            "3   2472  34662.437500            True\n",
            "Accuracy: 1/3\n",
            "Iteration 7 started\n",
            "1/1 [==============================] - 0s 9ms/step - loss: 0.0199 - accuracy: 0.0000e+00\n",
            "   index         close\n",
            "0   2460  35552.515625\n",
            "1   2473  33557.875000\n",
            "2   2474  33409.261719\n",
            "3   2475  33286.031250\n",
            "   index         close  positive_delta\n",
            "0   2460  35552.515625           False\n",
            "1   2473  33557.875000           False\n",
            "2   2474  33409.261719           False\n",
            "3   2475  33286.031250           False\n",
            "   index         close\n",
            "0   2460  35552.515625\n",
            "1   2473  31637.779297\n",
            "2   2474  32186.277344\n",
            "3   2475  34649.644531\n",
            "   index         close  positive_delta\n",
            "0   2460  35552.515625           False\n",
            "1   2473  31637.779297           False\n",
            "2   2474  32186.277344            True\n",
            "3   2475  34649.644531            True\n",
            "Accuracy: 1/3\n",
            "Iteration 6 started\n",
            "1/1 [==============================] - 0s 9ms/step - loss: 0.1290 - accuracy: 0.0000e+00\n",
            "   index         close\n",
            "0   2460  35552.515625\n",
            "1   2476  33141.960938\n",
            "2   2477  33272.964844\n",
            "3   2478  33030.449219\n",
            "   index         close  positive_delta\n",
            "0   2460  35552.515625           False\n",
            "1   2476  33141.960938           False\n",
            "2   2477  33272.964844            True\n",
            "3   2478  33030.449219           False\n",
            "   index         close\n",
            "0   2460  35552.515625\n",
            "1   2476  34434.335938\n",
            "2   2477  35867.777344\n",
            "3   2478  35040.835938\n",
            "   index         close  positive_delta\n",
            "0   2460  35552.515625           False\n",
            "1   2476  34434.335938           False\n",
            "2   2477  35867.777344            True\n",
            "3   2478  35040.835938           False\n",
            "Accuracy: 3/3\n",
            "Iteration 5 started\n",
            "1/1 [==============================] - 0s 6ms/step - loss: 0.2321 - accuracy: 1.0000\n",
            "   index         close\n",
            "0   2460  35552.515625\n",
            "1   2479  35135.414062\n",
            "2   2480  35404.191406\n",
            "3   2481  35032.222656\n",
            "   index         close  positive_delta\n",
            "0   2460  35552.515625           False\n",
            "1   2479  35135.414062           False\n",
            "2   2480  35404.191406            True\n",
            "3   2481  35032.222656           False\n",
            "   index         close\n",
            "0   2460  35552.515625\n",
            "1   2479  33572.117188\n",
            "2   2480  33897.046875\n",
            "3   2481  34668.546875\n",
            "   index         close  positive_delta\n",
            "0   2460  35552.515625           False\n",
            "1   2479  33572.117188           False\n",
            "2   2480  33897.046875            True\n",
            "3   2481  34668.546875            True\n",
            "Accuracy: 2/3\n",
            "Iteration 4 started\n",
            "1/1 [==============================] - 0s 8ms/step - loss: 0.0903 - accuracy: 0.0000e+00\n",
            "   index         close\n",
            "0   2460  35552.515625\n",
            "1   2482  33311.320312\n",
            "2   2483  33590.554688\n",
            "3   2484  33427.812500\n",
            "   index         close  positive_delta\n",
            "0   2460  35552.515625           False\n",
            "1   2482  33311.320312           False\n",
            "2   2483  33590.554688            True\n",
            "3   2484  33427.812500           False\n",
            "   index         close\n",
            "0   2460  35552.515625\n",
            "1   2482  35287.781250\n",
            "2   2483  33746.003906\n",
            "3   2484  34235.195313\n",
            "   index         close  positive_delta\n",
            "0   2460  35552.515625           False\n",
            "1   2482  35287.781250           False\n",
            "2   2483  33746.003906           False\n",
            "3   2484  34235.195313            True\n",
            "Accuracy: 1/3\n",
            "Iteration 3 started\n",
            "1/1 [==============================] - 0s 8ms/step - loss: 0.1324 - accuracy: 0.0000e+00\n",
            "   index         close\n",
            "0   2460  35552.515625\n",
            "1   2485  33984.988281\n",
            "2   2486  34107.058594\n",
            "3   2487  34071.242188\n",
            "   index         close  positive_delta\n",
            "0   2460  35552.515625           False\n",
            "1   2485  33984.988281           False\n",
            "2   2486  34107.058594            True\n",
            "3   2487  34071.242188           False\n",
            "   index         close\n",
            "0   2460  35552.515625\n",
            "1   2485  33855.328125\n",
            "2   2486  32877.371094\n",
            "3   2487  33798.011719\n",
            "   index         close  positive_delta\n",
            "0   2460  35552.515625           False\n",
            "1   2485  33855.328125           False\n",
            "2   2486  32877.371094           False\n",
            "3   2487  33798.011719            True\n",
            "Accuracy: 1/3\n",
            "Iteration 2 started\n",
            "1/1 [==============================] - 0s 11ms/step - loss: 0.0635 - accuracy: 0.0000e+00\n",
            "   index         close\n",
            "0   2460  35552.515625\n",
            "1   2488  32950.312500\n",
            "2   2489  32999.664062\n",
            "3   2490  33101.761719\n",
            "   index         close  positive_delta\n",
            "0   2460  35552.515625           False\n",
            "1   2488  32950.312500           False\n",
            "2   2489  32999.664062            True\n",
            "3   2490  33101.761719            True\n",
            "   index         close\n",
            "0   2460  35552.515625\n",
            "1   2488  33520.519531\n",
            "2   2489  34240.187500\n",
            "3   2490  33155.847656\n",
            "   index         close  positive_delta\n",
            "0   2460  35552.515625           False\n",
            "1   2488  33520.519531           False\n",
            "2   2489  34240.187500            True\n",
            "3   2490  33155.847656           False\n",
            "Accuracy: 2/3\n",
            "Iteration 1 started\n",
            "1/1 [==============================] - 0s 8ms/step - loss: 0.1071 - accuracy: 0.0000e+00\n",
            "Total hits: 16. Total tries: 30. Accuracy: 0.53\n"
          ],
          "name": "stdout"
        }
      ]
    },
    {
      "cell_type": "code",
      "metadata": {
        "id": "6ERcbycGPXT0"
      },
      "source": [
        "def plot_confusion_matrix(confusion_matrix):\n",
        "  fig, axs = plt.subplots(2, 2)\n",
        "  fig.supxlabel('Predicted')\n",
        "  fig.supylabel('Actual')\n",
        "  for i in range(0, len(confusion_matrix)):\n",
        "    ax = axs[int(i/2), i%2]\n",
        "    ax.title.set_text('Index {}'.format(i+1))\n",
        "    sns.heatmap(data=confusion_matrix[i], annot=True, cbar=False, ax=ax)\n",
        "  sum_cm = sum(confusion_matrix)\n",
        "  axs[1,1].title.set_text('Total')\n",
        "  sns.heatmap(data=sum_cm, annot=True, cbar=False, ax=axs[1,1])"
      ],
      "execution_count": 17,
      "outputs": []
    },
    {
      "cell_type": "code",
      "metadata": {
        "colab": {
          "base_uri": "https://localhost:8080/",
          "height": 297
        },
        "id": "CDhPpyHyPYuQ",
        "outputId": "d6043121-c531-4a5c-d7b3-b682ac294167"
      },
      "source": [
        "plot_confusion_matrix(confusion_matrix)"
      ],
      "execution_count": 18,
      "outputs": [
        {
          "output_type": "display_data",
          "data": {
            "image/png": "[encoded data removed]",
            "text/plain": [
              "<Figure size 432x288 with 4 Axes>"
            ]
          },
          "metadata": {
            "tags": [],
            "needs_background": "light"
          }
        }
      ]
    },
    {
      "cell_type": "code",
      "metadata": {
        "id": "0Sr8JRhCFmY3"
      },
      "source": [
        "model_evaluate.save_model()"
      ],
      "execution_count": 19,
      "outputs": []
    }
  ]
}