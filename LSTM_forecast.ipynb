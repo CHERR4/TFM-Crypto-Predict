{
  "nbformat": 4,
  "nbformat_minor": 0,
  "metadata": {
    "colab": {
      "name": "LSTM_forecast.ipynb",
      "provenance": [],
      "collapsed_sections": []
    },
    "kernelspec": {
      "name": "python3",
      "display_name": "Python 3"
    },
    "language_info": {
      "name": "python"
    }
  },
  "cells": [
    {
      "cell_type": "code",
      "metadata": {
        "colab": {
          "base_uri": "https://localhost:8080/"
        },
        "id": "12M7ZJTx_llM",
        "outputId": "2597fc93-74e2-442f-9c98-7ebb0887f3b8"
      },
      "source": [
        "!pip install git+https://github.com/JoaquinAmatRodrigo/skforecast@v0.1.8.1"
      ],
      "execution_count": 1,
      "outputs": [
        {
          "output_type": "stream",
          "text": [
            "Collecting git+https://github.com/JoaquinAmatRodrigo/skforecast@v0.1.8.1\n",
            "  Cloning https://github.com/JoaquinAmatRodrigo/skforecast (to revision v0.1.8.1) to /tmp/pip-req-build-k06mw0_t\n",
            "  Running command git clone -q https://github.com/JoaquinAmatRodrigo/skforecast /tmp/pip-req-build-k06mw0_t\n",
            "  Running command git checkout -q e9f125fec47e13a6ba768bf9e5c362815e84d767\n"
          ],
          "name": "stdout"
        }
      ]
    },
    {
      "cell_type": "code",
      "metadata": {
        "colab": {
          "base_uri": "https://localhost:8080/"
        },
        "id": "P6IWJYCE_tFF",
        "outputId": "56dcddc8-aae7-4547-f403-af755661003f"
      },
      "source": [
        "!pip install -U scikit-learn"
      ],
      "execution_count": 2,
      "outputs": [
        {
          "output_type": "stream",
          "text": [
            "Requirement already satisfied: scikit-learn in /usr/local/lib/python3.7/dist-packages (0.24.2)\n",
            "Requirement already satisfied: scipy>=0.19.1 in /usr/local/lib/python3.7/dist-packages (from scikit-learn) (1.4.1)\n",
            "Requirement already satisfied: threadpoolctl>=2.0.0 in /usr/local/lib/python3.7/dist-packages (from scikit-learn) (2.2.0)\n",
            "Requirement already satisfied: joblib>=0.11 in /usr/local/lib/python3.7/dist-packages (from scikit-learn) (1.0.1)\n",
            "Requirement already satisfied: numpy>=1.13.3 in /usr/local/lib/python3.7/dist-packages (from scikit-learn) (1.19.5)\n"
          ],
          "name": "stdout"
        }
      ]
    },
    {
      "cell_type": "code",
      "metadata": {
        "colab": {
          "base_uri": "https://localhost:8080/"
        },
        "id": "VXsornShPmLW",
        "outputId": "d6b4142e-7acd-47a6-8357-f88c3097b1e5"
      },
      "source": [
        "!pip install --upgrade matplotlib"
      ],
      "execution_count": 3,
      "outputs": [
        {
          "output_type": "stream",
          "text": [
            "Requirement already satisfied: matplotlib in /usr/local/lib/python3.7/dist-packages (3.4.2)\n",
            "Requirement already satisfied: cycler>=0.10 in /usr/local/lib/python3.7/dist-packages (from matplotlib) (0.10.0)\n",
            "Requirement already satisfied: kiwisolver>=1.0.1 in /usr/local/lib/python3.7/dist-packages (from matplotlib) (1.3.1)\n",
            "Requirement already satisfied: pillow>=6.2.0 in /usr/local/lib/python3.7/dist-packages (from matplotlib) (7.1.2)\n",
            "Requirement already satisfied: pyparsing>=2.2.1 in /usr/local/lib/python3.7/dist-packages (from matplotlib) (2.4.7)\n",
            "Requirement already satisfied: python-dateutil>=2.7 in /usr/local/lib/python3.7/dist-packages (from matplotlib) (2.8.1)\n",
            "Requirement already satisfied: numpy>=1.16 in /usr/local/lib/python3.7/dist-packages (from matplotlib) (1.19.5)\n",
            "Requirement already satisfied: six in /usr/local/lib/python3.7/dist-packages (from cycler>=0.10->matplotlib) (1.15.0)\n"
          ],
          "name": "stdout"
        }
      ]
    },
    {
      "cell_type": "code",
      "metadata": {
        "id": "NACDLahE-2tC"
      },
      "source": [
        "import pandas as pd\n",
        "import numpy as np\n",
        "import seaborn as sns\n",
        "import matplotlib.pyplot as plt"
      ],
      "execution_count": 4,
      "outputs": []
    },
    {
      "cell_type": "code",
      "metadata": {
        "id": "t7tlI-V89IRs"
      },
      "source": [
        "stocks = pd.read_csv('bitcoinStocks.csv')"
      ],
      "execution_count": 5,
      "outputs": []
    },
    {
      "cell_type": "code",
      "metadata": {
        "colab": {
          "base_uri": "https://localhost:8080/",
          "height": 206
        },
        "id": "M4FOlkU39Ogr",
        "outputId": "3c90250d-f1c1-4432-a26f-994195cd697d"
      },
      "source": [
        "stocks.head()"
      ],
      "execution_count": 6,
      "outputs": [
        {
          "output_type": "execute_result",
          "data": {
            "text/html": [
              "<div>\n",
              "<style scoped>\n",
              "    .dataframe tbody tr th:only-of-type {\n",
              "        vertical-align: middle;\n",
              "    }\n",
              "\n",
              "    .dataframe tbody tr th {\n",
              "        vertical-align: top;\n",
              "    }\n",
              "\n",
              "    .dataframe thead th {\n",
              "        text-align: right;\n",
              "    }\n",
              "</style>\n",
              "<table border=\"1\" class=\"dataframe\">\n",
              "  <thead>\n",
              "    <tr style=\"text-align: right;\">\n",
              "      <th></th>\n",
              "      <th>date</th>\n",
              "      <th>open</th>\n",
              "      <th>high</th>\n",
              "      <th>low</th>\n",
              "      <th>close</th>\n",
              "      <th>volume</th>\n",
              "      <th>go_up</th>\n",
              "    </tr>\n",
              "  </thead>\n",
              "  <tbody>\n",
              "    <tr>\n",
              "      <th>0</th>\n",
              "      <td>2014-09-17</td>\n",
              "      <td>465.864014</td>\n",
              "      <td>468.174011</td>\n",
              "      <td>452.421997</td>\n",
              "      <td>457.334015</td>\n",
              "      <td>21056800.0</td>\n",
              "      <td>False</td>\n",
              "    </tr>\n",
              "    <tr>\n",
              "      <th>1</th>\n",
              "      <td>2014-09-18</td>\n",
              "      <td>456.859985</td>\n",
              "      <td>456.859985</td>\n",
              "      <td>413.104004</td>\n",
              "      <td>424.440002</td>\n",
              "      <td>34483200.0</td>\n",
              "      <td>False</td>\n",
              "    </tr>\n",
              "    <tr>\n",
              "      <th>2</th>\n",
              "      <td>2014-09-19</td>\n",
              "      <td>424.102997</td>\n",
              "      <td>427.834991</td>\n",
              "      <td>384.532013</td>\n",
              "      <td>394.795990</td>\n",
              "      <td>37919700.0</td>\n",
              "      <td>False</td>\n",
              "    </tr>\n",
              "    <tr>\n",
              "      <th>3</th>\n",
              "      <td>2014-09-20</td>\n",
              "      <td>394.673004</td>\n",
              "      <td>423.295990</td>\n",
              "      <td>389.882996</td>\n",
              "      <td>408.903992</td>\n",
              "      <td>36863600.0</td>\n",
              "      <td>True</td>\n",
              "    </tr>\n",
              "    <tr>\n",
              "      <th>4</th>\n",
              "      <td>2014-09-21</td>\n",
              "      <td>408.084991</td>\n",
              "      <td>412.425995</td>\n",
              "      <td>393.181000</td>\n",
              "      <td>398.821014</td>\n",
              "      <td>26580100.0</td>\n",
              "      <td>False</td>\n",
              "    </tr>\n",
              "  </tbody>\n",
              "</table>\n",
              "</div>"
            ],
            "text/plain": [
              "         date        open        high  ...       close      volume  go_up\n",
              "0  2014-09-17  465.864014  468.174011  ...  457.334015  21056800.0  False\n",
              "1  2014-09-18  456.859985  456.859985  ...  424.440002  34483200.0  False\n",
              "2  2014-09-19  424.102997  427.834991  ...  394.795990  37919700.0  False\n",
              "3  2014-09-20  394.673004  423.295990  ...  408.903992  36863600.0   True\n",
              "4  2014-09-21  408.084991  412.425995  ...  398.821014  26580100.0  False\n",
              "\n",
              "[5 rows x 7 columns]"
            ]
          },
          "metadata": {
            "tags": []
          },
          "execution_count": 6
        }
      ]
    },
    {
      "cell_type": "markdown",
      "metadata": {
        "id": "02ttg9n5A8Ot"
      },
      "source": [
        "# Feature selection"
      ]
    },
    {
      "cell_type": "code",
      "metadata": {
        "colab": {
          "base_uri": "https://localhost:8080/",
          "height": 206
        },
        "id": "qThemKw1BAuU",
        "outputId": "a2577ae5-41c7-45cd-a4fa-c915811b71ea"
      },
      "source": [
        "stocks_close = stocks.close\n",
        "stocks_close = stocks_close.to_frame()\n",
        "stocks_close.head()"
      ],
      "execution_count": 7,
      "outputs": [
        {
          "output_type": "execute_result",
          "data": {
            "text/html": [
              "<div>\n",
              "<style scoped>\n",
              "    .dataframe tbody tr th:only-of-type {\n",
              "        vertical-align: middle;\n",
              "    }\n",
              "\n",
              "    .dataframe tbody tr th {\n",
              "        vertical-align: top;\n",
              "    }\n",
              "\n",
              "    .dataframe thead th {\n",
              "        text-align: right;\n",
              "    }\n",
              "</style>\n",
              "<table border=\"1\" class=\"dataframe\">\n",
              "  <thead>\n",
              "    <tr style=\"text-align: right;\">\n",
              "      <th></th>\n",
              "      <th>close</th>\n",
              "    </tr>\n",
              "  </thead>\n",
              "  <tbody>\n",
              "    <tr>\n",
              "      <th>0</th>\n",
              "      <td>457.334015</td>\n",
              "    </tr>\n",
              "    <tr>\n",
              "      <th>1</th>\n",
              "      <td>424.440002</td>\n",
              "    </tr>\n",
              "    <tr>\n",
              "      <th>2</th>\n",
              "      <td>394.795990</td>\n",
              "    </tr>\n",
              "    <tr>\n",
              "      <th>3</th>\n",
              "      <td>408.903992</td>\n",
              "    </tr>\n",
              "    <tr>\n",
              "      <th>4</th>\n",
              "      <td>398.821014</td>\n",
              "    </tr>\n",
              "  </tbody>\n",
              "</table>\n",
              "</div>"
            ],
            "text/plain": [
              "        close\n",
              "0  457.334015\n",
              "1  424.440002\n",
              "2  394.795990\n",
              "3  408.903992\n",
              "4  398.821014"
            ]
          },
          "metadata": {
            "tags": []
          },
          "execution_count": 7
        }
      ]
    },
    {
      "cell_type": "markdown",
      "metadata": {
        "id": "rv4ZrDGy-Spg"
      },
      "source": [
        "# Train / Test"
      ]
    },
    {
      "cell_type": "code",
      "metadata": {
        "colab": {
          "base_uri": "https://localhost:8080/"
        },
        "id": "dT3fu0u4-PWs",
        "outputId": "b46d9d6a-4e56-40d6-c939-b9b9c72d8413"
      },
      "source": [
        "test = 0.1\n",
        "train_ts = stocks_close[:int(-len(stocks_close)*test)]\n",
        "train_ts.shape"
      ],
      "execution_count": 8,
      "outputs": [
        {
          "output_type": "execute_result",
          "data": {
            "text/plain": [
              "(2242, 1)"
            ]
          },
          "metadata": {
            "tags": []
          },
          "execution_count": 8
        }
      ]
    },
    {
      "cell_type": "code",
      "metadata": {
        "colab": {
          "base_uri": "https://localhost:8080/"
        },
        "id": "22LNKrhK-a20",
        "outputId": "cd7c20b0-4dc8-4134-e066-6c9373139c21"
      },
      "source": [
        "test_ts = stocks_close[int(-len(stocks_close)*test):]\n",
        "test_ts.shape"
      ],
      "execution_count": 9,
      "outputs": [
        {
          "output_type": "execute_result",
          "data": {
            "text/plain": [
              "(249, 1)"
            ]
          },
          "metadata": {
            "tags": []
          },
          "execution_count": 9
        }
      ]
    },
    {
      "cell_type": "code",
      "metadata": {
        "colab": {
          "base_uri": "https://localhost:8080/"
        },
        "id": "H2GOiswW_YU9",
        "outputId": "c7d36698-b0f6-4543-caeb-d797a9a00ed0"
      },
      "source": [
        "# from sklearn.metrics import mean_absolute_percentage_error\n",
        "from AutoRegForecaster import AutoRegForecaster\n",
        "from VanillaLSTM import VanillaLSTM\n",
        "from StackedLSTM import StackedLSTM\n",
        "from BidirectionalLSTM import BidirectionalLSTM\n",
        "\n",
        "epochs = 200\n",
        "batch_size = 32\n",
        "n_steps = 7\n",
        "n_outputs = 1\n",
        "\n",
        "model = VanillaLSTM(n_neurons=10, n_steps=n_steps, n_outputs=n_outputs)\n",
        "\n",
        "history = model.train(train_ts, epochs=50, batch_size=batch_size)"
      ],
      "execution_count": 31,
      "outputs": [
        {
          "output_type": "stream",
          "text": [
            "Model: \"sequential_10\"\n",
            "_________________________________________________________________\n",
            "Layer (type)                 Output Shape              Param #   \n",
            "=================================================================\n",
            "lstm_10 (LSTM)               (None, 10)                480       \n",
            "_________________________________________________________________\n",
            "dense_10 (Dense)             (None, 1)                 11        \n",
            "=================================================================\n",
            "Total params: 491\n",
            "Trainable params: 491\n",
            "Non-trainable params: 0\n",
            "_________________________________________________________________\n",
            "None\n",
            "Epoch 1/50\n",
            "63/63 [==============================] - 3s 14ms/step - loss: 0.0531 - accuracy: 1.9249e-04 - val_loss: 0.0624 - val_accuracy: 0.0000e+00\n",
            "Epoch 2/50\n",
            "63/63 [==============================] - 0s 5ms/step - loss: 0.0173 - accuracy: 0.0020 - val_loss: 0.0058 - val_accuracy: 0.0000e+00\n",
            "Epoch 3/50\n",
            "63/63 [==============================] - 0s 4ms/step - loss: 0.0023 - accuracy: 7.6478e-04 - val_loss: 6.4460e-04 - val_accuracy: 0.0000e+00\n",
            "Epoch 4/50\n",
            "63/63 [==============================] - 0s 5ms/step - loss: 0.0010 - accuracy: 8.2853e-04 - val_loss: 5.5156e-04 - val_accuracy: 0.0000e+00\n",
            "Epoch 5/50\n",
            "63/63 [==============================] - 0s 5ms/step - loss: 8.7594e-04 - accuracy: 0.0025 - val_loss: 8.6366e-04 - val_accuracy: 0.0000e+00\n",
            "Epoch 6/50\n",
            "63/63 [==============================] - 0s 5ms/step - loss: 7.7083e-04 - accuracy: 0.0010 - val_loss: 7.2302e-04 - val_accuracy: 0.0000e+00\n",
            "Epoch 7/50\n",
            "63/63 [==============================] - 0s 4ms/step - loss: 8.0138e-04 - accuracy: 0.0010 - val_loss: 8.1366e-04 - val_accuracy: 0.0000e+00\n",
            "Epoch 8/50\n",
            "63/63 [==============================] - 0s 4ms/step - loss: 5.8335e-04 - accuracy: 0.0020 - val_loss: 7.8915e-04 - val_accuracy: 0.0000e+00\n",
            "Epoch 9/50\n",
            "63/63 [==============================] - 0s 5ms/step - loss: 6.4837e-04 - accuracy: 7.4903e-04 - val_loss: 7.4209e-04 - val_accuracy: 0.0000e+00\n",
            "Epoch 10/50\n",
            "63/63 [==============================] - 0s 4ms/step - loss: 7.6825e-04 - accuracy: 8.3342e-04 - val_loss: 5.6264e-04 - val_accuracy: 0.0000e+00\n",
            "Epoch 11/50\n",
            "63/63 [==============================] - 0s 5ms/step - loss: 6.4387e-04 - accuracy: 0.0018 - val_loss: 7.1577e-04 - val_accuracy: 0.0000e+00\n",
            "Epoch 12/50\n",
            "63/63 [==============================] - 0s 4ms/step - loss: 6.6658e-04 - accuracy: 8.4847e-04 - val_loss: 6.1889e-04 - val_accuracy: 0.0000e+00\n",
            "Epoch 13/50\n",
            "63/63 [==============================] - 0s 4ms/step - loss: 7.7122e-04 - accuracy: 0.0020 - val_loss: 7.5132e-04 - val_accuracy: 0.0000e+00\n",
            "Epoch 14/50\n",
            "63/63 [==============================] - 0s 5ms/step - loss: 6.4319e-04 - accuracy: 0.0016 - val_loss: 7.1466e-04 - val_accuracy: 0.0000e+00\n",
            "Epoch 15/50\n",
            "63/63 [==============================] - 0s 5ms/step - loss: 6.5909e-04 - accuracy: 3.1079e-04 - val_loss: 8.0925e-04 - val_accuracy: 0.0000e+00\n",
            "Epoch 16/50\n",
            "63/63 [==============================] - 0s 5ms/step - loss: 7.2771e-04 - accuracy: 4.3836e-04 - val_loss: 5.2087e-04 - val_accuracy: 0.0000e+00\n",
            "Epoch 17/50\n",
            "63/63 [==============================] - 0s 5ms/step - loss: 6.7709e-04 - accuracy: 3.2908e-04 - val_loss: 6.2595e-04 - val_accuracy: 0.0000e+00\n",
            "Epoch 18/50\n",
            "63/63 [==============================] - 0s 4ms/step - loss: 6.2483e-04 - accuracy: 0.0018 - val_loss: 6.2644e-04 - val_accuracy: 0.0000e+00\n",
            "Epoch 19/50\n",
            "63/63 [==============================] - 0s 5ms/step - loss: 5.5792e-04 - accuracy: 3.8925e-04 - val_loss: 5.5865e-04 - val_accuracy: 0.0000e+00\n",
            "Epoch 20/50\n",
            "63/63 [==============================] - 0s 4ms/step - loss: 6.6632e-04 - accuracy: 1.7079e-04 - val_loss: 5.7973e-04 - val_accuracy: 0.0000e+00\n",
            "Epoch 21/50\n",
            "63/63 [==============================] - 0s 4ms/step - loss: 5.0693e-04 - accuracy: 0.0019 - val_loss: 4.6039e-04 - val_accuracy: 0.0000e+00\n",
            "Epoch 22/50\n",
            "63/63 [==============================] - 0s 4ms/step - loss: 6.0714e-04 - accuracy: 0.0015 - val_loss: 6.7392e-04 - val_accuracy: 0.0000e+00\n",
            "Epoch 23/50\n",
            "63/63 [==============================] - 0s 5ms/step - loss: 6.0866e-04 - accuracy: 1.9948e-04 - val_loss: 4.6089e-04 - val_accuracy: 0.0000e+00\n",
            "Epoch 24/50\n",
            "63/63 [==============================] - 0s 4ms/step - loss: 6.8637e-04 - accuracy: 6.0501e-04 - val_loss: 4.7672e-04 - val_accuracy: 0.0000e+00\n",
            "Epoch 25/50\n",
            "63/63 [==============================] - 0s 5ms/step - loss: 4.9151e-04 - accuracy: 5.3638e-04 - val_loss: 4.9665e-04 - val_accuracy: 0.0000e+00\n",
            "Epoch 26/50\n",
            "63/63 [==============================] - 0s 5ms/step - loss: 5.0071e-04 - accuracy: 9.9109e-04 - val_loss: 4.9462e-04 - val_accuracy: 0.0000e+00\n",
            "Epoch 27/50\n",
            "63/63 [==============================] - 0s 5ms/step - loss: 4.5174e-04 - accuracy: 2.3526e-04 - val_loss: 5.3160e-04 - val_accuracy: 0.0000e+00\n",
            "Epoch 28/50\n",
            "63/63 [==============================] - 0s 5ms/step - loss: 5.3693e-04 - accuracy: 9.5989e-04 - val_loss: 5.9462e-04 - val_accuracy: 0.0000e+00\n",
            "Epoch 29/50\n",
            "63/63 [==============================] - 0s 5ms/step - loss: 5.1069e-04 - accuracy: 0.0012 - val_loss: 4.2104e-04 - val_accuracy: 0.0000e+00\n",
            "Epoch 30/50\n",
            "63/63 [==============================] - 0s 5ms/step - loss: 4.1874e-04 - accuracy: 7.4014e-04 - val_loss: 7.9725e-04 - val_accuracy: 0.0000e+00\n",
            "Epoch 31/50\n",
            "63/63 [==============================] - 0s 5ms/step - loss: 5.9856e-04 - accuracy: 0.0012 - val_loss: 5.0536e-04 - val_accuracy: 0.0000e+00\n",
            "Epoch 32/50\n",
            "63/63 [==============================] - 0s 5ms/step - loss: 5.5956e-04 - accuracy: 0.0010 - val_loss: 4.3836e-04 - val_accuracy: 0.0000e+00\n",
            "Epoch 33/50\n",
            "63/63 [==============================] - 0s 5ms/step - loss: 4.7538e-04 - accuracy: 5.5392e-04 - val_loss: 3.8665e-04 - val_accuracy: 0.0000e+00\n",
            "Epoch 34/50\n",
            "63/63 [==============================] - 0s 5ms/step - loss: 5.3654e-04 - accuracy: 0.0015 - val_loss: 6.0867e-04 - val_accuracy: 0.0000e+00\n",
            "Epoch 35/50\n",
            "63/63 [==============================] - 0s 4ms/step - loss: 6.1655e-04 - accuracy: 4.0244e-04 - val_loss: 4.9633e-04 - val_accuracy: 0.0000e+00\n",
            "Epoch 36/50\n",
            "63/63 [==============================] - 0s 4ms/step - loss: 3.9202e-04 - accuracy: 6.7474e-04 - val_loss: 4.3318e-04 - val_accuracy: 0.0000e+00\n",
            "Epoch 37/50\n",
            "63/63 [==============================] - 0s 5ms/step - loss: 4.3150e-04 - accuracy: 7.6647e-04 - val_loss: 3.6820e-04 - val_accuracy: 0.0000e+00\n",
            "Epoch 38/50\n",
            "63/63 [==============================] - 0s 4ms/step - loss: 4.1082e-04 - accuracy: 4.6226e-04 - val_loss: 3.6256e-04 - val_accuracy: 0.0000e+00\n",
            "Epoch 39/50\n",
            "63/63 [==============================] - 0s 5ms/step - loss: 3.9946e-04 - accuracy: 3.9239e-04 - val_loss: 3.5308e-04 - val_accuracy: 0.0000e+00\n",
            "Epoch 40/50\n",
            "63/63 [==============================] - 0s 5ms/step - loss: 5.4187e-04 - accuracy: 7.0536e-04 - val_loss: 3.4488e-04 - val_accuracy: 0.0000e+00\n",
            "Epoch 41/50\n",
            "63/63 [==============================] - 0s 5ms/step - loss: 4.5198e-04 - accuracy: 5.9818e-04 - val_loss: 3.2574e-04 - val_accuracy: 0.0000e+00\n",
            "Epoch 42/50\n",
            "63/63 [==============================] - 0s 4ms/step - loss: 6.1668e-04 - accuracy: 5.4257e-04 - val_loss: 3.3087e-04 - val_accuracy: 0.0000e+00\n",
            "Epoch 43/50\n",
            "63/63 [==============================] - 0s 5ms/step - loss: 3.7758e-04 - accuracy: 8.9938e-04 - val_loss: 3.6905e-04 - val_accuracy: 0.0000e+00\n",
            "Epoch 44/50\n",
            "63/63 [==============================] - 0s 4ms/step - loss: 3.7952e-04 - accuracy: 3.5242e-04 - val_loss: 3.0883e-04 - val_accuracy: 0.0000e+00\n",
            "Epoch 45/50\n",
            "63/63 [==============================] - 0s 4ms/step - loss: 3.7717e-04 - accuracy: 4.4781e-04 - val_loss: 3.1980e-04 - val_accuracy: 0.0000e+00\n",
            "Epoch 46/50\n",
            "63/63 [==============================] - 0s 5ms/step - loss: 4.9462e-04 - accuracy: 5.8322e-04 - val_loss: 3.8807e-04 - val_accuracy: 0.0000e+00\n",
            "Epoch 47/50\n",
            "63/63 [==============================] - 0s 5ms/step - loss: 4.1987e-04 - accuracy: 0.0018 - val_loss: 3.1336e-04 - val_accuracy: 0.0000e+00\n",
            "Epoch 48/50\n",
            "63/63 [==============================] - 0s 5ms/step - loss: 4.7128e-04 - accuracy: 7.4040e-04 - val_loss: 4.5267e-04 - val_accuracy: 0.0000e+00\n",
            "Epoch 49/50\n",
            "63/63 [==============================] - 0s 6ms/step - loss: 3.5011e-04 - accuracy: 2.9145e-04 - val_loss: 3.1469e-04 - val_accuracy: 0.0000e+00\n",
            "Epoch 50/50\n",
            "63/63 [==============================] - 0s 4ms/step - loss: 3.6814e-04 - accuracy: 0.0013 - val_loss: 3.2418e-04 - val_accuracy: 0.0000e+00\n"
          ],
          "name": "stdout"
        }
      ]
    },
    {
      "cell_type": "code",
      "metadata": {
        "id": "wwqBkvHiDaMX",
        "colab": {
          "base_uri": "https://localhost:8080/",
          "height": 312
        },
        "outputId": "160dd150-7386-4adb-d135-7275172d8ae9"
      },
      "source": [
        "# Plot history: MAE\n",
        "plt.plot(history['loss'][1:], label='Loss training')\n",
        "plt.plot(history['val_loss'][1:], label='Loss validation')\n",
        "\n",
        "plt.title('Loss per iteration')\n",
        "plt.ylabel('MAE value')\n",
        "plt.xlabel('No. epoch')\n",
        "plt.legend(loc=\"upper left\")"
      ],
      "execution_count": 40,
      "outputs": [
        {
          "output_type": "execute_result",
          "data": {
            "text/plain": [
              "<matplotlib.legend.Legend at 0x7fd6b5ac1510>"
            ]
          },
          "metadata": {
            "tags": []
          },
          "execution_count": 40
        },
        {
          "output_type": "display_data",
          "data": {
            "image/png": "[encoded data removed]",
            "text/plain": [
              "<Figure size 432x288 with 1 Axes>"
            ]
          },
          "metadata": {
            "tags": [],
            "needs_background": "light"
          }
        }
      ]
    },
    {
      "cell_type": "markdown",
      "metadata": {
        "id": "zyn0Vsrvmk8w"
      },
      "source": [
        "# Predict"
      ]
    },
    {
      "cell_type": "code",
      "metadata": {
        "colab": {
          "base_uri": "https://localhost:8080/"
        },
        "id": "sPP79EBtu6V7",
        "outputId": "82a3028e-72ae-4cc8-c3da-b9931baeedb8"
      },
      "source": [
        "train_ts.shape"
      ],
      "execution_count": 12,
      "outputs": [
        {
          "output_type": "execute_result",
          "data": {
            "text/plain": [
              "(2242, 1)"
            ]
          },
          "metadata": {
            "tags": []
          },
          "execution_count": 12
        }
      ]
    },
    {
      "cell_type": "code",
      "metadata": {
        "colab": {
          "base_uri": "https://localhost:8080/",
          "height": 282
        },
        "id": "aNM-cc1MmlUV",
        "outputId": "f79a5cf8-19b3-4118-ee14-68c8718f4fd5"
      },
      "source": [
        "test = pd.concat([train_ts[-n_steps:], test_ts]) \n",
        "predictions = model.predict(test)\n",
        "print(predictions.shape)\n",
        "predictions = predictions.reshape(predictions.shape[0])\n",
        "predictions_ts = pd.Series(data=predictions, index=test_ts.index)\n",
        "\n",
        "train_plot_df = train_ts[-100:]\n",
        "# Plot\n",
        "fig, ax = plt.subplots(figsize=(9, 4))\n",
        "train_plot_df.plot(ax=ax, label='train')\n",
        "test_ts.plot(ax=ax, label='test')\n",
        "predictions_ts.plot(ax=ax, label='predicciones')\n",
        "ax.legend();"
      ],
      "execution_count": 41,
      "outputs": [
        {
          "output_type": "stream",
          "text": [
            "(249, 1)\n"
          ],
          "name": "stdout"
        },
        {
          "output_type": "display_data",
          "data": {
            "image/png": "[encoded data removed]",
            "text/plain": [
              "<Figure size 648x288 with 1 Axes>"
            ]
          },
          "metadata": {
            "tags": [],
            "needs_background": "light"
          }
        }
      ]
    },
    {
      "cell_type": "markdown",
      "metadata": {
        "id": "abKyDwVcIWyA"
      },
      "source": [
        "# Evaluate"
      ]
    },
    {
      "cell_type": "code",
      "metadata": {
        "id": "3eTI39t3IVpP"
      },
      "source": [
        "import seaborn as sns\n",
        "from sklearn.metrics import mean_squared_error\n",
        "\n",
        "def build_prediction_dataframe(training_ts, predictions_ts):\n",
        "  last_training_predictions = [training_ts.tail(1), predictions_ts]\n",
        "  last_training_predictions_ts = pd.concat(last_training_predictions)\n",
        "  last_training_predictions_df = last_training_predictions_ts.reset_index()\n",
        "  print(last_training_predictions_df.head())\n",
        "  last_training_predictions_df['positive_delta'] = last_training_predictions_df.apply(lambda row: row.name > 0 and last_training_predictions_df.loc[row.name-1, :]['close'] < row['close'], axis=1)\n",
        "  print(last_training_predictions_df.head())\n",
        "  predictions_df = last_training_predictions_df.iloc[1: , :][['positive_delta']]\n",
        "  return predictions_df\n",
        "\n",
        "def add_row_confusion_matrix(list_of_cm, df_row):\n",
        "  row = 0\n",
        "  column = 0\n",
        "  if df_row.positive_delta_predict:\n",
        "    column = 1\n",
        "  if df_row.positive_delta_actual:\n",
        "    row = 1\n",
        "  list_of_cm[df_row.name-1][row, column] += 1\n",
        "  return list_of_cm\n",
        "\n",
        "def evaluate(model, ts, n_evaluations=10, n_test=3, n_steps=1, n_epochs=100, batch_size=16):\n",
        "  total_hits = 0\n",
        "  total_tries = 0\n",
        "  confusion_matrix = [np.zeros((2,2)), np.zeros((2,2)), np.zeros((2,2))]\n",
        "  train_evaluate = ts[:-n_evaluations*n_test]\n",
        "  last_training = train_evaluate[-n_steps:]\n",
        "  print('Iteration 1 started')\n",
        "  model.train(train_evaluate, n_epochs, batch_size)\n",
        "\n",
        "  for i in reversed(range(1, n_evaluations + 1)):\n",
        "    test_evaluate = ts[-n_test*i:]\n",
        "    test_evaluate = test_evaluate[:n_test]\n",
        "    predictions = model.predict(last_training)\n",
        "    predictions = predictions.reshape(predictions.shape[1])\n",
        "    predictions_ts = pd.DataFrame({'close': predictions}, test_evaluate.index)\n",
        "\n",
        "    predictions_df = build_prediction_dataframe(train_evaluate, predictions_ts)\n",
        "    predictions_df.rename(columns={'positive_delta': 'positive_delta_predict'}, inplace=True)\n",
        "\n",
        "    test_df = build_prediction_dataframe(train_evaluate, test_evaluate)\n",
        "    test_df.rename(columns={'positive_delta': 'positive_delta_actual'}, inplace=True)\n",
        "\n",
        "    predictions_and_test = pd.concat([test_df, predictions_df], axis=1)\n",
        "    predictions_and_test['equal'] = predictions_and_test.apply(lambda row: row['positive_delta_actual'] == row['positive_delta_predict'], axis=1)\n",
        "    predictions_and_test.apply(lambda row: add_row_confusion_matrix(confusion_matrix, row), axis=1)\n",
        "\n",
        "    hits = predictions_and_test['equal'].sum()\n",
        "    print('Accuracy: {}/{}'.format(hits, predictions_and_test.shape[0]))\n",
        "    total_hits += hits\n",
        "    total_tries += predictions_and_test.shape[0]\n",
        "\n",
        "    print('Iteration {} started'.format(i))\n",
        "    new_train = pd.concat([last_training, test_evaluate])\n",
        "    model.train(new_train, epochs=1, batch_size=len(new_train), validation_split=0)\n",
        "    last_training = new_train[-n_steps:]\n",
        "\n",
        "  print('Total hits: {}. Total tries: {}. Accuracy: {:0.2f}'.format(total_hits, total_tries, total_hits / total_tries))\n",
        "  \n",
        "  return confusion_matrix"
      ],
      "execution_count": 46,
      "outputs": []
    },
    {
      "cell_type": "code",
      "metadata": {
        "colab": {
          "base_uri": "https://localhost:8080/"
        },
        "id": "At4wX_e5IfnM",
        "outputId": "eac3ef06-70df-4665-e054-ca2c46f25853"
      },
      "source": [
        "iter_evaluation = 10\n",
        "n_test_iteration = 3\n",
        "epochs = 50\n",
        "n_steps = 7\n",
        "n_outputs = 3\n",
        "\n",
        "model_evaluate = VanillaLSTM(n_neurons=50, n_steps=n_steps, n_outputs=n_outputs)\n",
        "confusion_matrix = evaluate(model_evaluate,ts=stocks_close, n_evaluations=iter_evaluation, n_test=n_test_iteration, n_steps=n_steps, n_epochs=epochs)"
      ],
      "execution_count": 51,
      "outputs": [
        {
          "output_type": "stream",
          "text": [
            "Model: \"sequential_16\"\n",
            "_________________________________________________________________\n",
            "Layer (type)                 Output Shape              Param #   \n",
            "=================================================================\n",
            "lstm_16 (LSTM)               (None, 50)                10400     \n",
            "_________________________________________________________________\n",
            "dense_16 (Dense)             (None, 3)                 153       \n",
            "=================================================================\n",
            "Total params: 10,553\n",
            "Trainable params: 10,553\n",
            "Non-trainable params: 0\n",
            "_________________________________________________________________\n",
            "None\n",
            "Iteration 1 started\n",
            "Epoch 1/50\n",
            "138/138 [==============================] - 4s 10ms/step - loss: 0.0030 - accuracy: 0.3268 - val_loss: 0.0158 - val_accuracy: 0.4228\n",
            "Epoch 2/50\n",
            "138/138 [==============================] - 1s 5ms/step - loss: 9.1110e-05 - accuracy: 0.3515 - val_loss: 0.0156 - val_accuracy: 0.3740\n",
            "Epoch 3/50\n",
            "138/138 [==============================] - 1s 5ms/step - loss: 7.9426e-05 - accuracy: 0.3475 - val_loss: 0.0144 - val_accuracy: 0.3415\n",
            "Epoch 4/50\n",
            "138/138 [==============================] - 1s 5ms/step - loss: 7.8329e-05 - accuracy: 0.3540 - val_loss: 0.0084 - val_accuracy: 0.3740\n",
            "Epoch 5/50\n",
            "138/138 [==============================] - 1s 5ms/step - loss: 9.1259e-05 - accuracy: 0.3246 - val_loss: 0.0132 - val_accuracy: 0.3455\n",
            "Epoch 6/50\n",
            "138/138 [==============================] - 1s 5ms/step - loss: 8.9949e-05 - accuracy: 0.3340 - val_loss: 0.0104 - val_accuracy: 0.3374\n",
            "Epoch 7/50\n",
            "138/138 [==============================] - 1s 5ms/step - loss: 9.1415e-05 - accuracy: 0.3337 - val_loss: 0.0089 - val_accuracy: 0.3211\n",
            "Epoch 8/50\n",
            "138/138 [==============================] - 1s 5ms/step - loss: 8.7459e-05 - accuracy: 0.3430 - val_loss: 0.0070 - val_accuracy: 0.3618\n",
            "Epoch 9/50\n",
            "138/138 [==============================] - 1s 5ms/step - loss: 8.3170e-05 - accuracy: 0.3431 - val_loss: 0.0076 - val_accuracy: 0.3252\n",
            "Epoch 10/50\n",
            "138/138 [==============================] - 1s 5ms/step - loss: 7.3330e-05 - accuracy: 0.3371 - val_loss: 0.0118 - val_accuracy: 0.3008\n",
            "Epoch 11/50\n",
            "138/138 [==============================] - 1s 5ms/step - loss: 6.9456e-05 - accuracy: 0.3444 - val_loss: 0.0097 - val_accuracy: 0.3008\n",
            "Epoch 12/50\n",
            "138/138 [==============================] - 1s 6ms/step - loss: 7.2037e-05 - accuracy: 0.3733 - val_loss: 0.0072 - val_accuracy: 0.3008\n",
            "Epoch 13/50\n",
            "138/138 [==============================] - 1s 5ms/step - loss: 7.5063e-05 - accuracy: 0.3628 - val_loss: 0.0067 - val_accuracy: 0.3577\n",
            "Epoch 14/50\n",
            "138/138 [==============================] - 1s 5ms/step - loss: 7.3823e-05 - accuracy: 0.3554 - val_loss: 0.0046 - val_accuracy: 0.2927\n",
            "Epoch 15/50\n",
            "138/138 [==============================] - 1s 5ms/step - loss: 7.2940e-05 - accuracy: 0.3328 - val_loss: 0.0059 - val_accuracy: 0.3008\n",
            "Epoch 16/50\n",
            "138/138 [==============================] - 1s 6ms/step - loss: 7.2568e-05 - accuracy: 0.3584 - val_loss: 0.0062 - val_accuracy: 0.3008\n",
            "Epoch 17/50\n",
            "138/138 [==============================] - 1s 5ms/step - loss: 7.3197e-05 - accuracy: 0.3145 - val_loss: 0.0053 - val_accuracy: 0.3049\n",
            "Epoch 18/50\n",
            "138/138 [==============================] - 1s 5ms/step - loss: 6.8571e-05 - accuracy: 0.3340 - val_loss: 0.0043 - val_accuracy: 0.2967\n",
            "Epoch 19/50\n",
            "138/138 [==============================] - 1s 5ms/step - loss: 6.4176e-05 - accuracy: 0.3447 - val_loss: 0.0045 - val_accuracy: 0.3008\n",
            "Epoch 20/50\n",
            "138/138 [==============================] - 1s 5ms/step - loss: 7.7191e-05 - accuracy: 0.3271 - val_loss: 0.0044 - val_accuracy: 0.3049\n",
            "Epoch 21/50\n",
            "138/138 [==============================] - 1s 5ms/step - loss: 7.7623e-05 - accuracy: 0.3565 - val_loss: 0.0040 - val_accuracy: 0.2967\n",
            "Epoch 22/50\n",
            "138/138 [==============================] - 1s 5ms/step - loss: 7.6430e-05 - accuracy: 0.3656 - val_loss: 0.0039 - val_accuracy: 0.3008\n",
            "Epoch 23/50\n",
            "138/138 [==============================] - 1s 5ms/step - loss: 6.1694e-05 - accuracy: 0.3307 - val_loss: 0.0041 - val_accuracy: 0.3902\n",
            "Epoch 24/50\n",
            "138/138 [==============================] - 1s 5ms/step - loss: 6.5691e-05 - accuracy: 0.3295 - val_loss: 0.0038 - val_accuracy: 0.3618\n",
            "Epoch 25/50\n",
            "138/138 [==============================] - 1s 6ms/step - loss: 6.1232e-05 - accuracy: 0.3479 - val_loss: 0.0038 - val_accuracy: 0.3008\n",
            "Epoch 26/50\n",
            "138/138 [==============================] - 1s 5ms/step - loss: 6.5198e-05 - accuracy: 0.3464 - val_loss: 0.0039 - val_accuracy: 0.3008\n",
            "Epoch 27/50\n",
            "138/138 [==============================] - 1s 5ms/step - loss: 5.7911e-05 - accuracy: 0.3348 - val_loss: 0.0037 - val_accuracy: 0.3008\n",
            "Epoch 28/50\n",
            "138/138 [==============================] - 1s 6ms/step - loss: 5.4567e-05 - accuracy: 0.3368 - val_loss: 0.0036 - val_accuracy: 0.3293\n",
            "Epoch 29/50\n",
            "138/138 [==============================] - 1s 5ms/step - loss: 5.3407e-05 - accuracy: 0.3555 - val_loss: 0.0037 - val_accuracy: 0.3008\n",
            "Epoch 30/50\n",
            "138/138 [==============================] - 1s 5ms/step - loss: 6.5076e-05 - accuracy: 0.3241 - val_loss: 0.0033 - val_accuracy: 0.3455\n",
            "Epoch 31/50\n",
            "138/138 [==============================] - 1s 5ms/step - loss: 5.9050e-05 - accuracy: 0.3393 - val_loss: 0.0032 - val_accuracy: 0.3374\n",
            "Epoch 32/50\n",
            "138/138 [==============================] - 1s 5ms/step - loss: 5.2804e-05 - accuracy: 0.3325 - val_loss: 0.0033 - val_accuracy: 0.3008\n",
            "Epoch 33/50\n",
            "138/138 [==============================] - 1s 5ms/step - loss: 4.9904e-05 - accuracy: 0.3386 - val_loss: 0.0032 - val_accuracy: 0.3008\n",
            "Epoch 34/50\n",
            "138/138 [==============================] - 1s 5ms/step - loss: 6.5531e-05 - accuracy: 0.3504 - val_loss: 0.0027 - val_accuracy: 0.3455\n",
            "Epoch 35/50\n",
            "138/138 [==============================] - 1s 5ms/step - loss: 5.2800e-05 - accuracy: 0.3514 - val_loss: 0.0026 - val_accuracy: 0.3252\n",
            "Epoch 36/50\n",
            "138/138 [==============================] - 1s 5ms/step - loss: 5.0521e-05 - accuracy: 0.3339 - val_loss: 0.0027 - val_accuracy: 0.3049\n",
            "Epoch 37/50\n",
            "138/138 [==============================] - 1s 5ms/step - loss: 4.2044e-05 - accuracy: 0.3600 - val_loss: 0.0028 - val_accuracy: 0.3008\n",
            "Epoch 38/50\n",
            "138/138 [==============================] - 1s 5ms/step - loss: 5.1686e-05 - accuracy: 0.3827 - val_loss: 0.0027 - val_accuracy: 0.3089\n",
            "Epoch 39/50\n",
            "138/138 [==============================] - 1s 6ms/step - loss: 6.1856e-05 - accuracy: 0.3252 - val_loss: 0.0030 - val_accuracy: 0.3089\n",
            "Epoch 40/50\n",
            "138/138 [==============================] - 1s 5ms/step - loss: 4.6564e-05 - accuracy: 0.3395 - val_loss: 0.0031 - val_accuracy: 0.3049\n",
            "Epoch 41/50\n",
            "138/138 [==============================] - 1s 6ms/step - loss: 4.1958e-05 - accuracy: 0.3109 - val_loss: 0.0029 - val_accuracy: 0.3008\n",
            "Epoch 42/50\n",
            "138/138 [==============================] - 1s 6ms/step - loss: 4.9227e-05 - accuracy: 0.3505 - val_loss: 0.0027 - val_accuracy: 0.3008\n",
            "Epoch 43/50\n",
            "138/138 [==============================] - 1s 5ms/step - loss: 5.5789e-05 - accuracy: 0.3484 - val_loss: 0.0022 - val_accuracy: 0.3659\n",
            "Epoch 44/50\n",
            "138/138 [==============================] - 1s 5ms/step - loss: 5.2049e-05 - accuracy: 0.3359 - val_loss: 0.0023 - val_accuracy: 0.3333\n",
            "Epoch 45/50\n",
            "138/138 [==============================] - 1s 5ms/step - loss: 4.3759e-05 - accuracy: 0.3710 - val_loss: 0.0029 - val_accuracy: 0.2967\n",
            "Epoch 46/50\n",
            "138/138 [==============================] - 1s 5ms/step - loss: 4.4245e-05 - accuracy: 0.3553 - val_loss: 0.0026 - val_accuracy: 0.2764\n",
            "Epoch 47/50\n",
            "138/138 [==============================] - 1s 5ms/step - loss: 4.9287e-05 - accuracy: 0.3649 - val_loss: 0.0043 - val_accuracy: 0.3008\n",
            "Epoch 48/50\n",
            "138/138 [==============================] - 1s 5ms/step - loss: 4.9313e-05 - accuracy: 0.3498 - val_loss: 0.0030 - val_accuracy: 0.2886\n",
            "Epoch 49/50\n",
            "138/138 [==============================] - 1s 5ms/step - loss: 5.5690e-05 - accuracy: 0.3618 - val_loss: 0.0030 - val_accuracy: 0.2886\n",
            "Epoch 50/50\n",
            "138/138 [==============================] - 1s 5ms/step - loss: 4.3688e-05 - accuracy: 0.3588 - val_loss: 0.0033 - val_accuracy: 0.3008\n",
            "   index         close\n",
            "0   2460  35552.515625\n",
            "1   2461  35657.664062\n",
            "2   2462  35039.468750\n",
            "3   2463  33080.488281\n",
            "   index         close  positive_delta\n",
            "0   2460  35552.515625           False\n",
            "1   2461  35657.664062            True\n",
            "2   2462  35039.468750           False\n",
            "3   2463  33080.488281           False\n",
            "   index         close\n",
            "0   2460  35552.515625\n",
            "1   2461  39097.859375\n",
            "2   2462  40218.476563\n",
            "3   2463  40406.269531\n",
            "   index         close  positive_delta\n",
            "0   2460  35552.515625           False\n",
            "1   2461  39097.859375            True\n",
            "2   2462  40218.476563            True\n",
            "3   2463  40406.269531            True\n",
            "Accuracy: 1/3\n",
            "Iteration 10 started\n",
            "1/1 [==============================] - 0s 6ms/step - loss: 0.4241 - accuracy: 0.0000e+00\n",
            "   index         close\n",
            "0   2460  35552.515625\n",
            "1   2464  40361.207031\n",
            "2   2465  39929.546875\n",
            "3   2466  39666.757812\n",
            "   index         close  positive_delta\n",
            "0   2460  35552.515625           False\n",
            "1   2464  40361.207031            True\n",
            "2   2465  39929.546875           False\n",
            "3   2466  39666.757812           False\n",
            "   index         close\n",
            "0   2460  35552.515625\n",
            "1   2464  38347.062500\n",
            "2   2465  38053.503906\n",
            "3   2466  35787.246094\n",
            "   index         close  positive_delta\n",
            "0   2460  35552.515625           False\n",
            "1   2464  38347.062500            True\n",
            "2   2465  38053.503906           False\n",
            "3   2466  35787.246094           False\n",
            "Accuracy: 3/3\n",
            "Iteration 9 started\n",
            "1/1 [==============================] - 0s 6ms/step - loss: 0.2173 - accuracy: 1.0000\n",
            "   index         close\n",
            "0   2460  35552.515625\n",
            "1   2467  36116.195312\n",
            "2   2468  36049.925781\n",
            "3   2469  35891.593750\n",
            "   index         close  positive_delta\n",
            "0   2460  35552.515625           False\n",
            "1   2467  36116.195312            True\n",
            "2   2468  36049.925781           False\n",
            "3   2469  35891.593750           False\n",
            "   index         close\n",
            "0   2460  35552.515625\n",
            "1   2467  35615.871094\n",
            "2   2468  35698.296875\n",
            "3   2469  31676.693359\n",
            "   index         close  positive_delta\n",
            "0   2460  35552.515625           False\n",
            "1   2467  35615.871094            True\n",
            "2   2468  35698.296875            True\n",
            "3   2469  31676.693359           False\n",
            "Accuracy: 2/3\n",
            "Iteration 8 started\n",
            "1/1 [==============================] - 0s 7ms/step - loss: 0.0658 - accuracy: 1.0000\n",
            "   index         close\n",
            "0   2460  35552.515625\n",
            "1   2470  32536.605469\n",
            "2   2471  32551.699219\n",
            "3   2472  31903.619141\n",
            "   index         close  positive_delta\n",
            "0   2460  35552.515625           False\n",
            "1   2470  32536.605469           False\n",
            "2   2471  32551.699219            True\n",
            "3   2472  31903.619141           False\n",
            "   index         close\n",
            "0   2460  35552.515625\n",
            "1   2470  32505.660156\n",
            "2   2471  33723.027344\n",
            "3   2472  34662.437500\n",
            "   index         close  positive_delta\n",
            "0   2460  35552.515625           False\n",
            "1   2470  32505.660156           False\n",
            "2   2471  33723.027344            True\n",
            "3   2472  34662.437500            True\n",
            "Accuracy: 2/3\n",
            "Iteration 7 started\n",
            "1/1 [==============================] - 0s 7ms/step - loss: 0.0393 - accuracy: 0.0000e+00\n",
            "   index         close\n",
            "0   2460  35552.515625\n",
            "1   2473  33307.925781\n",
            "2   2474  33362.449219\n",
            "3   2475  32971.449219\n",
            "   index         close  positive_delta\n",
            "0   2460  35552.515625           False\n",
            "1   2473  33307.925781           False\n",
            "2   2474  33362.449219            True\n",
            "3   2475  32971.449219           False\n",
            "   index         close\n",
            "0   2460  35552.515625\n",
            "1   2473  31637.779297\n",
            "2   2474  32186.277344\n",
            "3   2475  34649.644531\n",
            "   index         close  positive_delta\n",
            "0   2460  35552.515625           False\n",
            "1   2473  31637.779297           False\n",
            "2   2474  32186.277344            True\n",
            "3   2475  34649.644531            True\n",
            "Accuracy: 2/3\n",
            "Iteration 6 started\n",
            "1/1 [==============================] - 0s 7ms/step - loss: 0.1320 - accuracy: 0.0000e+00\n",
            "   index         close\n",
            "0   2460  35552.515625\n",
            "1   2476  32843.738281\n",
            "2   2477  32765.591797\n",
            "3   2478  32656.259766\n",
            "   index         close  positive_delta\n",
            "0   2460  35552.515625           False\n",
            "1   2476  32843.738281           False\n",
            "2   2477  32765.591797           False\n",
            "3   2478  32656.259766           False\n",
            "   index         close\n",
            "0   2460  35552.515625\n",
            "1   2476  34434.335938\n",
            "2   2477  35867.777344\n",
            "3   2478  35040.835938\n",
            "   index         close  positive_delta\n",
            "0   2460  35552.515625           False\n",
            "1   2476  34434.335938           False\n",
            "2   2477  35867.777344            True\n",
            "3   2478  35040.835938           False\n",
            "Accuracy: 2/3\n",
            "Iteration 5 started\n",
            "1/1 [==============================] - 0s 15ms/step - loss: 0.3315 - accuracy: 0.0000e+00\n",
            "   index         close\n",
            "0   2460  35552.515625\n",
            "1   2479  34640.781250\n",
            "2   2480  34728.980469\n",
            "3   2481  34198.476562\n",
            "   index         close  positive_delta\n",
            "0   2460  35552.515625           False\n",
            "1   2479  34640.781250           False\n",
            "2   2480  34728.980469            True\n",
            "3   2481  34198.476562           False\n",
            "   index         close\n",
            "0   2460  35552.515625\n",
            "1   2479  33572.117188\n",
            "2   2480  33897.046875\n",
            "3   2481  34668.546875\n",
            "   index         close  positive_delta\n",
            "0   2460  35552.515625           False\n",
            "1   2479  33572.117188           False\n",
            "2   2480  33897.046875            True\n",
            "3   2481  34668.546875            True\n",
            "Accuracy: 2/3\n",
            "Iteration 4 started\n",
            "1/1 [==============================] - 0s 7ms/step - loss: 0.0383 - accuracy: 0.0000e+00\n",
            "   index         close\n",
            "0   2460  35552.515625\n",
            "1   2482  33864.289062\n",
            "2   2483  34283.320312\n",
            "3   2484  33657.203125\n",
            "   index         close  positive_delta\n",
            "0   2460  35552.515625           False\n",
            "1   2482  33864.289062           False\n",
            "2   2483  34283.320312            True\n",
            "3   2484  33657.203125           False\n",
            "   index         close\n",
            "0   2460  35552.515625\n",
            "1   2482  35287.781250\n",
            "2   2483  33746.003906\n",
            "3   2484  34235.195313\n",
            "   index         close  positive_delta\n",
            "0   2460  35552.515625           False\n",
            "1   2482  35287.781250           False\n",
            "2   2483  33746.003906           False\n",
            "3   2484  34235.195313            True\n",
            "Accuracy: 1/3\n",
            "Iteration 3 started\n",
            "1/1 [==============================] - 0s 8ms/step - loss: 0.1271 - accuracy: 0.0000e+00\n",
            "   index         close\n",
            "0   2460  35552.515625\n",
            "1   2485  33975.316406\n",
            "2   2486  34060.242188\n",
            "3   2487  33992.222656\n",
            "   index         close  positive_delta\n",
            "0   2460  35552.515625           False\n",
            "1   2485  33975.316406           False\n",
            "2   2486  34060.242188            True\n",
            "3   2487  33992.222656           False\n",
            "   index         close\n",
            "0   2460  35552.515625\n",
            "1   2485  33855.328125\n",
            "2   2486  32877.371094\n",
            "3   2487  33798.011719\n",
            "   index         close  positive_delta\n",
            "0   2460  35552.515625           False\n",
            "1   2485  33855.328125           False\n",
            "2   2486  32877.371094           False\n",
            "3   2487  33798.011719            True\n",
            "Accuracy: 1/3\n",
            "Iteration 2 started\n",
            "1/1 [==============================] - 0s 6ms/step - loss: 0.0774 - accuracy: 0.0000e+00\n",
            "   index         close\n",
            "0   2460  35552.515625\n",
            "1   2488  33299.359375\n",
            "2   2489  33404.023438\n",
            "3   2490  33328.695312\n",
            "   index         close  positive_delta\n",
            "0   2460  35552.515625           False\n",
            "1   2488  33299.359375           False\n",
            "2   2489  33404.023438            True\n",
            "3   2490  33328.695312           False\n",
            "   index         close\n",
            "0   2460  35552.515625\n",
            "1   2488  33520.519531\n",
            "2   2489  34240.187500\n",
            "3   2490  33155.847656\n",
            "   index         close  positive_delta\n",
            "0   2460  35552.515625           False\n",
            "1   2488  33520.519531           False\n",
            "2   2489  34240.187500            True\n",
            "3   2490  33155.847656           False\n",
            "Accuracy: 3/3\n",
            "Iteration 1 started\n",
            "1/1 [==============================] - 0s 7ms/step - loss: 0.0446 - accuracy: 1.0000\n",
            "Total hits: 19. Total tries: 30. Accuracy: 0.63\n"
          ],
          "name": "stdout"
        }
      ]
    },
    {
      "cell_type": "code",
      "metadata": {
        "id": "6ERcbycGPXT0"
      },
      "source": [
        "def plot_confusion_matrix(confusion_matrix):\n",
        "  fig, axs = plt.subplots(2, 2)\n",
        "  fig.supxlabel('Predicted')\n",
        "  fig.supylabel('Actual')\n",
        "  for i in range(0, len(confusion_matrix)):\n",
        "    ax = axs[int(i/2), i%2]\n",
        "    ax.title.set_text('Index {}'.format(i+1))\n",
        "    sns.heatmap(data=confusion_matrix[i], annot=True, cbar=False, ax=ax)\n",
        "  sum_cm = sum(confusion_matrix)\n",
        "  axs[1,1].title.set_text('Total')\n",
        "  sns.heatmap(data=sum_cm, annot=True, cbar=False, ax=axs[1,1])"
      ],
      "execution_count": 52,
      "outputs": []
    },
    {
      "cell_type": "code",
      "metadata": {
        "colab": {
          "base_uri": "https://localhost:8080/",
          "height": 297
        },
        "id": "CDhPpyHyPYuQ",
        "outputId": "0073c60a-dbb3-4b52-bac6-c889e8bfbf03"
      },
      "source": [
        "plot_confusion_matrix(confusion_matrix)"
      ],
      "execution_count": 53,
      "outputs": [
        {
          "output_type": "display_data",
          "data": {
            "image/png": "[encoded data removed]",
            "text/plain": [
              "<Figure size 432x288 with 4 Axes>"
            ]
          },
          "metadata": {
            "tags": [],
            "needs_background": "light"
          }
        }
      ]
    },
    {
      "cell_type": "code",
      "metadata": {
        "id": "0Sr8JRhCFmY3"
      },
      "source": [
        "model_evaluate.save_model()"
      ],
      "execution_count": 54,
      "outputs": []
    }
  ]
}