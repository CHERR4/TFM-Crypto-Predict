{
  "nbformat": 4,
  "nbformat_minor": 0,
  "metadata": {
    "colab": {
      "name": "TFM-Trends-Preparation.ipynb",
      "provenance": [],
      "collapsed_sections": []
    },
    "kernelspec": {
      "name": "python3",
      "display_name": "Python 3"
    },
    "language_info": {
      "name": "python"
    }
  },
  "cells": [
    {
      "cell_type": "code",
      "metadata": {
        "id": "EnXM1DqG_k8Y"
      },
      "source": [
        "import pandas as pd\n",
        "import matplotlib.pyplot as plt\n",
        "import seaborn as sns"
      ],
      "execution_count": null,
      "outputs": []
    },
    {
      "cell_type": "code",
      "metadata": {
        "colab": {
          "base_uri": "https://localhost:8080/",
          "height": 206
        },
        "id": "-kCl5nvBBjYM",
        "outputId": "032a62d0-0e90-4d49-e334-3f634f92d4fd"
      },
      "source": [
        "btc_week_news = pd.read_csv('bitcoinWeekNewsSearches.csv')\n",
        "btc_week_news.head()"
      ],
      "execution_count": null,
      "outputs": [
        {
          "output_type": "execute_result",
          "data": {
            "text/html": [
              "<div>\n",
              "<style scoped>\n",
              "    .dataframe tbody tr th:only-of-type {\n",
              "        vertical-align: middle;\n",
              "    }\n",
              "\n",
              "    .dataframe tbody tr th {\n",
              "        vertical-align: top;\n",
              "    }\n",
              "\n",
              "    .dataframe thead th {\n",
              "        text-align: right;\n",
              "    }\n",
              "</style>\n",
              "<table border=\"1\" class=\"dataframe\">\n",
              "  <thead>\n",
              "    <tr style=\"text-align: right;\">\n",
              "      <th></th>\n",
              "      <th>date</th>\n",
              "      <th>searches</th>\n",
              "    </tr>\n",
              "  </thead>\n",
              "  <tbody>\n",
              "    <tr>\n",
              "      <th>0</th>\n",
              "      <td>2016-10-02</td>\n",
              "      <td>4</td>\n",
              "    </tr>\n",
              "    <tr>\n",
              "      <th>1</th>\n",
              "      <td>2016-10-09</td>\n",
              "      <td>5</td>\n",
              "    </tr>\n",
              "    <tr>\n",
              "      <th>2</th>\n",
              "      <td>2016-10-16</td>\n",
              "      <td>5</td>\n",
              "    </tr>\n",
              "    <tr>\n",
              "      <th>3</th>\n",
              "      <td>2016-10-23</td>\n",
              "      <td>4</td>\n",
              "    </tr>\n",
              "    <tr>\n",
              "      <th>4</th>\n",
              "      <td>2016-10-30</td>\n",
              "      <td>5</td>\n",
              "    </tr>\n",
              "  </tbody>\n",
              "</table>\n",
              "</div>"
            ],
            "text/plain": [
              "         date  searches\n",
              "0  2016-10-02         4\n",
              "1  2016-10-09         5\n",
              "2  2016-10-16         5\n",
              "3  2016-10-23         4\n",
              "4  2016-10-30         5"
            ]
          },
          "metadata": {},
          "execution_count": 2
        }
      ]
    },
    {
      "cell_type": "code",
      "metadata": {
        "colab": {
          "base_uri": "https://localhost:8080/",
          "height": 206
        },
        "id": "I9uTbga4Bv5d",
        "outputId": "b444aa64-b8f1-4934-8aa2-e8543db0b937"
      },
      "source": [
        "btc_week_searches = pd.read_csv('bitcoinWeekSearches.csv')\n",
        "btc_week_searches.head()"
      ],
      "execution_count": null,
      "outputs": [
        {
          "output_type": "execute_result",
          "data": {
            "text/html": [
              "<div>\n",
              "<style scoped>\n",
              "    .dataframe tbody tr th:only-of-type {\n",
              "        vertical-align: middle;\n",
              "    }\n",
              "\n",
              "    .dataframe tbody tr th {\n",
              "        vertical-align: top;\n",
              "    }\n",
              "\n",
              "    .dataframe thead th {\n",
              "        text-align: right;\n",
              "    }\n",
              "</style>\n",
              "<table border=\"1\" class=\"dataframe\">\n",
              "  <thead>\n",
              "    <tr style=\"text-align: right;\">\n",
              "      <th></th>\n",
              "      <th>date</th>\n",
              "      <th>searches</th>\n",
              "    </tr>\n",
              "  </thead>\n",
              "  <tbody>\n",
              "    <tr>\n",
              "      <th>0</th>\n",
              "      <td>2016-10-02</td>\n",
              "      <td>3</td>\n",
              "    </tr>\n",
              "    <tr>\n",
              "      <th>1</th>\n",
              "      <td>2016-10-09</td>\n",
              "      <td>3</td>\n",
              "    </tr>\n",
              "    <tr>\n",
              "      <th>2</th>\n",
              "      <td>2016-10-16</td>\n",
              "      <td>3</td>\n",
              "    </tr>\n",
              "    <tr>\n",
              "      <th>3</th>\n",
              "      <td>2016-10-23</td>\n",
              "      <td>3</td>\n",
              "    </tr>\n",
              "    <tr>\n",
              "      <th>4</th>\n",
              "      <td>2016-10-30</td>\n",
              "      <td>3</td>\n",
              "    </tr>\n",
              "  </tbody>\n",
              "</table>\n",
              "</div>"
            ],
            "text/plain": [
              "         date  searches\n",
              "0  2016-10-02         3\n",
              "1  2016-10-09         3\n",
              "2  2016-10-16         3\n",
              "3  2016-10-23         3\n",
              "4  2016-10-30         3"
            ]
          },
          "metadata": {},
          "execution_count": 3
        }
      ]
    },
    {
      "cell_type": "code",
      "metadata": {
        "colab": {
          "base_uri": "https://localhost:8080/",
          "height": 35
        },
        "id": "UhCqonEXB-KC",
        "outputId": "77b8055b-8889-4e17-ea12-bd771663dcad"
      },
      "source": [
        "btc_stocks = pd.read_csv('btcStocks.csv')\n",
        "last_date = btc_stocks.tail(1).date.tolist()[0]\n",
        "btc_stocks.head()\n",
        "last_date"
      ],
      "execution_count": null,
      "outputs": [
        {
          "output_type": "execute_result",
          "data": {
            "application/vnd.google.colaboratory.intrinsic+json": {
              "type": "string"
            },
            "text/plain": [
              "'2021-07-12'"
            ]
          },
          "metadata": {},
          "execution_count": 4
        }
      ]
    },
    {
      "cell_type": "code",
      "metadata": {
        "id": "A6d1MOg8ClAX",
        "colab": {
          "base_uri": "https://localhost:8080/",
          "height": 238
        },
        "outputId": "586b200d-3b9f-4ace-ff82-c2ee4123f9d9"
      },
      "source": [
        "btc_stocks.set_index('date', inplace=True)\n",
        "btc_week_news.set_index('date', inplace=True)\n",
        "btc_week_searches.set_index('date', inplace=True)\n",
        "btc_week_searches.head()"
      ],
      "execution_count": null,
      "outputs": [
        {
          "output_type": "execute_result",
          "data": {
            "text/html": [
              "<div>\n",
              "<style scoped>\n",
              "    .dataframe tbody tr th:only-of-type {\n",
              "        vertical-align: middle;\n",
              "    }\n",
              "\n",
              "    .dataframe tbody tr th {\n",
              "        vertical-align: top;\n",
              "    }\n",
              "\n",
              "    .dataframe thead th {\n",
              "        text-align: right;\n",
              "    }\n",
              "</style>\n",
              "<table border=\"1\" class=\"dataframe\">\n",
              "  <thead>\n",
              "    <tr style=\"text-align: right;\">\n",
              "      <th></th>\n",
              "      <th>searches</th>\n",
              "    </tr>\n",
              "    <tr>\n",
              "      <th>date</th>\n",
              "      <th></th>\n",
              "    </tr>\n",
              "  </thead>\n",
              "  <tbody>\n",
              "    <tr>\n",
              "      <th>2016-10-02</th>\n",
              "      <td>3</td>\n",
              "    </tr>\n",
              "    <tr>\n",
              "      <th>2016-10-09</th>\n",
              "      <td>3</td>\n",
              "    </tr>\n",
              "    <tr>\n",
              "      <th>2016-10-16</th>\n",
              "      <td>3</td>\n",
              "    </tr>\n",
              "    <tr>\n",
              "      <th>2016-10-23</th>\n",
              "      <td>3</td>\n",
              "    </tr>\n",
              "    <tr>\n",
              "      <th>2016-10-30</th>\n",
              "      <td>3</td>\n",
              "    </tr>\n",
              "  </tbody>\n",
              "</table>\n",
              "</div>"
            ],
            "text/plain": [
              "            searches\n",
              "date                \n",
              "2016-10-02         3\n",
              "2016-10-09         3\n",
              "2016-10-16         3\n",
              "2016-10-23         3\n",
              "2016-10-30         3"
            ]
          },
          "metadata": {},
          "execution_count": 5
        }
      ]
    },
    {
      "cell_type": "code",
      "metadata": {
        "id": "_S3yPhjVDOFi",
        "colab": {
          "base_uri": "https://localhost:8080/",
          "height": 310
        },
        "outputId": "504a87c2-d65a-4a7a-d182-1dc04c25528b"
      },
      "source": [
        "btc_week_news.columns = ['newsSearches']\n",
        "btc_week_searches.columns = ['searches']\n",
        "\n",
        "stocks_searches = pd.concat([btc_stocks, btc_week_news, btc_week_searches], axis=1)\n",
        "stocks_searches.reset_index(inplace=True)\n",
        "stocks_searches.columns = ['date', 'btcClose', 'newsSearches', 'searches']\n",
        "print(stocks_searches.head())\n",
        "stocks_searches.dropna().head()"
      ],
      "execution_count": null,
      "outputs": [
        {
          "output_type": "stream",
          "name": "stdout",
          "text": [
            "         date    btcClose  newsSearches  searches\n",
            "0  2014-09-17  457.334015           NaN       NaN\n",
            "1  2014-09-18  424.440002           NaN       NaN\n",
            "2  2014-09-19  394.795990           NaN       NaN\n",
            "3  2014-09-20  408.903992           NaN       NaN\n",
            "4  2014-09-21  398.821014           NaN       NaN\n"
          ]
        },
        {
          "output_type": "execute_result",
          "data": {
            "text/html": [
              "<div>\n",
              "<style scoped>\n",
              "    .dataframe tbody tr th:only-of-type {\n",
              "        vertical-align: middle;\n",
              "    }\n",
              "\n",
              "    .dataframe tbody tr th {\n",
              "        vertical-align: top;\n",
              "    }\n",
              "\n",
              "    .dataframe thead th {\n",
              "        text-align: right;\n",
              "    }\n",
              "</style>\n",
              "<table border=\"1\" class=\"dataframe\">\n",
              "  <thead>\n",
              "    <tr style=\"text-align: right;\">\n",
              "      <th></th>\n",
              "      <th>date</th>\n",
              "      <th>btcClose</th>\n",
              "      <th>newsSearches</th>\n",
              "      <th>searches</th>\n",
              "    </tr>\n",
              "  </thead>\n",
              "  <tbody>\n",
              "    <tr>\n",
              "      <th>746</th>\n",
              "      <td>2016-10-02</td>\n",
              "      <td>610.892029</td>\n",
              "      <td>4.0</td>\n",
              "      <td>3.0</td>\n",
              "    </tr>\n",
              "    <tr>\n",
              "      <th>753</th>\n",
              "      <td>2016-10-09</td>\n",
              "      <td>616.752014</td>\n",
              "      <td>5.0</td>\n",
              "      <td>3.0</td>\n",
              "    </tr>\n",
              "    <tr>\n",
              "      <th>760</th>\n",
              "      <td>2016-10-16</td>\n",
              "      <td>641.630981</td>\n",
              "      <td>5.0</td>\n",
              "      <td>3.0</td>\n",
              "    </tr>\n",
              "    <tr>\n",
              "      <th>767</th>\n",
              "      <td>2016-10-23</td>\n",
              "      <td>657.070984</td>\n",
              "      <td>4.0</td>\n",
              "      <td>3.0</td>\n",
              "    </tr>\n",
              "    <tr>\n",
              "      <th>774</th>\n",
              "      <td>2016-10-30</td>\n",
              "      <td>701.864014</td>\n",
              "      <td>5.0</td>\n",
              "      <td>3.0</td>\n",
              "    </tr>\n",
              "  </tbody>\n",
              "</table>\n",
              "</div>"
            ],
            "text/plain": [
              "           date    btcClose  newsSearches  searches\n",
              "746  2016-10-02  610.892029           4.0       3.0\n",
              "753  2016-10-09  616.752014           5.0       3.0\n",
              "760  2016-10-16  641.630981           5.0       3.0\n",
              "767  2016-10-23  657.070984           4.0       3.0\n",
              "774  2016-10-30  701.864014           5.0       3.0"
            ]
          },
          "metadata": {},
          "execution_count": 6
        }
      ]
    },
    {
      "cell_type": "code",
      "metadata": {
        "colab": {
          "base_uri": "https://localhost:8080/",
          "height": 206
        },
        "id": "euiWGW8VDkiv",
        "outputId": "d507ddc8-7615-42cb-b230-f5a0f2ce1adc"
      },
      "source": [
        "stocks_searches.tail()"
      ],
      "execution_count": null,
      "outputs": [
        {
          "output_type": "execute_result",
          "data": {
            "text/html": [
              "<div>\n",
              "<style scoped>\n",
              "    .dataframe tbody tr th:only-of-type {\n",
              "        vertical-align: middle;\n",
              "    }\n",
              "\n",
              "    .dataframe tbody tr th {\n",
              "        vertical-align: top;\n",
              "    }\n",
              "\n",
              "    .dataframe thead th {\n",
              "        text-align: right;\n",
              "    }\n",
              "</style>\n",
              "<table border=\"1\" class=\"dataframe\">\n",
              "  <thead>\n",
              "    <tr style=\"text-align: right;\">\n",
              "      <th></th>\n",
              "      <th>date</th>\n",
              "      <th>btcClose</th>\n",
              "      <th>newsSearches</th>\n",
              "      <th>searches</th>\n",
              "    </tr>\n",
              "  </thead>\n",
              "  <tbody>\n",
              "    <tr>\n",
              "      <th>2497</th>\n",
              "      <td>2021-08-29</td>\n",
              "      <td>NaN</td>\n",
              "      <td>20.0</td>\n",
              "      <td>23.0</td>\n",
              "    </tr>\n",
              "    <tr>\n",
              "      <th>2498</th>\n",
              "      <td>2021-09-05</td>\n",
              "      <td>NaN</td>\n",
              "      <td>38.0</td>\n",
              "      <td>30.0</td>\n",
              "    </tr>\n",
              "    <tr>\n",
              "      <th>2499</th>\n",
              "      <td>2021-09-12</td>\n",
              "      <td>NaN</td>\n",
              "      <td>15.0</td>\n",
              "      <td>23.0</td>\n",
              "    </tr>\n",
              "    <tr>\n",
              "      <th>2500</th>\n",
              "      <td>2021-09-19</td>\n",
              "      <td>NaN</td>\n",
              "      <td>30.0</td>\n",
              "      <td>27.0</td>\n",
              "    </tr>\n",
              "    <tr>\n",
              "      <th>2501</th>\n",
              "      <td>2021-09-26</td>\n",
              "      <td>NaN</td>\n",
              "      <td>27.0</td>\n",
              "      <td>23.0</td>\n",
              "    </tr>\n",
              "  </tbody>\n",
              "</table>\n",
              "</div>"
            ],
            "text/plain": [
              "            date  btcClose  newsSearches  searches\n",
              "2497  2021-08-29       NaN          20.0      23.0\n",
              "2498  2021-09-05       NaN          38.0      30.0\n",
              "2499  2021-09-12       NaN          15.0      23.0\n",
              "2500  2021-09-19       NaN          30.0      27.0\n",
              "2501  2021-09-26       NaN          27.0      23.0"
            ]
          },
          "metadata": {},
          "execution_count": 7
        }
      ]
    },
    {
      "cell_type": "code",
      "metadata": {
        "id": "PrXEktzqEmy7",
        "colab": {
          "base_uri": "https://localhost:8080/",
          "height": 206
        },
        "outputId": "fb92d0f5-7c6c-46d8-c735-fe7a491305a4"
      },
      "source": [
        "stocks_searches.fillna(method=\"ffill\", inplace=True)\n",
        "stocks_searches.dropna(inplace=True)\n",
        "stocks_searches.head()"
      ],
      "execution_count": null,
      "outputs": [
        {
          "output_type": "execute_result",
          "data": {
            "text/html": [
              "<div>\n",
              "<style scoped>\n",
              "    .dataframe tbody tr th:only-of-type {\n",
              "        vertical-align: middle;\n",
              "    }\n",
              "\n",
              "    .dataframe tbody tr th {\n",
              "        vertical-align: top;\n",
              "    }\n",
              "\n",
              "    .dataframe thead th {\n",
              "        text-align: right;\n",
              "    }\n",
              "</style>\n",
              "<table border=\"1\" class=\"dataframe\">\n",
              "  <thead>\n",
              "    <tr style=\"text-align: right;\">\n",
              "      <th></th>\n",
              "      <th>date</th>\n",
              "      <th>btcClose</th>\n",
              "      <th>newsSearches</th>\n",
              "      <th>searches</th>\n",
              "    </tr>\n",
              "  </thead>\n",
              "  <tbody>\n",
              "    <tr>\n",
              "      <th>746</th>\n",
              "      <td>2016-10-02</td>\n",
              "      <td>610.892029</td>\n",
              "      <td>4.0</td>\n",
              "      <td>3.0</td>\n",
              "    </tr>\n",
              "    <tr>\n",
              "      <th>747</th>\n",
              "      <td>2016-10-03</td>\n",
              "      <td>612.132996</td>\n",
              "      <td>4.0</td>\n",
              "      <td>3.0</td>\n",
              "    </tr>\n",
              "    <tr>\n",
              "      <th>748</th>\n",
              "      <td>2016-10-04</td>\n",
              "      <td>610.203979</td>\n",
              "      <td>4.0</td>\n",
              "      <td>3.0</td>\n",
              "    </tr>\n",
              "    <tr>\n",
              "      <th>749</th>\n",
              "      <td>2016-10-05</td>\n",
              "      <td>612.510986</td>\n",
              "      <td>4.0</td>\n",
              "      <td>3.0</td>\n",
              "    </tr>\n",
              "    <tr>\n",
              "      <th>750</th>\n",
              "      <td>2016-10-06</td>\n",
              "      <td>613.020996</td>\n",
              "      <td>4.0</td>\n",
              "      <td>3.0</td>\n",
              "    </tr>\n",
              "  </tbody>\n",
              "</table>\n",
              "</div>"
            ],
            "text/plain": [
              "           date    btcClose  newsSearches  searches\n",
              "746  2016-10-02  610.892029           4.0       3.0\n",
              "747  2016-10-03  612.132996           4.0       3.0\n",
              "748  2016-10-04  610.203979           4.0       3.0\n",
              "749  2016-10-05  612.510986           4.0       3.0\n",
              "750  2016-10-06  613.020996           4.0       3.0"
            ]
          },
          "metadata": {},
          "execution_count": 8
        }
      ]
    },
    {
      "cell_type": "code",
      "metadata": {
        "colab": {
          "base_uri": "https://localhost:8080/",
          "height": 206
        },
        "id": "D-Wpj0DiDfJh",
        "outputId": "5dc819a7-56b2-4995-9944-2087fddbf5a4"
      },
      "source": [
        "stocks_searches.drop(stocks_searches[stocks_searches.date > last_date].index, inplace=True)\n",
        "stocks_searches.tail()"
      ],
      "execution_count": null,
      "outputs": [
        {
          "output_type": "execute_result",
          "data": {
            "text/html": [
              "<div>\n",
              "<style scoped>\n",
              "    .dataframe tbody tr th:only-of-type {\n",
              "        vertical-align: middle;\n",
              "    }\n",
              "\n",
              "    .dataframe tbody tr th {\n",
              "        vertical-align: top;\n",
              "    }\n",
              "\n",
              "    .dataframe thead th {\n",
              "        text-align: right;\n",
              "    }\n",
              "</style>\n",
              "<table border=\"1\" class=\"dataframe\">\n",
              "  <thead>\n",
              "    <tr style=\"text-align: right;\">\n",
              "      <th></th>\n",
              "      <th>date</th>\n",
              "      <th>btcClose</th>\n",
              "      <th>newsSearches</th>\n",
              "      <th>searches</th>\n",
              "    </tr>\n",
              "  </thead>\n",
              "  <tbody>\n",
              "    <tr>\n",
              "      <th>2486</th>\n",
              "      <td>2021-07-08</td>\n",
              "      <td>32877.371094</td>\n",
              "      <td>28.0</td>\n",
              "      <td>23.0</td>\n",
              "    </tr>\n",
              "    <tr>\n",
              "      <th>2487</th>\n",
              "      <td>2021-07-09</td>\n",
              "      <td>33798.011719</td>\n",
              "      <td>28.0</td>\n",
              "      <td>23.0</td>\n",
              "    </tr>\n",
              "    <tr>\n",
              "      <th>2488</th>\n",
              "      <td>2021-07-10</td>\n",
              "      <td>33520.519531</td>\n",
              "      <td>28.0</td>\n",
              "      <td>23.0</td>\n",
              "    </tr>\n",
              "    <tr>\n",
              "      <th>2489</th>\n",
              "      <td>2021-07-11</td>\n",
              "      <td>34240.187500</td>\n",
              "      <td>32.0</td>\n",
              "      <td>23.0</td>\n",
              "    </tr>\n",
              "    <tr>\n",
              "      <th>2490</th>\n",
              "      <td>2021-07-12</td>\n",
              "      <td>33155.847656</td>\n",
              "      <td>32.0</td>\n",
              "      <td>23.0</td>\n",
              "    </tr>\n",
              "  </tbody>\n",
              "</table>\n",
              "</div>"
            ],
            "text/plain": [
              "            date      btcClose  newsSearches  searches\n",
              "2486  2021-07-08  32877.371094          28.0      23.0\n",
              "2487  2021-07-09  33798.011719          28.0      23.0\n",
              "2488  2021-07-10  33520.519531          28.0      23.0\n",
              "2489  2021-07-11  34240.187500          32.0      23.0\n",
              "2490  2021-07-12  33155.847656          32.0      23.0"
            ]
          },
          "metadata": {},
          "execution_count": 9
        }
      ]
    },
    {
      "cell_type": "code",
      "metadata": {
        "id": "aiWl6IimH-ZB"
      },
      "source": [
        "stocks_searches.to_csv('stocksSearches.csv', index=False)"
      ],
      "execution_count": null,
      "outputs": []
    },
    {
      "cell_type": "code",
      "metadata": {
        "id": "GeYXtOVMK6ey",
        "colab": {
          "base_uri": "https://localhost:8080/",
          "height": 320
        },
        "outputId": "80c7d254-f545-4438-c516-db09e2275eb1"
      },
      "source": [
        "stocks_searches.set_index('date', inplace=True)\n",
        "\n",
        "fig, ax = plt.subplots()\n",
        "fig.set_size_inches(10, 5)\n",
        "\n",
        "ax2 = ax.twinx()\n",
        "ax3 = ax2.twinx()\n",
        "\n",
        "lns1 = ax.plot(stocks_searches.index, stocks_searches.btcClose, label=f\"Bitcoin price\", color=\"orange\")\n",
        "lns2 = ax2.plot(stocks_searches.index, stocks_searches.newsSearches, label=f\"News\", color=\"grey\")\n",
        "lns3 = ax3.plot(stocks_searches.index, stocks_searches.searches, label=f\"Searches\", color=\"blue\")\n",
        "\n",
        "lns = lns1+lns2+lns3\n",
        "labs = [l.get_label() for l in lns]\n",
        "ax.legend(lns, labs, loc=0)\n",
        "\n",
        "ax.tick_params(left = False, right = False , labelleft = False)\n",
        "ax2.tick_params(left = False, right = False , labelleft = False)\n",
        "ax3.tick_params(left = False, right = False , labelleft = False)\n",
        "\n",
        "plt.show()"
      ],
      "execution_count": null,
      "outputs": [
        {
          "output_type": "display_data",
          "data": {
            "image/png": "[encoded data removed]",
            "text/plain": [
              "<Figure size 720x360 with 3 Axes>"
            ]
          },
          "metadata": {
            "needs_background": "light"
          }
        }
      ]
    },
    {
      "cell_type": "code",
      "metadata": {
        "id": "at_gunOj-V0H",
        "colab": {
          "base_uri": "https://localhost:8080/",
          "height": 286
        },
        "outputId": "d82cf654-b3a6-4c09-d0d5-e144b180481e"
      },
      "source": [
        "sns.heatmap(stocks_searches.corr())"
      ],
      "execution_count": null,
      "outputs": [
        {
          "output_type": "execute_result",
          "data": {
            "text/plain": [
              "<matplotlib.axes._subplots.AxesSubplot at 0x7f94a93a9690>"
            ]
          },
          "metadata": {},
          "execution_count": 12
        },
        {
          "output_type": "display_data",
          "data": {
            "image/png": "[encoded data removed]",
            "text/plain": [
              "<Figure size 432x288 with 2 Axes>"
            ]
          },
          "metadata": {
            "needs_background": "light"
          }
        }
      ]
    },
    {
      "cell_type": "code",
      "metadata": {
        "id": "P3llhcMr-u-Z",
        "colab": {
          "base_uri": "https://localhost:8080/",
          "height": 143
        },
        "outputId": "3cc87775-2cf3-4a97-8f20-6b4c7d6b36c4"
      },
      "source": [
        "stocks_searches.corr()"
      ],
      "execution_count": null,
      "outputs": [
        {
          "output_type": "execute_result",
          "data": {
            "text/html": [
              "<div>\n",
              "<style scoped>\n",
              "    .dataframe tbody tr th:only-of-type {\n",
              "        vertical-align: middle;\n",
              "    }\n",
              "\n",
              "    .dataframe tbody tr th {\n",
              "        vertical-align: top;\n",
              "    }\n",
              "\n",
              "    .dataframe thead th {\n",
              "        text-align: right;\n",
              "    }\n",
              "</style>\n",
              "<table border=\"1\" class=\"dataframe\">\n",
              "  <thead>\n",
              "    <tr style=\"text-align: right;\">\n",
              "      <th></th>\n",
              "      <th>btcClose</th>\n",
              "      <th>newsSearches</th>\n",
              "      <th>searches</th>\n",
              "    </tr>\n",
              "  </thead>\n",
              "  <tbody>\n",
              "    <tr>\n",
              "      <th>btcClose</th>\n",
              "      <td>1.000000</td>\n",
              "      <td>0.607550</td>\n",
              "      <td>0.643226</td>\n",
              "    </tr>\n",
              "    <tr>\n",
              "      <th>newsSearches</th>\n",
              "      <td>0.607550</td>\n",
              "      <td>1.000000</td>\n",
              "      <td>0.860147</td>\n",
              "    </tr>\n",
              "    <tr>\n",
              "      <th>searches</th>\n",
              "      <td>0.643226</td>\n",
              "      <td>0.860147</td>\n",
              "      <td>1.000000</td>\n",
              "    </tr>\n",
              "  </tbody>\n",
              "</table>\n",
              "</div>"
            ],
            "text/plain": [
              "              btcClose  newsSearches  searches\n",
              "btcClose      1.000000      0.607550  0.643226\n",
              "newsSearches  0.607550      1.000000  0.860147\n",
              "searches      0.643226      0.860147  1.000000"
            ]
          },
          "metadata": {},
          "execution_count": 13
        }
      ]
    }
  ]
}