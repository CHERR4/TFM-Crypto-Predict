{
  "nbformat": 4,
  "nbformat_minor": 0,
  "metadata": {
    "colab": {
      "name": "TFM-Data-Preparation.ipynb",
      "provenance": [],
      "collapsed_sections": []
    },
    "kernelspec": {
      "display_name": "Python 3",
      "name": "python3"
    },
    "language_info": {
      "name": "python"
    }
  },
  "cells": [
    {
      "cell_type": "code",
      "metadata": {
        "id": "zCQ7hxRC0pi3"
      },
      "source": [
        "import os\n",
        "import numpy as np\n",
        "import pandas as pd\n",
        "import seaborn as sn\n",
        "from pylab import rcParams\n",
        "import matplotlib.pyplot as plt\n",
        "from matplotlib import rc\n",
        "import time\n",
        "import math\n",
        "from keras.models import Sequential\n",
        "from keras.layers import Dense\n",
        "from keras.layers import LSTM"
      ],
      "execution_count": 1,
      "outputs": []
    },
    {
      "cell_type": "markdown",
      "metadata": {
        "id": "CtFGBxLtzMfF"
      },
      "source": [
        "## Data Collect"
      ]
    },
    {
      "cell_type": "code",
      "metadata": {
        "colab": {
          "base_uri": "https://localhost:8080/",
          "height": 206
        },
        "id": "BpM9Ya2K1eNL",
        "outputId": "cb0c6442-9fc9-4b93-de4b-92a9b76c8f97"
      },
      "source": [
        "# csv_path = \"https://query1.finance.yahoo.com/v7/finance/download/BTC-USD?period1=1626134400&period2=1630454400&interval=1d&events=history&includeAdjustedClose=true\" # new stocks\n",
        "btc_path = \"https://query1.finance.yahoo.com/v7/finance/download/BTC-USD?period1=1410912000&period2=1626048000&interval=1d&events=history&includeAdjustedClose=true\"\n",
        "#eth_path = \"https://query1.finance.yahoo.com/v7/finance/download/ETH-USD?period1=1410912000&period2=1626048000&interval=1d&events=history&includeAdjustedClose=true\"\n",
        "#ada_path = \"https://query1.finance.yahoo.com/v7/finance/download/ADA-USD?period1=1410912000&period2=1626048000&interval=1d&events=history&includeAdjustedClose=true\"\n",
        "\n",
        "\n",
        "stock_prices = pd.read_csv(btc_path, parse_dates=['Date'])\n",
        "\n",
        "stock_prices.sort_values('Date', inplace=True)\n",
        "\n",
        "stock_prices.head()"
      ],
      "execution_count": 2,
      "outputs": [
        {
          "output_type": "execute_result",
          "data": {
            "text/html": [
              "<div>\n",
              "<style scoped>\n",
              "    .dataframe tbody tr th:only-of-type {\n",
              "        vertical-align: middle;\n",
              "    }\n",
              "\n",
              "    .dataframe tbody tr th {\n",
              "        vertical-align: top;\n",
              "    }\n",
              "\n",
              "    .dataframe thead th {\n",
              "        text-align: right;\n",
              "    }\n",
              "</style>\n",
              "<table border=\"1\" class=\"dataframe\">\n",
              "  <thead>\n",
              "    <tr style=\"text-align: right;\">\n",
              "      <th></th>\n",
              "      <th>Date</th>\n",
              "      <th>Open</th>\n",
              "      <th>High</th>\n",
              "      <th>Low</th>\n",
              "      <th>Close</th>\n",
              "      <th>Adj Close</th>\n",
              "      <th>Volume</th>\n",
              "    </tr>\n",
              "  </thead>\n",
              "  <tbody>\n",
              "    <tr>\n",
              "      <th>0</th>\n",
              "      <td>2014-09-17</td>\n",
              "      <td>465.864014</td>\n",
              "      <td>468.174011</td>\n",
              "      <td>452.421997</td>\n",
              "      <td>457.334015</td>\n",
              "      <td>457.334015</td>\n",
              "      <td>21056800.0</td>\n",
              "    </tr>\n",
              "    <tr>\n",
              "      <th>1</th>\n",
              "      <td>2014-09-18</td>\n",
              "      <td>456.859985</td>\n",
              "      <td>456.859985</td>\n",
              "      <td>413.104004</td>\n",
              "      <td>424.440002</td>\n",
              "      <td>424.440002</td>\n",
              "      <td>34483200.0</td>\n",
              "    </tr>\n",
              "    <tr>\n",
              "      <th>2</th>\n",
              "      <td>2014-09-19</td>\n",
              "      <td>424.102997</td>\n",
              "      <td>427.834991</td>\n",
              "      <td>384.532013</td>\n",
              "      <td>394.795990</td>\n",
              "      <td>394.795990</td>\n",
              "      <td>37919700.0</td>\n",
              "    </tr>\n",
              "    <tr>\n",
              "      <th>3</th>\n",
              "      <td>2014-09-20</td>\n",
              "      <td>394.673004</td>\n",
              "      <td>423.295990</td>\n",
              "      <td>389.882996</td>\n",
              "      <td>408.903992</td>\n",
              "      <td>408.903992</td>\n",
              "      <td>36863600.0</td>\n",
              "    </tr>\n",
              "    <tr>\n",
              "      <th>4</th>\n",
              "      <td>2014-09-21</td>\n",
              "      <td>408.084991</td>\n",
              "      <td>412.425995</td>\n",
              "      <td>393.181000</td>\n",
              "      <td>398.821014</td>\n",
              "      <td>398.821014</td>\n",
              "      <td>26580100.0</td>\n",
              "    </tr>\n",
              "  </tbody>\n",
              "</table>\n",
              "</div>"
            ],
            "text/plain": [
              "        Date        Open        High  ...       Close   Adj Close      Volume\n",
              "0 2014-09-17  465.864014  468.174011  ...  457.334015  457.334015  21056800.0\n",
              "1 2014-09-18  456.859985  456.859985  ...  424.440002  424.440002  34483200.0\n",
              "2 2014-09-19  424.102997  427.834991  ...  394.795990  394.795990  37919700.0\n",
              "3 2014-09-20  394.673004  423.295990  ...  408.903992  408.903992  36863600.0\n",
              "4 2014-09-21  408.084991  412.425995  ...  398.821014  398.821014  26580100.0\n",
              "\n",
              "[5 rows x 7 columns]"
            ]
          },
          "metadata": {},
          "execution_count": 2
        }
      ]
    },
    {
      "cell_type": "code",
      "metadata": {
        "colab": {
          "base_uri": "https://localhost:8080/",
          "height": 206
        },
        "id": "qAz_Ymhxo0mP",
        "outputId": "d275726b-872d-46ea-a205-4cebd6fe870a"
      },
      "source": [
        "stock_prices.tail()"
      ],
      "execution_count": 3,
      "outputs": [
        {
          "output_type": "execute_result",
          "data": {
            "text/html": [
              "<div>\n",
              "<style scoped>\n",
              "    .dataframe tbody tr th:only-of-type {\n",
              "        vertical-align: middle;\n",
              "    }\n",
              "\n",
              "    .dataframe tbody tr th {\n",
              "        vertical-align: top;\n",
              "    }\n",
              "\n",
              "    .dataframe thead th {\n",
              "        text-align: right;\n",
              "    }\n",
              "</style>\n",
              "<table border=\"1\" class=\"dataframe\">\n",
              "  <thead>\n",
              "    <tr style=\"text-align: right;\">\n",
              "      <th></th>\n",
              "      <th>Date</th>\n",
              "      <th>Open</th>\n",
              "      <th>High</th>\n",
              "      <th>Low</th>\n",
              "      <th>Close</th>\n",
              "      <th>Adj Close</th>\n",
              "      <th>Volume</th>\n",
              "    </tr>\n",
              "  </thead>\n",
              "  <tbody>\n",
              "    <tr>\n",
              "      <th>2486</th>\n",
              "      <td>2021-07-08</td>\n",
              "      <td>33889.605469</td>\n",
              "      <td>33907.906250</td>\n",
              "      <td>32133.183594</td>\n",
              "      <td>32877.371094</td>\n",
              "      <td>32877.371094</td>\n",
              "      <td>2.991040e+10</td>\n",
              "    </tr>\n",
              "    <tr>\n",
              "      <th>2487</th>\n",
              "      <td>2021-07-09</td>\n",
              "      <td>32861.671875</td>\n",
              "      <td>34042.292969</td>\n",
              "      <td>32318.880859</td>\n",
              "      <td>33798.011719</td>\n",
              "      <td>33798.011719</td>\n",
              "      <td>2.743602e+10</td>\n",
              "    </tr>\n",
              "    <tr>\n",
              "      <th>2488</th>\n",
              "      <td>2021-07-10</td>\n",
              "      <td>33811.242188</td>\n",
              "      <td>34209.070313</td>\n",
              "      <td>33116.011719</td>\n",
              "      <td>33520.519531</td>\n",
              "      <td>33520.519531</td>\n",
              "      <td>2.297187e+10</td>\n",
              "    </tr>\n",
              "    <tr>\n",
              "      <th>2489</th>\n",
              "      <td>2021-07-11</td>\n",
              "      <td>33509.078125</td>\n",
              "      <td>34584.703125</td>\n",
              "      <td>33346.738281</td>\n",
              "      <td>34240.187500</td>\n",
              "      <td>34240.187500</td>\n",
              "      <td>2.010873e+10</td>\n",
              "    </tr>\n",
              "    <tr>\n",
              "      <th>2490</th>\n",
              "      <td>2021-07-12</td>\n",
              "      <td>34254.015625</td>\n",
              "      <td>34592.156250</td>\n",
              "      <td>32697.308594</td>\n",
              "      <td>33155.847656</td>\n",
              "      <td>33155.847656</td>\n",
              "      <td>2.432150e+10</td>\n",
              "    </tr>\n",
              "  </tbody>\n",
              "</table>\n",
              "</div>"
            ],
            "text/plain": [
              "           Date          Open  ...     Adj Close        Volume\n",
              "2486 2021-07-08  33889.605469  ...  32877.371094  2.991040e+10\n",
              "2487 2021-07-09  32861.671875  ...  33798.011719  2.743602e+10\n",
              "2488 2021-07-10  33811.242188  ...  33520.519531  2.297187e+10\n",
              "2489 2021-07-11  33509.078125  ...  34240.187500  2.010873e+10\n",
              "2490 2021-07-12  34254.015625  ...  33155.847656  2.432150e+10\n",
              "\n",
              "[5 rows x 7 columns]"
            ]
          },
          "metadata": {},
          "execution_count": 3
        }
      ]
    },
    {
      "cell_type": "code",
      "metadata": {
        "colab": {
          "base_uri": "https://localhost:8080/"
        },
        "id": "uO_d76No1gay",
        "outputId": "3d372a1b-3b4f-48c5-aa03-485356376fe4"
      },
      "source": [
        "stock_prices.shape"
      ],
      "execution_count": 4,
      "outputs": [
        {
          "output_type": "execute_result",
          "data": {
            "text/plain": [
              "(2491, 7)"
            ]
          },
          "metadata": {},
          "execution_count": 4
        }
      ]
    },
    {
      "cell_type": "markdown",
      "metadata": {
        "id": "EIlYfpgezft5"
      },
      "source": [
        "## Descripción de los datos\n",
        "Antes de describir los datos vamos a realizar un cambio en el orden de las columnas para hacerlas más intuitivas a las hora de realizar el código."
      ]
    },
    {
      "cell_type": "code",
      "metadata": {
        "colab": {
          "base_uri": "https://localhost:8080/",
          "height": 206
        },
        "id": "147rWvdy2LhV",
        "outputId": "95ee12bf-567f-4e11-8b7b-ee51284fa0e7"
      },
      "source": [
        "colnames = {\n",
        "    'Date': 'date',\n",
        "    'Open': 'open',\n",
        "    'High': 'high',\n",
        "    'Low': 'low',\n",
        "    'Close': 'close',\n",
        "    'Adj Close': 'adjClose',\n",
        "    'Volume': 'volume'\n",
        "}\n",
        "stock_prices.rename(columns = colnames, inplace=True)\n",
        "\n",
        "stock_prices.head()"
      ],
      "execution_count": 5,
      "outputs": [
        {
          "output_type": "execute_result",
          "data": {
            "text/html": [
              "<div>\n",
              "<style scoped>\n",
              "    .dataframe tbody tr th:only-of-type {\n",
              "        vertical-align: middle;\n",
              "    }\n",
              "\n",
              "    .dataframe tbody tr th {\n",
              "        vertical-align: top;\n",
              "    }\n",
              "\n",
              "    .dataframe thead th {\n",
              "        text-align: right;\n",
              "    }\n",
              "</style>\n",
              "<table border=\"1\" class=\"dataframe\">\n",
              "  <thead>\n",
              "    <tr style=\"text-align: right;\">\n",
              "      <th></th>\n",
              "      <th>date</th>\n",
              "      <th>open</th>\n",
              "      <th>high</th>\n",
              "      <th>low</th>\n",
              "      <th>close</th>\n",
              "      <th>adjClose</th>\n",
              "      <th>volume</th>\n",
              "    </tr>\n",
              "  </thead>\n",
              "  <tbody>\n",
              "    <tr>\n",
              "      <th>0</th>\n",
              "      <td>2014-09-17</td>\n",
              "      <td>465.864014</td>\n",
              "      <td>468.174011</td>\n",
              "      <td>452.421997</td>\n",
              "      <td>457.334015</td>\n",
              "      <td>457.334015</td>\n",
              "      <td>21056800.0</td>\n",
              "    </tr>\n",
              "    <tr>\n",
              "      <th>1</th>\n",
              "      <td>2014-09-18</td>\n",
              "      <td>456.859985</td>\n",
              "      <td>456.859985</td>\n",
              "      <td>413.104004</td>\n",
              "      <td>424.440002</td>\n",
              "      <td>424.440002</td>\n",
              "      <td>34483200.0</td>\n",
              "    </tr>\n",
              "    <tr>\n",
              "      <th>2</th>\n",
              "      <td>2014-09-19</td>\n",
              "      <td>424.102997</td>\n",
              "      <td>427.834991</td>\n",
              "      <td>384.532013</td>\n",
              "      <td>394.795990</td>\n",
              "      <td>394.795990</td>\n",
              "      <td>37919700.0</td>\n",
              "    </tr>\n",
              "    <tr>\n",
              "      <th>3</th>\n",
              "      <td>2014-09-20</td>\n",
              "      <td>394.673004</td>\n",
              "      <td>423.295990</td>\n",
              "      <td>389.882996</td>\n",
              "      <td>408.903992</td>\n",
              "      <td>408.903992</td>\n",
              "      <td>36863600.0</td>\n",
              "    </tr>\n",
              "    <tr>\n",
              "      <th>4</th>\n",
              "      <td>2014-09-21</td>\n",
              "      <td>408.084991</td>\n",
              "      <td>412.425995</td>\n",
              "      <td>393.181000</td>\n",
              "      <td>398.821014</td>\n",
              "      <td>398.821014</td>\n",
              "      <td>26580100.0</td>\n",
              "    </tr>\n",
              "  </tbody>\n",
              "</table>\n",
              "</div>"
            ],
            "text/plain": [
              "        date        open        high  ...       close    adjClose      volume\n",
              "0 2014-09-17  465.864014  468.174011  ...  457.334015  457.334015  21056800.0\n",
              "1 2014-09-18  456.859985  456.859985  ...  424.440002  424.440002  34483200.0\n",
              "2 2014-09-19  424.102997  427.834991  ...  394.795990  394.795990  37919700.0\n",
              "3 2014-09-20  394.673004  423.295990  ...  408.903992  408.903992  36863600.0\n",
              "4 2014-09-21  408.084991  412.425995  ...  398.821014  398.821014  26580100.0\n",
              "\n",
              "[5 rows x 7 columns]"
            ]
          },
          "metadata": {},
          "execution_count": 5
        }
      ]
    },
    {
      "cell_type": "code",
      "metadata": {
        "colab": {
          "base_uri": "https://localhost:8080/"
        },
        "id": "08lMz5fZx4co",
        "outputId": "bfb5aadf-c8fe-4590-e359-8524289f7579"
      },
      "source": [
        "stock_prices['date'].describe()"
      ],
      "execution_count": 6,
      "outputs": [
        {
          "output_type": "stream",
          "name": "stderr",
          "text": [
            "/usr/local/lib/python3.7/dist-packages/ipykernel_launcher.py:1: FutureWarning: Treating datetime data as categorical rather than numeric in `.describe` is deprecated and will be removed in a future version of pandas. Specify `datetime_is_numeric=True` to silence this warning and adopt the future behavior now.\n",
            "  \"\"\"Entry point for launching an IPython kernel.\n"
          ]
        },
        {
          "output_type": "execute_result",
          "data": {
            "text/plain": [
              "count                    2491\n",
              "unique                   2491\n",
              "top       2016-11-14 00:00:00\n",
              "freq                        1\n",
              "first     2014-09-17 00:00:00\n",
              "last      2021-07-12 00:00:00\n",
              "Name: date, dtype: object"
            ]
          },
          "metadata": {},
          "execution_count": 6
        }
      ]
    },
    {
      "cell_type": "code",
      "metadata": {
        "colab": {
          "base_uri": "https://localhost:8080/"
        },
        "id": "Pi4_8zUP0TpA",
        "outputId": "cae3ecee-c888-4d65-8b32-757d7f7707d0"
      },
      "source": [
        "print(stock_prices['open'].head())\n",
        "stock_prices['open'].describe()"
      ],
      "execution_count": 7,
      "outputs": [
        {
          "output_type": "stream",
          "name": "stdout",
          "text": [
            "0    465.864014\n",
            "1    456.859985\n",
            "2    424.102997\n",
            "3    394.673004\n",
            "4    408.084991\n",
            "Name: open, dtype: float64\n"
          ]
        },
        {
          "output_type": "execute_result",
          "data": {
            "text/plain": [
              "count     2487.000000\n",
              "mean      8035.557402\n",
              "std      12049.575929\n",
              "min        176.897003\n",
              "25%        529.789002\n",
              "50%       4570.359863\n",
              "75%       9307.520996\n",
              "max      63523.753906\n",
              "Name: open, dtype: float64"
            ]
          },
          "metadata": {},
          "execution_count": 7
        }
      ]
    },
    {
      "cell_type": "code",
      "metadata": {
        "colab": {
          "base_uri": "https://localhost:8080/"
        },
        "id": "6LeuBRwr00Qa",
        "outputId": "d11c8e22-d143-4a43-c20a-097c5696b553"
      },
      "source": [
        "print(stock_prices['high'].head())\n",
        "stock_prices['high'].describe()"
      ],
      "execution_count": 8,
      "outputs": [
        {
          "output_type": "stream",
          "name": "stdout",
          "text": [
            "0    468.174011\n",
            "1    456.859985\n",
            "2    427.834991\n",
            "3    423.295990\n",
            "4    412.425995\n",
            "Name: high, dtype: float64\n"
          ]
        },
        {
          "output_type": "execute_result",
          "data": {
            "text/plain": [
              "count     2487.000000\n",
              "mean      8265.625742\n",
              "std      12426.936249\n",
              "min        211.731003\n",
              "25%        543.714508\n",
              "50%       4655.040039\n",
              "75%       9464.549805\n",
              "max      64863.097656\n",
              "Name: high, dtype: float64"
            ]
          },
          "metadata": {},
          "execution_count": 8
        }
      ]
    },
    {
      "cell_type": "code",
      "metadata": {
        "colab": {
          "base_uri": "https://localhost:8080/"
        },
        "id": "8-N386b_1Gfk",
        "outputId": "22392ad1-e607-4d3f-9cec-85a58c0e1714"
      },
      "source": [
        "print(stock_prices['low'].head())\n",
        "stock_prices['low'].describe()"
      ],
      "execution_count": 9,
      "outputs": [
        {
          "output_type": "stream",
          "name": "stdout",
          "text": [
            "0    452.421997\n",
            "1    413.104004\n",
            "2    384.532013\n",
            "3    389.882996\n",
            "4    393.181000\n",
            "Name: low, dtype: float64\n"
          ]
        },
        {
          "output_type": "execute_result",
          "data": {
            "text/plain": [
              "count     2487.000000\n",
              "mean      7779.469894\n",
              "std      11599.744147\n",
              "min        171.509995\n",
              "25%        521.812500\n",
              "50%       4365.640137\n",
              "75%       9148.923340\n",
              "max      62208.964844\n",
              "Name: low, dtype: float64"
            ]
          },
          "metadata": {},
          "execution_count": 9
        }
      ]
    },
    {
      "cell_type": "code",
      "metadata": {
        "colab": {
          "base_uri": "https://localhost:8080/"
        },
        "id": "FxwDFi6m1d9Q",
        "outputId": "faa2482a-5d8e-4618-fde9-b027a9b47759"
      },
      "source": [
        "print(stock_prices['close'].head())\n",
        "stock_prices['close'].describe()"
      ],
      "execution_count": 10,
      "outputs": [
        {
          "output_type": "stream",
          "name": "stdout",
          "text": [
            "0    457.334015\n",
            "1    424.440002\n",
            "2    394.795990\n",
            "3    408.903992\n",
            "4    398.821014\n",
            "Name: close, dtype: float64\n"
          ]
        },
        {
          "output_type": "execute_result",
          "data": {
            "text/plain": [
              "count     2487.000000\n",
              "mean      8047.622041\n",
              "std      12057.099669\n",
              "min        178.102997\n",
              "25%        532.625000\n",
              "50%       4579.020020\n",
              "75%       9315.120117\n",
              "max      63503.457031\n",
              "Name: close, dtype: float64"
            ]
          },
          "metadata": {},
          "execution_count": 10
        }
      ]
    },
    {
      "cell_type": "code",
      "metadata": {
        "colab": {
          "base_uri": "https://localhost:8080/"
        },
        "id": "USANGhbJ1pRW",
        "outputId": "dbc0eebd-dfb2-4fc9-cfc3-2dd1528632bc"
      },
      "source": [
        "print(stock_prices['adjClose'].head())\n",
        "stock_prices['adjClose'].describe()"
      ],
      "execution_count": 11,
      "outputs": [
        {
          "output_type": "stream",
          "name": "stdout",
          "text": [
            "0    457.334015\n",
            "1    424.440002\n",
            "2    394.795990\n",
            "3    408.903992\n",
            "4    398.821014\n",
            "Name: adjClose, dtype: float64\n"
          ]
        },
        {
          "output_type": "execute_result",
          "data": {
            "text/plain": [
              "count     2487.000000\n",
              "mean      8047.622041\n",
              "std      12057.099669\n",
              "min        178.102997\n",
              "25%        532.625000\n",
              "50%       4579.020020\n",
              "75%       9315.120117\n",
              "max      63503.457031\n",
              "Name: adjClose, dtype: float64"
            ]
          },
          "metadata": {},
          "execution_count": 11
        }
      ]
    },
    {
      "cell_type": "code",
      "metadata": {
        "colab": {
          "base_uri": "https://localhost:8080/"
        },
        "id": "vSkZCs8i14Nk",
        "outputId": "c4d3a7b9-40ff-4757-8a60-b8a5edc844e4"
      },
      "source": [
        "print(stock_prices['volume'].head())\n",
        "stock_prices['volume'].describe()"
      ],
      "execution_count": 12,
      "outputs": [
        {
          "output_type": "stream",
          "name": "stdout",
          "text": [
            "0    21056800.0\n",
            "1    34483200.0\n",
            "2    37919700.0\n",
            "3    36863600.0\n",
            "4    26580100.0\n",
            "Name: volume, dtype: float64\n"
          ]
        },
        {
          "output_type": "execute_result",
          "data": {
            "text/plain": [
              "count    2.487000e+03\n",
              "mean     1.296685e+10\n",
              "std      1.981840e+10\n",
              "min      5.914570e+06\n",
              "25%      6.949860e+07\n",
              "50%      4.148070e+09\n",
              "75%      1.963978e+10\n",
              "max      3.509679e+11\n",
              "Name: volume, dtype: float64"
            ]
          },
          "metadata": {},
          "execution_count": 12
        }
      ]
    },
    {
      "cell_type": "markdown",
      "metadata": {
        "id": "4bfXC3yCxoPS"
      },
      "source": [
        "## Calidad de los datos"
      ]
    },
    {
      "cell_type": "code",
      "metadata": {
        "colab": {
          "base_uri": "https://localhost:8080/",
          "height": 206
        },
        "id": "zfEqEhqx2b3A",
        "outputId": "a733a7aa-74bd-457c-9c47-8d0ef1121216"
      },
      "source": [
        "def nulos_x_fila(fila):\n",
        "    nulos = len(fila) - fila.count() #Se calcula la cantidad de valores nulos en la fila\n",
        "    umbral = 0.2 \n",
        "    #Se evalua si se supera el umbral definido\n",
        "    if (nulos > (len(fila) * umbral)):\n",
        "        return False\n",
        "    else:\n",
        "        return True\n",
        "      \n",
        "stock_prices['completitudF'] = stock_prices.apply(lambda row: nulos_x_fila(row), axis=1)\n",
        "stock_prices.head()"
      ],
      "execution_count": 13,
      "outputs": [
        {
          "output_type": "execute_result",
          "data": {
            "text/html": [
              "<div>\n",
              "<style scoped>\n",
              "    .dataframe tbody tr th:only-of-type {\n",
              "        vertical-align: middle;\n",
              "    }\n",
              "\n",
              "    .dataframe tbody tr th {\n",
              "        vertical-align: top;\n",
              "    }\n",
              "\n",
              "    .dataframe thead th {\n",
              "        text-align: right;\n",
              "    }\n",
              "</style>\n",
              "<table border=\"1\" class=\"dataframe\">\n",
              "  <thead>\n",
              "    <tr style=\"text-align: right;\">\n",
              "      <th></th>\n",
              "      <th>date</th>\n",
              "      <th>open</th>\n",
              "      <th>high</th>\n",
              "      <th>low</th>\n",
              "      <th>close</th>\n",
              "      <th>adjClose</th>\n",
              "      <th>volume</th>\n",
              "      <th>completitudF</th>\n",
              "    </tr>\n",
              "  </thead>\n",
              "  <tbody>\n",
              "    <tr>\n",
              "      <th>0</th>\n",
              "      <td>2014-09-17</td>\n",
              "      <td>465.864014</td>\n",
              "      <td>468.174011</td>\n",
              "      <td>452.421997</td>\n",
              "      <td>457.334015</td>\n",
              "      <td>457.334015</td>\n",
              "      <td>21056800.0</td>\n",
              "      <td>True</td>\n",
              "    </tr>\n",
              "    <tr>\n",
              "      <th>1</th>\n",
              "      <td>2014-09-18</td>\n",
              "      <td>456.859985</td>\n",
              "      <td>456.859985</td>\n",
              "      <td>413.104004</td>\n",
              "      <td>424.440002</td>\n",
              "      <td>424.440002</td>\n",
              "      <td>34483200.0</td>\n",
              "      <td>True</td>\n",
              "    </tr>\n",
              "    <tr>\n",
              "      <th>2</th>\n",
              "      <td>2014-09-19</td>\n",
              "      <td>424.102997</td>\n",
              "      <td>427.834991</td>\n",
              "      <td>384.532013</td>\n",
              "      <td>394.795990</td>\n",
              "      <td>394.795990</td>\n",
              "      <td>37919700.0</td>\n",
              "      <td>True</td>\n",
              "    </tr>\n",
              "    <tr>\n",
              "      <th>3</th>\n",
              "      <td>2014-09-20</td>\n",
              "      <td>394.673004</td>\n",
              "      <td>423.295990</td>\n",
              "      <td>389.882996</td>\n",
              "      <td>408.903992</td>\n",
              "      <td>408.903992</td>\n",
              "      <td>36863600.0</td>\n",
              "      <td>True</td>\n",
              "    </tr>\n",
              "    <tr>\n",
              "      <th>4</th>\n",
              "      <td>2014-09-21</td>\n",
              "      <td>408.084991</td>\n",
              "      <td>412.425995</td>\n",
              "      <td>393.181000</td>\n",
              "      <td>398.821014</td>\n",
              "      <td>398.821014</td>\n",
              "      <td>26580100.0</td>\n",
              "      <td>True</td>\n",
              "    </tr>\n",
              "  </tbody>\n",
              "</table>\n",
              "</div>"
            ],
            "text/plain": [
              "        date        open        high  ...    adjClose      volume  completitudF\n",
              "0 2014-09-17  465.864014  468.174011  ...  457.334015  21056800.0          True\n",
              "1 2014-09-18  456.859985  456.859985  ...  424.440002  34483200.0          True\n",
              "2 2014-09-19  424.102997  427.834991  ...  394.795990  37919700.0          True\n",
              "3 2014-09-20  394.673004  423.295990  ...  408.903992  36863600.0          True\n",
              "4 2014-09-21  408.084991  412.425995  ...  398.821014  26580100.0          True\n",
              "\n",
              "[5 rows x 8 columns]"
            ]
          },
          "metadata": {},
          "execution_count": 13
        }
      ]
    },
    {
      "cell_type": "code",
      "metadata": {
        "colab": {
          "base_uri": "https://localhost:8080/"
        },
        "id": "pl4shql1uWLC",
        "outputId": "4307dc2b-5ac9-4735-a815-4e47fbf47841"
      },
      "source": [
        "stock_prices.shape[0]"
      ],
      "execution_count": 14,
      "outputs": [
        {
          "output_type": "execute_result",
          "data": {
            "text/plain": [
              "2491"
            ]
          },
          "metadata": {},
          "execution_count": 14
        }
      ]
    },
    {
      "cell_type": "code",
      "metadata": {
        "colab": {
          "base_uri": "https://localhost:8080/"
        },
        "id": "qWAVkaa35y6y",
        "outputId": "f9d768aa-2a24-4635-f6b0-46d837ed8137"
      },
      "source": [
        "print(stock_prices['completitudF'].value_counts())\n",
        "#(stock_prices['completitudF'].value_counts()[False] / stock_prices.shape[0]) * 100"
      ],
      "execution_count": 15,
      "outputs": [
        {
          "output_type": "stream",
          "name": "stdout",
          "text": [
            "True     2487\n",
            "False       4\n",
            "Name: completitudF, dtype: int64\n"
          ]
        }
      ]
    },
    {
      "cell_type": "code",
      "metadata": {
        "colab": {
          "base_uri": "https://localhost:8080/"
        },
        "id": "DeSRULTfc1U1",
        "outputId": "e856cbec-ed90-4c35-8b79-2c6021e2e99e"
      },
      "source": [
        "completitud_d = (len(stock_prices['completitudF']) - sum(stock_prices['completitudF'])) / len(stock_prices['completitudF']) * 100\n",
        "print(completitud_d, '%')"
      ],
      "execution_count": 16,
      "outputs": [
        {
          "output_type": "stream",
          "name": "stdout",
          "text": [
            "0.16057808109193095 %\n"
          ]
        }
      ]
    },
    {
      "cell_type": "code",
      "metadata": {
        "colab": {
          "base_uri": "https://localhost:8080/"
        },
        "id": "QiQM_M1s2ejf",
        "outputId": "8a1ed55e-9c00-49f5-fdb0-4cbb01a44cd9"
      },
      "source": [
        "stock_prices.fillna(method=\"ffill\", inplace=True)\n",
        "stock_prices.isna().sum()"
      ],
      "execution_count": 17,
      "outputs": [
        {
          "output_type": "execute_result",
          "data": {
            "text/plain": [
              "date            0\n",
              "open            0\n",
              "high            0\n",
              "low             0\n",
              "close           0\n",
              "adjClose        0\n",
              "volume          0\n",
              "completitudF    0\n",
              "dtype: int64"
            ]
          },
          "metadata": {},
          "execution_count": 17
        }
      ]
    },
    {
      "cell_type": "code",
      "metadata": {
        "colab": {
          "base_uri": "https://localhost:8080/",
          "height": 424
        },
        "id": "8sc_aQQsktM9",
        "outputId": "c6ac3ed3-52b3-46de-a0f6-b4a48ebe8102"
      },
      "source": [
        "stock_prices.drop(['completitudF'], axis=1, inplace=True)\n",
        "stock_prices"
      ],
      "execution_count": 18,
      "outputs": [
        {
          "output_type": "execute_result",
          "data": {
            "text/html": [
              "<div>\n",
              "<style scoped>\n",
              "    .dataframe tbody tr th:only-of-type {\n",
              "        vertical-align: middle;\n",
              "    }\n",
              "\n",
              "    .dataframe tbody tr th {\n",
              "        vertical-align: top;\n",
              "    }\n",
              "\n",
              "    .dataframe thead th {\n",
              "        text-align: right;\n",
              "    }\n",
              "</style>\n",
              "<table border=\"1\" class=\"dataframe\">\n",
              "  <thead>\n",
              "    <tr style=\"text-align: right;\">\n",
              "      <th></th>\n",
              "      <th>date</th>\n",
              "      <th>open</th>\n",
              "      <th>high</th>\n",
              "      <th>low</th>\n",
              "      <th>close</th>\n",
              "      <th>adjClose</th>\n",
              "      <th>volume</th>\n",
              "    </tr>\n",
              "  </thead>\n",
              "  <tbody>\n",
              "    <tr>\n",
              "      <th>0</th>\n",
              "      <td>2014-09-17</td>\n",
              "      <td>465.864014</td>\n",
              "      <td>468.174011</td>\n",
              "      <td>452.421997</td>\n",
              "      <td>457.334015</td>\n",
              "      <td>457.334015</td>\n",
              "      <td>2.105680e+07</td>\n",
              "    </tr>\n",
              "    <tr>\n",
              "      <th>1</th>\n",
              "      <td>2014-09-18</td>\n",
              "      <td>456.859985</td>\n",
              "      <td>456.859985</td>\n",
              "      <td>413.104004</td>\n",
              "      <td>424.440002</td>\n",
              "      <td>424.440002</td>\n",
              "      <td>3.448320e+07</td>\n",
              "    </tr>\n",
              "    <tr>\n",
              "      <th>2</th>\n",
              "      <td>2014-09-19</td>\n",
              "      <td>424.102997</td>\n",
              "      <td>427.834991</td>\n",
              "      <td>384.532013</td>\n",
              "      <td>394.795990</td>\n",
              "      <td>394.795990</td>\n",
              "      <td>3.791970e+07</td>\n",
              "    </tr>\n",
              "    <tr>\n",
              "      <th>3</th>\n",
              "      <td>2014-09-20</td>\n",
              "      <td>394.673004</td>\n",
              "      <td>423.295990</td>\n",
              "      <td>389.882996</td>\n",
              "      <td>408.903992</td>\n",
              "      <td>408.903992</td>\n",
              "      <td>3.686360e+07</td>\n",
              "    </tr>\n",
              "    <tr>\n",
              "      <th>4</th>\n",
              "      <td>2014-09-21</td>\n",
              "      <td>408.084991</td>\n",
              "      <td>412.425995</td>\n",
              "      <td>393.181000</td>\n",
              "      <td>398.821014</td>\n",
              "      <td>398.821014</td>\n",
              "      <td>2.658010e+07</td>\n",
              "    </tr>\n",
              "    <tr>\n",
              "      <th>...</th>\n",
              "      <td>...</td>\n",
              "      <td>...</td>\n",
              "      <td>...</td>\n",
              "      <td>...</td>\n",
              "      <td>...</td>\n",
              "      <td>...</td>\n",
              "      <td>...</td>\n",
              "    </tr>\n",
              "    <tr>\n",
              "      <th>2486</th>\n",
              "      <td>2021-07-08</td>\n",
              "      <td>33889.605469</td>\n",
              "      <td>33907.906250</td>\n",
              "      <td>32133.183594</td>\n",
              "      <td>32877.371094</td>\n",
              "      <td>32877.371094</td>\n",
              "      <td>2.991040e+10</td>\n",
              "    </tr>\n",
              "    <tr>\n",
              "      <th>2487</th>\n",
              "      <td>2021-07-09</td>\n",
              "      <td>32861.671875</td>\n",
              "      <td>34042.292969</td>\n",
              "      <td>32318.880859</td>\n",
              "      <td>33798.011719</td>\n",
              "      <td>33798.011719</td>\n",
              "      <td>2.743602e+10</td>\n",
              "    </tr>\n",
              "    <tr>\n",
              "      <th>2488</th>\n",
              "      <td>2021-07-10</td>\n",
              "      <td>33811.242188</td>\n",
              "      <td>34209.070313</td>\n",
              "      <td>33116.011719</td>\n",
              "      <td>33520.519531</td>\n",
              "      <td>33520.519531</td>\n",
              "      <td>2.297187e+10</td>\n",
              "    </tr>\n",
              "    <tr>\n",
              "      <th>2489</th>\n",
              "      <td>2021-07-11</td>\n",
              "      <td>33509.078125</td>\n",
              "      <td>34584.703125</td>\n",
              "      <td>33346.738281</td>\n",
              "      <td>34240.187500</td>\n",
              "      <td>34240.187500</td>\n",
              "      <td>2.010873e+10</td>\n",
              "    </tr>\n",
              "    <tr>\n",
              "      <th>2490</th>\n",
              "      <td>2021-07-12</td>\n",
              "      <td>34254.015625</td>\n",
              "      <td>34592.156250</td>\n",
              "      <td>32697.308594</td>\n",
              "      <td>33155.847656</td>\n",
              "      <td>33155.847656</td>\n",
              "      <td>2.432150e+10</td>\n",
              "    </tr>\n",
              "  </tbody>\n",
              "</table>\n",
              "<p>2491 rows × 7 columns</p>\n",
              "</div>"
            ],
            "text/plain": [
              "           date          open  ...      adjClose        volume\n",
              "0    2014-09-17    465.864014  ...    457.334015  2.105680e+07\n",
              "1    2014-09-18    456.859985  ...    424.440002  3.448320e+07\n",
              "2    2014-09-19    424.102997  ...    394.795990  3.791970e+07\n",
              "3    2014-09-20    394.673004  ...    408.903992  3.686360e+07\n",
              "4    2014-09-21    408.084991  ...    398.821014  2.658010e+07\n",
              "...         ...           ...  ...           ...           ...\n",
              "2486 2021-07-08  33889.605469  ...  32877.371094  2.991040e+10\n",
              "2487 2021-07-09  32861.671875  ...  33798.011719  2.743602e+10\n",
              "2488 2021-07-10  33811.242188  ...  33520.519531  2.297187e+10\n",
              "2489 2021-07-11  33509.078125  ...  34240.187500  2.010873e+10\n",
              "2490 2021-07-12  34254.015625  ...  33155.847656  2.432150e+10\n",
              "\n",
              "[2491 rows x 7 columns]"
            ]
          },
          "metadata": {},
          "execution_count": 18
        }
      ]
    },
    {
      "cell_type": "markdown",
      "metadata": {
        "id": "Crj8VZe8gCkl"
      },
      "source": [
        "## Feature building"
      ]
    },
    {
      "cell_type": "markdown",
      "metadata": {
        "id": "O7ueWgRffSPT"
      },
      "source": [
        "Para contruir el atributo **go_up** vamos a basarnos en el atributo **close** inicialmente, en futuras iteraciones veremos otras maneras de hacerlo si es conveniente."
      ]
    },
    {
      "cell_type": "code",
      "metadata": {
        "colab": {
          "base_uri": "https://localhost:8080/",
          "height": 206
        },
        "id": "jy-GxUiIel6A",
        "outputId": "44918d1f-560d-401c-e3e2-7eb5b5c3b689"
      },
      "source": [
        "stock_prices['go_up'] = stock_prices.apply(lambda row: row.name > 0 and row['close'] > stock_prices.loc[ row.name-1 , : ]['close'], axis=1)\n",
        "stock_prices.head()"
      ],
      "execution_count": 19,
      "outputs": [
        {
          "output_type": "execute_result",
          "data": {
            "text/html": [
              "<div>\n",
              "<style scoped>\n",
              "    .dataframe tbody tr th:only-of-type {\n",
              "        vertical-align: middle;\n",
              "    }\n",
              "\n",
              "    .dataframe tbody tr th {\n",
              "        vertical-align: top;\n",
              "    }\n",
              "\n",
              "    .dataframe thead th {\n",
              "        text-align: right;\n",
              "    }\n",
              "</style>\n",
              "<table border=\"1\" class=\"dataframe\">\n",
              "  <thead>\n",
              "    <tr style=\"text-align: right;\">\n",
              "      <th></th>\n",
              "      <th>date</th>\n",
              "      <th>open</th>\n",
              "      <th>high</th>\n",
              "      <th>low</th>\n",
              "      <th>close</th>\n",
              "      <th>adjClose</th>\n",
              "      <th>volume</th>\n",
              "      <th>go_up</th>\n",
              "    </tr>\n",
              "  </thead>\n",
              "  <tbody>\n",
              "    <tr>\n",
              "      <th>0</th>\n",
              "      <td>2014-09-17</td>\n",
              "      <td>465.864014</td>\n",
              "      <td>468.174011</td>\n",
              "      <td>452.421997</td>\n",
              "      <td>457.334015</td>\n",
              "      <td>457.334015</td>\n",
              "      <td>21056800.0</td>\n",
              "      <td>False</td>\n",
              "    </tr>\n",
              "    <tr>\n",
              "      <th>1</th>\n",
              "      <td>2014-09-18</td>\n",
              "      <td>456.859985</td>\n",
              "      <td>456.859985</td>\n",
              "      <td>413.104004</td>\n",
              "      <td>424.440002</td>\n",
              "      <td>424.440002</td>\n",
              "      <td>34483200.0</td>\n",
              "      <td>False</td>\n",
              "    </tr>\n",
              "    <tr>\n",
              "      <th>2</th>\n",
              "      <td>2014-09-19</td>\n",
              "      <td>424.102997</td>\n",
              "      <td>427.834991</td>\n",
              "      <td>384.532013</td>\n",
              "      <td>394.795990</td>\n",
              "      <td>394.795990</td>\n",
              "      <td>37919700.0</td>\n",
              "      <td>False</td>\n",
              "    </tr>\n",
              "    <tr>\n",
              "      <th>3</th>\n",
              "      <td>2014-09-20</td>\n",
              "      <td>394.673004</td>\n",
              "      <td>423.295990</td>\n",
              "      <td>389.882996</td>\n",
              "      <td>408.903992</td>\n",
              "      <td>408.903992</td>\n",
              "      <td>36863600.0</td>\n",
              "      <td>True</td>\n",
              "    </tr>\n",
              "    <tr>\n",
              "      <th>4</th>\n",
              "      <td>2014-09-21</td>\n",
              "      <td>408.084991</td>\n",
              "      <td>412.425995</td>\n",
              "      <td>393.181000</td>\n",
              "      <td>398.821014</td>\n",
              "      <td>398.821014</td>\n",
              "      <td>26580100.0</td>\n",
              "      <td>False</td>\n",
              "    </tr>\n",
              "  </tbody>\n",
              "</table>\n",
              "</div>"
            ],
            "text/plain": [
              "        date        open        high  ...    adjClose      volume  go_up\n",
              "0 2014-09-17  465.864014  468.174011  ...  457.334015  21056800.0  False\n",
              "1 2014-09-18  456.859985  456.859985  ...  424.440002  34483200.0  False\n",
              "2 2014-09-19  424.102997  427.834991  ...  394.795990  37919700.0  False\n",
              "3 2014-09-20  394.673004  423.295990  ...  408.903992  36863600.0   True\n",
              "4 2014-09-21  408.084991  412.425995  ...  398.821014  26580100.0  False\n",
              "\n",
              "[5 rows x 8 columns]"
            ]
          },
          "metadata": {},
          "execution_count": 19
        }
      ]
    },
    {
      "cell_type": "code",
      "metadata": {
        "colab": {
          "base_uri": "https://localhost:8080/"
        },
        "id": "5tXPftG2hIgU",
        "outputId": "bd275027-b968-4b74-ca98-1547e142ac45"
      },
      "source": [
        "stock_prices.dtypes"
      ],
      "execution_count": 20,
      "outputs": [
        {
          "output_type": "execute_result",
          "data": {
            "text/plain": [
              "date        datetime64[ns]\n",
              "open               float64\n",
              "high               float64\n",
              "low                float64\n",
              "close              float64\n",
              "adjClose           float64\n",
              "volume             float64\n",
              "go_up                 bool\n",
              "dtype: object"
            ]
          },
          "metadata": {},
          "execution_count": 20
        }
      ]
    },
    {
      "cell_type": "code",
      "metadata": {
        "colab": {
          "base_uri": "https://localhost:8080/",
          "height": 206
        },
        "id": "N2EFl_PGgETO",
        "outputId": "f4faaace-1492-4bbc-8022-f53d4d2cd7de"
      },
      "source": [
        "close_df = stock_prices.drop(['adjClose'], axis=1)\n",
        "close_df.head()"
      ],
      "execution_count": 21,
      "outputs": [
        {
          "output_type": "execute_result",
          "data": {
            "text/html": [
              "<div>\n",
              "<style scoped>\n",
              "    .dataframe tbody tr th:only-of-type {\n",
              "        vertical-align: middle;\n",
              "    }\n",
              "\n",
              "    .dataframe tbody tr th {\n",
              "        vertical-align: top;\n",
              "    }\n",
              "\n",
              "    .dataframe thead th {\n",
              "        text-align: right;\n",
              "    }\n",
              "</style>\n",
              "<table border=\"1\" class=\"dataframe\">\n",
              "  <thead>\n",
              "    <tr style=\"text-align: right;\">\n",
              "      <th></th>\n",
              "      <th>date</th>\n",
              "      <th>open</th>\n",
              "      <th>high</th>\n",
              "      <th>low</th>\n",
              "      <th>close</th>\n",
              "      <th>volume</th>\n",
              "      <th>go_up</th>\n",
              "    </tr>\n",
              "  </thead>\n",
              "  <tbody>\n",
              "    <tr>\n",
              "      <th>0</th>\n",
              "      <td>2014-09-17</td>\n",
              "      <td>465.864014</td>\n",
              "      <td>468.174011</td>\n",
              "      <td>452.421997</td>\n",
              "      <td>457.334015</td>\n",
              "      <td>21056800.0</td>\n",
              "      <td>False</td>\n",
              "    </tr>\n",
              "    <tr>\n",
              "      <th>1</th>\n",
              "      <td>2014-09-18</td>\n",
              "      <td>456.859985</td>\n",
              "      <td>456.859985</td>\n",
              "      <td>413.104004</td>\n",
              "      <td>424.440002</td>\n",
              "      <td>34483200.0</td>\n",
              "      <td>False</td>\n",
              "    </tr>\n",
              "    <tr>\n",
              "      <th>2</th>\n",
              "      <td>2014-09-19</td>\n",
              "      <td>424.102997</td>\n",
              "      <td>427.834991</td>\n",
              "      <td>384.532013</td>\n",
              "      <td>394.795990</td>\n",
              "      <td>37919700.0</td>\n",
              "      <td>False</td>\n",
              "    </tr>\n",
              "    <tr>\n",
              "      <th>3</th>\n",
              "      <td>2014-09-20</td>\n",
              "      <td>394.673004</td>\n",
              "      <td>423.295990</td>\n",
              "      <td>389.882996</td>\n",
              "      <td>408.903992</td>\n",
              "      <td>36863600.0</td>\n",
              "      <td>True</td>\n",
              "    </tr>\n",
              "    <tr>\n",
              "      <th>4</th>\n",
              "      <td>2014-09-21</td>\n",
              "      <td>408.084991</td>\n",
              "      <td>412.425995</td>\n",
              "      <td>393.181000</td>\n",
              "      <td>398.821014</td>\n",
              "      <td>26580100.0</td>\n",
              "      <td>False</td>\n",
              "    </tr>\n",
              "  </tbody>\n",
              "</table>\n",
              "</div>"
            ],
            "text/plain": [
              "        date        open        high         low       close      volume  go_up\n",
              "0 2014-09-17  465.864014  468.174011  452.421997  457.334015  21056800.0  False\n",
              "1 2014-09-18  456.859985  456.859985  413.104004  424.440002  34483200.0  False\n",
              "2 2014-09-19  424.102997  427.834991  384.532013  394.795990  37919700.0  False\n",
              "3 2014-09-20  394.673004  423.295990  389.882996  408.903992  36863600.0   True\n",
              "4 2014-09-21  408.084991  412.425995  393.181000  398.821014  26580100.0  False"
            ]
          },
          "metadata": {},
          "execution_count": 21
        }
      ]
    },
    {
      "cell_type": "code",
      "metadata": {
        "colab": {
          "base_uri": "https://localhost:8080/",
          "height": 455
        },
        "id": "nbMwk2zIwyUX",
        "outputId": "abffe163-3978-4529-9915-7953b3f355a0"
      },
      "source": [
        "close_ts = close_df.set_index('date')\n",
        "close_ts"
      ],
      "execution_count": 22,
      "outputs": [
        {
          "output_type": "execute_result",
          "data": {
            "text/html": [
              "<div>\n",
              "<style scoped>\n",
              "    .dataframe tbody tr th:only-of-type {\n",
              "        vertical-align: middle;\n",
              "    }\n",
              "\n",
              "    .dataframe tbody tr th {\n",
              "        vertical-align: top;\n",
              "    }\n",
              "\n",
              "    .dataframe thead th {\n",
              "        text-align: right;\n",
              "    }\n",
              "</style>\n",
              "<table border=\"1\" class=\"dataframe\">\n",
              "  <thead>\n",
              "    <tr style=\"text-align: right;\">\n",
              "      <th></th>\n",
              "      <th>open</th>\n",
              "      <th>high</th>\n",
              "      <th>low</th>\n",
              "      <th>close</th>\n",
              "      <th>volume</th>\n",
              "      <th>go_up</th>\n",
              "    </tr>\n",
              "    <tr>\n",
              "      <th>date</th>\n",
              "      <th></th>\n",
              "      <th></th>\n",
              "      <th></th>\n",
              "      <th></th>\n",
              "      <th></th>\n",
              "      <th></th>\n",
              "    </tr>\n",
              "  </thead>\n",
              "  <tbody>\n",
              "    <tr>\n",
              "      <th>2014-09-17</th>\n",
              "      <td>465.864014</td>\n",
              "      <td>468.174011</td>\n",
              "      <td>452.421997</td>\n",
              "      <td>457.334015</td>\n",
              "      <td>2.105680e+07</td>\n",
              "      <td>False</td>\n",
              "    </tr>\n",
              "    <tr>\n",
              "      <th>2014-09-18</th>\n",
              "      <td>456.859985</td>\n",
              "      <td>456.859985</td>\n",
              "      <td>413.104004</td>\n",
              "      <td>424.440002</td>\n",
              "      <td>3.448320e+07</td>\n",
              "      <td>False</td>\n",
              "    </tr>\n",
              "    <tr>\n",
              "      <th>2014-09-19</th>\n",
              "      <td>424.102997</td>\n",
              "      <td>427.834991</td>\n",
              "      <td>384.532013</td>\n",
              "      <td>394.795990</td>\n",
              "      <td>3.791970e+07</td>\n",
              "      <td>False</td>\n",
              "    </tr>\n",
              "    <tr>\n",
              "      <th>2014-09-20</th>\n",
              "      <td>394.673004</td>\n",
              "      <td>423.295990</td>\n",
              "      <td>389.882996</td>\n",
              "      <td>408.903992</td>\n",
              "      <td>3.686360e+07</td>\n",
              "      <td>True</td>\n",
              "    </tr>\n",
              "    <tr>\n",
              "      <th>2014-09-21</th>\n",
              "      <td>408.084991</td>\n",
              "      <td>412.425995</td>\n",
              "      <td>393.181000</td>\n",
              "      <td>398.821014</td>\n",
              "      <td>2.658010e+07</td>\n",
              "      <td>False</td>\n",
              "    </tr>\n",
              "    <tr>\n",
              "      <th>...</th>\n",
              "      <td>...</td>\n",
              "      <td>...</td>\n",
              "      <td>...</td>\n",
              "      <td>...</td>\n",
              "      <td>...</td>\n",
              "      <td>...</td>\n",
              "    </tr>\n",
              "    <tr>\n",
              "      <th>2021-07-08</th>\n",
              "      <td>33889.605469</td>\n",
              "      <td>33907.906250</td>\n",
              "      <td>32133.183594</td>\n",
              "      <td>32877.371094</td>\n",
              "      <td>2.991040e+10</td>\n",
              "      <td>False</td>\n",
              "    </tr>\n",
              "    <tr>\n",
              "      <th>2021-07-09</th>\n",
              "      <td>32861.671875</td>\n",
              "      <td>34042.292969</td>\n",
              "      <td>32318.880859</td>\n",
              "      <td>33798.011719</td>\n",
              "      <td>2.743602e+10</td>\n",
              "      <td>True</td>\n",
              "    </tr>\n",
              "    <tr>\n",
              "      <th>2021-07-10</th>\n",
              "      <td>33811.242188</td>\n",
              "      <td>34209.070313</td>\n",
              "      <td>33116.011719</td>\n",
              "      <td>33520.519531</td>\n",
              "      <td>2.297187e+10</td>\n",
              "      <td>False</td>\n",
              "    </tr>\n",
              "    <tr>\n",
              "      <th>2021-07-11</th>\n",
              "      <td>33509.078125</td>\n",
              "      <td>34584.703125</td>\n",
              "      <td>33346.738281</td>\n",
              "      <td>34240.187500</td>\n",
              "      <td>2.010873e+10</td>\n",
              "      <td>True</td>\n",
              "    </tr>\n",
              "    <tr>\n",
              "      <th>2021-07-12</th>\n",
              "      <td>34254.015625</td>\n",
              "      <td>34592.156250</td>\n",
              "      <td>32697.308594</td>\n",
              "      <td>33155.847656</td>\n",
              "      <td>2.432150e+10</td>\n",
              "      <td>False</td>\n",
              "    </tr>\n",
              "  </tbody>\n",
              "</table>\n",
              "<p>2491 rows × 6 columns</p>\n",
              "</div>"
            ],
            "text/plain": [
              "                    open          high  ...        volume  go_up\n",
              "date                                    ...                     \n",
              "2014-09-17    465.864014    468.174011  ...  2.105680e+07  False\n",
              "2014-09-18    456.859985    456.859985  ...  3.448320e+07  False\n",
              "2014-09-19    424.102997    427.834991  ...  3.791970e+07  False\n",
              "2014-09-20    394.673004    423.295990  ...  3.686360e+07   True\n",
              "2014-09-21    408.084991    412.425995  ...  2.658010e+07  False\n",
              "...                  ...           ...  ...           ...    ...\n",
              "2021-07-08  33889.605469  33907.906250  ...  2.991040e+10  False\n",
              "2021-07-09  32861.671875  34042.292969  ...  2.743602e+10   True\n",
              "2021-07-10  33811.242188  34209.070313  ...  2.297187e+10  False\n",
              "2021-07-11  33509.078125  34584.703125  ...  2.010873e+10   True\n",
              "2021-07-12  34254.015625  34592.156250  ...  2.432150e+10  False\n",
              "\n",
              "[2491 rows x 6 columns]"
            ]
          },
          "metadata": {},
          "execution_count": 22
        }
      ]
    },
    {
      "cell_type": "markdown",
      "metadata": {
        "id": "8OTecttPgpvz"
      },
      "source": [
        "## Dataset as timeseries"
      ]
    },
    {
      "cell_type": "code",
      "metadata": {
        "id": "QPvCwCUlgpRk"
      },
      "source": [
        "# Draw Plot\n",
        "def plot_df(df, x, y, title=\"\", xlabel='Date', ylabel='Value', dpi=100):\n",
        "    plt.figure(figsize=(8,3), dpi=dpi)\n",
        "    plt.plot(x, y, color='tab:red')\n",
        "    plt.gca().set(title=title, xlabel=xlabel, ylabel=ylabel)\n",
        "    plt.show()"
      ],
      "execution_count": 23,
      "outputs": []
    },
    {
      "cell_type": "code",
      "metadata": {
        "id": "8yyCb7kThpyB",
        "colab": {
          "base_uri": "https://localhost:8080/",
          "height": 329
        },
        "outputId": "fc97843e-ac82-4c7e-a19f-4350bcad09c8"
      },
      "source": [
        "plot_df(close_df, x=close_df.index, y=close_df.close, title='Close Values $')    "
      ],
      "execution_count": 24,
      "outputs": [
        {
          "output_type": "display_data",
          "data": {
            "image/png": "[encoded data removed]",
            "text/plain": [
              "<Figure size 800x300 with 1 Axes>"
            ]
          },
          "metadata": {
            "needs_background": "light"
          }
        }
      ]
    },
    {
      "cell_type": "code",
      "metadata": {
        "colab": {
          "base_uri": "https://localhost:8080/",
          "height": 314
        },
        "id": "jPSBP0tilMwY",
        "outputId": "1cc76a09-f811-42f5-bc4c-553f49bef26d"
      },
      "source": [
        "close_df['go_up'].value_counts().plot(kind='bar', title='Go up ')"
      ],
      "execution_count": 25,
      "outputs": [
        {
          "output_type": "execute_result",
          "data": {
            "text/plain": [
              "<matplotlib.axes._subplots.AxesSubplot at 0x7fa07732ea10>"
            ]
          },
          "metadata": {},
          "execution_count": 25
        },
        {
          "output_type": "display_data",
          "data": {
            "image/png": "[encoded data removed]",
            "text/plain": [
              "<Figure size 432x288 with 1 Axes>"
            ]
          },
          "metadata": {
            "needs_background": "light"
          }
        }
      ]
    },
    {
      "cell_type": "markdown",
      "metadata": {
        "id": "YIOlMdtd8SQp"
      },
      "source": [
        "## Save Dataset"
      ]
    },
    {
      "cell_type": "code",
      "metadata": {
        "id": "I-cDi1y98R5l"
      },
      "source": [
        "close_df.to_csv('btcStocks.csv', index=False)"
      ],
      "execution_count": 26,
      "outputs": []
    }
  ]
}