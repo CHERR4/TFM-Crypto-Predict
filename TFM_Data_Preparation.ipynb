{
  "nbformat": 4,
  "nbformat_minor": 0,
  "metadata": {
    "colab": {
      "name": "TFM-Data-Preparation.ipynb",
      "provenance": [],
      "collapsed_sections": []
    },
    "kernelspec": {
      "display_name": "Python 3",
      "name": "python3"
    },
    "language_info": {
      "name": "python"
    }
  },
  "cells": [
    {
      "cell_type": "code",
      "metadata": {
        "id": "zCQ7hxRC0pi3"
      },
      "source": [
        "import os\n",
        "import numpy as np\n",
        "import pandas as pd\n",
        "import seaborn as sn\n",
        "from pylab import rcParams\n",
        "import matplotlib.pyplot as plt\n",
        "from matplotlib import rc\n",
        "import time\n",
        "import math\n",
        "import seaborn as sns"
      ],
      "execution_count": 1,
      "outputs": []
    },
    {
      "cell_type": "markdown",
      "metadata": {
        "id": "CtFGBxLtzMfF"
      },
      "source": [
        "## Data Collect"
      ]
    },
    {
      "cell_type": "code",
      "metadata": {
        "colab": {
          "base_uri": "https://localhost:8080/",
          "height": 206
        },
        "id": "BpM9Ya2K1eNL",
        "outputId": "70361d78-3ef7-4d3a-f439-3644cb7c3406"
      },
      "source": [
        "btc_path = \"https://query1.finance.yahoo.com/v7/finance/download/BTC-USD?period1=1410912000&period2=1626048000&interval=1d&events=history&includeAdjustedClose=true\"\n",
        "eth_path = \"https://query1.finance.yahoo.com/v7/finance/download/ETH-USD?period1=1410912000&period2=1626048000&interval=1d&events=history&includeAdjustedClose=true\"\n",
        "ada_path = \"https://query1.finance.yahoo.com/v7/finance/download/ADA-USD?period1=1410912000&period2=1626048000&interval=1d&events=history&includeAdjustedClose=true\"\n",
        "\n",
        "\n",
        "btc_prices = pd.read_csv(btc_path, parse_dates=['Date'])\n",
        "eth_prices = pd.read_csv(eth_path, parse_dates=['Date'])\n",
        "ada_prices = pd.read_csv(ada_path, parse_dates=['Date'])\n",
        "\n",
        "\n",
        "btc_prices.sort_values('Date', inplace=True)\n",
        "eth_prices.sort_values('Date', inplace=True)\n",
        "ada_prices.sort_values('Date', inplace=True)\n",
        "\n",
        "btc_prices.head()"
      ],
      "execution_count": 2,
      "outputs": [
        {
          "output_type": "execute_result",
          "data": {
            "text/html": [
              "<div>\n",
              "<style scoped>\n",
              "    .dataframe tbody tr th:only-of-type {\n",
              "        vertical-align: middle;\n",
              "    }\n",
              "\n",
              "    .dataframe tbody tr th {\n",
              "        vertical-align: top;\n",
              "    }\n",
              "\n",
              "    .dataframe thead th {\n",
              "        text-align: right;\n",
              "    }\n",
              "</style>\n",
              "<table border=\"1\" class=\"dataframe\">\n",
              "  <thead>\n",
              "    <tr style=\"text-align: right;\">\n",
              "      <th></th>\n",
              "      <th>Date</th>\n",
              "      <th>Open</th>\n",
              "      <th>High</th>\n",
              "      <th>Low</th>\n",
              "      <th>Close</th>\n",
              "      <th>Adj Close</th>\n",
              "      <th>Volume</th>\n",
              "    </tr>\n",
              "  </thead>\n",
              "  <tbody>\n",
              "    <tr>\n",
              "      <th>0</th>\n",
              "      <td>2014-09-17</td>\n",
              "      <td>465.864014</td>\n",
              "      <td>468.174011</td>\n",
              "      <td>452.421997</td>\n",
              "      <td>457.334015</td>\n",
              "      <td>457.334015</td>\n",
              "      <td>21056800.0</td>\n",
              "    </tr>\n",
              "    <tr>\n",
              "      <th>1</th>\n",
              "      <td>2014-09-18</td>\n",
              "      <td>456.859985</td>\n",
              "      <td>456.859985</td>\n",
              "      <td>413.104004</td>\n",
              "      <td>424.440002</td>\n",
              "      <td>424.440002</td>\n",
              "      <td>34483200.0</td>\n",
              "    </tr>\n",
              "    <tr>\n",
              "      <th>2</th>\n",
              "      <td>2014-09-19</td>\n",
              "      <td>424.102997</td>\n",
              "      <td>427.834991</td>\n",
              "      <td>384.532013</td>\n",
              "      <td>394.795990</td>\n",
              "      <td>394.795990</td>\n",
              "      <td>37919700.0</td>\n",
              "    </tr>\n",
              "    <tr>\n",
              "      <th>3</th>\n",
              "      <td>2014-09-20</td>\n",
              "      <td>394.673004</td>\n",
              "      <td>423.295990</td>\n",
              "      <td>389.882996</td>\n",
              "      <td>408.903992</td>\n",
              "      <td>408.903992</td>\n",
              "      <td>36863600.0</td>\n",
              "    </tr>\n",
              "    <tr>\n",
              "      <th>4</th>\n",
              "      <td>2014-09-21</td>\n",
              "      <td>408.084991</td>\n",
              "      <td>412.425995</td>\n",
              "      <td>393.181000</td>\n",
              "      <td>398.821014</td>\n",
              "      <td>398.821014</td>\n",
              "      <td>26580100.0</td>\n",
              "    </tr>\n",
              "  </tbody>\n",
              "</table>\n",
              "</div>"
            ],
            "text/plain": [
              "        Date        Open        High  ...       Close   Adj Close      Volume\n",
              "0 2014-09-17  465.864014  468.174011  ...  457.334015  457.334015  21056800.0\n",
              "1 2014-09-18  456.859985  456.859985  ...  424.440002  424.440002  34483200.0\n",
              "2 2014-09-19  424.102997  427.834991  ...  394.795990  394.795990  37919700.0\n",
              "3 2014-09-20  394.673004  423.295990  ...  408.903992  408.903992  36863600.0\n",
              "4 2014-09-21  408.084991  412.425995  ...  398.821014  398.821014  26580100.0\n",
              "\n",
              "[5 rows x 7 columns]"
            ]
          },
          "metadata": {},
          "execution_count": 2
        }
      ]
    },
    {
      "cell_type": "code",
      "metadata": {
        "colab": {
          "base_uri": "https://localhost:8080/",
          "height": 206
        },
        "id": "AzYbH2WtJvCm",
        "outputId": "41c5f021-1ea7-4a3f-f3a9-0c5994c3eb8b"
      },
      "source": [
        "eth_prices.head()"
      ],
      "execution_count": 3,
      "outputs": [
        {
          "output_type": "execute_result",
          "data": {
            "text/html": [
              "<div>\n",
              "<style scoped>\n",
              "    .dataframe tbody tr th:only-of-type {\n",
              "        vertical-align: middle;\n",
              "    }\n",
              "\n",
              "    .dataframe tbody tr th {\n",
              "        vertical-align: top;\n",
              "    }\n",
              "\n",
              "    .dataframe thead th {\n",
              "        text-align: right;\n",
              "    }\n",
              "</style>\n",
              "<table border=\"1\" class=\"dataframe\">\n",
              "  <thead>\n",
              "    <tr style=\"text-align: right;\">\n",
              "      <th></th>\n",
              "      <th>Date</th>\n",
              "      <th>Open</th>\n",
              "      <th>High</th>\n",
              "      <th>Low</th>\n",
              "      <th>Close</th>\n",
              "      <th>Adj Close</th>\n",
              "      <th>Volume</th>\n",
              "    </tr>\n",
              "  </thead>\n",
              "  <tbody>\n",
              "    <tr>\n",
              "      <th>0</th>\n",
              "      <td>2015-08-07</td>\n",
              "      <td>2.831620</td>\n",
              "      <td>3.536610</td>\n",
              "      <td>2.521120</td>\n",
              "      <td>2.772120</td>\n",
              "      <td>2.772120</td>\n",
              "      <td>164329.0</td>\n",
              "    </tr>\n",
              "    <tr>\n",
              "      <th>1</th>\n",
              "      <td>2015-08-08</td>\n",
              "      <td>2.793760</td>\n",
              "      <td>2.798810</td>\n",
              "      <td>0.714725</td>\n",
              "      <td>0.753325</td>\n",
              "      <td>0.753325</td>\n",
              "      <td>674188.0</td>\n",
              "    </tr>\n",
              "    <tr>\n",
              "      <th>2</th>\n",
              "      <td>2015-08-09</td>\n",
              "      <td>0.706136</td>\n",
              "      <td>0.879810</td>\n",
              "      <td>0.629191</td>\n",
              "      <td>0.701897</td>\n",
              "      <td>0.701897</td>\n",
              "      <td>532170.0</td>\n",
              "    </tr>\n",
              "    <tr>\n",
              "      <th>3</th>\n",
              "      <td>2015-08-10</td>\n",
              "      <td>0.713989</td>\n",
              "      <td>0.729854</td>\n",
              "      <td>0.636546</td>\n",
              "      <td>0.708448</td>\n",
              "      <td>0.708448</td>\n",
              "      <td>405283.0</td>\n",
              "    </tr>\n",
              "    <tr>\n",
              "      <th>4</th>\n",
              "      <td>2015-08-11</td>\n",
              "      <td>0.708087</td>\n",
              "      <td>1.131410</td>\n",
              "      <td>0.663235</td>\n",
              "      <td>1.067860</td>\n",
              "      <td>1.067860</td>\n",
              "      <td>1463100.0</td>\n",
              "    </tr>\n",
              "  </tbody>\n",
              "</table>\n",
              "</div>"
            ],
            "text/plain": [
              "        Date      Open      High       Low     Close  Adj Close     Volume\n",
              "0 2015-08-07  2.831620  3.536610  2.521120  2.772120   2.772120   164329.0\n",
              "1 2015-08-08  2.793760  2.798810  0.714725  0.753325   0.753325   674188.0\n",
              "2 2015-08-09  0.706136  0.879810  0.629191  0.701897   0.701897   532170.0\n",
              "3 2015-08-10  0.713989  0.729854  0.636546  0.708448   0.708448   405283.0\n",
              "4 2015-08-11  0.708087  1.131410  0.663235  1.067860   1.067860  1463100.0"
            ]
          },
          "metadata": {},
          "execution_count": 3
        }
      ]
    },
    {
      "cell_type": "code",
      "metadata": {
        "colab": {
          "base_uri": "https://localhost:8080/",
          "height": 206
        },
        "id": "DcIsqfRiJzyI",
        "outputId": "939464dc-5ee3-49ee-9da0-bc2dcae95498"
      },
      "source": [
        "ada_prices.head()"
      ],
      "execution_count": 4,
      "outputs": [
        {
          "output_type": "execute_result",
          "data": {
            "text/html": [
              "<div>\n",
              "<style scoped>\n",
              "    .dataframe tbody tr th:only-of-type {\n",
              "        vertical-align: middle;\n",
              "    }\n",
              "\n",
              "    .dataframe tbody tr th {\n",
              "        vertical-align: top;\n",
              "    }\n",
              "\n",
              "    .dataframe thead th {\n",
              "        text-align: right;\n",
              "    }\n",
              "</style>\n",
              "<table border=\"1\" class=\"dataframe\">\n",
              "  <thead>\n",
              "    <tr style=\"text-align: right;\">\n",
              "      <th></th>\n",
              "      <th>Date</th>\n",
              "      <th>Open</th>\n",
              "      <th>High</th>\n",
              "      <th>Low</th>\n",
              "      <th>Close</th>\n",
              "      <th>Adj Close</th>\n",
              "      <th>Volume</th>\n",
              "    </tr>\n",
              "  </thead>\n",
              "  <tbody>\n",
              "    <tr>\n",
              "      <th>0</th>\n",
              "      <td>2017-10-01</td>\n",
              "      <td>0.021678</td>\n",
              "      <td>0.032226</td>\n",
              "      <td>0.017354</td>\n",
              "      <td>0.024969</td>\n",
              "      <td>0.024969</td>\n",
              "      <td>50068700.0</td>\n",
              "    </tr>\n",
              "    <tr>\n",
              "      <th>1</th>\n",
              "      <td>2017-10-02</td>\n",
              "      <td>0.024607</td>\n",
              "      <td>0.030088</td>\n",
              "      <td>0.019969</td>\n",
              "      <td>0.025932</td>\n",
              "      <td>0.025932</td>\n",
              "      <td>57641300.0</td>\n",
              "    </tr>\n",
              "    <tr>\n",
              "      <th>2</th>\n",
              "      <td>2017-10-03</td>\n",
              "      <td>0.025757</td>\n",
              "      <td>0.027425</td>\n",
              "      <td>0.020690</td>\n",
              "      <td>0.020816</td>\n",
              "      <td>0.020816</td>\n",
              "      <td>16997800.0</td>\n",
              "    </tr>\n",
              "    <tr>\n",
              "      <th>3</th>\n",
              "      <td>2017-10-04</td>\n",
              "      <td>0.020864</td>\n",
              "      <td>0.022806</td>\n",
              "      <td>0.020864</td>\n",
              "      <td>0.021931</td>\n",
              "      <td>0.021931</td>\n",
              "      <td>9000050.0</td>\n",
              "    </tr>\n",
              "    <tr>\n",
              "      <th>4</th>\n",
              "      <td>2017-10-05</td>\n",
              "      <td>0.021951</td>\n",
              "      <td>0.022154</td>\n",
              "      <td>0.020859</td>\n",
              "      <td>0.021489</td>\n",
              "      <td>0.021489</td>\n",
              "      <td>5562510.0</td>\n",
              "    </tr>\n",
              "  </tbody>\n",
              "</table>\n",
              "</div>"
            ],
            "text/plain": [
              "        Date      Open      High       Low     Close  Adj Close      Volume\n",
              "0 2017-10-01  0.021678  0.032226  0.017354  0.024969   0.024969  50068700.0\n",
              "1 2017-10-02  0.024607  0.030088  0.019969  0.025932   0.025932  57641300.0\n",
              "2 2017-10-03  0.025757  0.027425  0.020690  0.020816   0.020816  16997800.0\n",
              "3 2017-10-04  0.020864  0.022806  0.020864  0.021931   0.021931   9000050.0\n",
              "4 2017-10-05  0.021951  0.022154  0.020859  0.021489   0.021489   5562510.0"
            ]
          },
          "metadata": {},
          "execution_count": 4
        }
      ]
    },
    {
      "cell_type": "markdown",
      "metadata": {
        "id": "EIlYfpgezft5"
      },
      "source": [
        "## Descripción de los datos\n",
        "Antes de describir los datos vamos a realizar un cambio en el orden de las columnas para hacerlas más intuitivas a las hora de realizar el código."
      ]
    },
    {
      "cell_type": "code",
      "metadata": {
        "colab": {
          "base_uri": "https://localhost:8080/"
        },
        "id": "7HA6ONm5gVWp",
        "outputId": "ffc0b3af-3a45-4646-8725-d40a1f4ace4b"
      },
      "source": [
        "btc_prices['Date'].describe()"
      ],
      "execution_count": 5,
      "outputs": [
        {
          "output_type": "stream",
          "name": "stderr",
          "text": [
            "/usr/local/lib/python3.7/dist-packages/ipykernel_launcher.py:1: FutureWarning: Treating datetime data as categorical rather than numeric in `.describe` is deprecated and will be removed in a future version of pandas. Specify `datetime_is_numeric=True` to silence this warning and adopt the future behavior now.\n",
            "  \"\"\"Entry point for launching an IPython kernel.\n"
          ]
        },
        {
          "output_type": "execute_result",
          "data": {
            "text/plain": [
              "count                    2491\n",
              "unique                   2491\n",
              "top       2016-11-14 00:00:00\n",
              "freq                        1\n",
              "first     2014-09-17 00:00:00\n",
              "last      2021-07-12 00:00:00\n",
              "Name: Date, dtype: object"
            ]
          },
          "metadata": {},
          "execution_count": 5
        }
      ]
    },
    {
      "cell_type": "code",
      "metadata": {
        "colab": {
          "base_uri": "https://localhost:8080/",
          "height": 300
        },
        "id": "OZ_hxeevgE6l",
        "outputId": "1069b531-efdd-4c05-a67c-9cd9b93e013b"
      },
      "source": [
        "btc_prices.describe()"
      ],
      "execution_count": 6,
      "outputs": [
        {
          "output_type": "execute_result",
          "data": {
            "text/html": [
              "<div>\n",
              "<style scoped>\n",
              "    .dataframe tbody tr th:only-of-type {\n",
              "        vertical-align: middle;\n",
              "    }\n",
              "\n",
              "    .dataframe tbody tr th {\n",
              "        vertical-align: top;\n",
              "    }\n",
              "\n",
              "    .dataframe thead th {\n",
              "        text-align: right;\n",
              "    }\n",
              "</style>\n",
              "<table border=\"1\" class=\"dataframe\">\n",
              "  <thead>\n",
              "    <tr style=\"text-align: right;\">\n",
              "      <th></th>\n",
              "      <th>Open</th>\n",
              "      <th>High</th>\n",
              "      <th>Low</th>\n",
              "      <th>Close</th>\n",
              "      <th>Adj Close</th>\n",
              "      <th>Volume</th>\n",
              "    </tr>\n",
              "  </thead>\n",
              "  <tbody>\n",
              "    <tr>\n",
              "      <th>count</th>\n",
              "      <td>2487.000000</td>\n",
              "      <td>2487.000000</td>\n",
              "      <td>2487.000000</td>\n",
              "      <td>2487.000000</td>\n",
              "      <td>2487.000000</td>\n",
              "      <td>2.487000e+03</td>\n",
              "    </tr>\n",
              "    <tr>\n",
              "      <th>mean</th>\n",
              "      <td>8035.557402</td>\n",
              "      <td>8265.625742</td>\n",
              "      <td>7779.469894</td>\n",
              "      <td>8047.622041</td>\n",
              "      <td>8047.622041</td>\n",
              "      <td>1.296685e+10</td>\n",
              "    </tr>\n",
              "    <tr>\n",
              "      <th>std</th>\n",
              "      <td>12049.575929</td>\n",
              "      <td>12426.936249</td>\n",
              "      <td>11599.744147</td>\n",
              "      <td>12057.099669</td>\n",
              "      <td>12057.099669</td>\n",
              "      <td>1.981840e+10</td>\n",
              "    </tr>\n",
              "    <tr>\n",
              "      <th>min</th>\n",
              "      <td>176.897003</td>\n",
              "      <td>211.731003</td>\n",
              "      <td>171.509995</td>\n",
              "      <td>178.102997</td>\n",
              "      <td>178.102997</td>\n",
              "      <td>5.914570e+06</td>\n",
              "    </tr>\n",
              "    <tr>\n",
              "      <th>25%</th>\n",
              "      <td>529.789002</td>\n",
              "      <td>543.714508</td>\n",
              "      <td>521.812500</td>\n",
              "      <td>532.625000</td>\n",
              "      <td>532.625000</td>\n",
              "      <td>6.949860e+07</td>\n",
              "    </tr>\n",
              "    <tr>\n",
              "      <th>50%</th>\n",
              "      <td>4570.359863</td>\n",
              "      <td>4655.040039</td>\n",
              "      <td>4365.640137</td>\n",
              "      <td>4579.020020</td>\n",
              "      <td>4579.020020</td>\n",
              "      <td>4.148070e+09</td>\n",
              "    </tr>\n",
              "    <tr>\n",
              "      <th>75%</th>\n",
              "      <td>9307.520996</td>\n",
              "      <td>9464.549805</td>\n",
              "      <td>9148.923340</td>\n",
              "      <td>9315.120117</td>\n",
              "      <td>9315.120117</td>\n",
              "      <td>1.963978e+10</td>\n",
              "    </tr>\n",
              "    <tr>\n",
              "      <th>max</th>\n",
              "      <td>63523.753906</td>\n",
              "      <td>64863.097656</td>\n",
              "      <td>62208.964844</td>\n",
              "      <td>63503.457031</td>\n",
              "      <td>63503.457031</td>\n",
              "      <td>3.509679e+11</td>\n",
              "    </tr>\n",
              "  </tbody>\n",
              "</table>\n",
              "</div>"
            ],
            "text/plain": [
              "               Open          High  ...     Adj Close        Volume\n",
              "count   2487.000000   2487.000000  ...   2487.000000  2.487000e+03\n",
              "mean    8035.557402   8265.625742  ...   8047.622041  1.296685e+10\n",
              "std    12049.575929  12426.936249  ...  12057.099669  1.981840e+10\n",
              "min      176.897003    211.731003  ...    178.102997  5.914570e+06\n",
              "25%      529.789002    543.714508  ...    532.625000  6.949860e+07\n",
              "50%     4570.359863   4655.040039  ...   4579.020020  4.148070e+09\n",
              "75%     9307.520996   9464.549805  ...   9315.120117  1.963978e+10\n",
              "max    63523.753906  64863.097656  ...  63503.457031  3.509679e+11\n",
              "\n",
              "[8 rows x 6 columns]"
            ]
          },
          "metadata": {},
          "execution_count": 6
        }
      ]
    },
    {
      "cell_type": "code",
      "metadata": {
        "colab": {
          "base_uri": "https://localhost:8080/"
        },
        "id": "YnbSMXqDgdS3",
        "outputId": "89630ccd-a09f-482a-8c3d-a049b153aecf"
      },
      "source": [
        "eth_prices['Date'].describe()"
      ],
      "execution_count": 7,
      "outputs": [
        {
          "output_type": "stream",
          "name": "stderr",
          "text": [
            "/usr/local/lib/python3.7/dist-packages/ipykernel_launcher.py:1: FutureWarning: Treating datetime data as categorical rather than numeric in `.describe` is deprecated and will be removed in a future version of pandas. Specify `datetime_is_numeric=True` to silence this warning and adopt the future behavior now.\n",
            "  \"\"\"Entry point for launching an IPython kernel.\n"
          ]
        },
        {
          "output_type": "execute_result",
          "data": {
            "text/plain": [
              "count                    2167\n",
              "unique                   2167\n",
              "top       2016-11-14 00:00:00\n",
              "freq                        1\n",
              "first     2015-08-07 00:00:00\n",
              "last      2021-07-12 00:00:00\n",
              "Name: Date, dtype: object"
            ]
          },
          "metadata": {},
          "execution_count": 7
        }
      ]
    },
    {
      "cell_type": "code",
      "metadata": {
        "colab": {
          "base_uri": "https://localhost:8080/",
          "height": 300
        },
        "id": "AUQWP6WZgHTv",
        "outputId": "2f1d45bd-49d4-490d-a772-7c4ea3abb182"
      },
      "source": [
        "eth_prices.describe()"
      ],
      "execution_count": 8,
      "outputs": [
        {
          "output_type": "execute_result",
          "data": {
            "text/html": [
              "<div>\n",
              "<style scoped>\n",
              "    .dataframe tbody tr th:only-of-type {\n",
              "        vertical-align: middle;\n",
              "    }\n",
              "\n",
              "    .dataframe tbody tr th {\n",
              "        vertical-align: top;\n",
              "    }\n",
              "\n",
              "    .dataframe thead th {\n",
              "        text-align: right;\n",
              "    }\n",
              "</style>\n",
              "<table border=\"1\" class=\"dataframe\">\n",
              "  <thead>\n",
              "    <tr style=\"text-align: right;\">\n",
              "      <th></th>\n",
              "      <th>Open</th>\n",
              "      <th>High</th>\n",
              "      <th>Low</th>\n",
              "      <th>Close</th>\n",
              "      <th>Adj Close</th>\n",
              "      <th>Volume</th>\n",
              "    </tr>\n",
              "  </thead>\n",
              "  <tbody>\n",
              "    <tr>\n",
              "      <th>count</th>\n",
              "      <td>2163.000000</td>\n",
              "      <td>2163.000000</td>\n",
              "      <td>2163.000000</td>\n",
              "      <td>2163.000000</td>\n",
              "      <td>2163.000000</td>\n",
              "      <td>2.163000e+03</td>\n",
              "    </tr>\n",
              "    <tr>\n",
              "      <th>mean</th>\n",
              "      <td>387.838248</td>\n",
              "      <td>403.296321</td>\n",
              "      <td>370.337959</td>\n",
              "      <td>388.710620</td>\n",
              "      <td>388.710620</td>\n",
              "      <td>7.063955e+09</td>\n",
              "    </tr>\n",
              "    <tr>\n",
              "      <th>std</th>\n",
              "      <td>606.875151</td>\n",
              "      <td>635.118162</td>\n",
              "      <td>573.602295</td>\n",
              "      <td>607.794395</td>\n",
              "      <td>607.794395</td>\n",
              "      <td>1.065633e+10</td>\n",
              "    </tr>\n",
              "    <tr>\n",
              "      <th>min</th>\n",
              "      <td>0.431589</td>\n",
              "      <td>0.482988</td>\n",
              "      <td>0.420897</td>\n",
              "      <td>0.434829</td>\n",
              "      <td>0.434829</td>\n",
              "      <td>1.021280e+05</td>\n",
              "    </tr>\n",
              "    <tr>\n",
              "      <th>25%</th>\n",
              "      <td>13.752700</td>\n",
              "      <td>14.263150</td>\n",
              "      <td>13.189700</td>\n",
              "      <td>13.802300</td>\n",
              "      <td>13.802300</td>\n",
              "      <td>3.823745e+07</td>\n",
              "    </tr>\n",
              "    <tr>\n",
              "      <th>50%</th>\n",
              "      <td>198.891510</td>\n",
              "      <td>205.580994</td>\n",
              "      <td>193.410995</td>\n",
              "      <td>199.188675</td>\n",
              "      <td>199.188675</td>\n",
              "      <td>2.150370e+09</td>\n",
              "    </tr>\n",
              "    <tr>\n",
              "      <th>75%</th>\n",
              "      <td>387.415650</td>\n",
              "      <td>398.901458</td>\n",
              "      <td>376.659500</td>\n",
              "      <td>387.392639</td>\n",
              "      <td>387.392639</td>\n",
              "      <td>9.623712e+09</td>\n",
              "    </tr>\n",
              "    <tr>\n",
              "      <th>max</th>\n",
              "      <td>4174.635742</td>\n",
              "      <td>4362.350586</td>\n",
              "      <td>3785.848633</td>\n",
              "      <td>4168.701172</td>\n",
              "      <td>4168.701172</td>\n",
              "      <td>8.448291e+10</td>\n",
              "    </tr>\n",
              "  </tbody>\n",
              "</table>\n",
              "</div>"
            ],
            "text/plain": [
              "              Open         High  ...    Adj Close        Volume\n",
              "count  2163.000000  2163.000000  ...  2163.000000  2.163000e+03\n",
              "mean    387.838248   403.296321  ...   388.710620  7.063955e+09\n",
              "std     606.875151   635.118162  ...   607.794395  1.065633e+10\n",
              "min       0.431589     0.482988  ...     0.434829  1.021280e+05\n",
              "25%      13.752700    14.263150  ...    13.802300  3.823745e+07\n",
              "50%     198.891510   205.580994  ...   199.188675  2.150370e+09\n",
              "75%     387.415650   398.901458  ...   387.392639  9.623712e+09\n",
              "max    4174.635742  4362.350586  ...  4168.701172  8.448291e+10\n",
              "\n",
              "[8 rows x 6 columns]"
            ]
          },
          "metadata": {},
          "execution_count": 8
        }
      ]
    },
    {
      "cell_type": "code",
      "metadata": {
        "colab": {
          "base_uri": "https://localhost:8080/"
        },
        "id": "S9qjqEn1gm7d",
        "outputId": "81e6a75c-2110-4f4d-e6ed-9f2cc288b54b"
      },
      "source": [
        "ada_prices['Date'].describe()"
      ],
      "execution_count": 9,
      "outputs": [
        {
          "output_type": "stream",
          "name": "stderr",
          "text": [
            "/usr/local/lib/python3.7/dist-packages/ipykernel_launcher.py:1: FutureWarning: Treating datetime data as categorical rather than numeric in `.describe` is deprecated and will be removed in a future version of pandas. Specify `datetime_is_numeric=True` to silence this warning and adopt the future behavior now.\n",
            "  \"\"\"Entry point for launching an IPython kernel.\n"
          ]
        },
        {
          "output_type": "execute_result",
          "data": {
            "text/plain": [
              "count                    1381\n",
              "unique                   1381\n",
              "top       2017-10-30 00:00:00\n",
              "freq                        1\n",
              "first     2017-10-01 00:00:00\n",
              "last      2021-07-12 00:00:00\n",
              "Name: Date, dtype: object"
            ]
          },
          "metadata": {},
          "execution_count": 9
        }
      ]
    },
    {
      "cell_type": "code",
      "metadata": {
        "colab": {
          "base_uri": "https://localhost:8080/",
          "height": 300
        },
        "id": "_Du9tpL-gJ6C",
        "outputId": "11ed1e82-d517-4ae5-8dfe-0409a5c5c931"
      },
      "source": [
        "ada_prices.describe()"
      ],
      "execution_count": 10,
      "outputs": [
        {
          "output_type": "execute_result",
          "data": {
            "text/html": [
              "<div>\n",
              "<style scoped>\n",
              "    .dataframe tbody tr th:only-of-type {\n",
              "        vertical-align: middle;\n",
              "    }\n",
              "\n",
              "    .dataframe tbody tr th {\n",
              "        vertical-align: top;\n",
              "    }\n",
              "\n",
              "    .dataframe thead th {\n",
              "        text-align: right;\n",
              "    }\n",
              "</style>\n",
              "<table border=\"1\" class=\"dataframe\">\n",
              "  <thead>\n",
              "    <tr style=\"text-align: right;\">\n",
              "      <th></th>\n",
              "      <th>Open</th>\n",
              "      <th>High</th>\n",
              "      <th>Low</th>\n",
              "      <th>Close</th>\n",
              "      <th>Adj Close</th>\n",
              "      <th>Volume</th>\n",
              "    </tr>\n",
              "  </thead>\n",
              "  <tbody>\n",
              "    <tr>\n",
              "      <th>count</th>\n",
              "      <td>1377.000000</td>\n",
              "      <td>1377.000000</td>\n",
              "      <td>1377.000000</td>\n",
              "      <td>1377.000000</td>\n",
              "      <td>1377.000000</td>\n",
              "      <td>1.377000e+03</td>\n",
              "    </tr>\n",
              "    <tr>\n",
              "      <th>mean</th>\n",
              "      <td>0.260437</td>\n",
              "      <td>0.275009</td>\n",
              "      <td>0.244727</td>\n",
              "      <td>0.261375</td>\n",
              "      <td>0.261375</td>\n",
              "      <td>8.927668e+08</td>\n",
              "    </tr>\n",
              "    <tr>\n",
              "      <th>std</th>\n",
              "      <td>0.414443</td>\n",
              "      <td>0.439198</td>\n",
              "      <td>0.387126</td>\n",
              "      <td>0.415450</td>\n",
              "      <td>0.415450</td>\n",
              "      <td>2.106025e+09</td>\n",
              "    </tr>\n",
              "    <tr>\n",
              "      <th>min</th>\n",
              "      <td>0.018414</td>\n",
              "      <td>0.021050</td>\n",
              "      <td>0.017354</td>\n",
              "      <td>0.018539</td>\n",
              "      <td>0.018539</td>\n",
              "      <td>1.739460e+06</td>\n",
              "    </tr>\n",
              "    <tr>\n",
              "      <th>25%</th>\n",
              "      <td>0.045938</td>\n",
              "      <td>0.047653</td>\n",
              "      <td>0.044644</td>\n",
              "      <td>0.045989</td>\n",
              "      <td>0.045989</td>\n",
              "      <td>5.014390e+07</td>\n",
              "    </tr>\n",
              "    <tr>\n",
              "      <th>50%</th>\n",
              "      <td>0.086989</td>\n",
              "      <td>0.090716</td>\n",
              "      <td>0.083283</td>\n",
              "      <td>0.087370</td>\n",
              "      <td>0.087370</td>\n",
              "      <td>1.193489e+08</td>\n",
              "    </tr>\n",
              "    <tr>\n",
              "      <th>75%</th>\n",
              "      <td>0.188844</td>\n",
              "      <td>0.201517</td>\n",
              "      <td>0.175057</td>\n",
              "      <td>0.192164</td>\n",
              "      <td>0.192164</td>\n",
              "      <td>4.575579e+08</td>\n",
              "    </tr>\n",
              "    <tr>\n",
              "      <th>max</th>\n",
              "      <td>2.300190</td>\n",
              "      <td>2.461766</td>\n",
              "      <td>2.013285</td>\n",
              "      <td>2.309113</td>\n",
              "      <td>2.309113</td>\n",
              "      <td>1.914198e+10</td>\n",
              "    </tr>\n",
              "  </tbody>\n",
              "</table>\n",
              "</div>"
            ],
            "text/plain": [
              "              Open         High  ...    Adj Close        Volume\n",
              "count  1377.000000  1377.000000  ...  1377.000000  1.377000e+03\n",
              "mean      0.260437     0.275009  ...     0.261375  8.927668e+08\n",
              "std       0.414443     0.439198  ...     0.415450  2.106025e+09\n",
              "min       0.018414     0.021050  ...     0.018539  1.739460e+06\n",
              "25%       0.045938     0.047653  ...     0.045989  5.014390e+07\n",
              "50%       0.086989     0.090716  ...     0.087370  1.193489e+08\n",
              "75%       0.188844     0.201517  ...     0.192164  4.575579e+08\n",
              "max       2.300190     2.461766  ...     2.309113  1.914198e+10\n",
              "\n",
              "[8 rows x 6 columns]"
            ]
          },
          "metadata": {},
          "execution_count": 10
        }
      ]
    },
    {
      "cell_type": "markdown",
      "metadata": {
        "id": "m0z8bFtEkLgw"
      },
      "source": [
        "## Calidad de los datos"
      ]
    },
    {
      "cell_type": "code",
      "metadata": {
        "colab": {
          "base_uri": "https://localhost:8080/"
        },
        "id": "OT2rpImNhM66",
        "outputId": "67a3580f-a1f7-46f5-aede-448f6bacf392"
      },
      "source": [
        "def nulos_x_fila(fila):\n",
        "    nulos = len(fila) - fila.count() #Se calcula la cantidad de valores nulos en la fila\n",
        "    umbral = 0.2 \n",
        "    #Se evalua si se supera el umbral definido\n",
        "    if (nulos > (len(fila) * umbral)):\n",
        "        return False\n",
        "    else:\n",
        "        return True\n",
        "      \n",
        "btc_prices['completitudF'] = btc_prices.apply(lambda row: nulos_x_fila(row), axis=1)\n",
        "btc_prices['completitudF'].value_counts()"
      ],
      "execution_count": 11,
      "outputs": [
        {
          "output_type": "execute_result",
          "data": {
            "text/plain": [
              "True     2487\n",
              "False       4\n",
              "Name: completitudF, dtype: int64"
            ]
          },
          "metadata": {},
          "execution_count": 11
        }
      ]
    },
    {
      "cell_type": "code",
      "metadata": {
        "colab": {
          "base_uri": "https://localhost:8080/"
        },
        "id": "W-1xpr5phYE6",
        "outputId": "05ba3783-1ab9-4f05-9b39-e959c06e4719"
      },
      "source": [
        "eth_prices['completitudF'] = eth_prices.apply(lambda row: nulos_x_fila(row), axis=1)\n",
        "eth_prices['completitudF'].value_counts()"
      ],
      "execution_count": 12,
      "outputs": [
        {
          "output_type": "execute_result",
          "data": {
            "text/plain": [
              "True     2163\n",
              "False       4\n",
              "Name: completitudF, dtype: int64"
            ]
          },
          "metadata": {},
          "execution_count": 12
        }
      ]
    },
    {
      "cell_type": "code",
      "metadata": {
        "colab": {
          "base_uri": "https://localhost:8080/"
        },
        "id": "CgavUUkRhVZV",
        "outputId": "2b20c0a1-9055-492a-f4c5-d4b02c8b24c8"
      },
      "source": [
        "ada_prices['completitudF'] = ada_prices.apply(lambda row: nulos_x_fila(row), axis=1)\n",
        "ada_prices['completitudF'].value_counts()"
      ],
      "execution_count": 13,
      "outputs": [
        {
          "output_type": "execute_result",
          "data": {
            "text/plain": [
              "True     1377\n",
              "False       4\n",
              "Name: completitudF, dtype: int64"
            ]
          },
          "metadata": {},
          "execution_count": 13
        }
      ]
    },
    {
      "cell_type": "code",
      "metadata": {
        "colab": {
          "base_uri": "https://localhost:8080/"
        },
        "id": "J_kS0k_phl9w",
        "outputId": "290f18cc-fe41-4cbe-ea58-bdac28eabe16"
      },
      "source": [
        "completitud_d = (len(btc_prices['completitudF']) - sum(btc_prices['completitudF'])) / len(btc_prices['completitudF']) * 100\n",
        "print('Completitud dataset Bitcoin:', completitud_d, '%')"
      ],
      "execution_count": 14,
      "outputs": [
        {
          "output_type": "stream",
          "name": "stdout",
          "text": [
            "Completitud dataset Bitcoin: 0.16057808109193095 %\n"
          ]
        }
      ]
    },
    {
      "cell_type": "code",
      "metadata": {
        "colab": {
          "base_uri": "https://localhost:8080/"
        },
        "id": "aJzklDJnjLKF",
        "outputId": "a1791c09-87d2-40ec-e36e-2871f3602b08"
      },
      "source": [
        "completitud_d = (len(eth_prices['completitudF']) - sum(eth_prices['completitudF'])) / len(eth_prices['completitudF']) * 100\n",
        "print('Completitud dataset Ethereum:', completitud_d, '%')"
      ],
      "execution_count": 15,
      "outputs": [
        {
          "output_type": "stream",
          "name": "stdout",
          "text": [
            "Completitud dataset Ethereum: 0.18458698661744347 %\n"
          ]
        }
      ]
    },
    {
      "cell_type": "code",
      "metadata": {
        "colab": {
          "base_uri": "https://localhost:8080/"
        },
        "id": "imU_TcxmjVy6",
        "outputId": "89493700-9cdc-48e1-9484-845791b35691"
      },
      "source": [
        "completitud_d = (len(ada_prices['completitudF']) - sum(ada_prices['completitudF'])) / len(ada_prices['completitudF']) * 100\n",
        "print('Completitud dataset Cardano:', completitud_d, '%')"
      ],
      "execution_count": 16,
      "outputs": [
        {
          "output_type": "stream",
          "name": "stdout",
          "text": [
            "Completitud dataset Cardano: 0.2896451846488052 %\n"
          ]
        }
      ]
    },
    {
      "cell_type": "code",
      "metadata": {
        "colab": {
          "base_uri": "https://localhost:8080/",
          "height": 175
        },
        "id": "lrUaEluAh8Qo",
        "outputId": "a6b1d3ed-b345-45c1-e439-24a698031832"
      },
      "source": [
        "btc_prices[btc_prices['completitudF'] == False]"
      ],
      "execution_count": 17,
      "outputs": [
        {
          "output_type": "execute_result",
          "data": {
            "text/html": [
              "<div>\n",
              "<style scoped>\n",
              "    .dataframe tbody tr th:only-of-type {\n",
              "        vertical-align: middle;\n",
              "    }\n",
              "\n",
              "    .dataframe tbody tr th {\n",
              "        vertical-align: top;\n",
              "    }\n",
              "\n",
              "    .dataframe thead th {\n",
              "        text-align: right;\n",
              "    }\n",
              "</style>\n",
              "<table border=\"1\" class=\"dataframe\">\n",
              "  <thead>\n",
              "    <tr style=\"text-align: right;\">\n",
              "      <th></th>\n",
              "      <th>Date</th>\n",
              "      <th>Open</th>\n",
              "      <th>High</th>\n",
              "      <th>Low</th>\n",
              "      <th>Close</th>\n",
              "      <th>Adj Close</th>\n",
              "      <th>Volume</th>\n",
              "      <th>completitudF</th>\n",
              "    </tr>\n",
              "  </thead>\n",
              "  <tbody>\n",
              "    <tr>\n",
              "      <th>2039</th>\n",
              "      <td>2020-04-17</td>\n",
              "      <td>NaN</td>\n",
              "      <td>NaN</td>\n",
              "      <td>NaN</td>\n",
              "      <td>NaN</td>\n",
              "      <td>NaN</td>\n",
              "      <td>NaN</td>\n",
              "      <td>False</td>\n",
              "    </tr>\n",
              "    <tr>\n",
              "      <th>2214</th>\n",
              "      <td>2020-10-09</td>\n",
              "      <td>NaN</td>\n",
              "      <td>NaN</td>\n",
              "      <td>NaN</td>\n",
              "      <td>NaN</td>\n",
              "      <td>NaN</td>\n",
              "      <td>NaN</td>\n",
              "      <td>False</td>\n",
              "    </tr>\n",
              "    <tr>\n",
              "      <th>2217</th>\n",
              "      <td>2020-10-12</td>\n",
              "      <td>NaN</td>\n",
              "      <td>NaN</td>\n",
              "      <td>NaN</td>\n",
              "      <td>NaN</td>\n",
              "      <td>NaN</td>\n",
              "      <td>NaN</td>\n",
              "      <td>False</td>\n",
              "    </tr>\n",
              "    <tr>\n",
              "      <th>2218</th>\n",
              "      <td>2020-10-13</td>\n",
              "      <td>NaN</td>\n",
              "      <td>NaN</td>\n",
              "      <td>NaN</td>\n",
              "      <td>NaN</td>\n",
              "      <td>NaN</td>\n",
              "      <td>NaN</td>\n",
              "      <td>False</td>\n",
              "    </tr>\n",
              "  </tbody>\n",
              "</table>\n",
              "</div>"
            ],
            "text/plain": [
              "           Date  Open  High  Low  Close  Adj Close  Volume  completitudF\n",
              "2039 2020-04-17   NaN   NaN  NaN    NaN        NaN     NaN         False\n",
              "2214 2020-10-09   NaN   NaN  NaN    NaN        NaN     NaN         False\n",
              "2217 2020-10-12   NaN   NaN  NaN    NaN        NaN     NaN         False\n",
              "2218 2020-10-13   NaN   NaN  NaN    NaN        NaN     NaN         False"
            ]
          },
          "metadata": {},
          "execution_count": 17
        }
      ]
    },
    {
      "cell_type": "code",
      "metadata": {
        "colab": {
          "base_uri": "https://localhost:8080/",
          "height": 175
        },
        "id": "sBY4lCVJiGf3",
        "outputId": "1a0a5fa6-0624-4c47-8d76-38e90c80b2c3"
      },
      "source": [
        "eth_prices[eth_prices['completitudF'] == False]"
      ],
      "execution_count": 18,
      "outputs": [
        {
          "output_type": "execute_result",
          "data": {
            "text/html": [
              "<div>\n",
              "<style scoped>\n",
              "    .dataframe tbody tr th:only-of-type {\n",
              "        vertical-align: middle;\n",
              "    }\n",
              "\n",
              "    .dataframe tbody tr th {\n",
              "        vertical-align: top;\n",
              "    }\n",
              "\n",
              "    .dataframe thead th {\n",
              "        text-align: right;\n",
              "    }\n",
              "</style>\n",
              "<table border=\"1\" class=\"dataframe\">\n",
              "  <thead>\n",
              "    <tr style=\"text-align: right;\">\n",
              "      <th></th>\n",
              "      <th>Date</th>\n",
              "      <th>Open</th>\n",
              "      <th>High</th>\n",
              "      <th>Low</th>\n",
              "      <th>Close</th>\n",
              "      <th>Adj Close</th>\n",
              "      <th>Volume</th>\n",
              "      <th>completitudF</th>\n",
              "    </tr>\n",
              "  </thead>\n",
              "  <tbody>\n",
              "    <tr>\n",
              "      <th>1715</th>\n",
              "      <td>2020-04-17</td>\n",
              "      <td>NaN</td>\n",
              "      <td>NaN</td>\n",
              "      <td>NaN</td>\n",
              "      <td>NaN</td>\n",
              "      <td>NaN</td>\n",
              "      <td>NaN</td>\n",
              "      <td>False</td>\n",
              "    </tr>\n",
              "    <tr>\n",
              "      <th>1890</th>\n",
              "      <td>2020-10-09</td>\n",
              "      <td>NaN</td>\n",
              "      <td>NaN</td>\n",
              "      <td>NaN</td>\n",
              "      <td>NaN</td>\n",
              "      <td>NaN</td>\n",
              "      <td>NaN</td>\n",
              "      <td>False</td>\n",
              "    </tr>\n",
              "    <tr>\n",
              "      <th>1893</th>\n",
              "      <td>2020-10-12</td>\n",
              "      <td>NaN</td>\n",
              "      <td>NaN</td>\n",
              "      <td>NaN</td>\n",
              "      <td>NaN</td>\n",
              "      <td>NaN</td>\n",
              "      <td>NaN</td>\n",
              "      <td>False</td>\n",
              "    </tr>\n",
              "    <tr>\n",
              "      <th>1894</th>\n",
              "      <td>2020-10-13</td>\n",
              "      <td>NaN</td>\n",
              "      <td>NaN</td>\n",
              "      <td>NaN</td>\n",
              "      <td>NaN</td>\n",
              "      <td>NaN</td>\n",
              "      <td>NaN</td>\n",
              "      <td>False</td>\n",
              "    </tr>\n",
              "  </tbody>\n",
              "</table>\n",
              "</div>"
            ],
            "text/plain": [
              "           Date  Open  High  Low  Close  Adj Close  Volume  completitudF\n",
              "1715 2020-04-17   NaN   NaN  NaN    NaN        NaN     NaN         False\n",
              "1890 2020-10-09   NaN   NaN  NaN    NaN        NaN     NaN         False\n",
              "1893 2020-10-12   NaN   NaN  NaN    NaN        NaN     NaN         False\n",
              "1894 2020-10-13   NaN   NaN  NaN    NaN        NaN     NaN         False"
            ]
          },
          "metadata": {},
          "execution_count": 18
        }
      ]
    },
    {
      "cell_type": "code",
      "metadata": {
        "colab": {
          "base_uri": "https://localhost:8080/",
          "height": 175
        },
        "id": "QUNDJn1liLXQ",
        "outputId": "cc5bea63-89b6-4872-cfde-3cf91ec0d3d8"
      },
      "source": [
        "ada_prices[ada_prices['completitudF'] == False]"
      ],
      "execution_count": 19,
      "outputs": [
        {
          "output_type": "execute_result",
          "data": {
            "text/html": [
              "<div>\n",
              "<style scoped>\n",
              "    .dataframe tbody tr th:only-of-type {\n",
              "        vertical-align: middle;\n",
              "    }\n",
              "\n",
              "    .dataframe tbody tr th {\n",
              "        vertical-align: top;\n",
              "    }\n",
              "\n",
              "    .dataframe thead th {\n",
              "        text-align: right;\n",
              "    }\n",
              "</style>\n",
              "<table border=\"1\" class=\"dataframe\">\n",
              "  <thead>\n",
              "    <tr style=\"text-align: right;\">\n",
              "      <th></th>\n",
              "      <th>Date</th>\n",
              "      <th>Open</th>\n",
              "      <th>High</th>\n",
              "      <th>Low</th>\n",
              "      <th>Close</th>\n",
              "      <th>Adj Close</th>\n",
              "      <th>Volume</th>\n",
              "      <th>completitudF</th>\n",
              "    </tr>\n",
              "  </thead>\n",
              "  <tbody>\n",
              "    <tr>\n",
              "      <th>929</th>\n",
              "      <td>2020-04-17</td>\n",
              "      <td>NaN</td>\n",
              "      <td>NaN</td>\n",
              "      <td>NaN</td>\n",
              "      <td>NaN</td>\n",
              "      <td>NaN</td>\n",
              "      <td>NaN</td>\n",
              "      <td>False</td>\n",
              "    </tr>\n",
              "    <tr>\n",
              "      <th>1104</th>\n",
              "      <td>2020-10-09</td>\n",
              "      <td>NaN</td>\n",
              "      <td>NaN</td>\n",
              "      <td>NaN</td>\n",
              "      <td>NaN</td>\n",
              "      <td>NaN</td>\n",
              "      <td>NaN</td>\n",
              "      <td>False</td>\n",
              "    </tr>\n",
              "    <tr>\n",
              "      <th>1107</th>\n",
              "      <td>2020-10-12</td>\n",
              "      <td>NaN</td>\n",
              "      <td>NaN</td>\n",
              "      <td>NaN</td>\n",
              "      <td>NaN</td>\n",
              "      <td>NaN</td>\n",
              "      <td>NaN</td>\n",
              "      <td>False</td>\n",
              "    </tr>\n",
              "    <tr>\n",
              "      <th>1108</th>\n",
              "      <td>2020-10-13</td>\n",
              "      <td>NaN</td>\n",
              "      <td>NaN</td>\n",
              "      <td>NaN</td>\n",
              "      <td>NaN</td>\n",
              "      <td>NaN</td>\n",
              "      <td>NaN</td>\n",
              "      <td>False</td>\n",
              "    </tr>\n",
              "  </tbody>\n",
              "</table>\n",
              "</div>"
            ],
            "text/plain": [
              "           Date  Open  High  Low  Close  Adj Close  Volume  completitudF\n",
              "929  2020-04-17   NaN   NaN  NaN    NaN        NaN     NaN         False\n",
              "1104 2020-10-09   NaN   NaN  NaN    NaN        NaN     NaN         False\n",
              "1107 2020-10-12   NaN   NaN  NaN    NaN        NaN     NaN         False\n",
              "1108 2020-10-13   NaN   NaN  NaN    NaN        NaN     NaN         False"
            ]
          },
          "metadata": {},
          "execution_count": 19
        }
      ]
    },
    {
      "cell_type": "markdown",
      "metadata": {
        "id": "GQgkpePuiPo_"
      },
      "source": [
        "Vemos como fallan los mismos cuatro días en todos los dataset, es posible que sea un fallo en los datos esos días, para solucionarlo aplicamos un **ForwardFill** y los rellenamos, al ser 4 días sobre el dataset completo, no lo considero peligroso para el problema"
      ]
    },
    {
      "cell_type": "code",
      "metadata": {
        "colab": {
          "base_uri": "https://localhost:8080/"
        },
        "id": "cNRBpfn_imVb",
        "outputId": "5eab2ba1-1cf2-4561-ec1c-181d7473d9b9"
      },
      "source": [
        "btc_prices.fillna(method=\"ffill\", inplace=True)\n",
        "btc_prices.isna().sum()"
      ],
      "execution_count": 20,
      "outputs": [
        {
          "output_type": "execute_result",
          "data": {
            "text/plain": [
              "Date            0\n",
              "Open            0\n",
              "High            0\n",
              "Low             0\n",
              "Close           0\n",
              "Adj Close       0\n",
              "Volume          0\n",
              "completitudF    0\n",
              "dtype: int64"
            ]
          },
          "metadata": {},
          "execution_count": 20
        }
      ]
    },
    {
      "cell_type": "code",
      "metadata": {
        "colab": {
          "base_uri": "https://localhost:8080/"
        },
        "id": "gO09zd8qj5RX",
        "outputId": "9ad721fe-7c4b-4b0d-df23-e0ffafaa4eb6"
      },
      "source": [
        "eth_prices.fillna(method=\"ffill\", inplace=True)\n",
        "eth_prices.isna().sum()"
      ],
      "execution_count": 21,
      "outputs": [
        {
          "output_type": "execute_result",
          "data": {
            "text/plain": [
              "Date            0\n",
              "Open            0\n",
              "High            0\n",
              "Low             0\n",
              "Close           0\n",
              "Adj Close       0\n",
              "Volume          0\n",
              "completitudF    0\n",
              "dtype: int64"
            ]
          },
          "metadata": {},
          "execution_count": 21
        }
      ]
    },
    {
      "cell_type": "code",
      "metadata": {
        "colab": {
          "base_uri": "https://localhost:8080/"
        },
        "id": "gMmh2v1Zj9Lp",
        "outputId": "a1aaeeed-a716-4a1a-e9fb-2d6848d7de79"
      },
      "source": [
        "ada_prices.fillna(method=\"ffill\", inplace=True)\n",
        "ada_prices.isna().sum()"
      ],
      "execution_count": 22,
      "outputs": [
        {
          "output_type": "execute_result",
          "data": {
            "text/plain": [
              "Date            0\n",
              "Open            0\n",
              "High            0\n",
              "Low             0\n",
              "Close           0\n",
              "Adj Close       0\n",
              "Volume          0\n",
              "completitudF    0\n",
              "dtype: int64"
            ]
          },
          "metadata": {},
          "execution_count": 22
        }
      ]
    },
    {
      "cell_type": "markdown",
      "metadata": {
        "id": "6h2nT7dgkbAF"
      },
      "source": [
        "## Selección de características\n",
        "Como nos interesa para el problema tener una única serie temporal, vamos a seleccionar la variable 'Close' de cada uno de los datasets, que va a ser sobre la que vamos a trabajar en la parte de modelos"
      ]
    },
    {
      "cell_type": "code",
      "metadata": {
        "colab": {
          "base_uri": "https://localhost:8080/",
          "height": 206
        },
        "id": "Y2pFCbSJkbX5",
        "outputId": "d220310b-bb09-42c2-d5b4-70d71bdc546a"
      },
      "source": [
        "btc_close = btc_prices[['Date','Close']]\n",
        "eth_close = eth_prices[['Date','Close']]\n",
        "ada_close = ada_prices[['Date','Close']]\n",
        "\n",
        "btc_close.head()"
      ],
      "execution_count": 23,
      "outputs": [
        {
          "output_type": "execute_result",
          "data": {
            "text/html": [
              "<div>\n",
              "<style scoped>\n",
              "    .dataframe tbody tr th:only-of-type {\n",
              "        vertical-align: middle;\n",
              "    }\n",
              "\n",
              "    .dataframe tbody tr th {\n",
              "        vertical-align: top;\n",
              "    }\n",
              "\n",
              "    .dataframe thead th {\n",
              "        text-align: right;\n",
              "    }\n",
              "</style>\n",
              "<table border=\"1\" class=\"dataframe\">\n",
              "  <thead>\n",
              "    <tr style=\"text-align: right;\">\n",
              "      <th></th>\n",
              "      <th>Date</th>\n",
              "      <th>Close</th>\n",
              "    </tr>\n",
              "  </thead>\n",
              "  <tbody>\n",
              "    <tr>\n",
              "      <th>0</th>\n",
              "      <td>2014-09-17</td>\n",
              "      <td>457.334015</td>\n",
              "    </tr>\n",
              "    <tr>\n",
              "      <th>1</th>\n",
              "      <td>2014-09-18</td>\n",
              "      <td>424.440002</td>\n",
              "    </tr>\n",
              "    <tr>\n",
              "      <th>2</th>\n",
              "      <td>2014-09-19</td>\n",
              "      <td>394.795990</td>\n",
              "    </tr>\n",
              "    <tr>\n",
              "      <th>3</th>\n",
              "      <td>2014-09-20</td>\n",
              "      <td>408.903992</td>\n",
              "    </tr>\n",
              "    <tr>\n",
              "      <th>4</th>\n",
              "      <td>2014-09-21</td>\n",
              "      <td>398.821014</td>\n",
              "    </tr>\n",
              "  </tbody>\n",
              "</table>\n",
              "</div>"
            ],
            "text/plain": [
              "        Date       Close\n",
              "0 2014-09-17  457.334015\n",
              "1 2014-09-18  424.440002\n",
              "2 2014-09-19  394.795990\n",
              "3 2014-09-20  408.903992\n",
              "4 2014-09-21  398.821014"
            ]
          },
          "metadata": {},
          "execution_count": 23
        }
      ]
    },
    {
      "cell_type": "code",
      "metadata": {
        "colab": {
          "base_uri": "https://localhost:8080/",
          "height": 206
        },
        "id": "U4NHAqGVk2Gu",
        "outputId": "22b1fca7-5c83-414f-c5c8-81a1e420d7f9"
      },
      "source": [
        "btc_close.columns = ['date', 'close']\n",
        "eth_close.columns = ['date', 'close']\n",
        "ada_close.columns = ['date', 'close']\n",
        "\n",
        "btc_close.head()"
      ],
      "execution_count": 24,
      "outputs": [
        {
          "output_type": "execute_result",
          "data": {
            "text/html": [
              "<div>\n",
              "<style scoped>\n",
              "    .dataframe tbody tr th:only-of-type {\n",
              "        vertical-align: middle;\n",
              "    }\n",
              "\n",
              "    .dataframe tbody tr th {\n",
              "        vertical-align: top;\n",
              "    }\n",
              "\n",
              "    .dataframe thead th {\n",
              "        text-align: right;\n",
              "    }\n",
              "</style>\n",
              "<table border=\"1\" class=\"dataframe\">\n",
              "  <thead>\n",
              "    <tr style=\"text-align: right;\">\n",
              "      <th></th>\n",
              "      <th>date</th>\n",
              "      <th>close</th>\n",
              "    </tr>\n",
              "  </thead>\n",
              "  <tbody>\n",
              "    <tr>\n",
              "      <th>0</th>\n",
              "      <td>2014-09-17</td>\n",
              "      <td>457.334015</td>\n",
              "    </tr>\n",
              "    <tr>\n",
              "      <th>1</th>\n",
              "      <td>2014-09-18</td>\n",
              "      <td>424.440002</td>\n",
              "    </tr>\n",
              "    <tr>\n",
              "      <th>2</th>\n",
              "      <td>2014-09-19</td>\n",
              "      <td>394.795990</td>\n",
              "    </tr>\n",
              "    <tr>\n",
              "      <th>3</th>\n",
              "      <td>2014-09-20</td>\n",
              "      <td>408.903992</td>\n",
              "    </tr>\n",
              "    <tr>\n",
              "      <th>4</th>\n",
              "      <td>2014-09-21</td>\n",
              "      <td>398.821014</td>\n",
              "    </tr>\n",
              "  </tbody>\n",
              "</table>\n",
              "</div>"
            ],
            "text/plain": [
              "        date       close\n",
              "0 2014-09-17  457.334015\n",
              "1 2014-09-18  424.440002\n",
              "2 2014-09-19  394.795990\n",
              "3 2014-09-20  408.903992\n",
              "4 2014-09-21  398.821014"
            ]
          },
          "metadata": {},
          "execution_count": 24
        }
      ]
    },
    {
      "cell_type": "code",
      "metadata": {
        "colab": {
          "base_uri": "https://localhost:8080/",
          "height": 206
        },
        "id": "-CX6JjgPlsVi",
        "outputId": "d792198f-f94c-482e-d25f-b8e7bbe2de22"
      },
      "source": [
        "eth_close.head()"
      ],
      "execution_count": 25,
      "outputs": [
        {
          "output_type": "execute_result",
          "data": {
            "text/html": [
              "<div>\n",
              "<style scoped>\n",
              "    .dataframe tbody tr th:only-of-type {\n",
              "        vertical-align: middle;\n",
              "    }\n",
              "\n",
              "    .dataframe tbody tr th {\n",
              "        vertical-align: top;\n",
              "    }\n",
              "\n",
              "    .dataframe thead th {\n",
              "        text-align: right;\n",
              "    }\n",
              "</style>\n",
              "<table border=\"1\" class=\"dataframe\">\n",
              "  <thead>\n",
              "    <tr style=\"text-align: right;\">\n",
              "      <th></th>\n",
              "      <th>date</th>\n",
              "      <th>close</th>\n",
              "    </tr>\n",
              "  </thead>\n",
              "  <tbody>\n",
              "    <tr>\n",
              "      <th>0</th>\n",
              "      <td>2015-08-07</td>\n",
              "      <td>2.772120</td>\n",
              "    </tr>\n",
              "    <tr>\n",
              "      <th>1</th>\n",
              "      <td>2015-08-08</td>\n",
              "      <td>0.753325</td>\n",
              "    </tr>\n",
              "    <tr>\n",
              "      <th>2</th>\n",
              "      <td>2015-08-09</td>\n",
              "      <td>0.701897</td>\n",
              "    </tr>\n",
              "    <tr>\n",
              "      <th>3</th>\n",
              "      <td>2015-08-10</td>\n",
              "      <td>0.708448</td>\n",
              "    </tr>\n",
              "    <tr>\n",
              "      <th>4</th>\n",
              "      <td>2015-08-11</td>\n",
              "      <td>1.067860</td>\n",
              "    </tr>\n",
              "  </tbody>\n",
              "</table>\n",
              "</div>"
            ],
            "text/plain": [
              "        date     close\n",
              "0 2015-08-07  2.772120\n",
              "1 2015-08-08  0.753325\n",
              "2 2015-08-09  0.701897\n",
              "3 2015-08-10  0.708448\n",
              "4 2015-08-11  1.067860"
            ]
          },
          "metadata": {},
          "execution_count": 25
        }
      ]
    },
    {
      "cell_type": "code",
      "metadata": {
        "colab": {
          "base_uri": "https://localhost:8080/",
          "height": 206
        },
        "id": "frm3HeM5lv5j",
        "outputId": "07e5d9aa-ca3a-4111-e81c-0336100f230c"
      },
      "source": [
        "ada_close.head()"
      ],
      "execution_count": 26,
      "outputs": [
        {
          "output_type": "execute_result",
          "data": {
            "text/html": [
              "<div>\n",
              "<style scoped>\n",
              "    .dataframe tbody tr th:only-of-type {\n",
              "        vertical-align: middle;\n",
              "    }\n",
              "\n",
              "    .dataframe tbody tr th {\n",
              "        vertical-align: top;\n",
              "    }\n",
              "\n",
              "    .dataframe thead th {\n",
              "        text-align: right;\n",
              "    }\n",
              "</style>\n",
              "<table border=\"1\" class=\"dataframe\">\n",
              "  <thead>\n",
              "    <tr style=\"text-align: right;\">\n",
              "      <th></th>\n",
              "      <th>date</th>\n",
              "      <th>close</th>\n",
              "    </tr>\n",
              "  </thead>\n",
              "  <tbody>\n",
              "    <tr>\n",
              "      <th>0</th>\n",
              "      <td>2017-10-01</td>\n",
              "      <td>0.024969</td>\n",
              "    </tr>\n",
              "    <tr>\n",
              "      <th>1</th>\n",
              "      <td>2017-10-02</td>\n",
              "      <td>0.025932</td>\n",
              "    </tr>\n",
              "    <tr>\n",
              "      <th>2</th>\n",
              "      <td>2017-10-03</td>\n",
              "      <td>0.020816</td>\n",
              "    </tr>\n",
              "    <tr>\n",
              "      <th>3</th>\n",
              "      <td>2017-10-04</td>\n",
              "      <td>0.021931</td>\n",
              "    </tr>\n",
              "    <tr>\n",
              "      <th>4</th>\n",
              "      <td>2017-10-05</td>\n",
              "      <td>0.021489</td>\n",
              "    </tr>\n",
              "  </tbody>\n",
              "</table>\n",
              "</div>"
            ],
            "text/plain": [
              "        date     close\n",
              "0 2017-10-01  0.024969\n",
              "1 2017-10-02  0.025932\n",
              "2 2017-10-03  0.020816\n",
              "3 2017-10-04  0.021931\n",
              "4 2017-10-05  0.021489"
            ]
          },
          "metadata": {},
          "execution_count": 26
        }
      ]
    },
    {
      "cell_type": "code",
      "metadata": {
        "colab": {
          "base_uri": "https://localhost:8080/",
          "height": 238
        },
        "id": "5XlxltCtMHuy",
        "outputId": "a64b0622-89b1-4d85-f4b3-cbd0abe7428d"
      },
      "source": [
        "btc_close.set_index('date', inplace=True)\n",
        "eth_close.set_index('date', inplace=True)\n",
        "ada_close.set_index('date', inplace=True)\n",
        "btc_close.head()"
      ],
      "execution_count": 27,
      "outputs": [
        {
          "output_type": "execute_result",
          "data": {
            "text/html": [
              "<div>\n",
              "<style scoped>\n",
              "    .dataframe tbody tr th:only-of-type {\n",
              "        vertical-align: middle;\n",
              "    }\n",
              "\n",
              "    .dataframe tbody tr th {\n",
              "        vertical-align: top;\n",
              "    }\n",
              "\n",
              "    .dataframe thead th {\n",
              "        text-align: right;\n",
              "    }\n",
              "</style>\n",
              "<table border=\"1\" class=\"dataframe\">\n",
              "  <thead>\n",
              "    <tr style=\"text-align: right;\">\n",
              "      <th></th>\n",
              "      <th>close</th>\n",
              "    </tr>\n",
              "    <tr>\n",
              "      <th>date</th>\n",
              "      <th></th>\n",
              "    </tr>\n",
              "  </thead>\n",
              "  <tbody>\n",
              "    <tr>\n",
              "      <th>2014-09-17</th>\n",
              "      <td>457.334015</td>\n",
              "    </tr>\n",
              "    <tr>\n",
              "      <th>2014-09-18</th>\n",
              "      <td>424.440002</td>\n",
              "    </tr>\n",
              "    <tr>\n",
              "      <th>2014-09-19</th>\n",
              "      <td>394.795990</td>\n",
              "    </tr>\n",
              "    <tr>\n",
              "      <th>2014-09-20</th>\n",
              "      <td>408.903992</td>\n",
              "    </tr>\n",
              "    <tr>\n",
              "      <th>2014-09-21</th>\n",
              "      <td>398.821014</td>\n",
              "    </tr>\n",
              "  </tbody>\n",
              "</table>\n",
              "</div>"
            ],
            "text/plain": [
              "                 close\n",
              "date                  \n",
              "2014-09-17  457.334015\n",
              "2014-09-18  424.440002\n",
              "2014-09-19  394.795990\n",
              "2014-09-20  408.903992\n",
              "2014-09-21  398.821014"
            ]
          },
          "metadata": {},
          "execution_count": 27
        }
      ]
    },
    {
      "cell_type": "code",
      "metadata": {
        "colab": {
          "base_uri": "https://localhost:8080/",
          "height": 238
        },
        "id": "GS2fxip9lrQZ",
        "outputId": "8c981cb9-3329-481e-8504-af025bf8a064"
      },
      "source": [
        "btc_close.tail()"
      ],
      "execution_count": 28,
      "outputs": [
        {
          "output_type": "execute_result",
          "data": {
            "text/html": [
              "<div>\n",
              "<style scoped>\n",
              "    .dataframe tbody tr th:only-of-type {\n",
              "        vertical-align: middle;\n",
              "    }\n",
              "\n",
              "    .dataframe tbody tr th {\n",
              "        vertical-align: top;\n",
              "    }\n",
              "\n",
              "    .dataframe thead th {\n",
              "        text-align: right;\n",
              "    }\n",
              "</style>\n",
              "<table border=\"1\" class=\"dataframe\">\n",
              "  <thead>\n",
              "    <tr style=\"text-align: right;\">\n",
              "      <th></th>\n",
              "      <th>close</th>\n",
              "    </tr>\n",
              "    <tr>\n",
              "      <th>date</th>\n",
              "      <th></th>\n",
              "    </tr>\n",
              "  </thead>\n",
              "  <tbody>\n",
              "    <tr>\n",
              "      <th>2021-07-08</th>\n",
              "      <td>32877.371094</td>\n",
              "    </tr>\n",
              "    <tr>\n",
              "      <th>2021-07-09</th>\n",
              "      <td>33798.011719</td>\n",
              "    </tr>\n",
              "    <tr>\n",
              "      <th>2021-07-10</th>\n",
              "      <td>33520.519531</td>\n",
              "    </tr>\n",
              "    <tr>\n",
              "      <th>2021-07-11</th>\n",
              "      <td>34240.187500</td>\n",
              "    </tr>\n",
              "    <tr>\n",
              "      <th>2021-07-12</th>\n",
              "      <td>33155.847656</td>\n",
              "    </tr>\n",
              "  </tbody>\n",
              "</table>\n",
              "</div>"
            ],
            "text/plain": [
              "                   close\n",
              "date                    \n",
              "2021-07-08  32877.371094\n",
              "2021-07-09  33798.011719\n",
              "2021-07-10  33520.519531\n",
              "2021-07-11  34240.187500\n",
              "2021-07-12  33155.847656"
            ]
          },
          "metadata": {},
          "execution_count": 28
        }
      ]
    },
    {
      "cell_type": "markdown",
      "metadata": {
        "id": "A5VEKeVul0Op"
      },
      "source": [
        "Podemos ver como la fecha por la que comienza cada conjunto de datos es diferente, esto se debe a que las monedas Ethereum y Cardano se crearon posteriormente a Bitcoin"
      ]
    },
    {
      "cell_type": "code",
      "metadata": {
        "colab": {
          "base_uri": "https://localhost:8080/",
          "height": 310
        },
        "id": "ta0TrmPdmtmE",
        "outputId": "ccc87d5f-eb36-4a54-c4fc-d3fbae838916"
      },
      "source": [
        "btc_close.columns = ['btcClose']\n",
        "eth_close.columns = ['ethClose']\n",
        "ada_close.columns = ['adaClose']\n",
        "\n",
        "stocks_close = pd.concat([btc_close, eth_close, ada_close], axis=1)\n",
        "stocks_close.reset_index(inplace=True)\n",
        "print('Stocks shape:', stocks_close.shape)\n",
        "print('NaN per var', stocks_close.isna().sum())\n",
        "stocks_close.head()"
      ],
      "execution_count": 29,
      "outputs": [
        {
          "output_type": "stream",
          "name": "stdout",
          "text": [
            "Stocks shape: (2491, 4)\n",
            "NaN per var date           0\n",
            "btcClose       0\n",
            "ethClose     324\n",
            "adaClose    1110\n",
            "dtype: int64\n"
          ]
        },
        {
          "output_type": "execute_result",
          "data": {
            "text/html": [
              "<div>\n",
              "<style scoped>\n",
              "    .dataframe tbody tr th:only-of-type {\n",
              "        vertical-align: middle;\n",
              "    }\n",
              "\n",
              "    .dataframe tbody tr th {\n",
              "        vertical-align: top;\n",
              "    }\n",
              "\n",
              "    .dataframe thead th {\n",
              "        text-align: right;\n",
              "    }\n",
              "</style>\n",
              "<table border=\"1\" class=\"dataframe\">\n",
              "  <thead>\n",
              "    <tr style=\"text-align: right;\">\n",
              "      <th></th>\n",
              "      <th>date</th>\n",
              "      <th>btcClose</th>\n",
              "      <th>ethClose</th>\n",
              "      <th>adaClose</th>\n",
              "    </tr>\n",
              "  </thead>\n",
              "  <tbody>\n",
              "    <tr>\n",
              "      <th>0</th>\n",
              "      <td>2014-09-17</td>\n",
              "      <td>457.334015</td>\n",
              "      <td>NaN</td>\n",
              "      <td>NaN</td>\n",
              "    </tr>\n",
              "    <tr>\n",
              "      <th>1</th>\n",
              "      <td>2014-09-18</td>\n",
              "      <td>424.440002</td>\n",
              "      <td>NaN</td>\n",
              "      <td>NaN</td>\n",
              "    </tr>\n",
              "    <tr>\n",
              "      <th>2</th>\n",
              "      <td>2014-09-19</td>\n",
              "      <td>394.795990</td>\n",
              "      <td>NaN</td>\n",
              "      <td>NaN</td>\n",
              "    </tr>\n",
              "    <tr>\n",
              "      <th>3</th>\n",
              "      <td>2014-09-20</td>\n",
              "      <td>408.903992</td>\n",
              "      <td>NaN</td>\n",
              "      <td>NaN</td>\n",
              "    </tr>\n",
              "    <tr>\n",
              "      <th>4</th>\n",
              "      <td>2014-09-21</td>\n",
              "      <td>398.821014</td>\n",
              "      <td>NaN</td>\n",
              "      <td>NaN</td>\n",
              "    </tr>\n",
              "  </tbody>\n",
              "</table>\n",
              "</div>"
            ],
            "text/plain": [
              "        date    btcClose  ethClose  adaClose\n",
              "0 2014-09-17  457.334015       NaN       NaN\n",
              "1 2014-09-18  424.440002       NaN       NaN\n",
              "2 2014-09-19  394.795990       NaN       NaN\n",
              "3 2014-09-20  408.903992       NaN       NaN\n",
              "4 2014-09-21  398.821014       NaN       NaN"
            ]
          },
          "metadata": {},
          "execution_count": 29
        }
      ]
    },
    {
      "cell_type": "code",
      "metadata": {
        "colab": {
          "base_uri": "https://localhost:8080/",
          "height": 206
        },
        "id": "2Yj3Vz-dnL0w",
        "outputId": "0d14593a-ba11-4d07-9da3-7005ff6b8854"
      },
      "source": [
        "stocks_close.dropna(inplace=True)\n",
        "stocks_close.head()"
      ],
      "execution_count": 30,
      "outputs": [
        {
          "output_type": "execute_result",
          "data": {
            "text/html": [
              "<div>\n",
              "<style scoped>\n",
              "    .dataframe tbody tr th:only-of-type {\n",
              "        vertical-align: middle;\n",
              "    }\n",
              "\n",
              "    .dataframe tbody tr th {\n",
              "        vertical-align: top;\n",
              "    }\n",
              "\n",
              "    .dataframe thead th {\n",
              "        text-align: right;\n",
              "    }\n",
              "</style>\n",
              "<table border=\"1\" class=\"dataframe\">\n",
              "  <thead>\n",
              "    <tr style=\"text-align: right;\">\n",
              "      <th></th>\n",
              "      <th>date</th>\n",
              "      <th>btcClose</th>\n",
              "      <th>ethClose</th>\n",
              "      <th>adaClose</th>\n",
              "    </tr>\n",
              "  </thead>\n",
              "  <tbody>\n",
              "    <tr>\n",
              "      <th>1110</th>\n",
              "      <td>2017-10-01</td>\n",
              "      <td>4403.740234</td>\n",
              "      <td>302.337006</td>\n",
              "      <td>0.024969</td>\n",
              "    </tr>\n",
              "    <tr>\n",
              "      <th>1111</th>\n",
              "      <td>2017-10-02</td>\n",
              "      <td>4409.319824</td>\n",
              "      <td>297.475006</td>\n",
              "      <td>0.025932</td>\n",
              "    </tr>\n",
              "    <tr>\n",
              "      <th>1112</th>\n",
              "      <td>2017-10-03</td>\n",
              "      <td>4317.479980</td>\n",
              "      <td>292.463013</td>\n",
              "      <td>0.020816</td>\n",
              "    </tr>\n",
              "    <tr>\n",
              "      <th>1113</th>\n",
              "      <td>2017-10-04</td>\n",
              "      <td>4229.359863</td>\n",
              "      <td>292.657990</td>\n",
              "      <td>0.021931</td>\n",
              "    </tr>\n",
              "    <tr>\n",
              "      <th>1114</th>\n",
              "      <td>2017-10-05</td>\n",
              "      <td>4328.410156</td>\n",
              "      <td>295.863007</td>\n",
              "      <td>0.021489</td>\n",
              "    </tr>\n",
              "  </tbody>\n",
              "</table>\n",
              "</div>"
            ],
            "text/plain": [
              "           date     btcClose    ethClose  adaClose\n",
              "1110 2017-10-01  4403.740234  302.337006  0.024969\n",
              "1111 2017-10-02  4409.319824  297.475006  0.025932\n",
              "1112 2017-10-03  4317.479980  292.463013  0.020816\n",
              "1113 2017-10-04  4229.359863  292.657990  0.021931\n",
              "1114 2017-10-05  4328.410156  295.863007  0.021489"
            ]
          },
          "metadata": {},
          "execution_count": 30
        }
      ]
    },
    {
      "cell_type": "markdown",
      "metadata": {
        "id": "Crj8VZe8gCkl"
      },
      "source": [
        "## Feature building"
      ]
    },
    {
      "cell_type": "markdown",
      "metadata": {
        "id": "O7ueWgRffSPT"
      },
      "source": [
        "Para contruir el atributo **go_up** vamos a basarnos en el atributo **close** inicialmente, en futuras iteraciones veremos otras maneras de hacerlo si es conveniente."
      ]
    },
    {
      "cell_type": "code",
      "metadata": {
        "colab": {
          "base_uri": "https://localhost:8080/",
          "height": 206
        },
        "id": "jy-GxUiIel6A",
        "outputId": "ee0fbb47-a16b-417a-dd75-547bd63f02d8"
      },
      "source": [
        "stocks_close['btcGoUp'] = stocks_close.apply(lambda row: row.name > 1110 and row['btcClose'] > stocks_close.loc[ row.name-1 , : ]['btcClose'], axis=1)\n",
        "stocks_close['ethGoUp'] = stocks_close.apply(lambda row: row.name > 1110 and row['ethClose'] > stocks_close.loc[ row.name-1 , : ]['ethClose'], axis=1)\n",
        "stocks_close['adaGoUp'] = stocks_close.apply(lambda row: row.name > 1110 and row['adaClose'] > stocks_close.loc[ row.name-1 , : ]['adaClose'], axis=1)\n",
        "\n",
        "\n",
        "stocks_close.head()"
      ],
      "execution_count": 31,
      "outputs": [
        {
          "output_type": "execute_result",
          "data": {
            "text/html": [
              "<div>\n",
              "<style scoped>\n",
              "    .dataframe tbody tr th:only-of-type {\n",
              "        vertical-align: middle;\n",
              "    }\n",
              "\n",
              "    .dataframe tbody tr th {\n",
              "        vertical-align: top;\n",
              "    }\n",
              "\n",
              "    .dataframe thead th {\n",
              "        text-align: right;\n",
              "    }\n",
              "</style>\n",
              "<table border=\"1\" class=\"dataframe\">\n",
              "  <thead>\n",
              "    <tr style=\"text-align: right;\">\n",
              "      <th></th>\n",
              "      <th>date</th>\n",
              "      <th>btcClose</th>\n",
              "      <th>ethClose</th>\n",
              "      <th>adaClose</th>\n",
              "      <th>btcGoUp</th>\n",
              "      <th>ethGoUp</th>\n",
              "      <th>adaGoUp</th>\n",
              "    </tr>\n",
              "  </thead>\n",
              "  <tbody>\n",
              "    <tr>\n",
              "      <th>1110</th>\n",
              "      <td>2017-10-01</td>\n",
              "      <td>4403.740234</td>\n",
              "      <td>302.337006</td>\n",
              "      <td>0.024969</td>\n",
              "      <td>False</td>\n",
              "      <td>False</td>\n",
              "      <td>False</td>\n",
              "    </tr>\n",
              "    <tr>\n",
              "      <th>1111</th>\n",
              "      <td>2017-10-02</td>\n",
              "      <td>4409.319824</td>\n",
              "      <td>297.475006</td>\n",
              "      <td>0.025932</td>\n",
              "      <td>True</td>\n",
              "      <td>False</td>\n",
              "      <td>True</td>\n",
              "    </tr>\n",
              "    <tr>\n",
              "      <th>1112</th>\n",
              "      <td>2017-10-03</td>\n",
              "      <td>4317.479980</td>\n",
              "      <td>292.463013</td>\n",
              "      <td>0.020816</td>\n",
              "      <td>False</td>\n",
              "      <td>False</td>\n",
              "      <td>False</td>\n",
              "    </tr>\n",
              "    <tr>\n",
              "      <th>1113</th>\n",
              "      <td>2017-10-04</td>\n",
              "      <td>4229.359863</td>\n",
              "      <td>292.657990</td>\n",
              "      <td>0.021931</td>\n",
              "      <td>False</td>\n",
              "      <td>True</td>\n",
              "      <td>True</td>\n",
              "    </tr>\n",
              "    <tr>\n",
              "      <th>1114</th>\n",
              "      <td>2017-10-05</td>\n",
              "      <td>4328.410156</td>\n",
              "      <td>295.863007</td>\n",
              "      <td>0.021489</td>\n",
              "      <td>True</td>\n",
              "      <td>True</td>\n",
              "      <td>False</td>\n",
              "    </tr>\n",
              "  </tbody>\n",
              "</table>\n",
              "</div>"
            ],
            "text/plain": [
              "           date     btcClose    ethClose  adaClose  btcGoUp  ethGoUp  adaGoUp\n",
              "1110 2017-10-01  4403.740234  302.337006  0.024969    False    False    False\n",
              "1111 2017-10-02  4409.319824  297.475006  0.025932     True    False     True\n",
              "1112 2017-10-03  4317.479980  292.463013  0.020816    False    False    False\n",
              "1113 2017-10-04  4229.359863  292.657990  0.021931    False     True     True\n",
              "1114 2017-10-05  4328.410156  295.863007  0.021489     True     True    False"
            ]
          },
          "metadata": {},
          "execution_count": 31
        }
      ]
    },
    {
      "cell_type": "code",
      "metadata": {
        "colab": {
          "base_uri": "https://localhost:8080/"
        },
        "id": "5tXPftG2hIgU",
        "outputId": "57830f78-5837-4ebf-b418-9c1838fdeb49"
      },
      "source": [
        "stocks_close.dtypes"
      ],
      "execution_count": 32,
      "outputs": [
        {
          "output_type": "execute_result",
          "data": {
            "text/plain": [
              "date        datetime64[ns]\n",
              "btcClose           float64\n",
              "ethClose           float64\n",
              "adaClose           float64\n",
              "btcGoUp               bool\n",
              "ethGoUp               bool\n",
              "adaGoUp               bool\n",
              "dtype: object"
            ]
          },
          "metadata": {},
          "execution_count": 32
        }
      ]
    },
    {
      "cell_type": "markdown",
      "metadata": {
        "id": "8OTecttPgpvz"
      },
      "source": [
        "## Data Visualization"
      ]
    },
    {
      "cell_type": "code",
      "metadata": {
        "colab": {
          "base_uri": "https://localhost:8080/",
          "height": 320
        },
        "id": "XhTxELCaoVAZ",
        "outputId": "1d363f8a-bd57-47c1-bed3-b1e94ce7d6f1"
      },
      "source": [
        "stocks_close_ts = stocks_close.set_index('date')\n",
        "\n",
        "fig, ax = plt.subplots()\n",
        "fig.set_size_inches(10, 5)\n",
        "\n",
        "ax2 = ax.twinx()\n",
        "ax3 = ax2.twinx()\n",
        "\n",
        "lns1 = ax.plot(btc_close.index, btc_close.btcClose, label=f\"Bitcoin\", color=\"orange\")\n",
        "lns2 = ax2.plot(eth_close.index, eth_close.ethClose, label=f\"Ethereum\", color=\"grey\")\n",
        "lns3 = ax3.plot(ada_close.index, ada_close.adaClose, label=f\"Cardano\", color=\"blue\")\n",
        "\n",
        "lns = lns1+lns2+lns3\n",
        "labs = [l.get_label() for l in lns]\n",
        "ax.legend(lns, labs, loc=0)\n",
        "\n",
        "ax.tick_params(left = False, right = False , labelleft = False)\n",
        "ax2.tick_params(left = False, right = False , labelleft = False)\n",
        "ax3.tick_params(left = False, right = False , labelleft = False)\n",
        "\n",
        "plt.show()"
      ],
      "execution_count": 33,
      "outputs": [
        {
          "output_type": "display_data",
          "data": {
            "image/png": "[encoded data removed]",
            "text/plain": [
              "<Figure size 720x360 with 3 Axes>"
            ]
          },
          "metadata": {
            "needs_background": "light"
          }
        }
      ]
    },
    {
      "cell_type": "code",
      "metadata": {
        "colab": {
          "base_uri": "https://localhost:8080/",
          "height": 320
        },
        "id": "3nsNzSg4SgvW",
        "outputId": "29530075-312c-4131-91b7-fa8113798a53"
      },
      "source": [
        "stocks_close_ts = stocks_close.set_index('date')\n",
        "\n",
        "fig, ax = plt.subplots()\n",
        "fig.set_size_inches(10, 5)\n",
        "\n",
        "ax2 = ax.twinx()\n",
        "ax3 = ax2.twinx()\n",
        "\n",
        "lns1 = ax.plot(stocks_close_ts.index, stocks_close_ts.btcClose, label=f\"Bitcoin\", color=\"orange\")\n",
        "lns2 = ax2.plot(stocks_close_ts.index, stocks_close_ts.ethClose, label=f\"Ethereum\", color=\"grey\")\n",
        "lns3 = ax3.plot(stocks_close_ts.index, stocks_close_ts.adaClose, label=f\"Cardano\", color=\"blue\")\n",
        "\n",
        "lns = lns1+lns2+lns3\n",
        "labs = [l.get_label() for l in lns]\n",
        "ax.legend(lns, labs, loc=0)\n",
        "\n",
        "ax.tick_params(left = False, right = False , labelleft = False)\n",
        "ax2.tick_params(left = False, right = False , labelleft = False)\n",
        "ax3.tick_params(left = False, right = False , labelleft = False)\n",
        "\n",
        "plt.show()"
      ],
      "execution_count": 34,
      "outputs": [
        {
          "output_type": "display_data",
          "data": {
            "image/png": "[encoded data removed]",
            "text/plain": [
              "<Figure size 720x360 with 3 Axes>"
            ]
          },
          "metadata": {
            "needs_background": "light"
          }
        }
      ]
    },
    {
      "cell_type": "code",
      "metadata": {
        "colab": {
          "base_uri": "https://localhost:8080/",
          "height": 314
        },
        "id": "iZfQ-UYFa-DX",
        "outputId": "df3565df-15f8-4a75-9ff3-e16eec8400e3"
      },
      "source": [
        "stocks_close['btcGoUp'].value_counts().plot(kind='bar', title='Bitcoin go up')"
      ],
      "execution_count": 35,
      "outputs": [
        {
          "output_type": "execute_result",
          "data": {
            "text/plain": [
              "<matplotlib.axes._subplots.AxesSubplot at 0x7f31326d8950>"
            ]
          },
          "metadata": {},
          "execution_count": 35
        },
        {
          "output_type": "display_data",
          "data": {
            "image/png": "[encoded data removed]",
            "text/plain": [
              "<Figure size 432x288 with 1 Axes>"
            ]
          },
          "metadata": {
            "needs_background": "light"
          }
        }
      ]
    },
    {
      "cell_type": "code",
      "metadata": {
        "colab": {
          "base_uri": "https://localhost:8080/"
        },
        "id": "emdT_HQOgbUE",
        "outputId": "4f1e8b8d-5ff3-4a65-a4d2-572a0619e407"
      },
      "source": [
        "print(stocks_close['btcGoUp'].value_counts())\n",
        "stocks_close['btcGoUp'].value_counts()[True] / sum(stocks_close['btcGoUp'].value_counts())"
      ],
      "execution_count": 36,
      "outputs": [
        {
          "output_type": "stream",
          "name": "stdout",
          "text": [
            "True     736\n",
            "False    645\n",
            "Name: btcGoUp, dtype: int64\n"
          ]
        },
        {
          "output_type": "execute_result",
          "data": {
            "text/plain": [
              "0.5329471397538016"
            ]
          },
          "metadata": {},
          "execution_count": 36
        }
      ]
    },
    {
      "cell_type": "code",
      "metadata": {
        "colab": {
          "base_uri": "https://localhost:8080/",
          "height": 314
        },
        "id": "Lo8QVzWHZNlE",
        "outputId": "a1bf653d-3226-461f-827b-8bd885a77e2c"
      },
      "source": [
        "stocks_close['ethGoUp'].value_counts().plot(kind='bar', title='Ethereum go up')"
      ],
      "execution_count": 37,
      "outputs": [
        {
          "output_type": "execute_result",
          "data": {
            "text/plain": [
              "<matplotlib.axes._subplots.AxesSubplot at 0x7f313264b150>"
            ]
          },
          "metadata": {},
          "execution_count": 37
        },
        {
          "output_type": "display_data",
          "data": {
            "image/png": "[encoded data removed]",
            "text/plain": [
              "<Figure size 432x288 with 1 Axes>"
            ]
          },
          "metadata": {
            "needs_background": "light"
          }
        }
      ]
    },
    {
      "cell_type": "code",
      "metadata": {
        "colab": {
          "base_uri": "https://localhost:8080/",
          "height": 314
        },
        "id": "ikY7zJ-HZR9i",
        "outputId": "e5588dd8-3f62-4240-b316-20ec5951ea38"
      },
      "source": [
        "stocks_close['adaGoUp'].value_counts().plot(kind='bar', title='Cardano go up')"
      ],
      "execution_count": 38,
      "outputs": [
        {
          "output_type": "execute_result",
          "data": {
            "text/plain": [
              "<matplotlib.axes._subplots.AxesSubplot at 0x7f31325cab50>"
            ]
          },
          "metadata": {},
          "execution_count": 38
        },
        {
          "output_type": "display_data",
          "data": {
            "image/png": "[encoded data removed]",
            "text/plain": [
              "<Figure size 432x288 with 1 Axes>"
            ]
          },
          "metadata": {
            "needs_background": "light"
          }
        }
      ]
    },
    {
      "cell_type": "code",
      "metadata": {
        "colab": {
          "base_uri": "https://localhost:8080/",
          "height": 542
        },
        "id": "R-2oO8ZlaOJO",
        "outputId": "4fcbeb83-e29e-40fa-9637-6ffa4bf6b0ba"
      },
      "source": [
        "import plotly.graph_objects as go\n",
        "\n",
        "from_2017_btc = btc_prices[btc_prices['Date'] > np.datetime64('2020-07-01')]\n",
        "fig = go.Figure(data=[go.Candlestick(x=from_2017_btc['Date'],\n",
        "                open=from_2017_btc['Open'], high=from_2017_btc['High'],\n",
        "                low=from_2017_btc['Low'], close=from_2017_btc['Close'])])\n",
        "\n",
        "fig.update_layout(xaxis_rangeslider_visible=False)\n",
        "\n",
        "fig.show()"
      ],
      "execution_count": 39,
      "outputs": [
        {
          "output_type": "display_data",
          "data": {
            "text/html": [
              "<html>\n",
              "<head><meta charset=\"utf-8\" /></head>\n",
              "<body>\n",
              "    <div>\n",
              "            <script src=\"https://cdnjs.cloudflare.com/ajax/libs/mathjax/2.7.5/MathJax.js?config=TeX-AMS-MML_SVG\"></script><script type=\"text/javascript\">if (window.MathJax) {MathJax.Hub.Config({SVG: {font: \"STIX-Web\"}});}</script>\n",
              "                <script type=\"text/javascript\">window.PlotlyConfig = {MathJaxConfig: 'local'};</script>\n",
              "        <script src=\"https://cdn.plot.ly/plotly-latest.min.js\"></script>    \n",
              "            <div id=\"df342655-cc29-4462-8533-ca78775eba55\" class=\"plotly-graph-div\" style=\"height:525px; width:100%;\"></div>\n",
              "            <script type=\"text/javascript\">\n",
              "                \n",
              "                    window.PLOTLYENV=window.PLOTLYENV || {};\n",
              "                    \n",
              "                if (document.getElementById(\"df342655-cc29-4462-8533-ca78775eba55\")) {\n",
              "                    Plotly.newPlot(\n",
              "                        'df342655-cc29-4462-8533-ca78775eba55',\n",
              "                        [{\"close\": [9123.410156, 9087.303711, 9132.488281, 9073.942383, 9375.474609, 9252.277344, 9428.333008, 9277.967773, 9278.807617, 9240.34668, 9276.5, 9243.614258, 9243.213867, 9192.836914, 9132.227539, 9151.392578, 9159.040039, 9185.817383, 9164.231445, 9374.887695, 9525.363281, 9581.072266, 9536.892578, 9677.113281, 9905.166992, 10990.873047, 10912.823242, 11100.467773, 11111.213867, 11323.466797, 11759.592773, 11053.614258, 11246.348633, 11205.892578, 11747.022461, 11779.773438, 11601.472656, 11754.045898, 11675.739258, 11878.111328, 11410.525391, 11584.93457, 11784.137695, 11768.871094, 11865.698242, 11892.803711, 12254.402344, 11991.233398, 11758.283203, 11878.37207, 11592.489258, 11681.825195, 11664.847656, 11774.595703, 11366.134766, 11488.363281, 11323.397461, 11542.5, 11506.865234, 11711.505859, 11680.820313, 11970.478516, 11414.03418, 10245.296875, 10511.813477, 10169.567383, 10280.351563, 10369.563477, 10131.516602, 10242.347656, 10363.138672, 10400.915039, 10442.170898, 10323.755859, 10680.837891, 10796.951172, 10974.905273, 10948.990234, 10944.585938, 11094.34668, 10938.271484, 10462.259766, 10538.459961, 10225.864258, 10745.548828, 10702.290039, 10754.4375, 10774.426758, 10721.327148, 10848.830078, 10787.618164, 10623.330078, 10585.164063, 10565.493164, 10684.428711, 10804.000977, 10621.664063, 10679.136719, 10923.62793, 10923.62793, 11296.361328, 11384.181641, 11384.181641, 11384.181641, 11429.506836, 11495.349609, 11322.123047, 11358.101563, 11483.359375, 11742.037109, 11916.334961, 12823.689453, 12965.891602, 12931.539063, 13108.0625, 13031.173828, 13075.248047, 13654.21875, 13271.285156, 13437.882813, 13546.522461000002, 13780.995116999999, 13737.109375, 13550.489258000001, 13950.300781, 14133.707031, 15579.848633000001, 15565.880859, 14833.753906, 15479.567383000001, 15332.31543, 15290.902344, 15701.339844, 16276.34375, 16317.808594, 16068.138672, 15955.587891, 16716.111328, 17645.40625, 17804.005859, 17817.089844, 18621.314453, 18642.232422, 18370.001953, 18364.121094, 19107.464844, 18732.121094, 17150.623047, 17108.402344, 17717.414063, 18177.484375, 19625.835938, 18802.998047, 19201.091797, 19445.398438, 18699.765625, 19154.230469, 19345.121094, 19191.630859, 18321.144531, 18553.916016, 18264.992188, 18058.904297, 18803.65625, 19142.382813, 19246.644531, 19417.076172, 21310.597656, 22805.162109, 23137.960938, 23869.832031, 23477.294922, 22803.082031, 23783.029297, 23241.345703, 23735.949219, 24664.791016, 26437.037109, 26272.294922, 27084.808594, 27362.4375, 28840.953125, 29001.720702999995, 29374.152344, 32127.267577999995, 32782.023438, 31971.914063, 33992.429688, 36824.363281, 39371.042969, 40797.609375, 40254.546875, 38356.441406, 35566.65625, 33922.960938, 37316.359375, 39187.328125, 36825.367188, 36178.140625, 35791.277344, 36630.074219, 36069.804688, 35547.75, 30825.699219, 33005.761719, 32067.642577999995, 32289.378906, 32366.392577999995, 32569.849608999997, 30432.546875, 31649.605469, 34316.386719, 34269.523438, 33114.359375, 33537.175781, 35510.289063, 37472.089844, 36926.066406, 38144.308594, 39266.011719, 38903.441406, 46196.464844, 46481.105469, 44918.183594, 47909.332031, 47504.851563, 47105.515625, 48717.289063, 47945.058594, 49199.871094, 52149.007813, 51679.796875, 55888.132813, 56099.51953099999, 57539.945313, 54207.320313, 48824.425781, 49705.332031, 47093.851563, 46339.761719, 46188.453125, 45137.769531, 49631.242188, 48378.988281, 50538.242188, 48561.167969, 48927.304688, 48912.382813, 51206.691406, 52246.523438, 54824.117188, 56008.55078099999, 57805.12109400001, 57332.08984400001, 61243.085938, 59302.31640599999, 55907.19921900001, 56804.90234400001, 58870.89453099999, 57858.921875, 58346.65234400001, 58313.64453099999, 57523.421875, 54529.14453099999, 54738.945313, 52774.265625, 51704.160156, 55137.3125, 55973.51171900001, 55950.74609400001, 57750.19921900001, 58917.69140599999, 58918.83203099999, 59095.80859400001, 59384.3125, 57603.890625, 58758.554688, 59057.87890599999, 58192.359375, 56048.9375, 58323.953125, 58245.00390599999, 59793.234375, 60204.96484400001, 59893.453125, 63503.45703099999, 63109.695313, 63314.01171900001, 61572.789063, 60683.820313, 56216.18359400001, 55724.265625, 56473.03125, 53906.08984400001, 51762.273438, 51093.652344, 50050.867188, 49004.253906, 54021.75390599999, 55033.117188, 54824.703125, 53555.109375, 57750.17578099999, 57828.05078099999, 56631.078125, 57200.29296900001, 53333.539063, 57424.007813, 56396.515625, 57356.40234400001, 58803.77734400001, 58232.31640599999, 55859.796875, 56704.57421900001, 49150.535156, 49716.191406, 49880.535156, 46760.1875, 46456.058594, 43537.511719, 42909.402344, 37002.441406, 40782.738281, 37304.691406, 37536.632813, 34770.582031, 38705.980469, 38402.222656, 39294.199219, 38436.96875, 35697.605469, 34616.066406, 35678.128906, 37332.855469, 36684.925781, 37575.179688, 39208.765625, 36894.40625, 35551.957031, 35862.378906, 33560.707031, 33472.632813, 37345.121094, 36702.597656, 37334.398438, 35552.515625, 39097.859375, 40218.476563, 40406.269531, 38347.0625, 38053.503906, 35787.246094, 35615.871094, 35698.296875, 31676.693358999997, 32505.660156, 33723.027344, 34662.4375, 31637.779297000005, 32186.277344, 34649.644531, 34434.335938, 35867.777344, 35040.835938, 33572.117188, 33897.046875, 34668.546875, 35287.78125, 33746.003906, 34235.195313, 33855.328125, 32877.371094, 33798.011719, 33520.519531, 34240.1875, 33155.847656], \"high\": [9274.962891, 9202.344727, 9183.295898, 9162.183594, 9375.474609, 9360.617188, 9450.335938, 9431.378906, 9287.47168, 9293.532227, 9319.418945, 9306.405273, 9283.841797, 9275.325195, 9214.3125, 9182.253906, 9230.983398, 9201.398438, 9214.270508, 9407.262695, 9530.518555, 9610.24707, 9623.336914, 9704.556641, 10023.807617, 11298.22168, 11204.327148, 11304.397461, 11169.356445, 11415.864258, 11794.775391, 12034.144531, 11453.079102, 11385.381836, 11786.617188, 11902.335938, 11898.038086, 11800.064453, 11806.056641, 12045.140625, 11932.710938, 11748.396484, 11796.396484, 12150.994141, 11963.203125, 11934.901367, 12359.056641, 12335.707031, 12028.923828, 11900.411133, 11899.259766, 11689.407227, 11713.429688, 11807.631836, 11778.299805, 11530.052734, 11570.786133, 11545.615234, 11585.640625, 11715.264648, 11768.876953, 12067.081055, 11964.823242, 11443.022461, 10663.919922, 10581.571289, 10353.927734, 10399.15332, 10414.775391, 10350.542969, 10503.912109, 10434.922852, 10578.837891, 10577.214844, 10800.010742, 10938.631836, 11100.124023, 11037.420898, 11034.908203, 11134.092773, 11095.870117, 10988.304688, 10568.077148, 10637.847656, 10765.794922, 10757.548828, 10778.5, 10804.732422, 10949.123047, 10858.939453, 10856.52832, 10915.84375, 10662.813477, 10614.091797, 10700.791016, 10804.000977, 10803.456055, 10687.268555, 10939.799805, 10939.799805, 11442.210938, 11428.813477, 11428.813477, 11428.813477, 11539.977539, 11569.914063, 11540.061523, 11386.261719, 11483.359375, 11799.092773, 11999.917969, 13184.566406, 13161.59375, 13015.961914, 13145.066406, 13329.183594, 13225.297852, 13759.668945, 13837.695313, 13612.047852000002, 13651.516602000002, 14028.213866999999, 13862.033203, 13808.323241999999, 13984.981445, 14218.766602000002, 15706.404297, 15903.4375, 15737.095703, 15637.320313, 15785.136719, 15450.329102000002, 15916.260741999999, 16305.003906, 16463.177734, 16317.808594, 16123.110352000002, 16816.181641, 17782.919922, 18393.949219, 18119.546875, 18773.226563, 18936.621094, 18688.96875, 18711.425781, 19348.271484, 19390.964844, 18866.285156, 17445.023438, 17853.939453, 18283.628906, 19749.263672, 19845.974609, 19308.330078, 19566.191406, 19511.404297, 19160.449219, 19390.5, 19411.828125, 19283.478516, 18626.292969, 18553.298828, 18268.453125, 18919.550781, 19381.535156, 19305.099609, 19525.007813, 21458.908203, 23642.660156, 23238.601563, 24085.855469, 24209.660156, 24059.982422, 23789.902344, 24024.490234, 23768.337891, 24710.101563, 26718.070313, 28288.839844, 27389.111327999995, 27370.720702999995, 28937.740233999997, 29244.876952999995, 29600.626952999995, 33155.117188, 34608.558594, 33440.21875, 34437.589844, 36879.699219, 40180.367188, 41946.738281, 41436.351563, 41420.191406, 38346.53125, 36568.527344, 37599.960938, 39966.40625, 39577.710938, 37864.367188, 36722.351563, 37299.285156, 37755.890625, 36378.328125, 35552.679688, 33811.851563, 33360.976563, 32944.007813, 34802.742188, 32794.550781, 32564.029297000005, 31891.300781, 38406.261719, 34834.707031, 34288.332031, 34638.214844, 35896.882813, 37480.1875, 38592.175781, 38225.90625, 40846.546875, 39621.835938, 46203.929688, 48003.722656, 47145.566406, 48463.46875, 48745.734375, 48047.746094, 49487.640625, 48875.570313, 50341.101563, 52533.914063, 52474.105469, 56113.65234400001, 57505.226563, 58330.570313, 57533.390625, 54204.929688, 51290.136719, 51948.96875, 48370.785156, 48253.269531, 46716.429688, 49784.015625, 50127.511719, 52535.136719, 51735.089844, 49396.429688, 49147.21875, 51384.367188, 52314.070313, 54824.117188, 57258.25390599999, 58091.0625, 57996.62109400001, 61683.86328099999, 61597.91796900001, 60540.992188, 56833.179688, 58969.81640599999, 60116.25, 59498.375, 60031.28515599999, 58767.898438, 58471.48046900001, 55985.44140599999, 57262.382813, 53392.386719, 55137.3125, 56568.21484400001, 56610.3125, 58342.09765599999, 59447.22265599999, 59930.02734400001, 59586.070313, 60267.1875, 60110.26953099999, 58913.74609400001, 59891.296875, 59479.578125, 58731.14453099999, 58338.73828099999, 58937.046875, 61276.664063, 60790.554688, 61253.03515599999, 63742.28515599999, 64863.09765599999, 63821.671875, 63594.72265599999, 62572.17578099999, 61057.45703099999, 57520.054688, 57062.148438, 56757.97265599999, 55410.23046900001, 52120.792969, 51167.5625, 50506.019531, 54288.00390599999, 55416.96484400001, 56227.20703099999, 55115.84375, 57900.71875, 58448.33984400001, 57902.59375, 58973.30859400001, 57214.179688, 57911.36328099999, 58363.31640599999, 58606.632813, 59464.61328099999, 59210.882813, 59519.35546900001, 56872.54296900001, 57939.36328099999, 51330.84375, 51438.117188, 50639.664063, 49720.042969, 46623.558594, 45812.457031, 43546.117188, 42462.984375, 42172.171875, 38831.054688, 38289.21875, 39835.140625, 39776.351563, 40782.078125, 40379.617188, 38856.96875, 37234.5, 36400.667969, 37468.25, 37896.734375, 38231.339844, 39478.953125, 39242.484375, 37917.714844, 36436.421875, 36790.570313, 34017.386719, 37537.371094, 38334.324219, 37608.695313, 37408.925781, 39322.78125, 40978.363281, 41295.269531, 40516.777344, 39513.671875, 38187.261719, 36457.796875, 36059.484375, 35721.640625, 33292.453125, 34753.410156, 35228.851563, 35487.246094, 32637.587891000003, 34656.128906, 35219.890625, 36542.109375, 36074.757813, 35035.984375, 33939.589844, 34909.261719, 35937.566406, 35284.34375, 35038.535156, 34997.664063, 33907.90625, 34042.292969, 34209.070313, 34584.703125, 34592.15625], \"low\": [9036.623047, 9058.794922, 9053.629883, 8977.015625, 9058.664063, 9201.81543, 9249.5, 9234.999023, 9118.001953, 9199.485352, 9197.450195, 9224.292969, 9171.661133, 9171.933594, 9088.947266, 9089.202148, 9100.824219, 9097.632813, 9137.509766, 9149.389648, 9319.65332, 9483.003906, 9481.454102, 9530.211914, 9652.847656, 9903.969727, 10632.631836, 10856.141602, 10895.455078, 10987.053711, 11239.682617, 11018.129883, 11012.415039, 11094.145508, 11158.285156, 11598.713867, 11408.59375, 11558.431641, 11548.78418, 11662.256836, 11195.708984, 11249.605469, 11216.87207, 11685.455078, 11768.697266, 11737.188477, 11806.696289, 11954.525391, 11687.333008, 11710.063477, 11564.979492, 11448.805664, 11559.920898, 11623.25, 11189.850586, 11296.993164, 11185.941406, 11316.422852, 11466.292969, 11492.381836, 11598.318359, 11601.128906, 11290.793945, 10182.464844, 10207.94043, 9946.675781, 10056.885742, 9916.493164, 9945.110352, 10017.250977, 10238.135742, 10140.836914, 10292.386719, 10224.330078, 10266.008789, 10656.459961, 10704.884766, 10774.62793, 10829.657227, 10909.618164, 10814.477539, 10380.260742, 10382.726563, 10185.774414, 10215.205078, 10594.047852, 10682.082031, 10643.458008, 10716.676758, 10665.344727, 10689.670898, 10493.552734, 10440.311523, 10527.978516, 10531.342773, 10646.443359, 10565.197266, 10591.963867, 10569.823242, 10569.823242, 11056.94043, 11288.62793, 11288.62793, 11288.62793, 11307.831055, 11303.603516, 11223.012695, 11285.345703, 11347.578125, 11408.290039, 11681.480469, 11900.928711, 12717.09375, 12752.647461, 12885.74707, 12910.061523, 12822.382813, 13060.837891, 12932.250977, 12980.05957, 13136.198242, 13457.530272999998, 13628.37793, 13243.160156, 13325.441406, 13580.47168, 14102.088866999999, 15226.839844, 14423.203125, 14744.110352000002, 14865.529297, 15124.959961000002, 15290.006836000002, 15534.771484, 15992.152344, 15749.193359, 15793.53418, 15880.706055, 16564.544922, 17352.90625, 17382.554688, 17765.794922, 18444.359375, 17671.384766, 18000.796875, 18128.65625, 18581.146484, 16351.035156, 16526.423828, 16910.652344, 17559.117188, 18178.322266, 18321.921875, 18347.71875, 18925.785156, 18697.193359, 18590.193359, 18897.894531, 18931.142578, 18269.945313, 17935.546875, 17957.064453, 17619.533203, 18046.041016, 18734.332031, 19012.708984, 19079.841797, 19298.316406, 21234.675781, 22399.8125, 22826.472656, 23147.710938, 22159.367188, 22430.605469, 22802.646484, 22777.597656, 23463.673828, 24522.689453, 25922.769531, 26207.640625, 25987.298828, 27360.089844, 28201.992188, 28803.585938, 29091.181641000003, 32052.316406, 28722.755858999997, 30221.1875, 33514.035156, 36491.191406, 36838.636719, 38980.875, 35984.628906, 30549.599608999997, 32697.976563, 32584.667969, 36868.5625, 34659.589844, 35633.554688, 34069.320313, 34883.84375, 36069.804688, 33570.476563, 30250.75, 28953.373047000005, 31493.160156, 31106.685547000005, 32087.787108999997, 31030.265625, 29367.138672000005, 30023.207031, 32064.814452999995, 32940.1875, 32270.175781, 32384.228516000003, 33489.21875, 35443.984375, 36317.5, 36658.761719, 38138.386719, 37446.152344, 38076.324219, 45166.960938, 43881.152344, 44187.761719, 46424.976563, 46392.28125, 47114.507813, 46347.476563, 47201.304688, 49072.378906, 51015.765625, 50937.277344, 54626.55859400001, 55672.609375, 48967.566406, 45290.589844, 47213.5, 47093.851563, 44454.84375, 45269.027344, 43241.617188, 45115.09375, 47228.84375, 48274.320313, 47656.929688, 46542.515625, 47257.527344, 48918.679688, 49506.054688, 51981.832031, 53290.890625, 54484.59375, 55376.648438, 56217.97265599999, 59302.31640599999, 55393.164063, 53555.027344, 54528.62890599999, 54253.578125, 56643.703125, 58213.296875, 56005.617188, 54288.15625, 53470.695313, 52514.332031, 50856.570313, 51579.855469, 54242.91015599999, 55071.11328099999, 55139.33984400001, 57251.55078099999, 57726.41796900001, 58505.27734400001, 58869.28125, 57603.890625, 57168.67578099999, 57694.82421900001, 57646.80859400001, 55604.023438, 55879.085938, 57807.86328099999, 58038.70703099999, 59289.796875, 59589.875, 59869.95703099999, 61554.796875, 62208.96484400001, 60222.53125, 60361.351563, 52829.535156, 54368.59375, 53448.046875, 53695.46875, 50583.8125, 47714.664063, 48805.285156, 47159.484375, 48852.796875, 53319.1875, 53887.91796900001, 52418.027344, 53129.601563, 57052.273438, 56141.90625, 56590.87109400001, 53191.425781, 52969.054688, 55382.507813, 55321.84765599999, 56975.210938, 56482.00390599999, 54071.45703099999, 54608.65234400001, 49150.535156, 46980.019531, 48868.578125, 46664.140625, 43963.351563, 42207.289063, 42367.832031, 30681.496094, 35050.617188, 33616.453125, 35383.683594, 31227.339844, 34551.082031, 36581.429688, 37905.835938, 37247.902344, 34779.039063, 33693.929688, 33520.738281, 34241.945313, 35787.085938, 35966.308594, 37243.972656, 35717.722656, 34900.414063, 35304.578125, 33480.640625, 31114.443358999997, 32475.865233999997, 35847.59375, 36044.449219, 34728.191406, 34864.109375, 38757.285156, 39609.46875, 38176.035156, 37439.675781, 35255.855469, 34933.0625, 33432.074219, 31295.935547000005, 28893.621094, 31772.632813, 32385.214844, 31350.884766000003, 30184.501952999995, 32071.757813, 33902.074219, 34252.484375, 34086.152344, 32883.78125, 32770.679688, 33402.695313, 34396.476563, 33213.660156, 33599.917969, 33839.289063, 32133.183594, 32318.880858999997, 33116.011719, 33346.738281, 32697.308594], \"open\": [9231.139648, 9124.842773, 9084.233398, 9126.09082, 9072.849609, 9349.161133, 9253.020508, 9427.994141, 9273.357422, 9277.511719, 9241.054688, 9277.205078, 9238.703125, 9241.897461, 9191.980469, 9131.8125, 9151.183594, 9158.005859, 9187.220703, 9162.514648, 9375.080078, 9527.141602, 9585.514648, 9539.485352, 9680.234375, 9905.217773, 11017.463867, 10912.953125, 11099.833008, 11110.210938, 11322.570313, 11758.764648, 11043.768555, 11246.203125, 11203.823242, 11749.871094, 11778.894531, 11604.553711, 11737.325195, 11662.256836, 11881.647461, 11404.59668, 11588.405273, 11772.65918, 11768.697266, 11866.685547, 11895.658203, 12251.895508, 11990.884766, 11761.5, 11878.026367, 11585.477539, 11679.696289, 11663.689453, 11773.588867, 11366.894531, 11485.608398, 11325.295898, 11541.054688, 11508.713867, 11713.306641, 11679.316406, 11964.823242, 11407.191406, 10230.365234, 10512.530273, 10167.216797, 10280.998047, 10369.306641, 10134.151367, 10242.330078, 10369.02832, 10409.861328, 10452.399414, 10328.734375, 10677.754883, 10797.761719, 10973.251953, 10951.820313, 10933.75293, 11095.870117, 10934.925781, 10459.624023, 10539.457031, 10227.479492, 10747.472656, 10702.237305, 10752.939453, 10771.641602, 10712.462891, 10845.411133, 10785.010742, 10624.390625, 10583.806641, 10567.919922, 10688.03418, 10799.77832, 10619.803711, 10677.625, 10677.625, 11059.142578, 11296.082031, 11296.082031, 11296.082031, 11429.047852, 11426.602539, 11502.828125, 11322.123047, 11355.982422, 11495.038086, 11745.974609, 11913.077148, 12801.635742, 12971.548828, 12931.574219, 13108.063477, 13031.201172, 13075.242188, 13654.214844, 13271.298828, 13437.874022999998, 13546.532227000002, 13780.995116999999, 13737.032227000002, 13550.451172, 13950.488281, 14133.733397999998, 15579.729491999999, 15565.880859, 14833.753906, 15479.595703, 15332.350586000002, 15290.90918, 15701.298828, 16276.44043, 16317.808594, 16068.139647999998, 15955.577147999998, 16685.691406, 17645.191406, 17803.861328, 17817.083984, 18621.316406, 18642.232422, 18370.017578, 18365.015625, 19104.410156, 18729.839844, 17153.914063, 17112.933594, 17719.634766, 18178.322266, 19633.769531, 18801.744141, 19205.925781, 19446.966797, 18698.384766, 19154.179688, 19343.128906, 19191.529297, 18320.884766, 18553.298828, 18263.929688, 18051.320313, 18806.765625, 19144.492188, 19246.919922, 19418.818359, 21308.351563, 22806.796875, 23132.865234, 23861.765625, 23474.455078, 22794.039063, 23781.974609, 23240.203125, 23733.570313, 24677.015625, 26439.373047, 26280.822266, 27081.810547000005, 27360.089844, 28841.574219, 28994.009766000003, 29376.455077999995, 32129.408202999995, 32810.949219, 31977.041016000003, 34013.613281, 36833.875, 39381.765625, 40788.640625, 40254.21875, 38346.53125, 35516.359375, 33915.121094, 37325.109375, 39156.707031, 36821.648438, 36163.648438, 35792.238281, 36642.234375, 36050.113281, 35549.398438, 30817.625, 32985.757813, 32064.376952999995, 32285.798827999995, 32358.613281, 32564.029297000005, 30441.041016000003, 34318.671875, 34295.933594, 34270.878906, 33114.578125, 33533.199219, 35510.820313, 37475.105469, 36931.546875, 38138.386719, 39250.191406, 38886.828125, 46184.992188, 46469.761719, 44898.710938, 47877.035156, 47491.203125, 47114.507813, 48696.535156, 47944.457031, 49207.277344, 52140.972656, 51675.980469, 55887.335938, 56068.56640599999, 57532.73828099999, 54204.929688, 48835.085938, 49709.082031, 47180.464844, 46344.773438, 46194.015625, 45159.503906, 49612.105469, 48415.816406, 50522.304688, 48527.03125, 48899.230469, 48918.679688, 51174.117188, 52272.96875, 54824.01171900001, 55963.179688, 57821.21875, 57343.37109400001, 61221.132813, 59267.429688, 55840.78515599999, 56825.828125, 58893.078125, 57850.44140599999, 58332.26171900001, 58309.914063, 57517.890625, 54511.66015599999, 54710.48828099999, 52726.746094, 51683.011719, 55137.56640599999, 55974.94140599999, 55947.898438, 57750.132813, 58930.27734400001, 58926.5625, 59098.87890599999, 59397.41015599999, 57604.83984400001, 58760.875, 59171.93359400001, 58186.507813, 56099.914063, 58326.5625, 58253.77734400001, 59846.23046900001, 60175.945313, 59890.01953099999, 63523.75390599999, 63075.195313, 63258.50390599999, 61529.921875, 60701.88671900001, 56191.585938, 55681.79296900001, 56471.12890599999, 53857.10546900001, 51739.808594, 51143.226563, 50052.832031, 49077.792969, 54030.304688, 55036.63671900001, 54858.08984400001, 53568.664063, 57714.664063, 57825.86328099999, 56620.273438, 57214.179688, 53252.164063, 57441.30859400001, 56413.953125, 57352.765625, 58877.390625, 58250.87109400001, 55847.242188, 56714.53125, 49735.433594, 49682.980469, 49855.496094, 46716.636719, 46415.898438, 43488.058594, 42944.976563, 36753.667969, 40596.949219, 37371.03125, 37531.449219, 34700.363281, 38795.78125, 38392.625, 39316.890625, 38507.082031, 35684.15625, 34607.40625, 35658.59375, 37293.792969, 36699.921875, 37599.410156, 39242.484375, 36880.15625, 35538.609375, 35835.265625, 33589.519531, 33416.976563, 37389.515625, 36697.03125, 37340.144531, 35555.789063, 39016.96875, 40427.167969, 40168.691406, 38341.421875, 38099.476563, 35854.527344, 35563.140625, 35641.144531, 31622.376952999995, 32515.714844, 33682.800781, 34659.105469, 31594.664063, 32287.523438, 34679.121094, 34475.558594, 35908.386719, 35035.984375, 33549.601563, 33854.421875, 34665.566406, 35284.34375, 33723.507813, 34225.679688, 33889.605469, 32861.671875, 33811.242188, 33509.078125, 34254.015625], \"type\": \"candlestick\", \"x\": [\"2020-07-02T00:00:00\", \"2020-07-03T00:00:00\", \"2020-07-04T00:00:00\", \"2020-07-05T00:00:00\", \"2020-07-06T00:00:00\", \"2020-07-07T00:00:00\", \"2020-07-08T00:00:00\", \"2020-07-09T00:00:00\", \"2020-07-10T00:00:00\", \"2020-07-11T00:00:00\", \"2020-07-12T00:00:00\", \"2020-07-13T00:00:00\", \"2020-07-14T00:00:00\", \"2020-07-15T00:00:00\", \"2020-07-16T00:00:00\", \"2020-07-17T00:00:00\", \"2020-07-18T00:00:00\", \"2020-07-19T00:00:00\", \"2020-07-20T00:00:00\", \"2020-07-21T00:00:00\", \"2020-07-22T00:00:00\", \"2020-07-23T00:00:00\", \"2020-07-24T00:00:00\", \"2020-07-25T00:00:00\", \"2020-07-26T00:00:00\", \"2020-07-27T00:00:00\", \"2020-07-28T00:00:00\", \"2020-07-29T00:00:00\", \"2020-07-30T00:00:00\", \"2020-07-31T00:00:00\", \"2020-08-01T00:00:00\", \"2020-08-02T00:00:00\", \"2020-08-03T00:00:00\", \"2020-08-04T00:00:00\", \"2020-08-05T00:00:00\", \"2020-08-06T00:00:00\", \"2020-08-07T00:00:00\", \"2020-08-08T00:00:00\", \"2020-08-09T00:00:00\", \"2020-08-10T00:00:00\", \"2020-08-11T00:00:00\", \"2020-08-12T00:00:00\", \"2020-08-13T00:00:00\", \"2020-08-14T00:00:00\", \"2020-08-15T00:00:00\", \"2020-08-16T00:00:00\", \"2020-08-17T00:00:00\", \"2020-08-18T00:00:00\", \"2020-08-19T00:00:00\", \"2020-08-20T00:00:00\", \"2020-08-21T00:00:00\", \"2020-08-22T00:00:00\", \"2020-08-23T00:00:00\", \"2020-08-24T00:00:00\", \"2020-08-25T00:00:00\", \"2020-08-26T00:00:00\", \"2020-08-27T00:00:00\", \"2020-08-28T00:00:00\", \"2020-08-29T00:00:00\", \"2020-08-30T00:00:00\", \"2020-08-31T00:00:00\", \"2020-09-01T00:00:00\", \"2020-09-02T00:00:00\", \"2020-09-03T00:00:00\", \"2020-09-04T00:00:00\", \"2020-09-05T00:00:00\", \"2020-09-06T00:00:00\", \"2020-09-07T00:00:00\", \"2020-09-08T00:00:00\", \"2020-09-09T00:00:00\", \"2020-09-10T00:00:00\", \"2020-09-11T00:00:00\", \"2020-09-12T00:00:00\", \"2020-09-13T00:00:00\", \"2020-09-14T00:00:00\", \"2020-09-15T00:00:00\", \"2020-09-16T00:00:00\", \"2020-09-17T00:00:00\", \"2020-09-18T00:00:00\", \"2020-09-19T00:00:00\", \"2020-09-20T00:00:00\", \"2020-09-21T00:00:00\", \"2020-09-22T00:00:00\", \"2020-09-23T00:00:00\", \"2020-09-24T00:00:00\", \"2020-09-25T00:00:00\", \"2020-09-26T00:00:00\", \"2020-09-27T00:00:00\", \"2020-09-28T00:00:00\", \"2020-09-29T00:00:00\", \"2020-09-30T00:00:00\", \"2020-10-01T00:00:00\", \"2020-10-02T00:00:00\", \"2020-10-03T00:00:00\", \"2020-10-04T00:00:00\", \"2020-10-05T00:00:00\", \"2020-10-06T00:00:00\", \"2020-10-07T00:00:00\", \"2020-10-08T00:00:00\", \"2020-10-09T00:00:00\", \"2020-10-10T00:00:00\", \"2020-10-11T00:00:00\", \"2020-10-12T00:00:00\", \"2020-10-13T00:00:00\", \"2020-10-14T00:00:00\", \"2020-10-15T00:00:00\", \"2020-10-16T00:00:00\", \"2020-10-17T00:00:00\", \"2020-10-18T00:00:00\", \"2020-10-19T00:00:00\", \"2020-10-20T00:00:00\", \"2020-10-21T00:00:00\", \"2020-10-22T00:00:00\", \"2020-10-23T00:00:00\", \"2020-10-24T00:00:00\", \"2020-10-25T00:00:00\", \"2020-10-26T00:00:00\", \"2020-10-27T00:00:00\", \"2020-10-28T00:00:00\", \"2020-10-29T00:00:00\", \"2020-10-30T00:00:00\", \"2020-10-31T00:00:00\", \"2020-11-01T00:00:00\", \"2020-11-02T00:00:00\", \"2020-11-03T00:00:00\", \"2020-11-04T00:00:00\", \"2020-11-05T00:00:00\", \"2020-11-06T00:00:00\", \"2020-11-07T00:00:00\", \"2020-11-08T00:00:00\", \"2020-11-09T00:00:00\", \"2020-11-10T00:00:00\", \"2020-11-11T00:00:00\", \"2020-11-12T00:00:00\", \"2020-11-13T00:00:00\", \"2020-11-14T00:00:00\", \"2020-11-15T00:00:00\", \"2020-11-16T00:00:00\", \"2020-11-17T00:00:00\", \"2020-11-18T00:00:00\", \"2020-11-19T00:00:00\", \"2020-11-20T00:00:00\", \"2020-11-21T00:00:00\", \"2020-11-22T00:00:00\", \"2020-11-23T00:00:00\", \"2020-11-24T00:00:00\", \"2020-11-25T00:00:00\", \"2020-11-26T00:00:00\", \"2020-11-27T00:00:00\", \"2020-11-28T00:00:00\", \"2020-11-29T00:00:00\", \"2020-11-30T00:00:00\", \"2020-12-01T00:00:00\", \"2020-12-02T00:00:00\", \"2020-12-03T00:00:00\", \"2020-12-04T00:00:00\", \"2020-12-05T00:00:00\", \"2020-12-06T00:00:00\", \"2020-12-07T00:00:00\", \"2020-12-08T00:00:00\", \"2020-12-09T00:00:00\", \"2020-12-10T00:00:00\", \"2020-12-11T00:00:00\", \"2020-12-12T00:00:00\", \"2020-12-13T00:00:00\", \"2020-12-14T00:00:00\", \"2020-12-15T00:00:00\", \"2020-12-16T00:00:00\", \"2020-12-17T00:00:00\", \"2020-12-18T00:00:00\", \"2020-12-19T00:00:00\", \"2020-12-20T00:00:00\", \"2020-12-21T00:00:00\", \"2020-12-22T00:00:00\", \"2020-12-23T00:00:00\", \"2020-12-24T00:00:00\", \"2020-12-25T00:00:00\", \"2020-12-26T00:00:00\", \"2020-12-27T00:00:00\", \"2020-12-28T00:00:00\", \"2020-12-29T00:00:00\", \"2020-12-30T00:00:00\", \"2020-12-31T00:00:00\", \"2021-01-01T00:00:00\", \"2021-01-02T00:00:00\", \"2021-01-03T00:00:00\", \"2021-01-04T00:00:00\", \"2021-01-05T00:00:00\", \"2021-01-06T00:00:00\", \"2021-01-07T00:00:00\", \"2021-01-08T00:00:00\", \"2021-01-09T00:00:00\", \"2021-01-10T00:00:00\", \"2021-01-11T00:00:00\", \"2021-01-12T00:00:00\", \"2021-01-13T00:00:00\", \"2021-01-14T00:00:00\", \"2021-01-15T00:00:00\", \"2021-01-16T00:00:00\", \"2021-01-17T00:00:00\", \"2021-01-18T00:00:00\", \"2021-01-19T00:00:00\", \"2021-01-20T00:00:00\", \"2021-01-21T00:00:00\", \"2021-01-22T00:00:00\", \"2021-01-23T00:00:00\", \"2021-01-24T00:00:00\", \"2021-01-25T00:00:00\", \"2021-01-26T00:00:00\", \"2021-01-27T00:00:00\", \"2021-01-28T00:00:00\", \"2021-01-29T00:00:00\", \"2021-01-30T00:00:00\", \"2021-01-31T00:00:00\", \"2021-02-01T00:00:00\", \"2021-02-02T00:00:00\", \"2021-02-03T00:00:00\", \"2021-02-04T00:00:00\", \"2021-02-05T00:00:00\", \"2021-02-06T00:00:00\", \"2021-02-07T00:00:00\", \"2021-02-08T00:00:00\", \"2021-02-09T00:00:00\", \"2021-02-10T00:00:00\", \"2021-02-11T00:00:00\", \"2021-02-12T00:00:00\", \"2021-02-13T00:00:00\", \"2021-02-14T00:00:00\", \"2021-02-15T00:00:00\", \"2021-02-16T00:00:00\", \"2021-02-17T00:00:00\", \"2021-02-18T00:00:00\", \"2021-02-19T00:00:00\", \"2021-02-20T00:00:00\", \"2021-02-21T00:00:00\", \"2021-02-22T00:00:00\", \"2021-02-23T00:00:00\", \"2021-02-24T00:00:00\", \"2021-02-25T00:00:00\", \"2021-02-26T00:00:00\", \"2021-02-27T00:00:00\", \"2021-02-28T00:00:00\", \"2021-03-01T00:00:00\", \"2021-03-02T00:00:00\", \"2021-03-03T00:00:00\", \"2021-03-04T00:00:00\", \"2021-03-05T00:00:00\", \"2021-03-06T00:00:00\", \"2021-03-07T00:00:00\", \"2021-03-08T00:00:00\", \"2021-03-09T00:00:00\", \"2021-03-10T00:00:00\", \"2021-03-11T00:00:00\", \"2021-03-12T00:00:00\", \"2021-03-13T00:00:00\", \"2021-03-14T00:00:00\", \"2021-03-15T00:00:00\", \"2021-03-16T00:00:00\", \"2021-03-17T00:00:00\", \"2021-03-18T00:00:00\", \"2021-03-19T00:00:00\", \"2021-03-20T00:00:00\", \"2021-03-21T00:00:00\", \"2021-03-22T00:00:00\", \"2021-03-23T00:00:00\", \"2021-03-24T00:00:00\", \"2021-03-25T00:00:00\", \"2021-03-26T00:00:00\", \"2021-03-27T00:00:00\", \"2021-03-28T00:00:00\", \"2021-03-29T00:00:00\", \"2021-03-30T00:00:00\", \"2021-03-31T00:00:00\", \"2021-04-01T00:00:00\", \"2021-04-02T00:00:00\", \"2021-04-03T00:00:00\", \"2021-04-04T00:00:00\", \"2021-04-05T00:00:00\", \"2021-04-06T00:00:00\", \"2021-04-07T00:00:00\", \"2021-04-08T00:00:00\", \"2021-04-09T00:00:00\", \"2021-04-10T00:00:00\", \"2021-04-11T00:00:00\", \"2021-04-12T00:00:00\", \"2021-04-13T00:00:00\", \"2021-04-14T00:00:00\", \"2021-04-15T00:00:00\", \"2021-04-16T00:00:00\", \"2021-04-17T00:00:00\", \"2021-04-18T00:00:00\", \"2021-04-19T00:00:00\", \"2021-04-20T00:00:00\", \"2021-04-21T00:00:00\", \"2021-04-22T00:00:00\", \"2021-04-23T00:00:00\", \"2021-04-24T00:00:00\", \"2021-04-25T00:00:00\", \"2021-04-26T00:00:00\", \"2021-04-27T00:00:00\", \"2021-04-28T00:00:00\", \"2021-04-29T00:00:00\", \"2021-04-30T00:00:00\", \"2021-05-01T00:00:00\", \"2021-05-02T00:00:00\", \"2021-05-03T00:00:00\", \"2021-05-04T00:00:00\", \"2021-05-05T00:00:00\", \"2021-05-06T00:00:00\", \"2021-05-07T00:00:00\", \"2021-05-08T00:00:00\", \"2021-05-09T00:00:00\", \"2021-05-10T00:00:00\", \"2021-05-11T00:00:00\", \"2021-05-12T00:00:00\", \"2021-05-13T00:00:00\", \"2021-05-14T00:00:00\", \"2021-05-15T00:00:00\", \"2021-05-16T00:00:00\", \"2021-05-17T00:00:00\", \"2021-05-18T00:00:00\", \"2021-05-19T00:00:00\", \"2021-05-20T00:00:00\", \"2021-05-21T00:00:00\", \"2021-05-22T00:00:00\", \"2021-05-23T00:00:00\", \"2021-05-24T00:00:00\", \"2021-05-25T00:00:00\", \"2021-05-26T00:00:00\", \"2021-05-27T00:00:00\", \"2021-05-28T00:00:00\", \"2021-05-29T00:00:00\", \"2021-05-30T00:00:00\", \"2021-05-31T00:00:00\", \"2021-06-01T00:00:00\", \"2021-06-02T00:00:00\", \"2021-06-03T00:00:00\", \"2021-06-04T00:00:00\", \"2021-06-05T00:00:00\", \"2021-06-06T00:00:00\", \"2021-06-07T00:00:00\", \"2021-06-08T00:00:00\", \"2021-06-09T00:00:00\", \"2021-06-10T00:00:00\", \"2021-06-11T00:00:00\", \"2021-06-12T00:00:00\", \"2021-06-13T00:00:00\", \"2021-06-14T00:00:00\", \"2021-06-15T00:00:00\", \"2021-06-16T00:00:00\", \"2021-06-17T00:00:00\", \"2021-06-18T00:00:00\", \"2021-06-19T00:00:00\", \"2021-06-20T00:00:00\", \"2021-06-21T00:00:00\", \"2021-06-22T00:00:00\", \"2021-06-23T00:00:00\", \"2021-06-24T00:00:00\", \"2021-06-25T00:00:00\", \"2021-06-26T00:00:00\", \"2021-06-27T00:00:00\", \"2021-06-28T00:00:00\", \"2021-06-29T00:00:00\", \"2021-06-30T00:00:00\", \"2021-07-01T00:00:00\", \"2021-07-02T00:00:00\", \"2021-07-03T00:00:00\", \"2021-07-04T00:00:00\", \"2021-07-05T00:00:00\", \"2021-07-06T00:00:00\", \"2021-07-07T00:00:00\", \"2021-07-08T00:00:00\", \"2021-07-09T00:00:00\", \"2021-07-10T00:00:00\", \"2021-07-11T00:00:00\", \"2021-07-12T00:00:00\"]}],\n",
              "                        {\"template\": {\"data\": {\"bar\": [{\"error_x\": {\"color\": \"#2a3f5f\"}, \"error_y\": {\"color\": \"#2a3f5f\"}, \"marker\": {\"line\": {\"color\": \"#E5ECF6\", \"width\": 0.5}}, \"type\": \"bar\"}], \"barpolar\": [{\"marker\": {\"line\": {\"color\": \"#E5ECF6\", \"width\": 0.5}}, \"type\": \"barpolar\"}], \"carpet\": [{\"aaxis\": {\"endlinecolor\": \"#2a3f5f\", \"gridcolor\": \"white\", \"linecolor\": \"white\", \"minorgridcolor\": \"white\", \"startlinecolor\": \"#2a3f5f\"}, \"baxis\": {\"endlinecolor\": \"#2a3f5f\", \"gridcolor\": \"white\", \"linecolor\": \"white\", \"minorgridcolor\": \"white\", \"startlinecolor\": \"#2a3f5f\"}, \"type\": \"carpet\"}], \"choropleth\": [{\"colorbar\": {\"outlinewidth\": 0, \"ticks\": \"\"}, \"type\": \"choropleth\"}], \"contour\": [{\"colorbar\": {\"outlinewidth\": 0, \"ticks\": \"\"}, \"colorscale\": [[0.0, \"#0d0887\"], [0.1111111111111111, \"#46039f\"], [0.2222222222222222, \"#7201a8\"], [0.3333333333333333, \"#9c179e\"], [0.4444444444444444, \"#bd3786\"], [0.5555555555555556, \"#d8576b\"], [0.6666666666666666, \"#ed7953\"], [0.7777777777777778, \"#fb9f3a\"], [0.8888888888888888, \"#fdca26\"], [1.0, \"#f0f921\"]], \"type\": \"contour\"}], \"contourcarpet\": [{\"colorbar\": {\"outlinewidth\": 0, \"ticks\": \"\"}, \"type\": \"contourcarpet\"}], \"heatmap\": [{\"colorbar\": {\"outlinewidth\": 0, \"ticks\": \"\"}, \"colorscale\": [[0.0, \"#0d0887\"], [0.1111111111111111, \"#46039f\"], [0.2222222222222222, \"#7201a8\"], [0.3333333333333333, \"#9c179e\"], [0.4444444444444444, \"#bd3786\"], [0.5555555555555556, \"#d8576b\"], [0.6666666666666666, \"#ed7953\"], [0.7777777777777778, \"#fb9f3a\"], [0.8888888888888888, \"#fdca26\"], [1.0, \"#f0f921\"]], \"type\": \"heatmap\"}], \"heatmapgl\": [{\"colorbar\": {\"outlinewidth\": 0, \"ticks\": \"\"}, \"colorscale\": [[0.0, \"#0d0887\"], [0.1111111111111111, \"#46039f\"], [0.2222222222222222, \"#7201a8\"], [0.3333333333333333, \"#9c179e\"], [0.4444444444444444, \"#bd3786\"], [0.5555555555555556, \"#d8576b\"], [0.6666666666666666, \"#ed7953\"], [0.7777777777777778, \"#fb9f3a\"], [0.8888888888888888, \"#fdca26\"], [1.0, \"#f0f921\"]], \"type\": \"heatmapgl\"}], \"histogram\": [{\"marker\": {\"colorbar\": {\"outlinewidth\": 0, \"ticks\": \"\"}}, \"type\": \"histogram\"}], \"histogram2d\": [{\"colorbar\": {\"outlinewidth\": 0, \"ticks\": \"\"}, \"colorscale\": [[0.0, \"#0d0887\"], [0.1111111111111111, \"#46039f\"], [0.2222222222222222, \"#7201a8\"], [0.3333333333333333, \"#9c179e\"], [0.4444444444444444, \"#bd3786\"], [0.5555555555555556, \"#d8576b\"], [0.6666666666666666, \"#ed7953\"], [0.7777777777777778, \"#fb9f3a\"], [0.8888888888888888, \"#fdca26\"], [1.0, \"#f0f921\"]], \"type\": \"histogram2d\"}], \"histogram2dcontour\": [{\"colorbar\": {\"outlinewidth\": 0, \"ticks\": \"\"}, \"colorscale\": [[0.0, \"#0d0887\"], [0.1111111111111111, \"#46039f\"], [0.2222222222222222, \"#7201a8\"], [0.3333333333333333, \"#9c179e\"], [0.4444444444444444, \"#bd3786\"], [0.5555555555555556, \"#d8576b\"], [0.6666666666666666, \"#ed7953\"], [0.7777777777777778, \"#fb9f3a\"], [0.8888888888888888, \"#fdca26\"], [1.0, \"#f0f921\"]], \"type\": \"histogram2dcontour\"}], \"mesh3d\": [{\"colorbar\": {\"outlinewidth\": 0, \"ticks\": \"\"}, \"type\": \"mesh3d\"}], \"parcoords\": [{\"line\": {\"colorbar\": {\"outlinewidth\": 0, \"ticks\": \"\"}}, \"type\": \"parcoords\"}], \"pie\": [{\"automargin\": true, \"type\": \"pie\"}], \"scatter\": [{\"marker\": {\"colorbar\": {\"outlinewidth\": 0, \"ticks\": \"\"}}, \"type\": \"scatter\"}], \"scatter3d\": [{\"line\": {\"colorbar\": {\"outlinewidth\": 0, \"ticks\": \"\"}}, \"marker\": {\"colorbar\": {\"outlinewidth\": 0, \"ticks\": \"\"}}, \"type\": \"scatter3d\"}], \"scattercarpet\": [{\"marker\": {\"colorbar\": {\"outlinewidth\": 0, \"ticks\": \"\"}}, \"type\": \"scattercarpet\"}], \"scattergeo\": [{\"marker\": {\"colorbar\": {\"outlinewidth\": 0, \"ticks\": \"\"}}, \"type\": \"scattergeo\"}], \"scattergl\": [{\"marker\": {\"colorbar\": {\"outlinewidth\": 0, \"ticks\": \"\"}}, \"type\": \"scattergl\"}], \"scattermapbox\": [{\"marker\": {\"colorbar\": {\"outlinewidth\": 0, \"ticks\": \"\"}}, \"type\": \"scattermapbox\"}], \"scatterpolar\": [{\"marker\": {\"colorbar\": {\"outlinewidth\": 0, \"ticks\": \"\"}}, \"type\": \"scatterpolar\"}], \"scatterpolargl\": [{\"marker\": {\"colorbar\": {\"outlinewidth\": 0, \"ticks\": \"\"}}, \"type\": \"scatterpolargl\"}], \"scatterternary\": [{\"marker\": {\"colorbar\": {\"outlinewidth\": 0, \"ticks\": \"\"}}, \"type\": \"scatterternary\"}], \"surface\": [{\"colorbar\": {\"outlinewidth\": 0, \"ticks\": \"\"}, \"colorscale\": [[0.0, \"#0d0887\"], [0.1111111111111111, \"#46039f\"], [0.2222222222222222, \"#7201a8\"], [0.3333333333333333, \"#9c179e\"], [0.4444444444444444, \"#bd3786\"], [0.5555555555555556, \"#d8576b\"], [0.6666666666666666, \"#ed7953\"], [0.7777777777777778, \"#fb9f3a\"], [0.8888888888888888, \"#fdca26\"], [1.0, \"#f0f921\"]], \"type\": \"surface\"}], \"table\": [{\"cells\": {\"fill\": {\"color\": \"#EBF0F8\"}, \"line\": {\"color\": \"white\"}}, \"header\": {\"fill\": {\"color\": \"#C8D4E3\"}, \"line\": {\"color\": \"white\"}}, \"type\": \"table\"}]}, \"layout\": {\"annotationdefaults\": {\"arrowcolor\": \"#2a3f5f\", \"arrowhead\": 0, \"arrowwidth\": 1}, \"coloraxis\": {\"colorbar\": {\"outlinewidth\": 0, \"ticks\": \"\"}}, \"colorscale\": {\"diverging\": [[0, \"#8e0152\"], [0.1, \"#c51b7d\"], [0.2, \"#de77ae\"], [0.3, \"#f1b6da\"], [0.4, \"#fde0ef\"], [0.5, \"#f7f7f7\"], [0.6, \"#e6f5d0\"], [0.7, \"#b8e186\"], [0.8, \"#7fbc41\"], [0.9, \"#4d9221\"], [1, \"#276419\"]], \"sequential\": [[0.0, \"#0d0887\"], [0.1111111111111111, \"#46039f\"], [0.2222222222222222, \"#7201a8\"], [0.3333333333333333, \"#9c179e\"], [0.4444444444444444, \"#bd3786\"], [0.5555555555555556, \"#d8576b\"], [0.6666666666666666, \"#ed7953\"], [0.7777777777777778, \"#fb9f3a\"], [0.8888888888888888, \"#fdca26\"], [1.0, \"#f0f921\"]], \"sequentialminus\": [[0.0, \"#0d0887\"], [0.1111111111111111, \"#46039f\"], [0.2222222222222222, \"#7201a8\"], [0.3333333333333333, \"#9c179e\"], [0.4444444444444444, \"#bd3786\"], [0.5555555555555556, \"#d8576b\"], [0.6666666666666666, \"#ed7953\"], [0.7777777777777778, \"#fb9f3a\"], [0.8888888888888888, \"#fdca26\"], [1.0, \"#f0f921\"]]}, \"colorway\": [\"#636efa\", \"#EF553B\", \"#00cc96\", \"#ab63fa\", \"#FFA15A\", \"#19d3f3\", \"#FF6692\", \"#B6E880\", \"#FF97FF\", \"#FECB52\"], \"font\": {\"color\": \"#2a3f5f\"}, \"geo\": {\"bgcolor\": \"white\", \"lakecolor\": \"white\", \"landcolor\": \"#E5ECF6\", \"showlakes\": true, \"showland\": true, \"subunitcolor\": \"white\"}, \"hoverlabel\": {\"align\": \"left\"}, \"hovermode\": \"closest\", \"mapbox\": {\"style\": \"light\"}, \"paper_bgcolor\": \"white\", \"plot_bgcolor\": \"#E5ECF6\", \"polar\": {\"angularaxis\": {\"gridcolor\": \"white\", \"linecolor\": \"white\", \"ticks\": \"\"}, \"bgcolor\": \"#E5ECF6\", \"radialaxis\": {\"gridcolor\": \"white\", \"linecolor\": \"white\", \"ticks\": \"\"}}, \"scene\": {\"xaxis\": {\"backgroundcolor\": \"#E5ECF6\", \"gridcolor\": \"white\", \"gridwidth\": 2, \"linecolor\": \"white\", \"showbackground\": true, \"ticks\": \"\", \"zerolinecolor\": \"white\"}, \"yaxis\": {\"backgroundcolor\": \"#E5ECF6\", \"gridcolor\": \"white\", \"gridwidth\": 2, \"linecolor\": \"white\", \"showbackground\": true, \"ticks\": \"\", \"zerolinecolor\": \"white\"}, \"zaxis\": {\"backgroundcolor\": \"#E5ECF6\", \"gridcolor\": \"white\", \"gridwidth\": 2, \"linecolor\": \"white\", \"showbackground\": true, \"ticks\": \"\", \"zerolinecolor\": \"white\"}}, \"shapedefaults\": {\"line\": {\"color\": \"#2a3f5f\"}}, \"ternary\": {\"aaxis\": {\"gridcolor\": \"white\", \"linecolor\": \"white\", \"ticks\": \"\"}, \"baxis\": {\"gridcolor\": \"white\", \"linecolor\": \"white\", \"ticks\": \"\"}, \"bgcolor\": \"#E5ECF6\", \"caxis\": {\"gridcolor\": \"white\", \"linecolor\": \"white\", \"ticks\": \"\"}}, \"title\": {\"x\": 0.05}, \"xaxis\": {\"automargin\": true, \"gridcolor\": \"white\", \"linecolor\": \"white\", \"ticks\": \"\", \"title\": {\"standoff\": 15}, \"zerolinecolor\": \"white\", \"zerolinewidth\": 2}, \"yaxis\": {\"automargin\": true, \"gridcolor\": \"white\", \"linecolor\": \"white\", \"ticks\": \"\", \"title\": {\"standoff\": 15}, \"zerolinecolor\": \"white\", \"zerolinewidth\": 2}}}, \"xaxis\": {\"rangeslider\": {\"visible\": false}}},\n",
              "                        {\"responsive\": true}\n",
              "                    ).then(function(){\n",
              "                            \n",
              "var gd = document.getElementById('df342655-cc29-4462-8533-ca78775eba55');\n",
              "var x = new MutationObserver(function (mutations, observer) {{\n",
              "        var display = window.getComputedStyle(gd).display;\n",
              "        if (!display || display === 'none') {{\n",
              "            console.log([gd, 'removed!']);\n",
              "            Plotly.purge(gd);\n",
              "            observer.disconnect();\n",
              "        }}\n",
              "}});\n",
              "\n",
              "// Listen for the removal of the full notebook cells\n",
              "var notebookContainer = gd.closest('#notebook-container');\n",
              "if (notebookContainer) {{\n",
              "    x.observe(notebookContainer, {childList: true});\n",
              "}}\n",
              "\n",
              "// Listen for the clearing of the current output cell\n",
              "var outputEl = gd.closest('.output');\n",
              "if (outputEl) {{\n",
              "    x.observe(outputEl, {childList: true});\n",
              "}}\n",
              "\n",
              "                        })\n",
              "                };\n",
              "                \n",
              "            </script>\n",
              "        </div>\n",
              "</body>\n",
              "</html>"
            ]
          },
          "metadata": {}
        }
      ]
    },
    {
      "cell_type": "code",
      "metadata": {
        "colab": {
          "base_uri": "https://localhost:8080/",
          "height": 286
        },
        "id": "MSXOWAlKZV_i",
        "outputId": "098f9ad6-75b9-40f9-f579-260ff6735c44"
      },
      "source": [
        "stocks_close.drop(['btcGoUp', 'ethGoUp', 'adaGoUp'], axis=1, inplace=True)\n",
        "sns.heatmap(stocks_close.corr())"
      ],
      "execution_count": 40,
      "outputs": [
        {
          "output_type": "execute_result",
          "data": {
            "text/plain": [
              "<matplotlib.axes._subplots.AxesSubplot at 0x7f312fec22d0>"
            ]
          },
          "metadata": {},
          "execution_count": 40
        },
        {
          "output_type": "display_data",
          "data": {
            "image/png": "[encoded data removed]",
            "text/plain": [
              "<Figure size 432x288 with 2 Axes>"
            ]
          },
          "metadata": {
            "needs_background": "light"
          }
        }
      ]
    },
    {
      "cell_type": "markdown",
      "metadata": {
        "id": "YIOlMdtd8SQp"
      },
      "source": [
        "## Save Datasets"
      ]
    },
    {
      "cell_type": "code",
      "metadata": {
        "id": "I-cDi1y98R5l"
      },
      "source": [
        "btc_close.to_csv('btcStocks.csv', index=True)\n",
        "eth_close.to_csv('ethStocks.csv', index=True)\n",
        "ada_close.to_csv('adaStocks.csv', index=True)"
      ],
      "execution_count": 41,
      "outputs": []
    },
    {
      "cell_type": "markdown",
      "metadata": {
        "id": "LZcdyfjpp5sn"
      },
      "source": [
        "## Multivariate"
      ]
    },
    {
      "cell_type": "code",
      "metadata": {
        "id": "vjzdwT4ep4xN"
      },
      "source": [
        "stocks_close.to_csv('stocks.csv', index=False)"
      ],
      "execution_count": 42,
      "outputs": []
    },
    {
      "cell_type": "markdown",
      "metadata": {
        "id": "To1JmKkkN1f0"
      },
      "source": [
        "## Conjunto de datos evaluación **entrenamiento**"
      ]
    },
    {
      "cell_type": "code",
      "metadata": {
        "colab": {
          "base_uri": "https://localhost:8080/",
          "height": 320
        },
        "id": "NKAoOsk-VHCM",
        "outputId": "82b47255-250b-41ad-c2fc-b5e8bf4d3df8"
      },
      "source": [
        "eval_stocks_close = stocks_close.head(len(stocks_close)-300)\n",
        "eval_stocks_close_ts = eval_stocks_close.set_index('date')\n",
        "\n",
        "fig, ax = plt.subplots()\n",
        "fig.set_size_inches(10, 5)\n",
        "\n",
        "ax2 = ax.twinx()\n",
        "ax3 = ax2.twinx()\n",
        "\n",
        "lns1 = ax.plot(eval_stocks_close_ts.index, eval_stocks_close_ts.btcClose, label=f\"Bitcoin\", color=\"orange\")\n",
        "lns2 = ax2.plot(eval_stocks_close_ts.index, eval_stocks_close_ts.ethClose, label=f\"Ethereum\", color=\"grey\")\n",
        "lns3 = ax3.plot(eval_stocks_close_ts.index, eval_stocks_close_ts.adaClose, label=f\"Cardano\", color=\"blue\")\n",
        "\n",
        "lns = lns1+lns2+lns3\n",
        "labs = [l.get_label() for l in lns]\n",
        "ax.legend(lns, labs, loc=0)\n",
        "\n",
        "ax.tick_params(left = False, right = False , labelleft = False)\n",
        "ax2.tick_params(left = False, right = False , labelleft = False)\n",
        "ax3.tick_params(left = False, right = False , labelleft = False)\n",
        "\n",
        "plt.show()"
      ],
      "execution_count": 43,
      "outputs": [
        {
          "output_type": "display_data",
          "data": {
            "image/png": "[encoded data removed]",
            "text/plain": [
              "<Figure size 720x360 with 3 Axes>"
            ]
          },
          "metadata": {
            "needs_background": "light"
          }
        }
      ]
    },
    {
      "cell_type": "markdown",
      "metadata": {
        "id": "NndXd5GNxtws"
      },
      "source": [
        "## Conjunto de datos evaluación **prueba**"
      ]
    },
    {
      "cell_type": "code",
      "metadata": {
        "colab": {
          "base_uri": "https://localhost:8080/",
          "height": 320
        },
        "id": "DqbCsA86N45a",
        "outputId": "c0ac1c6c-3789-4b23-e8dc-d46af0f89e4e"
      },
      "source": [
        "eval_stocks_close = stocks_close.tail(300)\n",
        "eval_stocks_close_ts = eval_stocks_close.set_index('date')\n",
        "\n",
        "fig, ax = plt.subplots()\n",
        "fig.set_size_inches(10, 5)\n",
        "\n",
        "ax2 = ax.twinx()\n",
        "ax3 = ax2.twinx()\n",
        "\n",
        "lns1 = ax.plot(eval_stocks_close_ts.index, eval_stocks_close_ts.btcClose, label=f\"Bitcoin\", color=\"orange\")\n",
        "lns2 = ax2.plot(eval_stocks_close_ts.index, eval_stocks_close_ts.ethClose, label=f\"Ethereum\", color=\"grey\")\n",
        "lns3 = ax3.plot(eval_stocks_close_ts.index, eval_stocks_close_ts.adaClose, label=f\"Cardano\", color=\"blue\")\n",
        "\n",
        "lns = lns1+lns2+lns3\n",
        "labs = [l.get_label() for l in lns]\n",
        "ax.legend(lns, labs, loc=0)\n",
        "\n",
        "ax.tick_params(left = False, right = False , labelleft = False)\n",
        "ax2.tick_params(left = False, right = False , labelleft = False)\n",
        "ax3.tick_params(left = False, right = False , labelleft = False)\n",
        "\n",
        "plt.show()"
      ],
      "execution_count": 44,
      "outputs": [
        {
          "output_type": "display_data",
          "data": {
            "image/png": "[encoded data removed]",
            "text/plain": [
              "<Figure size 720x360 with 3 Axes>"
            ]
          },
          "metadata": {
            "needs_background": "light"
          }
        }
      ]
    },
    {
      "cell_type": "markdown",
      "metadata": {
        "id": "6QrW-YrlPVBb"
      },
      "source": [
        "# Nuevas acciones"
      ]
    },
    {
      "cell_type": "code",
      "metadata": {
        "id": "Onag9lswPW7C"
      },
      "source": [
        "btc_new_path = \"https://query1.finance.yahoo.com/v7/finance/download/BTC-USD?period1=1626134400&period2=1630454400&interval=1d&events=history&includeAdjustedClose=true\" # new stocks\n",
        "eth_new_path = \"https://query1.finance.yahoo.com/v7/finance/download/ETH-USD?period1=1626134400&period2=1630454400&interval=1d&events=history&includeAdjustedClose=true\" # new stocks\n",
        "ada_new_path = \"https://query1.finance.yahoo.com/v7/finance/download/ADA-USD?period1=1626134400&period2=1630454400&interval=1d&events=history&includeAdjustedClose=true\" # new stocks\n",
        "\n",
        "btc_new_prices = pd.read_csv(btc_new_path, parse_dates=['Date'])\n",
        "eth_new_prices = pd.read_csv(eth_new_path, parse_dates=['Date'])\n",
        "ada_new_prices = pd.read_csv(ada_new_path, parse_dates=['Date'])\n",
        "\n",
        "\n",
        "btc_new_prices.sort_values('Date', inplace=True)\n",
        "eth_new_prices.sort_values('Date', inplace=True)\n",
        "ada_new_prices.sort_values('Date', inplace=True)\n",
        "\n",
        "btc_new_close = btc_new_prices[['Date','Close']]\n",
        "eth_new_close = eth_new_prices[['Date','Close']]\n",
        "ada_new_close = ada_new_prices[['Date','Close']]\n",
        "\n",
        "btc_new_close.columns = ['date', 'close']\n",
        "eth_new_close.columns = ['date', 'close']\n",
        "ada_new_close.columns = ['date', 'close']\n",
        "\n",
        "btc_new_close.set_index('date', inplace=True)\n",
        "eth_new_close.set_index('date', inplace=True)\n",
        "ada_new_close.set_index('date', inplace=True)"
      ],
      "execution_count": 45,
      "outputs": []
    },
    {
      "cell_type": "code",
      "metadata": {
        "colab": {
          "base_uri": "https://localhost:8080/",
          "height": 320
        },
        "id": "OkwLledMP5LA",
        "outputId": "80e385ba-c9e2-4536-c2d6-29d6c31ca956"
      },
      "source": [
        "fig, ax = plt.subplots()\n",
        "fig.set_size_inches(10, 5)\n",
        "\n",
        "ax2 = ax.twinx()\n",
        "ax3 = ax2.twinx()\n",
        "\n",
        "lns1 = ax.plot(btc_new_close.index, btc_new_close.close, label=f\"Bitcoin\", color=\"orange\")\n",
        "lns2 = ax2.plot(eth_new_close.index, eth_new_close.close, label=f\"Ethereum\", color=\"grey\")\n",
        "lns3 = ax3.plot(ada_new_close.index, ada_new_close.close, label=f\"Cardano\", color=\"blue\")\n",
        "\n",
        "lns = lns1+lns2+lns3\n",
        "labs = [l.get_label() for l in lns]\n",
        "ax.legend(lns, labs, loc=0)\n",
        "\n",
        "ax.tick_params(left = False, right = False , labelleft = False)\n",
        "ax2.tick_params(left = False, right = False , labelleft = False)\n",
        "ax3.tick_params(left = False, right = False , labelleft = False)\n",
        "\n",
        "plt.show()"
      ],
      "execution_count": 46,
      "outputs": [
        {
          "output_type": "display_data",
          "data": {
            "image/png": "[encoded data removed]",
            "text/plain": [
              "<Figure size 720x360 with 3 Axes>"
            ]
          },
          "metadata": {
            "needs_background": "light"
          }
        }
      ]
    },
    {
      "cell_type": "code",
      "metadata": {
        "id": "IVaBPOsTROGj"
      },
      "source": [
        "btc_new_close.to_csv('btcActualStocks.csv', index=True)\n",
        "eth_new_close.to_csv('ethActualStocks.csv', index=True)\n",
        "ada_new_close.to_csv('adaActualStocks.csv', index=True)"
      ],
      "execution_count": 47,
      "outputs": []
    }
  ]
}